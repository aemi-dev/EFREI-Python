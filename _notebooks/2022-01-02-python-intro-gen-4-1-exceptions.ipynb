{
  "cells": [
    {
      "cell_type": "markdown",
      "metadata": {
        "id": "Hu-DQLCysvHt"
      },
      "source": [
        "# \"Chapitre 4 : Les exceptions\"\n",
        "> \"Python : Chapitre 4 - Lesson 1\"\n",
        "\n",
        "- toc: false \n",
        "- badges: true\n",
        "- hide_binder_badge: true\n",
        "- hide_github_badge: true\n",
        "- comments: false\n",
        "- layout: post\n",
        "- author: AXI Academy\n",
        "- permalink: /python-intro-gen/chapter/4/lesson/1/"
      ]
    },
    {
      "cell_type": "markdown",
      "metadata": {},
      "source": [
        "## 1. Les types des erreurs\n",
        "\n",
        "Les erreurs ou les exceptions dans un programme sont souvent appelées bugs. Ils sont presque toujours la faute du programmeur. Le processus de recherche et d'élimination des erreurs est appelé débuggage. Les erreurs peuvent être classées en trois grands groupes :\n",
        " - Erreurs de syntaxe\n",
        " - Erreurs d'exécution\n",
        " - Erreurs logiques\n",
        "\n",
        "### Les erreurs de syntaxe (`SyntaxError`)\n",
        "\n",
        "Python trouvera ce genre d'erreurs lorsqu'il essaiera d'analyser votre programme et se terminera avec un message d'erreur sans rien exécuter. Les erreurs de syntaxe sont des erreurs dans l'utilisation du langage Python, et sont analogues aux fautes d'orthographe ou de grammaire dans une langue comme le français : par exemple, la phrase `Vous du thé ?`, n'a pas de sens, il manque un verbe.\n",
        "\n",
        "Les erreurs de syntaxe Python courantes incluent :\n",
        "- omettre un mot-clé\n",
        "- mettre un mot-clé au mauvais endroit\n",
        "- omettre un symbole, comme un deux-points, une virgule ou des crochets\n",
        "- faute d'orthographe d'un mot-clé\n",
        "- indentation incorrecte\n",
        "- bloc vide\n",
        "\n",
        "> il est interdit pour tout bloc (comme un corps `if`, ou le corps d'une fonction) d'être laissé complètement vide. Si vous voulez qu'un bloc ne fasse rien, vous pouvez utiliser l'instruction pass à l'intérieur du bloc.\n",
        "\n",
        "Python fera de son mieux pour vous dire où se trouve l'erreur, mais parfois ses messages peuvent être trompeurs : par exemple, si vous oubliez d'échapper un guillemet à l'intérieur d'une chaîne, vous pouvez obtenir une erreur de syntaxe faisant référence à un endroit plus loin dans votre code, même si ce n'est pas la vraie source du problème. Si vous ne voyez rien de mal sur la ligne spécifiée dans le message d'erreur, essayez de revenir en arrière sur les quelques lignes précédentes. Au fur et à mesure que vous programmez, vous vous améliorerez dans l'identification et la correction des erreurs.\n",
        "\n",
        "Voici quelques erreurs de syntaxe :"
      ]
    },
    {
      "cell_type": "code",
      "execution_count": 4,
      "metadata": {},
      "outputs": [
        {
          "ename": "SyntaxError",
          "evalue": "invalid syntax (2942671249.py, line 1)",
          "output_type": "error",
          "traceback": [
            "\u001b[0;36m  File \u001b[0;32m\"/tmp/ipykernel_11215/2942671249.py\"\u001b[0;36m, line \u001b[0;32m1\u001b[0m\n\u001b[0;31m    myfunction(x, y):\u001b[0m\n\u001b[0m                     ^\u001b[0m\n\u001b[0;31mSyntaxError\u001b[0m\u001b[0;31m:\u001b[0m invalid syntax\n"
          ]
        }
      ],
      "source": [
        "myfunction(x, y):\n",
        "    return x + y\n",
        "\n",
        "else:\n",
        "    print(\"Hello!\")\n",
        "\n",
        "if mark >= 50\n",
        "    print(\"You passed!\")\n",
        "\n",
        "if arriving:\n",
        "    print(\"Hi!\")\n",
        "esle:\n",
        "    print(\"Bye!\")\n",
        "\n",
        "if flag:\n",
        "print(\"Flag is set!\")"
      ]
    },
    {
      "cell_type": "markdown",
      "metadata": {},
      "source": [
        "### Les erreurs d'exécution\n",
        "\n",
        "Si un programme est syntaxiquement correct, c'est-à-dire exempt d'erreurs de syntaxe, il sera exécuté par l'interpréteur Python. Cependant, le programme peut se fermer de manière inattendue pendant l'exécution s'il rencontre une erreur d'exécution, un problème qui n'a pas été détecté lors de l'analyse du programme, mais qui n'est révélé que lorsqu'une ligne particulière est exécutée. Lorsqu'un programme s'arrête à cause d'une erreur d'exécution, nous disons qu'il a planté.\n",
        "\n",
        "Considérez les instructions en français : `battez les bras et envolez-vous pour l'Australie`. Bien que l'instruction soit structurellement correcte et que vous puissiez parfaitement comprendre sa signification, il vous est impossible de la suivre.\n",
        "\n",
        "Quelques exemples d'erreurs d'exécution Python :\n",
        "- division par zéro\n",
        "- effectuer une opération sur des types incompatibles\n",
        "- utilisant un identifiant qui n'a pas été défini\n",
        "- accéder à un élément de liste, une valeur de dictionnaire ou un attribut d'objet qui n'existe pas\n",
        "- essayer d'accéder à un fichier qui n'existe pas\n",
        "\n",
        "Des erreurs d'exécution se glissent souvent si vous ne prenez pas en compte toutes les valeurs possibles qu'une variable pourrait contenir, en particulier lorsque vous traitez une entrée utilisateur. Vous devriez toujours essayer d'ajouter des vérifications à votre code pour vous assurer qu'il peut traiter les mauvaises entrées et les cas extrêmes avec élégance. Nous verrons cela plus en détail dans le chapitre sur la gestion des exceptions."
      ]
    },
    {
      "cell_type": "markdown",
      "metadata": {},
      "source": [
        "### Les erreurs logiques\n",
        "\n",
        "Les erreurs logiques sont les plus difficiles à corriger. Elles se produisent lorsque le programme s'exécute sans plantage, mais produit un résultat incorrect. L'erreur est causée par une erreur dans la logique du programme. Vous ne recevrez pas de message d'erreur, car aucune erreur de syntaxe ou d'exécution ne s'est produite. Vous devrez trouver le problème par vous-même en examinant toutes les parties pertinentes de votre code - bien que certains outils puissent signaler un code suspect qui pourrait provoquer un comportement inattendu.\n",
        "\n",
        "Parfois, il ne peut y avoir absolument rien de mal avec votre implémentation Python d'un algorithme, l'algorithme lui-même peut être incorrect. Cependant, le plus souvent, ces types d'erreurs sont causés par la négligence du programmeur. Voici quelques exemples d'erreurs qui conduisent à des erreurs logiques :\n",
        "- utiliser le mauvais nom de variable\n",
        "- indentation d'un bloc au mauvais niveau\n",
        "- utiliser la division entière au lieu de la division à virgule flottante\n",
        "- se tromper de priorité d'opérateur\n",
        "- se tromper dans une expression booléenne\n",
        "\n",
        "Si vous orthographiez mal un nom d'identifiant, vous pouvez obtenir une erreur d'exécution ou une erreur logique, selon que le nom mal orthographié soit défini ou non.\n",
        "\n",
        "Une source courante de confusion de noms de variables et d'indentation incorrecte est la copie et le collage fréquents de gros blocs de code. Si vous avez de nombreuses lignes en double avec des différences mineures, il est très facile de rater une modification nécessaire lorsque vous modifiez vos lignes collées. Vous devriez toujours essayer d'éliminer les doublons excessifs à l'aide de fonctions et de boucles."
      ]
    },
    {
      "cell_type": "markdown",
      "metadata": {},
      "source": [
        "## Exercice 1\n",
        "\n",
        " - 1) Trouvez toutes les erreurs de syntaxe dans l'extrait de code ci-dessus (dans la partie erreurs de syntaxe) et expliquez pourquoi ce sont des erreurs.\n",
        " - 2) Trouvez des sources potentielles d'erreurs d'exécution dans cet extrait de code :"
      ]
    },
    {
      "cell_type": "code",
      "execution_count": null,
      "metadata": {},
      "outputs": [],
      "source": [
        "dividend = float(input(\"Please enter the dividend: \"))\n",
        "divisor = float(input(\"Please enter the divisor: \"))\n",
        "quotient = dividend / divisor\n",
        "quotient_rounded = math.round(quotient)"
      ]
    },
    {
      "cell_type": "markdown",
      "metadata": {},
      "source": [
        " - 3) Trouvez des sources potentielles d'erreurs d'exécution dans cet extrait de code :"
      ]
    },
    {
      "cell_type": "code",
      "execution_count": null,
      "metadata": {},
      "outputs": [],
      "source": [
        "for x in range(a, b):\n",
        "    c, d, e = my_list[x]\n",
        "    print(f\"({c}, {d}, {e})\")"
      ]
    },
    {
      "cell_type": "markdown",
      "metadata": {},
      "source": [
        " - 4) Trouvez des sources potentielles d'erreurs logiques dans cet extrait de code :"
      ]
    },
    {
      "cell_type": "code",
      "execution_count": null,
      "metadata": {},
      "outputs": [],
      "source": [
        "product = 0\n",
        "for i in range(10):\n",
        "    product *= i\n",
        "\n",
        "sum_squares = 0\n",
        "for i in range(10):\n",
        "    i_sq = i**2\n",
        "sum_squares += i_sq\n",
        "\n",
        "nums = 0\n",
        "for num in range(10):\n",
        "    num += num"
      ]
    },
    {
      "cell_type": "markdown",
      "metadata": {},
      "source": [
        "## 2. La gestion des exceptions\n",
        "\n",
        "Jusqu'à présent, les programmes que nous avons écrits ont généralement ignoré le fait que les choses peuvent mal tourner. Nous avons essayé d'éviter les erreurs d'exécution en vérifiant les données qui peuvent être incorrectes avant de les utiliser, mais nous n'avons pas encore vu comment nous pouvons gérer les erreurs lorsqu'elles se produisent. Jusqu'à présent, nos programmes ont crashé soudainement chaque fois qu'ils en ont rencontré une.\n",
        "\n",
        "Dans certaines situations, des erreurs d'exécution sont susceptibles de se produire. Chaque fois que nous essayons de lire un fichier ou d'obtenir des informations d'un utilisateur, il est possible que quelque chose d'inattendu se produise : le fichier peut avoir été déplacé ou supprimé, ou l'utilisateur peut saisir des données qui ne sont pas au bon format. Les bons programmeurs devraient ajouter des garde-fous à leurs programmes afin que des situations courantes comme celle-ci puissent être gérées avec élégance. Un programme qui plante chaque fois qu'il rencontre un problème facilement prévisible n'est pas très agréable à utiliser. La plupart des utilisateurs s'attendent à ce que les programmes soient suffisamment robustes pour se remettre de ce genre de revers.\n",
        "\n",
        "Si nous savons qu'une section particulière de notre programme est susceptible de provoquer une erreur, nous pouvons dire à Python quoi faire si cela se produit. Au lieu de laisser l'erreur planter notre programme, nous pouvons l'intercepter, faire quelque chose et permettre au programme de continuer.\n",
        "\n",
        "Toutes les erreurs d'exécution (et de syntaxe) que nous avons rencontrées sont appelées `exception` en Python. Python les utilise pour indiquer que quelque chose d'exceptionnel s'est produit et que votre programme ne peut pas continuer à moins qu'il ne soit géré. Toutes les exceptions sont des sous-classes de la classe `Exception`, nous en apprendrons plus sur les classes et sur la façon d'écrire vos propres types d'exceptions dans les chapitres suivants.\n",
        "\n",
        "### Les instructions : `try`/`except`\n",
        "\n",
        "Pour gérer les exceptions possibles, nous utilisons un bloc `try`/`except` :"
      ]
    },
    {
      "cell_type": "code",
      "execution_count": null,
      "metadata": {},
      "outputs": [],
      "source": [
        "try:\n",
        "    age = int(input(\"Please enter your age: \"))\n",
        "    print(\"I see that you are %d years old.\" % age)\n",
        "except ValueError:\n",
        "    print(\"Hey, that wasn't a number!\")"
      ]
    },
    {
      "cell_type": "markdown",
      "metadata": {},
      "source": [
        "Python essaiera de traiter toutes les instructions à l'intérieur du bloc `try`. Si une `ValueError` se produit à tout moment pendant son exécution, le flux de contrôle passera immédiatement au bloc `except` et toutes les instructions restantes dans le bloc `try` seront ignorées.\n",
        "\n",
        "Dans cet exemple, nous savons que l'erreur est susceptible de se produire lorsque nous essayons de convertir l'entrée de l'utilisateur en un entier. Si la chaîne d'entrée n'est pas un nombre, cette ligne déclenchera une `ValueError` : c'est pourquoi nous l'avons spécifié comme le type d'erreur que nous allons gérer.\n",
        "\n",
        "Nous aurions pu spécifier un type d'erreur plus général ou même laisser le type complètement de côté, ce qui aurait fait que la clause except correspondrait à n'importe quel type d'exception, mais cela aurait été une mauvaise idée. Et si nous obtenions une erreur complètement différente que nous n'avions pas prévue ? Cela serait également traité, et nous ne remarquerions même pas que quelque chose d'inhabituel allait mal. Nous pouvons également vouloir réagir de différentes manières à différents types d'erreurs. Nous devrions toujours essayer de choisir des types d'erreur spécifiques plutôt que généraux pour nos clauses except.\n",
        "\n",
        "Il est possible pour une clause `except` de gérer plus d'un type d'erreur : nous pouvons fournir un tuple de types d'exception au lieu d'un seul type :\n"
      ]
    },
    {
      "cell_type": "code",
      "execution_count": null,
      "metadata": {},
      "outputs": [],
      "source": [
        "try:\n",
        "    dividend = int(input(\"Please enter the dividend: \"))\n",
        "    divisor = int(input(\"Please enter the divisor: \"))\n",
        "    print(f\"{dividend} / {divisor} = {dividend/divisor}\")\n",
        "except(ValueError, ZeroDivisionError):\n",
        "    print(\"Oops, something went wrong!\")"
      ]
    },
    {
      "cell_type": "markdown",
      "metadata": {},
      "source": [
        "Un bloc `try`/`except` peut également avoir plusieurs clauses `except`. Si une exception se produit, Python vérifiera chaque clause `except` de haut en bas pour voir si le type d'exception correspond. Si aucune des clauses `except` ne correspond, l'exception sera considérée comme non gérée et votre programme plantera :"
      ]
    },
    {
      "cell_type": "code",
      "execution_count": null,
      "metadata": {},
      "outputs": [],
      "source": [
        "try:\n",
        "    dividend = int(input(\"Please enter the dividend: \"))\n",
        "    divisor = int(input(\"Please enter the divisor: \"))\n",
        "    print(\"%d / %d = %f\" % (dividend, divisor, dividend/divisor))\n",
        "except ValueError:\n",
        "    print(\"The divisor and dividend have to be numbers!\")\n",
        "except ZeroDivisionError:\n",
        "    print(\"The dividend may not be zero!\")"
      ]
    },
    {
      "cell_type": "markdown",
      "metadata": {},
      "source": [
        "Notez que dans l'exemple ci-dessus, si une `ValueError` se produit, nous ne saurons pas si cela a été causé par le dividende ou le diviseur (qui n'est pas un entier), l'une ou l'autre des lignes d'entrée pourrait provoquer cette erreur. Si nous voulons donner à l'utilisateur un retour plus précis sur l'entrée erronée, nous devrons envelopper chaque ligne d'entrée dans un bloc try-except séparé :"
      ]
    },
    {
      "cell_type": "code",
      "execution_count": null,
      "metadata": {},
      "outputs": [],
      "source": [
        "try:\n",
        "    dividend = int(input(\"Please enter the dividend: \"))\n",
        "except ValueError:\n",
        "    print(\"The dividend has to be a number!\")\n",
        "\n",
        "try:\n",
        "    divisor = int(input(\"Please enter the divisor: \"))\n",
        "except ValueError:\n",
        "    print(\"The divisor has to be a number!\")\n",
        "\n",
        "try:\n",
        "    print(\"%d / %d = %f\" % (dividend, divisor, dividend/divisor))\n",
        "except ZeroDivisionError:\n",
        "    print(\"The dividend may not be zero!\")"
      ]
    },
    {
      "cell_type": "markdown",
      "metadata": {},
      "source": [
        "### Comment une exception est gérée\n",
        "\n",
        "Lorsqu'une exception se produit, le flux normal d'exécution est interrompu. Python vérifie si la ligne de code qui a causé l'exception se trouve à l'intérieur d'un bloc `try`/`except`. Si c'est le cas, il vérifie si l'un des blocs `except` associés au bloc `try` peut gérer ce type d'exception. Si un gestionnaire approprié est trouvé, l'exception est gérée et le programme continue à partir de l'instruction suivante après la fin de ce `try`/`except`.\n",
        "\n",
        "S'il n'y a pas de tel gestionnaire, ou si la ligne de code n'était pas dans un bloc `try`, Python montera d'un niveau de portée : si la ligne de code qui a causé l'exception était à l'intérieur d'une fonction, cette fonction se terminera immédiatement, et la ligne qui a appelé la fonction sera traitée comme si elle avait levé l'exception. Python vérifiera si cette ligne est à l'intérieur d'un bloc `try`, et ainsi de suite. Lorsqu'une fonction est appelée, elle est placée sur la pile de Python, dont nous parlerons dans le chapitre sur les fonctions. Python parcourt cette pile lorsqu'il essaie de gérer une exception.\n",
        "\n",
        "Si une exception est levée par une ligne qui se trouve dans le corps principal de votre programme, pas à l'intérieur d'une fonction, le programme se terminera. Lorsque le message d'exception est affiché, vous devriez également voir une trace : une liste qui montre le chemin emprunté par l'exception, jusqu'à la ligne d'origine qui a causé l'erreur.\n"
      ]
    },
    {
      "cell_type": "markdown",
      "metadata": {},
      "source": [
        "La gestion des exceptions nous offre un autre moyen de gérer les situations sujettes aux erreurs dans notre code. Au lieu d'effectuer plus de vérifications avant de faire quelque chose pour nous assurer qu'une erreur ne se produira pas, nous essayons simplement de le faire et si une erreur se produit, nous la traitons. Cela peut nous permettre d'écrire du code plus simple et plus lisible. Regardons un exemple d'entrée plus compliqué : un dans lequel nous voulons continuer à demander à l'utilisateur d'entrer jusqu'à ce que l'entrée soit correcte. Nous allons essayer d'écrire cet exemple en utilisant les deux approches différentes :"
      ]
    },
    {
      "cell_type": "code",
      "execution_count": null,
      "metadata": {},
      "outputs": [],
      "source": [
        "# with checks\n",
        "n = None\n",
        "while n is None:\n",
        "    s = input(\"Please enter an integer: \")\n",
        "    if s.lstrip('-').isdigit():\n",
        "        n = int(s)\n",
        "    else:\n",
        "        print(\"%s is not an integer.\" % s)\n",
        "\n",
        "# with exception handling\n",
        "n = None\n",
        "while n is None:\n",
        "    try:\n",
        "        s = input(\"Please enter an integer: \")\n",
        "        n = int(s)\n",
        "    except ValueError:\n",
        "        print(\"%s is not an integer.\" % s)"
      ]
    },
    {
      "cell_type": "markdown",
      "metadata": {},
      "source": [
        "### Les avantages de la gestion des exceptions \n",
        "\n",
        " - Il sépare le code normal du code qui gère les erreurs.\n",
        " - Les exceptions peuvent facilement être transmises aux fonctions de la pile jusqu'à ce qu'elles atteignent une fonction qui sache comment les gérer. Les fonctions intermédiaires n'ont pas besoin d'avoir de code de gestion des erreurs.\n",
        " - Les exceptions sont livrées avec de nombreuses informations d'erreur utiles intégrées - par exemple, elles peuvent imprimer un retraçage qui nous aide à voir exactement où l'erreur s'est produite.\n",
        "\n"
      ]
    },
    {
      "cell_type": "markdown",
      "metadata": {},
      "source": [
        "### Les instructions `else` et `finally`\n",
        "\n",
        "Il y a deux autres clauses que nous pouvons ajouter à un bloc `try`/`except` : `else` et `finally`. `else` ne sera exécuté que si la clause `try` ne lève pas d'exception :"
      ]
    },
    {
      "cell_type": "code",
      "execution_count": null,
      "metadata": {},
      "outputs": [],
      "source": [
        "try:\n",
        "    age = int(input(\"Please enter your age: \"))\n",
        "except ValueError:\n",
        "    print(\"Hey, that wasn't a number!\")\n",
        "else:\n",
        "    print(\"I see that you are %d years old.\" % age)"
      ]
    },
    {
      "cell_type": "markdown",
      "metadata": {},
      "source": [
        "Nous voulons afficher un message sur l'âge de l'utilisateur uniquement si la conversion d'entier réussit. Dans le premier exemple de gestionnaire d'exceptions, nous plaçons cette instruction `print` directement après la conversion à l'intérieur du bloc `try`. Dans les deux cas, l'instruction ne sera exécutée que si l'instruction de conversion ne lève pas d'exception, mais la placer dans le bloc `else` est une meilleure pratique : cela signifie que le seul code à l'intérieur du bloc `try` est la seule ligne qui est le potentiel source de l'erreur que nous voulons traiter.\n",
        "\n",
        "La clause `finally` sera exécutée à la fin du bloc `try`/`except` quoi qu'il arrive :\n",
        "- s'il n'y a pas d'exception\n",
        "- si une exception est levée et gérée,\n",
        "- si une exception est levée et non gérée\n",
        "Nous pouvons utiliser la clause `finally` pour le code de nettoyage que nous voulons toujours exécuter :"
      ]
    },
    {
      "cell_type": "code",
      "execution_count": null,
      "metadata": {},
      "outputs": [],
      "source": [
        "try:\n",
        "    age = int(input(\"Please enter your age: \"))\n",
        "except ValueError:\n",
        "    print(\"Hey, that wasn't a number!\")\n",
        "else:\n",
        "    print(\"I see that you are %d years old.\" % age)\n",
        "finally:\n",
        "    print(\"It was really nice talking to you.  Goodbye!\")"
      ]
    },
    {
      "cell_type": "markdown",
      "metadata": {},
      "source": [
        "## Exercice 2\n",
        "\n",
        " - 1) Étendez le programme de l'exercice 7 du chapitre sur les boucles pour y inclure la gestion des exceptions. Chaque fois que l'utilisateur entre une entrée de type incorrect, continuez à demander à l'utilisateur la même valeur jusqu'à ce qu'elle soit entrée correctement."
      ]
    },
    {
      "cell_type": "markdown",
      "metadata": {},
      "source": [
        "## L'instruction `as`\n",
        "\n",
        "Les objets d'exception de Python contiennent plus d'informations que le type d'erreur. Ils sont également accompagnés d'une sorte de message, nous avons déjà vu certains de ces messages s'afficher lorsque nos programmes se sont écrasés. Souvent, ces messages ne sont pas très conviviaux : si nous voulons signaler une erreur à l'utilisateur, nous devons généralement écrire un message plus descriptif qui explique comment l'erreur est liée à ce que l'utilisateur a fait. Par exemple, si l'erreur a été causée par une entrée incorrecte, il est utile d'indiquer à l'utilisateur laquelle des valeurs d'entrée est incorrecte.\n",
        "\n",
        "Parfois, le message d'exception contient des informations utiles que nous souhaitons afficher à l'utilisateur. Pour accéder au message, nous devons pouvoir accéder à l'objet exception. Nous pouvons affecter l'objet à une variable que nous pouvons utiliser dans la clause `except` comme ceci :"
      ]
    },
    {
      "cell_type": "code",
      "execution_count": null,
      "metadata": {},
      "outputs": [],
      "source": [
        "try:\n",
        "    age = int(input(\"Please enter your age: \"))\n",
        "except ValueError as err:\n",
        "    print(err)"
      ]
    },
    {
      "cell_type": "markdown",
      "metadata": {},
      "source": [
        "`err` n'est pas une `string`, mais Python sait comment la convertir. La représentation sous forme de `string` d'une exception est le message, ce qui est exactement ce que nous voulons. Nous pouvons également combiner le message d'exception avec notre propre message :"
      ]
    },
    {
      "cell_type": "code",
      "execution_count": null,
      "metadata": {},
      "outputs": [],
      "source": [
        "try:\n",
        "    age = int(input(\"Please enter your age: \"))\n",
        "except ValueError as err:\n",
        "    print(f\"You entered incorrect age input: \\\"{err}\\\"\")"
      ]
    },
    {
      "cell_type": "markdown",
      "metadata": {},
      "source": [
        "## Lever des exceptions\n",
        "\n",
        "Nous pouvons lever des exceptions nous-mêmes en utilisant l'instruction `raise` :"
      ]
    },
    {
      "cell_type": "code",
      "execution_count": null,
      "metadata": {},
      "outputs": [],
      "source": [
        "try:\n",
        "    age = int(input(\"Please enter your age: \"))\n",
        "    if age < 0:\n",
        "        raise ValueError(\"%d is not a valid age. Age must be positive or zero.\")\n",
        "except ValueError as err:\n",
        "    print(\"You entered incorrect age input: %s\" % err)\n",
        "else:\n",
        "    print(\"I see that you are %d years old.\" % age)"
      ]
    },
    {
      "cell_type": "markdown",
      "metadata": {},
      "source": [
        "Nous pouvons lever notre propre `ValueError` si l'entrée age est un entier valide, mais elle est négative. Lorsque nous faisons cela, cela a exactement le même effet que toute autre exception, le flux de contrôle quittera immédiatement la clause `try` à ce stade et passera à la clause `except`. Cette clause `except` peut également correspondre à notre exception, car il s'agit également d'une `ValueError`.\n",
        "\n",
        "Nous avons choisi `ValueError` comme type d'exception car c'est le plus approprié pour ce type d'erreur. Rien ne nous empêche d'utiliser une classe d'exception complètement inappropriée ici, mais nous devons essayer d'être cohérents. Voici quelques types d'exceptions courants que nous sommes susceptibles de générer dans notre propre code :\n",
        " - 1) `TypeError`: c'est une erreur qui indique qu'une variable a le mauvais type pour une opération. Nous pouvons l'augmenter dans une fonction si un paramètre n'est pas d'un type que nous savons gérer.\n",
        " - 2) `ValueError`: cette erreur est utilisée pour indiquer qu'une variable a le bon type mais la mauvaise valeur. Par exemple, nous l'avons utilisé lorsque l'âge était un entier, mais le mauvais type d'entier.\n",
        " - 3) `NotImplementedError`: nous verrons dans le chapitre suivant comment nous utilisons cette exception pour indiquer qu'une méthode de classe doit être implémentée dans une classe enfant.\n",
        "\n",
        "Nous pouvons également écrire nos propres classes d'exceptions personnalisées basées sur des classes d'exceptions existantes.\n",
        "\n",
        "Quelque chose que nous pouvons vouloir faire est de lever une exception que nous venons d'intercepter, peut-être parce que nous voulons la gérer partiellement dans la fonction actuelle, mais aussi pour y répondre dans le code qui a appelé la fonction :"
      ]
    },
    {
      "cell_type": "code",
      "execution_count": null,
      "metadata": {},
      "outputs": [],
      "source": [
        "try:\n",
        "    age = int(input(\"Please enter your age: \"))\n",
        "except ValueError as err:\n",
        "    print(\"You entered incorrect age input: %s\" % err)\n",
        "    raise err"
      ]
    },
    {
      "cell_type": "markdown",
      "metadata": {},
      "source": [
        "## Exercice 3\n",
        "\n",
        " - 1) Réécrivez le programme de la première question de l'exercice 2 afin qu'il affiche le texte de l'exception originale de Python à l'intérieur de la clause `except` au lieu d'un message personnalisé.\n",
        " - 2) Réécrivez le programme à partir de la deuxième question de l'exercice 2 de sorte que l'exception qui est interceptée dans la clause `except` soit relancée après l'impression du message d'erreur."
      ]
    },
    {
      "cell_type": "markdown",
      "metadata": {},
      "source": [
        "## 3. Débugger le code\n",
        "\n",
        "Les erreurs de syntaxe sont généralement assez simples à débugger : le message d'erreur nous montre la ligne du fichier où se trouve l'erreur, et il devrait être facile de la trouver et de la corriger.\n",
        "\n",
        "Les erreurs d'exécution peuvent être un peu plus difficiles à débugger : le message d'erreur et le `traceback` peuvent nous dire exactement où l'erreur s'est produite, mais cela ne nous dit pas nécessairement quel est le problème. Parfois, ils sont causés par quelque chose d'évident, comme un nom d'identifiant incorrect, mais parfois ils sont déclenchés par un état particulier du programme : il n'est pas toujours clair lequel des nombreuses variables a une valeur inattendue.\n",
        "\n",
        "Les erreurs logiques sont les plus difficiles à corriger car elles ne provoquent aucune erreur pouvant être attribuée à une ligne particulière du code. Tout ce que nous savons, c'est que le code ne se comporte pas comme il devrait l'être. Parfois, la recherche de la zone du code à l'origine du comportement incorrect peut prendre beaucoup de temps.\n",
        "\n",
        "Il est important de tester votre code pour vous assurer qu'il se comporte comme vous l'attendez. Un moyen simple et rapide de tester qu'une fonction fait ce qu'il faut, par exemple, consiste à insérer une instruction `print` après chaque ligne qui renvoie les résultats intermédiaires qui ont été calculés sur cette ligne. La plupart des programmeurs le font intuitivement lorsqu'ils écrivent une fonction, ou peut-être s'ils ont besoin de comprendre pourquoi elle ne fait pas la bonne chose :"
      ]
    },
    {
      "cell_type": "code",
      "execution_count": null,
      "metadata": {},
      "outputs": [],
      "source": [
        "def hypotenuse(x, y):\n",
        "    print(\"x is %f and y is %f\" % (x, y))\n",
        "    x_2 = x**2\n",
        "    print(x_2)\n",
        "    y_2 = y**2\n",
        "    print(y_2)\n",
        "    z_2 = x_2 + y_2\n",
        "    print(z_2)\n",
        "    z = math.sqrt(z_2)\n",
        "    print(z)\n",
        "    return z"
      ]
    },
    {
      "cell_type": "markdown",
      "metadata": {},
      "source": [
        "C'est une chose rapide et facile à faire, et même les programmeurs expérimentés sont coupables de le faire de temps en temps, mais cette approche présente plusieurs inconvénients :\n",
        "\n",
        " - 1) Dès que la fonction fonctionne, nous sommes susceptibles de supprimer toutes les instructions d'impression, car nous ne voulons pas que notre programme affiche toutes ces informations de débuggage tout le temps. Le problème est que le code change souvent, la prochaine fois que nous voulons tester cette fonction, nous devrons ajouter à nouveau les instructions `print`.\n",
        " - 2) Pour éviter de réécrire les instructions `print` si nous en avons à nouveau besoin, nous pouvons être tentés de les commenter au lieu de les supprimer. Les laissant encombrer notre code et éventuellement devenir tellement désynchronisés qu'ils finissent par être complètement inutiles de toute façon .\n",
        " - 3) Pour afficher toutes ces valeurs intermédiaires, nous avons dû étaler la formule à l'intérieur de la fonction sur plusieurs lignes. Parfois, il est utile de diviser un calcul en plusieurs étapes, s'il est très long et que tout mettre sur une seule ligne le rend difficile à lire, mais parfois cela rend simplement notre code inutilement verbeux. Voici à quoi ressemblerait normalement la fonction ci-dessus :"
      ]
    },
    {
      "cell_type": "code",
      "execution_count": null,
      "metadata": {},
      "outputs": [],
      "source": [
        "def hypotenuse(x, y):\n",
        "    return math.sqrt(x**2 + y**2)"
      ]
    },
    {
      "cell_type": "markdown",
      "metadata": {},
      "source": [
        "Comment pouvons-nous mieux faire que ça ? Si nous voulons inspecter les valeurs des variables à différentes étapes de l'exécution d'un programme, nous pouvons utiliser un outil comme `pdb` (ou plutôt son évolution : `ipdb` si le package est installé). Si nous voulons que notre programme affiche des messages informatifs, éventuellement dans un fichier, et que nous voulons pouvoir contrôler le niveau de détail au moment de l'exécution sans avoir à modifier quoi que ce soit dans le code, nous pouvons utiliser la journalisation.\n",
        "\n",
        "Plus important encore, pour vérifier que notre code fonctionne correctement maintenant et continuera à fonctionner correctement, nous devons écrire une suite permanente de tests que nous pouvons exécuter régulièrement sur notre code. Nous discuterons plus en détail des tests dans un chapitre ultérieur.\n",
        "\n",
        "### pdb (ou ipdb)\n",
        "\n",
        "`pdb` est un module Python intégré que nous pouvons utiliser pour débugger un programme pendant son exécution. Nous pouvons soit importer le module et utiliser ses fonctions depuis notre code, soit l'invoquer en tant que script lors de l'exécution de notre fichier de code. Nous pouvons utiliser pdb pour parcourir notre programme, ligne par ligne ou par incréments plus importants, inspecter l'état à chaque étape et effectuer un \"post-mortem\" du programme s'il plante."
      ]
    },
    {
      "cell_type": "code",
      "execution_count": null,
      "metadata": {},
      "outputs": [],
      "source": [
        "import pdb\n",
        "\n",
        "try:\n",
        "    age_str = input(\"Please enter your age: \")\n",
        "    age = int(age_str)\n",
        "except ValueError as err:\n",
        "    pdb.set_trace()"
      ]
    },
    {
      "cell_type": "markdown",
      "metadata": {},
      "source": [
        "### Logging\n",
        "\n",
        "Parfois, il est utile qu'un programme envoie des messages à une console ou à un fichier pendant son exécution. Ces messages peuvent être utilisés comme enregistrement de l'exécution du programme et nous aident à trouver des erreurs. Parfois, un bug se produit par intermittence et nous ne savons pas ce qui le déclenche, si nous ajoutons une sortie de débuggage à notre programme uniquement lorsque nous voulons commencer une recherche active du bug, nous ne pourrons peut-être pas le reproduire. Si notre programme enregistre les messages dans un fichier tout le temps, nous pouvons constater que des informations utiles ont été enregistrées lorsque nous vérifions le journal (logs) après que le bug se soit produit.\n",
        "\n",
        "Certains types de messages sont plus importants que d'autres, les erreurs sont des événements notables qui doivent presque toujours être enregistrés. Les messages qui enregistrent qu'une opération s'est terminée avec succès peuvent parfois être utiles, mais ne sont pas aussi importants que les erreurs. Des messages détaillés qui débuggent chaque étape d'un calcul peuvent être intéressants si nous essayons de débugger le calcul, mais s'ils étaient affichés tout le temps, ils rempliraient la console de bruit (ou rendraient notre fichier de logs vraiment, vraiment gros).\n",
        "\n",
        "Nous pouvons utiliser le module de log de Python pour ajouter la journalisation à notre programme de manière simple et cohérente. Les instructions de log sont presque comme les instructions d'affichage, mais chaque fois que nous enregistrons un message, nous spécifions un niveau pour le message. Lorsque nous exécutons notre programme, nous définissons un niveau de log souhaité pour le programme. Seuls les messages dont le niveau est supérieur ou égal au niveau que nous avons défini apparaîtront dans le journal. Cela signifie que nous pouvons temporairement activer la journalisation détaillée et la désactiver à nouveau en modifiant simplement le niveau de log à un seul endroit.\n",
        "\n",
        "Il existe un ensemble cohérent de noms de niveau de log que la plupart des langues utilisent. Dans l'ordre, de la valeur la plus élevée (la plus sévère) à la valeur la plus basse (la moins sévère), ce sont :\n",
        " - CRITICAL : pour les erreurs très graves\n",
        " - ERROR : pour les erreurs moins graves\n",
        " - WARNING : pour les avertissements\n",
        " - INFO : pour les messages informatifs importants\n",
        " - DEBUG : pour des messages de débuggage détaillés\n",
        "\n",
        "\n",
        "Ces noms sont utilisés pour les constantes entières définies dans le module de log : `logging`. Le module fournit également des méthodes que nous pouvons utiliser pour enregistrer les messages. Par défaut, ces messages sont affichés sur la console et le niveau de log par défaut est `WARNING`. Nous pouvons configurer le module pour personnaliser son comportement : par exemple, nous pouvons écrire les messages dans un fichier à la place, augmenter ou diminuer le niveau de log et modifier le format du message. Voici un exemple de journalisation simple :"
      ]
    },
    {
      "cell_type": "code",
      "execution_count": null,
      "metadata": {},
      "outputs": [],
      "source": [
        "import logging\n",
        "\n",
        "# log messages to a file, ignoring anything less severe than ERROR\n",
        "logging.basicConfig(filename='myprogram.log', level=logging.ERROR)\n",
        "\n",
        "# these messages should appear in our file\n",
        "logging.error(\"The washing machine is leaking!\")\n",
        "logging.critical(\"The house is on fire!\")\n",
        "\n",
        "# but these ones won't\n",
        "logging.warning(\"We're almost out of milk.\")\n",
        "logging.info(\"It's sunny today.\")\n",
        "logging.debug(\"I had eggs for breakfast.\")"
      ]
    }
  ],
  "metadata": {
    "colab": {
      "name": "2021-07-07-React-C1-lesson1.ipynb",
      "provenance": []
    },
    "interpreter": {
      "hash": "5f93c710f340a2e31cff3bb6ebdbfdc2ef47a25bab77ef50e9e25900c31fe89f"
    },
    "kernelspec": {
      "display_name": "Python 3.7.9 64-bit ('python-course': virtualenv)",
      "name": "python3"
    },
    "language_info": {
      "codemirror_mode": {
        "name": "ipython",
        "version": 3
      },
      "file_extension": ".py",
      "mimetype": "text/x-python",
      "name": "python",
      "nbconvert_exporter": "python",
      "pygments_lexer": "ipython3",
      "version": "3.7.9"
    },
    "varInspector": {
      "cols": {
        "lenName": 16,
        "lenType": 16,
        "lenVar": 40
      },
      "kernels_config": {
        "python": {
          "delete_cmd_postfix": "",
          "delete_cmd_prefix": "del ",
          "library": "var_list.py",
          "varRefreshCmd": "print(var_dic_list())"
        },
        "r": {
          "delete_cmd_postfix": ") ",
          "delete_cmd_prefix": "rm(",
          "library": "var_list.r",
          "varRefreshCmd": "cat(var_dic_list()) "
        }
      },
      "types_to_exclude": [
        "module",
        "function",
        "builtin_function_or_method",
        "instance",
        "_Feature"
      ],
      "window_display": false
    }
  },
  "nbformat": 4,
  "nbformat_minor": 2
}
