{
  "cells": [
    {
      "cell_type": "markdown",
      "metadata": {
        "id": "Hu-DQLCysvHt"
      },
      "source": [
        "# \"Chapitre 6 : La programmation orientée objet\"\n",
        "> \"Python : Chapitre 6- Lesson 1\"\n",
        "\n",
        "- toc: false \n",
        "- badges: true\n",
        "- hide_binder_badge: true\n",
        "- hide_github_badge: true\n",
        "- comments: false\n",
        "- layout: post\n",
        "- author: AXI Academy\n",
        "- permalink: /python-intro-gen/chapter/6/lesson/2/"
      ]
    },
    {
      "cell_type": "markdown",
      "metadata": {},
      "source": [
        "Comme vous l'avez vu dans les premiers exemples de code de ce cours, il n'est pas obligatoire d'organiser votre code en classes lorsque vous programmez en Python. Vous pouvez utiliser les fonctions par elles-mêmes, dans ce qu'on appelle une approche de programmation procédurale. Cependant, alors qu'un style procédural peut suffire pour écrire des programmes courts et simples, une approche de programmation orientée objet (POO) devient plus précieuse à mesure que votre programme augmente en taille et en complexité.\n",
        "\n",
        "Plus votre code contient de données et de fonctions, plus il est important de les organiser en sous-groupes logiques, en veillant à ce que les données et fonctions liées soient regroupées et que les données et fonctions non liées n'interfèrent pas les unes avec les autres. Le code modulaire est plus facile à comprendre et à modifier, et se prête davantage à la réutilisation et la réutilisation du code est précieuse car elle réduit le temps de développement.\n"
      ]
    },
    {
      "cell_type": "markdown",
      "metadata": {},
      "source": [
        "## Principes de base de la POO\n",
        "\n",
        "\n",
        "### L'encapsulation\n",
        "\n",
        "Le principe le plus important de l'orientation objet est l'encapsulation : l'idée que les données à l'intérieur de l'objet ne doivent être accessibles que via une interface publique, c'est-à-dire les méthodes de l'objet.\n",
        "\n",
        "La fonction `age` que nous avons vue dans le chapitre précédent est un bon exemple de cette philosophie. Si nous voulons utiliser les données stockées dans un objet pour effectuer une action ou calculer une valeur dérivée, nous définissons une méthode associée à l'objet qui le fait. Ensuite, chaque fois que nous voulons effectuer cette action, nous appelons la méthode sur l'objet. Nous considérons comme une mauvaise pratique de récupérer les informations à l'intérieur de l'objet et d'écrire un code séparé pour effectuer l'action à l'extérieur de l'objet.\n",
        "\n",
        "L'encapsulation est une bonne chose pour plusieurs raisons :\n",
        " - La fonctionnalité est définie à un seul endroit et non à plusieurs endroits.\n",
        " - Cette dernière est défini dans un endroit logique, l'endroit où les données sont conservées.\n",
        " - Les données à l'intérieur de notre objet ne sont pas modifiées de manière inattendue par un code externe dans une partie complètement différente de notre programme.\n",
        " - Lorsque nous utilisons une méthode, nous avons seulement besoin de savoir quel résultat la méthode produira, nous n'avons pas besoin de connaître les détails sur les éléments internes de l'objet pour l'utiliser. Nous pourrions passer à l'utilisation d'un autre objet qui est complètement différent à l'intérieur, et ne pas avoir à changer de code car les deux objets ont la même interface.\n",
        "\n",
        "On peut dire que l'objet « sait comment » faire des choses avec ses propres données, et c'est une mauvaise idée pour nous d'accéder à ses données internes et de faire nous-mêmes des choses avec.\n",
        "\n",
        "En Python, l'encapsulation n'est pas imposée par le langage, mais il existe une convention que nous pouvons utiliser pour indiquer qu'une propriété est destinée à être privée et ne fait pas partie de l'interface publique de l'objet : nous commençons son nom par un trait de soulignement :\n"
      ]
    },
    {
      "cell_type": "code",
      "execution_count": 1,
      "metadata": {},
      "outputs": [],
      "source": [
        "class Student:\n",
        "    def __init__(self, name):\n",
        "        # Name must be considered as a private property\n",
        "        self._name = name"
      ]
    }
  ],
  "metadata": {
    "colab": {
      "name": "2021-07-07-React-C1-lesson1.ipynb",
      "provenance": []
    },
    "interpreter": {
      "hash": "5f93c710f340a2e31cff3bb6ebdbfdc2ef47a25bab77ef50e9e25900c31fe89f"
    },
    "kernelspec": {
      "display_name": "Python 3.7.9 64-bit ('python-course': virtualenv)",
      "name": "python3"
    },
    "language_info": {
      "codemirror_mode": {
        "name": "ipython",
        "version": 3
      },
      "file_extension": ".py",
      "mimetype": "text/x-python",
      "name": "python",
      "nbconvert_exporter": "python",
      "pygments_lexer": "ipython3",
      "version": "3.7.9"
    },
    "varInspector": {
      "cols": {
        "lenName": 16,
        "lenType": 16,
        "lenVar": 40
      },
      "kernels_config": {
        "python": {
          "delete_cmd_postfix": "",
          "delete_cmd_prefix": "del ",
          "library": "var_list.py",
          "varRefreshCmd": "print(var_dic_list())"
        },
        "r": {
          "delete_cmd_postfix": ") ",
          "delete_cmd_prefix": "rm(",
          "library": "var_list.r",
          "varRefreshCmd": "cat(var_dic_list()) "
        }
      },
      "types_to_exclude": [
        "module",
        "function",
        "builtin_function_or_method",
        "instance",
        "_Feature"
      ],
      "window_display": false
    }
  },
  "nbformat": 4,
  "nbformat_minor": 2
}
