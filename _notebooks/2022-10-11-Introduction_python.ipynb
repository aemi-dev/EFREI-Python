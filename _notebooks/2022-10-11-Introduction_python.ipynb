{
 "cells": [
  {
   "cell_type": "markdown",
   "metadata": {},
   "source": [
    "# \"Introduction to Python (A crash course)\"\n",
    "\n",
    "- toc: false \n",
    "- comments: false\n",
    "- layout: post"
   ]
  },
  {
   "cell_type": "markdown",
   "metadata": {},
   "source": [
    "For those of you that know python, this aims to refresh your memory. For those of you that don't know python -- but do know programming -- this class aims to give you an idea how python is similar/different with your favorite programming language.  "
   ]
  },
  {
   "cell_type": "markdown",
   "metadata": {},
   "source": [
    "## Printing and reading"
   ]
  },
  {
   "cell_type": "markdown",
   "metadata": {},
   "source": [
    "Printing and reading from standard IO"
   ]
  },
  {
   "cell_type": "code",
   "execution_count": 7,
   "metadata": {
    "collapsed": false,
    "jupyter": {
     "outputs_hidden": false
    }
   },
   "outputs": [
    {
     "name": "stdout",
     "output_type": "stream",
     "text": [
      "Hello World!\n"
     ]
    }
   ],
   "source": [
    "#  Writing to standard out:\n",
    "\n",
    "print (\"Hello World!\")"
   ]
  },
  {
   "cell_type": "code",
   "execution_count": 8,
   "metadata": {
    "collapsed": false,
    "jupyter": {
     "outputs_hidden": false
    }
   },
   "outputs": [
    {
     "name": "stdout",
     "output_type": "stream",
     "text": [
      "What is your name?  Sam\n"
     ]
    },
    {
     "name": "stdout",
     "output_type": "stream",
     "text": [
      "Hello Sam\n"
     ]
    }
   ],
   "source": [
    "#  Reading from standard input and output to standard output\n",
    "\n",
    "name = input(\"What is your name? \")\n",
    "print(\"Hello \",end = '')\n",
    "print(name)"
   ]
  },
  {
   "cell_type": "markdown",
   "metadata": {},
   "source": [
    "## Data types"
   ]
  },
  {
   "cell_type": "markdown",
   "metadata": {},
   "source": [
    "Basic data types:\n",
    "\n",
    "1. Strings\n",
    "2. Integers\n",
    "3. Floats\n",
    "4. Booleans\n",
    "\n",
    "These are all objects in Python. "
   ]
  },
  {
   "cell_type": "code",
   "execution_count": 9,
   "metadata": {
    "collapsed": false,
    "jupyter": {
     "outputs_hidden": false
    }
   },
   "outputs": [
    {
     "data": {
      "text/plain": [
       "str"
      ]
     },
     "execution_count": 9,
     "metadata": {},
     "output_type": "execute_result"
    }
   ],
   "source": [
    "#String\n",
    "a = \"apple\"\n",
    "type(a)\n",
    "#print type(a)"
   ]
  },
  {
   "cell_type": "code",
   "execution_count": 10,
   "metadata": {
    "collapsed": false,
    "jupyter": {
     "outputs_hidden": false
    }
   },
   "outputs": [
    {
     "data": {
      "text/plain": [
       "int"
      ]
     },
     "execution_count": 10,
     "metadata": {},
     "output_type": "execute_result"
    }
   ],
   "source": [
    "#Integer \n",
    "b = 3\n",
    "type(b)\n",
    "#print type(b)"
   ]
  },
  {
   "cell_type": "code",
   "execution_count": 11,
   "metadata": {
    "collapsed": false,
    "jupyter": {
     "outputs_hidden": false
    }
   },
   "outputs": [
    {
     "data": {
      "text/plain": [
       "float"
      ]
     },
     "execution_count": 11,
     "metadata": {},
     "output_type": "execute_result"
    }
   ],
   "source": [
    "#Float  \n",
    "c = 3.2\n",
    "type(c)\n",
    "#print type(c)"
   ]
  },
  {
   "cell_type": "code",
   "execution_count": 12,
   "metadata": {
    "collapsed": false,
    "jupyter": {
     "outputs_hidden": false
    }
   },
   "outputs": [
    {
     "data": {
      "text/plain": [
       "bool"
      ]
     },
     "execution_count": 12,
     "metadata": {},
     "output_type": "execute_result"
    }
   ],
   "source": [
    "#Boolean\n",
    "d = True\n",
    "type(d)\n",
    "#print type(d)"
   ]
  },
  {
   "cell_type": "code",
   "execution_count": 13,
   "metadata": {
    "collapsed": false,
    "jupyter": {
     "outputs_hidden": false
    }
   },
   "outputs": [
    {
     "ename": "TypeError",
     "evalue": "can only concatenate str (not \"int\") to str",
     "output_type": "error",
     "traceback": [
      "\u001b[0;31m---------------------------------------------------------------------------\u001b[0m",
      "\u001b[0;31mTypeError\u001b[0m                                 Traceback (most recent call last)",
      "\u001b[0;32m<ipython-input-13-ca730b97bf8a>\u001b[0m in \u001b[0;36m<module>\u001b[0;34m\u001b[0m\n\u001b[0;32m----> 1\u001b[0;31m \u001b[0ma\u001b[0m\u001b[0;34m+\u001b[0m\u001b[0mb\u001b[0m\u001b[0;34m\u001b[0m\u001b[0;34m\u001b[0m\u001b[0m\n\u001b[0m",
      "\u001b[0;31mTypeError\u001b[0m: can only concatenate str (not \"int\") to str"
     ]
    }
   ],
   "source": [
    "a+b"
   ]
  },
  {
   "cell_type": "code",
   "execution_count": 14,
   "metadata": {
    "collapsed": false,
    "jupyter": {
     "outputs_hidden": false
    }
   },
   "outputs": [
    {
     "data": {
      "text/plain": [
       "'apple3'"
      ]
     },
     "execution_count": 14,
     "metadata": {},
     "output_type": "execute_result"
    }
   ],
   "source": [
    "a+str(b)"
   ]
  },
  {
   "cell_type": "markdown",
   "metadata": {},
   "source": [
    "Python **doesn't require explicitly declared variable types** like Java and other languages.  "
   ]
  },
  {
   "cell_type": "markdown",
   "metadata": {},
   "source": [
    "In Python 3, division always yiedls a real number."
   ]
  },
  {
   "cell_type": "code",
   "execution_count": 12,
   "metadata": {
    "collapsed": false,
    "jupyter": {
     "outputs_hidden": false
    }
   },
   "outputs": [
    {
     "data": {
      "text/plain": [
       "4.666666666666667"
      ]
     },
     "execution_count": 12,
     "metadata": {},
     "output_type": "execute_result"
    }
   ],
   "source": [
    "14/b"
   ]
  },
  {
   "cell_type": "code",
   "execution_count": 13,
   "metadata": {
    "collapsed": false,
    "jupyter": {
     "outputs_hidden": false
    }
   },
   "outputs": [
    {
     "data": {
      "text/plain": [
       "4.375"
      ]
     },
     "execution_count": 13,
     "metadata": {},
     "output_type": "execute_result"
    }
   ],
   "source": [
    "14/c"
   ]
  },
  {
   "cell_type": "markdown",
   "metadata": {},
   "source": [
    "If you want integer division use the // operator"
   ]
  },
  {
   "cell_type": "code",
   "execution_count": 14,
   "metadata": {
    "collapsed": false,
    "jupyter": {
     "outputs_hidden": false
    }
   },
   "outputs": [
    {
     "data": {
      "text/plain": [
       "4"
      ]
     },
     "execution_count": 14,
     "metadata": {},
     "output_type": "execute_result"
    }
   ],
   "source": [
    "14//b"
   ]
  },
  {
   "cell_type": "markdown",
   "metadata": {},
   "source": [
    "### Strings"
   ]
  },
  {
   "cell_type": "markdown",
   "metadata": {},
   "source": [
    "String manipulation will be very important for many of the tasks we will do. Therefore let us play around a bit with strings."
   ]
  },
  {
   "cell_type": "code",
   "execution_count": 15,
   "metadata": {
    "collapsed": false,
    "jupyter": {
     "outputs_hidden": false
    }
   },
   "outputs": [
    {
     "name": "stdout",
     "output_type": "stream",
     "text": [
      "Hello World\n"
     ]
    }
   ],
   "source": [
    "#Concatenating strings\n",
    "\n",
    "a = \"Hello\"  # String\n",
    "b = \" World\" # Another string\n",
    "print (a + b)  # Concatenation"
   ]
  },
  {
   "cell_type": "code",
   "execution_count": 16,
   "metadata": {
    "collapsed": false,
    "jupyter": {
     "outputs_hidden": false
    }
   },
   "outputs": [
    {
     "name": "stdout",
     "output_type": "stream",
     "text": [
      "W\n",
      "d\n",
      "Worl\n",
      "dlroW\n"
     ]
    }
   ],
   "source": [
    "# Slicing strings\n",
    "\n",
    "a = \"World\"\n",
    "\n",
    "print (a[0])\n",
    "print (a[-1])\n",
    "print (\"World\"[0:4])\n",
    "print (a[::-1])"
   ]
  },
  {
   "cell_type": "code",
   "execution_count": 17,
   "metadata": {
    "collapsed": false,
    "jupyter": {
     "outputs_hidden": false
    }
   },
   "outputs": [
    {
     "name": "stdout",
     "output_type": "stream",
     "text": [
      "H-e-l-l-o- -W-o-r-l-d\n",
      "False\n",
      "True\n",
      "He110 W0r1[)\n",
      "['Hello', 'World']\n",
      "['Hell', ' W', 'rld']\n"
     ]
    }
   ],
   "source": [
    "# Popular string functions\n",
    "a = \"Hello World\"\n",
    "print (\"-\".join(a))\n",
    "print (a.startswith(\"Wo\"))\n",
    "print (a.endswith(\"rld\"))\n",
    "print (a.replace(\"o\",\"0\").replace(\"d\",\"[)\").replace(\"l\",\"1\"))\n",
    "print (a.split())\n",
    "print (a.split('o'))"
   ]
  },
  {
   "cell_type": "markdown",
   "metadata": {},
   "source": [
    "Strings are an example of an **imutable** data type.  Once you instantiate a string you cannot change any characters in it's set.  "
   ]
  },
  {
   "cell_type": "code",
   "execution_count": 18,
   "metadata": {
    "collapsed": false,
    "jupyter": {
     "outputs_hidden": false
    }
   },
   "outputs": [
    {
     "ename": "TypeError",
     "evalue": "'str' object does not support item assignment",
     "output_type": "error",
     "traceback": [
      "\u001b[1;31m---------------------------------------------------------------------------\u001b[0m",
      "\u001b[1;31mTypeError\u001b[0m                                 Traceback (most recent call last)",
      "\u001b[1;32m<ipython-input-18-b377f6c05723>\u001b[0m in \u001b[0;36m<module>\u001b[1;34m()\u001b[0m\n\u001b[0;32m      1\u001b[0m \u001b[0mstring\u001b[0m \u001b[1;33m=\u001b[0m \u001b[1;34m\"string\"\u001b[0m\u001b[1;33m\u001b[0m\u001b[0m\n\u001b[1;32m----> 2\u001b[1;33m \u001b[0mstring\u001b[0m\u001b[1;33m[\u001b[0m\u001b[1;33m-\u001b[0m\u001b[1;36m1\u001b[0m\u001b[1;33m]\u001b[0m \u001b[1;33m=\u001b[0m \u001b[1;34m\"y\"\u001b[0m  \u001b[1;31m#Here we attempt to assign the last character in the string to \"y\"\u001b[0m\u001b[1;33m\u001b[0m\u001b[0m\n\u001b[0m",
      "\u001b[1;31mTypeError\u001b[0m: 'str' object does not support item assignment"
     ]
    }
   ],
   "source": [
    "string = \"string\"\n",
    "string[-1] = \"y\"  #Here we attempt to assign the last character in the string to \"y\""
   ]
  },
  {
   "cell_type": "markdown",
   "metadata": {},
   "source": [
    "### Whitespace in Python"
   ]
  },
  {
   "cell_type": "markdown",
   "metadata": {},
   "source": [
    "Python uses indents and whitespace to group statements together.  To write a short loop in Java, you might use:\n",
    "\n",
    " ```java\n",
    " for (int i = 0; i < 5; i++){\n",
    "       System.out.println(\"Hi!\");\n",
    " }\n",
    " ```"
   ]
  },
  {
   "cell_type": "markdown",
   "metadata": {},
   "source": [
    "Python does not use curly braces like C, so the same program as above is written in Python as follows:"
   ]
  },
  {
   "cell_type": "code",
   "execution_count": null,
   "metadata": {
    "collapsed": false,
    "jupyter": {
     "outputs_hidden": false
    }
   },
   "outputs": [],
   "source": [
    "for i in range(5): \n",
    "    print(\"Hi \\n\")"
   ]
  },
  {
   "cell_type": "markdown",
   "metadata": {},
   "source": [
    "If you have nested for-loops, there is a further indent for the inner loop."
   ]
  },
  {
   "cell_type": "code",
   "execution_count": 19,
   "metadata": {
    "collapsed": false,
    "jupyter": {
     "outputs_hidden": false
    }
   },
   "outputs": [
    {
     "name": "stdout",
     "output_type": "stream",
     "text": [
      "0 0\n",
      "0 1\n",
      "0 2\n",
      "This statement is within the i-loop, but not the j-loop\n",
      "1 0\n",
      "1 1\n",
      "1 2\n",
      "This statement is within the i-loop, but not the j-loop\n",
      "2 0\n",
      "2 1\n",
      "2 2\n",
      "This statement is within the i-loop, but not the j-loop\n"
     ]
    }
   ],
   "source": [
    "for i in range(3):\n",
    "    for j in range(3):\n",
    "        print (i, j)\n",
    "    \n",
    "    print (\"This statement is within the i-loop, but not the j-loop\")"
   ]
  },
  {
   "cell_type": "markdown",
   "metadata": {},
   "source": [
    "## Lists, Tuples, Sets and Dictionaries"
   ]
  },
  {
   "cell_type": "markdown",
   "metadata": {},
   "source": [
    "Number and strings alone are not enough! we need data types that can hold multiple values."
   ]
  },
  {
   "cell_type": "markdown",
   "metadata": {},
   "source": [
    "### Lists: "
   ]
  },
  {
   "cell_type": "markdown",
   "metadata": {},
   "source": [
    "Lists are **mutable** or able to be altered.  Lists are a collection of data and that data can be of differing types."
   ]
  },
  {
   "cell_type": "code",
   "execution_count": 20,
   "metadata": {
    "collapsed": false,
    "jupyter": {
     "outputs_hidden": false
    }
   },
   "outputs": [
    {
     "name": "stdout",
     "output_type": "stream",
     "text": [
      "asparangus\n",
      "oranges\n",
      "3\n",
      "['asparangus', 'meat', 'oranges']\n",
      "['asparangus', 'oranges']\n",
      "['meat', 'oranges']\n",
      "[2, 'oranges']\n"
     ]
    }
   ],
   "source": [
    "groceries = []\n",
    "\n",
    "# Add to list\n",
    "groceries.append(\"oranges\")  \n",
    "groceries.append(\"meat\")\n",
    "groceries.append(\"asparangus\")\n",
    "\n",
    "# Access by index\n",
    "print (groceries[2])\n",
    "print (groceries[0])\n",
    "\n",
    "# Find number of things in list\n",
    "print (len(groceries))\n",
    "\n",
    "# Sort the items in the list\n",
    "groceries.sort()\n",
    "print (groceries)\n",
    "\n",
    "# List Comprehension\n",
    "veggie = [x for x in groceries if x is not \"meat\"]\n",
    "print (veggie)\n",
    "\n",
    "# Remove from list\n",
    "groceries.remove(\"asparangus\")\n",
    "#groceries.pop()\n",
    "print (groceries)\n",
    "\n",
    "#The list is mutable\n",
    "groceries[0] = 2\n",
    "print (groceries)"
   ]
  },
  {
   "cell_type": "code",
   "execution_count": 21,
   "metadata": {
    "collapsed": false,
    "jupyter": {
     "outputs_hidden": false
    }
   },
   "outputs": [
    {
     "ename": "TypeError",
     "evalue": "unorderable types: str() < int()",
     "output_type": "error",
     "traceback": [
      "\u001b[1;31m---------------------------------------------------------------------------\u001b[0m",
      "\u001b[1;31mTypeError\u001b[0m                                 Traceback (most recent call last)",
      "\u001b[1;32m<ipython-input-21-61508be098f7>\u001b[0m in \u001b[0;36m<module>\u001b[1;34m()\u001b[0m\n\u001b[1;32m----> 1\u001b[1;33m \u001b[0mgroceries\u001b[0m\u001b[1;33m.\u001b[0m\u001b[0msort\u001b[0m\u001b[1;33m(\u001b[0m\u001b[1;33m)\u001b[0m\u001b[1;33m\u001b[0m\u001b[0m\n\u001b[0m\u001b[0;32m      2\u001b[0m \u001b[0mprint\u001b[0m \u001b[1;33m(\u001b[0m\u001b[0mgroceries\u001b[0m\u001b[1;33m)\u001b[0m\u001b[1;33m\u001b[0m\u001b[0m\n",
      "\u001b[1;31mTypeError\u001b[0m: unorderable types: str() < int()"
     ]
    }
   ],
   "source": [
    "groceries.sort()\n",
    "print (groceries)"
   ]
  },
  {
   "cell_type": "code",
   "execution_count": 1,
   "metadata": {
    "collapsed": false,
    "jupyter": {
     "outputs_hidden": false
    }
   },
   "outputs": [
    {
     "name": "stdout",
     "output_type": "stream",
     "text": [
      "y\n",
      "x\n"
     ]
    }
   ],
   "source": [
    "L = ['x',1,3,'y']\n",
    "print(L.pop())\n",
    "print(L.pop(0))"
   ]
  },
  {
   "cell_type": "code",
   "execution_count": 26,
   "metadata": {
    "collapsed": false,
    "jupyter": {
     "outputs_hidden": false
    }
   },
   "outputs": [
    {
     "name": "stdout",
     "output_type": "stream",
     "text": [
      "[1, 2, 4, 5]\n",
      "[1, 2, 4, 5, 3]\n",
      "[1, 2, 3, 4, 5]\n",
      "[1, 2, 4, 5, 3]\n"
     ]
    }
   ],
   "source": [
    "# lists are objects\n",
    "L = [2,5,1,4]\n",
    "X = L\n",
    "L.sort()\n",
    "print (X)\n",
    "L.append(3)\n",
    "print(X)\n",
    "L = sorted(L)\n",
    "print(L)\n",
    "print(X) "
   ]
  },
  {
   "cell_type": "code",
   "execution_count": 27,
   "metadata": {
    "collapsed": false,
    "jupyter": {
     "outputs_hidden": false
    }
   },
   "outputs": [
    {
     "name": "stdout",
     "output_type": "stream",
     "text": [
      "[2, 3, 4]\n",
      "[3, 4, 5]\n",
      "[1, 2, 3]\n",
      "[2, 4]\n"
     ]
    }
   ],
   "source": [
    "#slicing works for lists as for strings\n",
    "print (L[1:-1])\n",
    "print (L[2:])\n",
    "print(L[:-2])\n",
    "print(L[1:-1:2])"
   ]
  },
  {
   "cell_type": "markdown",
   "metadata": {},
   "source": [
    "### List Comprehension"
   ]
  },
  {
   "cell_type": "markdown",
   "metadata": {},
   "source": [
    "Recall the mathematical notation:\n",
    "\n",
    "$$L_1 = \\left\\{x^2 : x \\in \\{0\\ldots 9\\}\\right\\}$$\n",
    "\n",
    "$$L_2 = \\left(1, 2, 4, 8,\\ldots, 2^{12}\\right)$$\n",
    "\n",
    "$$M = \\left\\{x \\mid x \\in L_1 \\text{ and } x \\text{ is even}\\right\\}$$\n"
   ]
  },
  {
   "cell_type": "code",
   "execution_count": 28,
   "metadata": {
    "collapsed": false,
    "jupyter": {
     "outputs_hidden": false
    }
   },
   "outputs": [
    {
     "name": "stdout",
     "output_type": "stream",
     "text": [
      "[0, 1, 4, 9, 16, 25, 36, 49, 64, 81]\n",
      "[1, 2, 4, 8, 16, 32, 64, 128, 256, 512, 1024, 2048, 4096]\n",
      "[0, 4, 16, 36, 64]\n"
     ]
    }
   ],
   "source": [
    "L1 = [x**2 for x in range(10)] # range(n): returns an iterator over the numbers 0,...,n-1\n",
    "L2 = [2**i for i in range(13)]\n",
    "L3 = [x for x in L1 if x % 2 == 0]\n",
    "print (L1)\n",
    "print (L2) \n",
    "print (L3)"
   ]
  },
  {
   "cell_type": "code",
   "execution_count": 29,
   "metadata": {
    "collapsed": false,
    "jupyter": {
     "outputs_hidden": false
    }
   },
   "outputs": [
    {
     "data": {
      "text/plain": [
       "[0, 4, 16, 36, 64]"
      ]
     },
     "execution_count": 29,
     "metadata": {},
     "output_type": "execute_result"
    }
   ],
   "source": [
    "[x for x in [x**2 for x in range(10)] if x % 2 == 0]"
   ]
  },
  {
   "cell_type": "markdown",
   "metadata": {},
   "source": [
    "Prime numbers with list comprehension"
   ]
  },
  {
   "cell_type": "code",
   "execution_count": 2,
   "metadata": {
    "collapsed": false,
    "jupyter": {
     "outputs_hidden": false
    }
   },
   "outputs": [
    {
     "name": "stdout",
     "output_type": "stream",
     "text": [
      "[4, 6, 8, 10, 12, 14, 16, 18, 20, 22, 24, 26, 28, 30, 32, 34, 36, 38, 40, 42, 44, 46, 48, 6, 9, 12, 15, 18, 21, 24, 27, 30, 33, 36, 39, 42, 45, 48, 8, 12, 16, 20, 24, 28, 32, 36, 40, 44, 48, 10, 15, 20, 25, 30, 35, 40, 45, 12, 18, 24, 30, 36, 42, 48, 14, 21, 28, 35, 42, 49]\n",
      "[2, 3, 5, 7, 11, 13, 17, 19, 23, 29, 31, 37, 41, 43, 47]\n"
     ]
    }
   ],
   "source": [
    "noprimes = [j for i in range(2, 8) for j in range(i*2, 50, i)] \n",
    "# range(s,t,i): returns an iterator over numbers in [s,t) incremented by i\n",
    "print (noprimes)\n",
    "primes = [x for x in range(2, 50) if x not in noprimes]\n",
    "print (primes)"
   ]
  },
  {
   "cell_type": "code",
   "execution_count": 3,
   "metadata": {
    "collapsed": false,
    "jupyter": {
     "outputs_hidden": false
    }
   },
   "outputs": [
    {
     "name": "stdout",
     "output_type": "stream",
     "text": [
      "[2, 3, 5, 7, 11, 13, 17, 19, 23, 29, 31, 37, 41, 43, 47]\n"
     ]
    }
   ],
   "source": [
    "primes = [x for x in range(2, 50) if x not in [j for i in range(2, 8) for j in range(i*2, 50, i) ]]\n",
    "print (primes)"
   ]
  },
  {
   "cell_type": "code",
   "execution_count": 4,
   "metadata": {
    "collapsed": false,
    "jupyter": {
     "outputs_hidden": false
    }
   },
   "outputs": [
    {
     "name": "stdout",
     "output_type": "stream",
     "text": [
      "['The', 'quick', 'brown', 'fox', 'jumps', 'over', 'the', 'lazy', 'dog']\n",
      "['THE', 'QUICK', 'BROWN', 'FOX', 'JUMPS', 'OVER', 'THE', 'LAZY', 'DOG']\n",
      "[['THE', 'the', 3], ['QUICK', 'quick', 5], ['BROWN', 'brown', 5], ['FOX', 'fox', 3], ['JUMPS', 'jumps', 5], ['OVER', 'over', 4], ['THE', 'the', 3], ['LAZY', 'lazy', 4], ['DOG', 'dog', 3]]\n"
     ]
    }
   ],
   "source": [
    "words = 'The quick brown fox jumps over the lazy dog'.split()\n",
    "print(words) \n",
    "upper = [w.upper() for w in words]\n",
    "print(upper)\n",
    "stuff = [[w.upper(), w.lower(), len(w)] for w in words]\n",
    "print(stuff)"
   ]
  },
  {
   "cell_type": "code",
   "execution_count": 7,
   "metadata": {
    "collapsed": false,
    "jupyter": {
     "outputs_hidden": false
    }
   },
   "outputs": [
    {
     "name": "stdout",
     "output_type": "stream",
     "text": [
      "Give numbers separated by comma: 1,2,3,4\n",
      "[1, 2, 3, 4]\n"
     ]
    }
   ],
   "source": [
    "s = input('Give numbers separated by comma: ')\n",
    "x = [int(n) for n in s.split(',')]\n",
    "print(x)"
   ]
  },
  {
   "cell_type": "code",
   "execution_count": 9,
   "metadata": {
    "collapsed": false,
    "jupyter": {
     "outputs_hidden": false
    }
   },
   "outputs": [
    {
     "name": "stdout",
     "output_type": "stream",
     "text": [
      "['1', '2', '3', '4']\n",
      "12\n",
      "3\n"
     ]
    }
   ],
   "source": [
    "y = s.split(',')\n",
    "print(y)\n",
    "print(y[0]+y[1])\n",
    "print(x[0]+x[1])"
   ]
  },
  {
   "cell_type": "code",
   "execution_count": 10,
   "metadata": {
    "collapsed": false,
    "jupyter": {
     "outputs_hidden": false
    }
   },
   "outputs": [
    {
     "name": "stdout",
     "output_type": "stream",
     "text": [
      "[0, 0, 0, 0, 0, 0, 0, 0, 0, 0]\n",
      "[[1, 0, 0, 0, 0, 0, 0, 0, 0, 0], [0, 1, 0, 0, 0, 0, 0, 0, 0, 0], [0, 0, 1, 0, 0, 0, 0, 0, 0, 0], [0, 0, 0, 1, 0, 0, 0, 0, 0, 0], [0, 0, 0, 0, 1, 0, 0, 0, 0, 0], [0, 0, 0, 0, 0, 1, 0, 0, 0, 0], [0, 0, 0, 0, 0, 0, 1, 0, 0, 0], [0, 0, 0, 0, 0, 0, 0, 1, 0, 0], [0, 0, 0, 0, 0, 0, 0, 0, 1, 0], [0, 0, 0, 0, 0, 0, 0, 0, 0, 1]]\n",
      "[69, 93, 69, 2, 26, 93, 90, 89, 5, 4]\n"
     ]
    }
   ],
   "source": [
    "#create a vector of all 10 zeros\n",
    "z = [0 for i in range(10)]\n",
    "print(z)\n",
    "#create a 10x10 matrix with all 0s\n",
    "M = [[0 for i in range(10)] for j in range(10)]\n",
    "#set the diagonal to 1\n",
    "for i in range(10): M[i][i] = 1\n",
    "print(M)\n",
    "#create a list of random integers in [0,99]\n",
    "import random\n",
    "R = [random.choice(range(100)) for i in range(10)]\n",
    "print(R)"
   ]
  },
  {
   "cell_type": "code",
   "execution_count": 51,
   "metadata": {
    "collapsed": false,
    "jupyter": {
     "outputs_hidden": false
    }
   },
   "outputs": [
    {
     "data": {
      "text/plain": [
       "[106, 150, 48, 14, 156, 142, 126, 96, 52, 136]"
      ]
     },
     "execution_count": 51,
     "metadata": {},
     "output_type": "execute_result"
    }
   ],
   "source": [
    "[2*x for x in R]"
   ]
  },
  {
   "cell_type": "code",
   "execution_count": 52,
   "metadata": {
    "collapsed": false,
    "jupyter": {
     "outputs_hidden": false
    }
   },
   "outputs": [
    {
     "name": "stdout",
     "output_type": "stream",
     "text": [
      "[1, 4, 5, 8]\n"
     ]
    }
   ],
   "source": [
    "# Removing elements from a list while you iterate it can lead to problems\n",
    "L = [1,2,4,5,6,8]\n",
    "for x in L:\n",
    "    if x%2 == 0:\n",
    "        L.remove(x)\n",
    "print(L)"
   ]
  },
  {
   "cell_type": "code",
   "execution_count": 54,
   "metadata": {
    "collapsed": false,
    "jupyter": {
     "outputs_hidden": false
    }
   },
   "outputs": [
    {
     "name": "stdout",
     "output_type": "stream",
     "text": [
      "[1, 5]\n"
     ]
    }
   ],
   "source": [
    "#Another way to do this:\n",
    "L = [1,2,4,5,6,8]\n",
    "L = [x for x in L if x%2 == 1] #creates a new list\n",
    "L[:] = [x for x in L if x%2 == 1]\n",
    "print(L)"
   ]
  },
  {
   "cell_type": "code",
   "execution_count": 55,
   "metadata": {
    "collapsed": false,
    "jupyter": {
     "outputs_hidden": false
    }
   },
   "outputs": [
    {
     "name": "stdout",
     "output_type": "stream",
     "text": [
      "[1, 5]\n"
     ]
    }
   ],
   "source": [
    "L = [1,2,4,5,6,8]\n",
    "R =[y for y in L if y%2 == 0]\n",
    "for x in R: L.remove(x)\n",
    "print(L)"
   ]
  },
  {
   "cell_type": "markdown",
   "metadata": {},
   "source": [
    "### Tuples: "
   ]
  },
  {
   "cell_type": "markdown",
   "metadata": {},
   "source": [
    "Tuples are an **immutable** type. Like strings, once you create them, you cannot change them.  It is their immutability that allows you to use them as keys in dictionaries.  However, they are similar to lists in that they are a collection of data and that data can be of differing types.  "
   ]
  },
  {
   "cell_type": "code",
   "execution_count": 56,
   "metadata": {
    "collapsed": false,
    "jupyter": {
     "outputs_hidden": false
    }
   },
   "outputs": [
    {
     "name": "stdout",
     "output_type": "stream",
     "text": [
      "('orange', 'meat', 'asparangus', 2.5, True)\n",
      "(1, 2, 3)\n",
      "(1, 2, 3)\n"
     ]
    },
    {
     "ename": "TypeError",
     "evalue": "'tuple' object does not support item assignment",
     "output_type": "error",
     "traceback": [
      "\u001b[1;31m---------------------------------------------------------------------------\u001b[0m",
      "\u001b[1;31mTypeError\u001b[0m                                 Traceback (most recent call last)",
      "\u001b[1;32m<ipython-input-56-ead4db6fadf4>\u001b[0m in \u001b[0;36m<module>\u001b[1;34m()\u001b[0m\n\u001b[0;32m     14\u001b[0m \u001b[0mL\u001b[0m\u001b[1;33m[\u001b[0m\u001b[1;36m1\u001b[0m\u001b[1;33m]\u001b[0m \u001b[1;33m=\u001b[0m \u001b[1;36m5\u001b[0m\u001b[1;33m\u001b[0m\u001b[0m\n\u001b[0;32m     15\u001b[0m \u001b[0mprint\u001b[0m\u001b[1;33m(\u001b[0m\u001b[0mt\u001b[0m\u001b[1;33m)\u001b[0m\u001b[1;33m\u001b[0m\u001b[0m\n\u001b[1;32m---> 16\u001b[1;33m \u001b[0mt\u001b[0m\u001b[1;33m[\u001b[0m\u001b[1;36m1\u001b[0m\u001b[1;33m]\u001b[0m \u001b[1;33m=\u001b[0m \u001b[1;36m4\u001b[0m\u001b[1;33m\u001b[0m\u001b[0m\n\u001b[0m",
      "\u001b[1;31mTypeError\u001b[0m: 'tuple' object does not support item assignment"
     ]
    }
   ],
   "source": [
    "# Tuple grocery list\n",
    "\n",
    "groceries = ('orange', 'meat', 'asparangus', 2.5, True)\n",
    "\n",
    "print (groceries)\n",
    "\n",
    "#print(groceries[2])\n",
    "\n",
    "#groceries[2] = 'milk'\n",
    "\n",
    "L = [1,2,3]\n",
    "t = tuple(L)\n",
    "print(t)\n",
    "L[1] = 5\n",
    "print(t)\n",
    "#t[1] = 4"
   ]
  },
  {
   "cell_type": "markdown",
   "metadata": {},
   "source": [
    "### Sets: "
   ]
  },
  {
   "cell_type": "markdown",
   "metadata": {},
   "source": [
    "A set is a sequence of items that cannot contain duplicates.  They handle operations like sets in mathematics."
   ]
  },
  {
   "cell_type": "code",
   "execution_count": null,
   "metadata": {
    "collapsed": false,
    "jupyter": {
     "outputs_hidden": false
    }
   },
   "outputs": [],
   "source": [
    "numbers = range(10)\n",
    "evens = [2, 4, 6, 8]\n",
    "\n",
    "evens = set(evens)\n",
    "numbers = set(numbers)\n",
    "\n",
    "# Use difference to find the odds\n",
    "odds = numbers - evens\n",
    "\n",
    "print (odds)\n",
    "\n",
    "# Note: Set also allows for use of union (|), and intersection (&)\n",
    "\n"
   ]
  },
  {
   "cell_type": "code",
   "execution_count": 57,
   "metadata": {
    "collapsed": false,
    "jupyter": {
     "outputs_hidden": false
    }
   },
   "outputs": [
    {
     "name": "stdout",
     "output_type": "stream",
     "text": [
      "[2, 1, 2, 1]\n",
      "{1, 2}\n"
     ]
    }
   ],
   "source": [
    "a = [2,1,2,1]\n",
    "print (a)\n",
    "a = set(a)\n",
    "print(a)"
   ]
  },
  {
   "cell_type": "markdown",
   "metadata": {},
   "source": [
    "### Dictionaries: "
   ]
  },
  {
   "cell_type": "markdown",
   "metadata": {},
   "source": [
    "A dictionary is a map of keys to values. This is one of the most useful structures.  **Keys must be unique** and **immutable**. "
   ]
  },
  {
   "cell_type": "code",
   "execution_count": 58,
   "metadata": {
    "collapsed": false,
    "jupyter": {
     "outputs_hidden": false
    }
   },
   "outputs": [
    {
     "name": "stdout",
     "output_type": "stream",
     "text": [
      "data mining\n"
     ]
    }
   ],
   "source": [
    "# A simple dictionary\n",
    "\n",
    "simple_dict = {'cse012': 'data mining'}\n",
    "\n",
    "# Access by key\n",
    "print (simple_dict['cse012'])"
   ]
  },
  {
   "cell_type": "code",
   "execution_count": 59,
   "metadata": {
    "collapsed": false,
    "jupyter": {
     "outputs_hidden": false
    }
   },
   "outputs": [
    {
     "name": "stdout",
     "output_type": "stream",
     "text": [
      "True\n",
      "social networks\n",
      "['cse205', 'L14', 'cse012']\n",
      "['object oriented programming', 'social networks', 'data mining']\n",
      "[('cse205', 'object oriented programming'), ('L14', 'social networks'), ('cse012', 'data mining')]\n",
      "cse205 object oriented programming\n",
      "L14 social networks\n",
      "cse012 data mining\n"
     ]
    }
   ],
   "source": [
    "\n",
    "# A longer dictionary\n",
    "classes = {\n",
    "    'cse012': 'data mining',\n",
    "    'cse205': 'object oriented programming'\n",
    "}\n",
    "\n",
    "# Check if item is in dictionary\n",
    "print ('cse012' in classes)\n",
    "\n",
    "# Add new item\n",
    "classes['L14'] = 'social networks'\n",
    "print (classes['L14'])\n",
    "\n",
    "# Print just the keys\n",
    "print (list(classes.keys()))\n",
    "\n",
    "# Print just the values\n",
    "print (list(classes.values()))\n",
    "\n",
    "# Print the items in the dictionary\n",
    "print (list(classes.items()))\n",
    "\n",
    "# Print dictionary pairs another way\n",
    "for key, value in classes.items():\n",
    "    print (key, value)"
   ]
  },
  {
   "cell_type": "code",
   "execution_count": 60,
   "metadata": {
    "collapsed": false,
    "jupyter": {
     "outputs_hidden": false
    }
   },
   "outputs": [
    {
     "name": "stdout",
     "output_type": "stream",
     "text": [
      "cse205 object oriented programming\n",
      "L14 social networks\n",
      "cse012 data mining\n"
     ]
    }
   ],
   "source": [
    "for key in classes:\n",
    "    print (key, classes[key])"
   ]
  },
  {
   "cell_type": "code",
   "execution_count": 61,
   "metadata": {
    "collapsed": false,
    "jupyter": {
     "outputs_hidden": false
    }
   },
   "outputs": [
    {
     "name": "stdout",
     "output_type": "stream",
     "text": [
      "graduate social networks\n"
     ]
    }
   ],
   "source": [
    "#change values in a dictionary\n",
    "classes['L14'] = 'graduate social networks'\n",
    "print (classes['L14'])"
   ]
  },
  {
   "cell_type": "code",
   "execution_count": 5,
   "metadata": {
    "collapsed": false,
    "jupyter": {
     "outputs_hidden": false
    }
   },
   "outputs": [
    {
     "name": "stdout",
     "output_type": "stream",
     "text": [
      "Issam Falih\n",
      "Christophe Dubois\n"
     ]
    }
   ],
   "source": [
    "# Complex Data structures\n",
    "# Dictionaries inside a dictionary!\n",
    "\n",
    "professors = {\n",
    "    \"prof1\": {\n",
    "        \"name\": \"Issam Falih\",\n",
    "        \"department\": \"Computer Science\",\n",
    "        \"research interests\": [ \"data mining\", \"machine learning\",]\n",
    "    },\n",
    "    \"prof2\": {\n",
    "        \"name\": \"Christophe Dubois\",\n",
    "        \"department\": \"Economics\",\n",
    "        \"interests\": [\"debt\", \"game theory\", \"parallel currency\",],\n",
    "    }\n",
    "}\n",
    "\n",
    "for prof in professors:\n",
    "    print (professors[prof][\"name\"])"
   ]
  },
  {
   "cell_type": "code",
   "execution_count": 6,
   "metadata": {
    "collapsed": false,
    "jupyter": {
     "outputs_hidden": false
    }
   },
   "outputs": [
    {
     "data": {
      "text/plain": [
       "'game theory'"
      ]
     },
     "execution_count": 6,
     "metadata": {},
     "output_type": "execute_result"
    }
   ],
   "source": [
    "professors['prof2']['interests'][1]"
   ]
  },
  {
   "cell_type": "markdown",
   "metadata": {},
   "source": [
    "Depending on the task that we want to perform, it makes a bid difference in efficiency what structure we use. When searching over a structure it is important to use a Set or a Dictionary structure since search is done in constant time in expectation (or O(logn) worst case). This makes a huge difference when dealing with large datasets."
   ]
  },
  {
   "cell_type": "code",
   "execution_count": 65,
   "metadata": {
    "collapsed": false,
    "jupyter": {
     "outputs_hidden": false
    }
   },
   "outputs": [
    {
     "name": "stdout",
     "output_type": "stream",
     "text": [
      "27.05953258704466\n"
     ]
    }
   ],
   "source": [
    "# The importance of using the right structure:\n",
    "import random\n",
    "L = [random.choice(range(1000000)) for i in range(1000)]\n",
    "import time\n",
    "t = time.clock()\n",
    "count = 0;\n",
    "for x in range(1000000):\n",
    "    if x in L:\n",
    "        count += 1\n",
    "print (time.clock() - t)"
   ]
  },
  {
   "cell_type": "code",
   "execution_count": 66,
   "metadata": {
    "collapsed": false,
    "jupyter": {
     "outputs_hidden": false
    }
   },
   "outputs": [
    {
     "name": "stdout",
     "output_type": "stream",
     "text": [
      "0.16005781903510297\n"
     ]
    }
   ],
   "source": [
    "S = set(L)\n",
    "t = time.clock()\n",
    "count = 0;\n",
    "for x in range(1000000):\n",
    "    if x in S:\n",
    "        count += 1\n",
    "print (time.clock() - t)"
   ]
  },
  {
   "cell_type": "code",
   "execution_count": 72,
   "metadata": {
    "collapsed": false,
    "jupyter": {
     "outputs_hidden": false
    },
    "scrolled": true
   },
   "outputs": [
    {
     "name": "stdout",
     "output_type": "stream",
     "text": [
      "{(1, 2), (6, 8), (5, 7), (1, 4), (3, 7), (2, 5)}\n",
      "{(1, 2): 0.2, (6, 8): 0.9, (3, 7): 0.1, (2, 5): 0.8, (5, 7): 0.4, (1, 4): 0.5}\n",
      "{1: {2: 0.2, 4: 0.5}, 2: {5: 0.8}, 3: {7: 0.1}, 5: {7: 0.4}, 6: {8: 0.9}}\n",
      "0.2\n"
     ]
    }
   ],
   "source": [
    "#What structure should we use for storing the edges of a graph with millions of edges?\n",
    "L = [[1,2],[1,4],[2,5],[3,7],[5,7],[6,8]] # etc...\n",
    "S = set([tuple(x) for x in L])\n",
    "print(S)\n",
    "\n",
    "#What if we have also a weight on the edges, and we want to get the weight?\n",
    "L = [[1,2,0.2],[1,4,0.5],[2,5,0.8],[3,7,0.1],[5,7,0.4],[6,8,0.9]] \n",
    "D = {}\n",
    "for x in L:\n",
    "    D[tuple(x[0:2])] = float(x[2])\n",
    "print(D)\n",
    "\n",
    "#What if we want to be able to get the neighbors of each node and the weight of the edge?\n",
    "D = {}\n",
    "for x in L:\n",
    "    v1,v2,w = x\n",
    "    if v1 in D:\n",
    "        D[v1][v2] = w\n",
    "    else:\n",
    "        D[v1] = {}\n",
    "        D[v1][v2] = w\n",
    "print(D)\n",
    "print(D[1][2])"
   ]
  },
  {
   "cell_type": "markdown",
   "metadata": {},
   "source": [
    "### Iterators and Generators"
   ]
  },
  {
   "cell_type": "markdown",
   "metadata": {},
   "source": [
    "We can loop over the elements of a list using **for**"
   ]
  },
  {
   "cell_type": "code",
   "execution_count": 11,
   "metadata": {
    "collapsed": false,
    "jupyter": {
     "outputs_hidden": false
    }
   },
   "outputs": [
    {
     "name": "stdout",
     "output_type": "stream",
     "text": [
      "1\n",
      "2\n",
      "3\n",
      "4\n"
     ]
    }
   ],
   "source": [
    "for i in [1,2,3,4]:\n",
    "    print (i)\n",
    "    "
   ]
  },
  {
   "cell_type": "code",
   "execution_count": 12,
   "metadata": {
    "collapsed": false,
    "jupyter": {
     "outputs_hidden": false
    }
   },
   "outputs": [
    {
     "name": "stdout",
     "output_type": "stream",
     "text": [
      "1\n",
      "2\n",
      "3\n",
      "4\n"
     ]
    }
   ],
   "source": [
    "# also:\n",
    "X = [1,2,3,4]\n",
    "for i in range(len(X)):\n",
    "    print(X[i])"
   ]
  },
  {
   "cell_type": "code",
   "execution_count": 74,
   "metadata": {
    "collapsed": false,
    "jupyter": {
     "outputs_hidden": false
    }
   },
   "outputs": [
    {
     "name": "stdout",
     "output_type": "stream",
     "text": [
      "3\n",
      "5\n",
      "7\n",
      "9\n"
     ]
    }
   ],
   "source": [
    "#iterating two lists in lockstep:\n",
    "Y = [2,3,4,5]\n",
    "for x,y in zip(X,Y):\n",
    "    print(x+y)"
   ]
  },
  {
   "cell_type": "markdown",
   "metadata": {},
   "source": [
    "When we use **for** for dictionaries it loops over the keys of the dictionary"
   ]
  },
  {
   "cell_type": "code",
   "execution_count": 13,
   "metadata": {
    "collapsed": false,
    "jupyter": {
     "outputs_hidden": false
    }
   },
   "outputs": [
    {
     "name": "stdout",
     "output_type": "stream",
     "text": [
      "Bob\n",
      "Alice\n"
     ]
    }
   ],
   "source": [
    "for k in {'Alice': 'Wonderland', 'Bob': 'Sfougkarakis'}:\n",
    "    print (k)"
   ]
  },
  {
   "cell_type": "markdown",
   "metadata": {},
   "source": [
    "When we use **for** for strings it loops over the letters of the string"
   ]
  },
  {
   "cell_type": "code",
   "execution_count": 75,
   "metadata": {
    "collapsed": false,
    "jupyter": {
     "outputs_hidden": false
    }
   },
   "outputs": [
    {
     "name": "stdout",
     "output_type": "stream",
     "text": [
      "p\n",
      "y\n",
      "t\n",
      "h\n",
      "o\n",
      "n\n",
      " \n",
      "i\n",
      "s\n",
      " \n",
      "m\n",
      "a\n",
      "g\n",
      "i\n",
      "c\n"
     ]
    }
   ],
   "source": [
    "for l in 'python is magic':\n",
    "    print (l)"
   ]
  },
  {
   "cell_type": "markdown",
   "metadata": {},
   "source": [
    "All these are **iterable** objects"
   ]
  },
  {
   "cell_type": "code",
   "execution_count": 14,
   "metadata": {
    "collapsed": false,
    "jupyter": {
     "outputs_hidden": false
    }
   },
   "outputs": [
    {
     "data": {
      "text/plain": [
       "['Bob', 'Alice']"
      ]
     },
     "execution_count": 14,
     "metadata": {},
     "output_type": "execute_result"
    }
   ],
   "source": [
    "list({'Alice': 'Wonderland', 'Bob': 'Sfougkarakis'})"
   ]
  },
  {
   "cell_type": "code",
   "execution_count": 15,
   "metadata": {
    "collapsed": false,
    "jupyter": {
     "outputs_hidden": false
    }
   },
   "outputs": [
    {
     "data": {
      "text/plain": [
       "['p', 'y', 't', 'h', 'o', 'n', ' ', 'i', 's', ' ', 'm', 'a', 'g', 'i', 'c']"
      ]
     },
     "execution_count": 15,
     "metadata": {},
     "output_type": "execute_result"
    }
   ],
   "source": [
    "list('python is magic')"
   ]
  },
  {
   "cell_type": "code",
   "execution_count": 76,
   "metadata": {
    "collapsed": false,
    "jupyter": {
     "outputs_hidden": false
    }
   },
   "outputs": [
    {
     "name": "stdout",
     "output_type": "stream",
     "text": [
      "p-a-n-a-y-i-o-t-i-s\n",
      "a-b-c\n"
     ]
    }
   ],
   "source": [
    "print ('-'.join('panayiotis'))\n",
    "print ('-'.join(['a','b','c']))"
   ]
  },
  {
   "cell_type": "markdown",
   "metadata": {},
   "source": [
    "Function **iter** takes as input an iterable object and returns an iterator"
   ]
  },
  {
   "cell_type": "markdown",
   "metadata": {},
   "source": [
    "Many functions take iterators as inputs"
   ]
  },
  {
   "cell_type": "code",
   "execution_count": 16,
   "metadata": {
    "collapsed": false,
    "jupyter": {
     "outputs_hidden": false
    }
   },
   "outputs": [
    {
     "name": "stdout",
     "output_type": "stream",
     "text": [
      "45\n",
      "45\n"
     ]
    }
   ],
   "source": [
    "a = [x for x in range(10)]\n",
    "print (sum(iter(a)))\n",
    "print (sum(a))"
   ]
  },
  {
   "cell_type": "markdown",
   "metadata": {},
   "source": [
    "**generators** are functions that produce sequences of results (and not a single value)"
   ]
  },
  {
   "cell_type": "code",
   "execution_count": 77,
   "metadata": {
    "collapsed": false,
    "jupyter": {
     "outputs_hidden": false
    }
   },
   "outputs": [],
   "source": [
    "def func(n):\n",
    "    for i in range(n):\n",
    "        yield i"
   ]
  },
  {
   "cell_type": "code",
   "execution_count": 78,
   "metadata": {
    "collapsed": false,
    "jupyter": {
     "outputs_hidden": false
    }
   },
   "outputs": [
    {
     "name": "stdout",
     "output_type": "stream",
     "text": [
      "<generator object func at 0x00000000013E3AF8>\n",
      "0\n",
      "1\n",
      "2\n"
     ]
    }
   ],
   "source": [
    "g = func(10)\n",
    "print (g)\n",
    "print (next(g))\n",
    "print (next(g))\n",
    "print (next(g))"
   ]
  },
  {
   "cell_type": "code",
   "execution_count": 89,
   "metadata": {
    "collapsed": false,
    "jupyter": {
     "outputs_hidden": false
    }
   },
   "outputs": [],
   "source": [
    "def demonstrate(n):\n",
    "    print ('begin execution of the function')\n",
    "    for i in range(n):\n",
    "        print ('before yield')\n",
    "        yield i*i\n",
    "        print ('after yield')"
   ]
  },
  {
   "cell_type": "code",
   "execution_count": 91,
   "metadata": {
    "collapsed": false,
    "jupyter": {
     "outputs_hidden": false
    },
    "scrolled": true
   },
   "outputs": [
    {
     "name": "stdout",
     "output_type": "stream",
     "text": [
      "begin execution of the function\n",
      "before yield\n",
      "0\n",
      "exited demo\n",
      "after yield\n",
      "before yield\n",
      "1\n",
      "exited demo\n"
     ]
    }
   ],
   "source": [
    "g = demonstrate(3)\n",
    "print (next(g))\n",
    "print('exited demo')\n",
    "print (next(g))\n",
    "print('exited demo')\n",
    "#print (next(g))\n",
    "#print (next(g))"
   ]
  },
  {
   "cell_type": "code",
   "execution_count": 17,
   "metadata": {
    "collapsed": false,
    "jupyter": {
     "outputs_hidden": false
    }
   },
   "outputs": [
    {
     "name": "stdout",
     "output_type": "stream",
     "text": [
      "<generator object <genexpr> at 0x0000000004DECF30>\n",
      "45\n",
      "[0, 1, 2, 3, 4, 5, 6, 7, 8, 9]\n",
      "45\n"
     ]
    }
   ],
   "source": [
    "g = (x for x in range(10))\n",
    "print (g)\n",
    "print (sum(g))\n",
    "y = [x for x in range(10)]\n",
    "print (y)\n",
    "print(sum(y))"
   ]
  },
  {
   "cell_type": "markdown",
   "metadata": {},
   "source": [
    "## File I/O"
   ]
  },
  {
   "cell_type": "code",
   "execution_count": 18,
   "metadata": {
    "collapsed": false,
    "jupyter": {
     "outputs_hidden": false
    }
   },
   "outputs": [],
   "source": [
    "# Writing to a file\n",
    "with open(\"example1.txt\", \"w\") as f:\n",
    "    f.write(\"Hello World! \\n\")\n",
    "    f.write(\"How are you? \\n\")\n",
    "    f.write(\"I'm fine.\")"
   ]
  },
  {
   "cell_type": "code",
   "execution_count": 19,
   "metadata": {
    "collapsed": false,
    "jupyter": {
     "outputs_hidden": false
    }
   },
   "outputs": [],
   "source": [
    "# Writing to a file\n",
    "f = open(\"example2.txt\", \"w\")\n",
    "f.write(\"Hello World! \\n\")\n",
    "f.write(\"How are you? \\n\")\n",
    "f.write(\"I'm fine.\")\n",
    "f.close()"
   ]
  },
  {
   "cell_type": "code",
   "execution_count": 20,
   "metadata": {
    "collapsed": false,
    "jupyter": {
     "outputs_hidden": false
    }
   },
   "outputs": [
    {
     "name": "stdout",
     "output_type": "stream",
     "text": [
      "['Hello', 'World!']\n",
      "['How', 'are', 'you?']\n",
      "[\"I'm\", 'fine.']\n"
     ]
    }
   ],
   "source": [
    "# Reading from a file\n",
    "with open(\"example1.txt\", \"r\") as f:\n",
    "    data = f.readlines()\n",
    "    for line in data:\n",
    "        words = line.split()\n",
    "        print (words)"
   ]
  },
  {
   "cell_type": "code",
   "execution_count": 21,
   "metadata": {
    "collapsed": false,
    "jupyter": {
     "outputs_hidden": false
    }
   },
   "outputs": [
    {
     "name": "stdout",
     "output_type": "stream",
     "text": [
      "There are 3 lines and 7 words in the example2.txt file.\n"
     ]
    }
   ],
   "source": [
    "# Count lines and words in a file\n",
    "lines = 0\n",
    "words = 0\n",
    "the_file = \"example2.txt\"\n",
    "\n",
    "f= open(the_file, 'r')\n",
    "for line in f:\n",
    "       lines += 1\n",
    "       words += len(line.split())\n",
    "print (\"There are %i lines and %i words in the %s file.\" % (lines, words, the_file))\n"
   ]
  },
  {
   "cell_type": "markdown",
   "metadata": {},
   "source": [
    "Reading and Writing to Standard Input/Output"
   ]
  },
  {
   "cell_type": "code",
   "execution_count": 22,
   "metadata": {
    "collapsed": true,
    "jupyter": {
     "outputs_hidden": true
    }
   },
   "outputs": [],
   "source": [
    "import sys\n",
    "\n",
    "for line in sys.stdin:\n",
    "    sys.stdout.write(line)"
   ]
  },
  {
   "cell_type": "markdown",
   "metadata": {},
   "source": [
    "## Functions"
   ]
  },
  {
   "cell_type": "code",
   "execution_count": 15,
   "metadata": {
    "collapsed": false,
    "jupyter": {
     "outputs_hidden": false
    }
   },
   "outputs": [
    {
     "name": "stdout",
     "output_type": "stream",
     "text": [
      "21\n"
     ]
    }
   ],
   "source": [
    "def linear(x):\n",
    "    a = 2\n",
    "    b = 1\n",
    "    return a*x+b\n",
    "\n",
    "print (linear(10))"
   ]
  },
  {
   "cell_type": "raw",
   "metadata": {
    "jupyter": {
     "outputs_hidden": false
    }
   },
   "source": [
    "def displayperson(name,age,univ = 'EFREI'):\n",
    "    print (\"My name is \"+ name +\", I am \"+age+\" years old and I study at \" + univ+ \".\")\n",
    "    return\n",
    "    \n",
    "displayperson(\"Bob\",\"20\")\n",
    "displayperson(\"Alice\",\"21\",'Paris Sorbonne')"
   ]
  },
  {
   "cell_type": "markdown",
   "metadata": {},
   "source": [
    "### Lambda functions"
   ]
  },
  {
   "cell_type": "markdown",
   "metadata": {},
   "source": [
    "Python supports the creation of **anonymous** functions (i.e. functions that are not bound to a name) at runtime, using a construct called \"lambda\"."
   ]
  },
  {
   "cell_type": "code",
   "execution_count": 16,
   "metadata": {
    "collapsed": false,
    "jupyter": {
     "outputs_hidden": false
    }
   },
   "outputs": [
    {
     "name": "stdout",
     "output_type": "stream",
     "text": [
      "64\n"
     ]
    }
   ],
   "source": [
    "def f (x): return x**2\n",
    "print (f(8))"
   ]
  },
  {
   "cell_type": "code",
   "execution_count": 17,
   "metadata": {
    "collapsed": false,
    "jupyter": {
     "outputs_hidden": false
    }
   },
   "outputs": [
    {
     "name": "stdout",
     "output_type": "stream",
     "text": [
      "64\n"
     ]
    }
   ],
   "source": [
    "g = lambda x: x**2\n",
    "print (g(8))"
   ]
  },
  {
   "cell_type": "markdown",
   "metadata": {},
   "source": [
    "The above pieces of code are equivalent to each other! Note that there is no ``return\" statement in the lambda function.  A lambda function does not need to be assigned to variable, but it can be used within the code wherever a function is expected."
   ]
  },
  {
   "cell_type": "code",
   "execution_count": 26,
   "metadata": {
    "collapsed": false,
    "jupyter": {
     "outputs_hidden": false
    }
   },
   "outputs": [
    {
     "name": "stdout",
     "output_type": "stream",
     "text": [
      "5\n"
     ]
    }
   ],
   "source": [
    "f = lambda x, y : x + y\n",
    "print (f(2,3))"
   ]
  },
  {
   "cell_type": "code",
   "execution_count": 27,
   "metadata": {
    "collapsed": false,
    "jupyter": {
     "outputs_hidden": false
    }
   },
   "outputs": [
    {
     "name": "stdout",
     "output_type": "stream",
     "text": [
      "<function multiply.<locals>.<lambda> at 0x0000000004E25840>\n",
      "20 60\n"
     ]
    }
   ],
   "source": [
    "def multiply (n): return lambda x: x*n\n",
    " \n",
    "multiply_by_2 = multiply(2)\n",
    "g = multiply(6)\n",
    "print (multiply_by_2)\n",
    "print (multiply_by_2(10), g(10))"
   ]
  },
  {
   "cell_type": "code",
   "execution_count": 28,
   "metadata": {
    "collapsed": false,
    "jupyter": {
     "outputs_hidden": false
    }
   },
   "outputs": [
    {
     "data": {
      "text/plain": [
       "90"
      ]
     },
     "execution_count": 28,
     "metadata": {},
     "output_type": "execute_result"
    }
   ],
   "source": [
    "multiply(3)(30)"
   ]
  },
  {
   "cell_type": "markdown",
   "metadata": {},
   "source": [
    "### The map() function"
   ]
  },
  {
   "cell_type": "markdown",
   "metadata": {},
   "source": [
    "The advantage of the lambda operator can be seen when it is used in combination with the map() function.\n",
    "map() is a function with two arguments: \n",
    "\n",
    "**r = map(func,s)**\n",
    "\n",
    "**func** is a function and **s** is a sequence (e.g., a list). **map** returns an iterator where we have applied function **func** to all the elements of **s**. You need to convert this into a list if you want to use it.\n",
    "\n",
    "map() and lambda give functionality very similar to that of list comprehension"
   ]
  },
  {
   "cell_type": "code",
   "execution_count": 29,
   "metadata": {
    "collapsed": false,
    "jupyter": {
     "outputs_hidden": false
    }
   },
   "outputs": [
    {
     "name": "stdout",
     "output_type": "stream",
     "text": [
      "<map object at 0x0000000004E188D0>\n",
      "[89.0, 178.0, 267.0, 356.0]\n"
     ]
    }
   ],
   "source": [
    "def dollar2euro(x):\n",
    "    return 0.89*x\n",
    "def euro2dollar(x):\n",
    "    return 1.12*x\n",
    "\n",
    "amounts= (100, 200, 300, 400)\n",
    "dollars = map(dollar2euro, amounts)\n",
    "print (dollars)\n",
    "print (list(dollars))"
   ]
  },
  {
   "cell_type": "code",
   "execution_count": 30,
   "metadata": {
    "collapsed": false,
    "jupyter": {
     "outputs_hidden": false
    }
   },
   "outputs": [
    {
     "name": "stdout",
     "output_type": "stream",
     "text": [
      "[112.00000000000001, 224.00000000000003, 336.00000000000006, 448.00000000000006]\n"
     ]
    }
   ],
   "source": [
    "amounts= (100, 200, 300, 400)\n",
    "euros = map(euro2dollar, amounts)\n",
    "print (list(euros))"
   ]
  },
  {
   "cell_type": "code",
   "execution_count": 31,
   "metadata": {
    "collapsed": false,
    "jupyter": {
     "outputs_hidden": false
    }
   },
   "outputs": [
    {
     "data": {
      "text/plain": [
       "[89.0, 178.0, 267.0, 356.0]"
      ]
     },
     "execution_count": 31,
     "metadata": {},
     "output_type": "execute_result"
    }
   ],
   "source": [
    "list(map(lambda x: 0.89*x, amounts))"
   ]
  },
  {
   "cell_type": "markdown",
   "metadata": {},
   "source": [
    "**map** can also be applied to more than one lists as long as they are of the same size and type"
   ]
  },
  {
   "cell_type": "code",
   "execution_count": 32,
   "metadata": {
    "collapsed": false,
    "jupyter": {
     "outputs_hidden": false
    }
   },
   "outputs": [
    {
     "name": "stdout",
     "output_type": "stream",
     "text": [
      "[0, 0, 0, 0, 0]\n",
      "[12, 24, 36, 48, 60]\n"
     ]
    }
   ],
   "source": [
    "a = [1,2,3,4,5]\n",
    "b = [-1,-2,-3, -4, -5] \n",
    "c = [10, 20 , 30, 40, 50]\n",
    "\n",
    "l1 = list(map(lambda x,y: x+y, a,b))\n",
    "print (l1)\n",
    "l2 = list(map (lambda x,y,z: x-y+z, a,b,c))\n",
    "print (l2)"
   ]
  },
  {
   "cell_type": "code",
   "execution_count": 33,
   "metadata": {
    "collapsed": false,
    "jupyter": {
     "outputs_hidden": false
    }
   },
   "outputs": [
    {
     "name": "stdout",
     "output_type": "stream",
     "text": [
      "['THE', 'the', 3]\n",
      "['QUICK', 'quick', 5]\n",
      "['BROWN', 'brown', 5]\n",
      "['FOX', 'fox', 3]\n",
      "['JUMPS', 'jumps', 5]\n",
      "['OVER', 'over', 4]\n",
      "['THE', 'the', 3]\n",
      "['LAZY', 'lazy', 4]\n",
      "['DOG', 'dog', 3]\n"
     ]
    }
   ],
   "source": [
    "words = 'The quick brown fox jumps over the lazy dog'.split()\n",
    "uwords = list(map(lambda w: [w.upper(), w.lower(), len(w)], words))\n",
    "for t in uwords:\n",
    "    print (t)"
   ]
  },
  {
   "cell_type": "markdown",
   "metadata": {},
   "source": [
    "### The filter() function"
   ]
  },
  {
   "cell_type": "markdown",
   "metadata": {},
   "source": [
    "The function **filter(function, list)**  filters out all the elements of a **list**, for which the function **function** returns True. Returns an iterator"
   ]
  },
  {
   "cell_type": "code",
   "execution_count": 34,
   "metadata": {
    "collapsed": false,
    "jupyter": {
     "outputs_hidden": false
    }
   },
   "outputs": [
    {
     "name": "stdout",
     "output_type": "stream",
     "text": [
      "[0, 1, 2, 3, 4, 5, 6, 7, 8, 9, 10, 11, 12, 13, 14, 15, 16, 17, 18, 19, 20, 21, 22, 23, 24, 25, 26, 27, 28, 29, 30, 31, 32, 33, 34, 35, 36, 37, 38, 39, 40, 41, 42, 43, 44, 45, 46, 47, 48, 49, 50, 51, 52, 53, 54, 55, 56, 57, 58, 59, 60, 61, 62, 63, 64, 65, 66, 67, 68, 69, 70, 71, 72, 73, 74, 75, 76, 77, 78, 79, 80, 81, 82, 83, 84, 85, 86, 87, 88, 89, 90, 91, 92, 93, 94, 95, 96, 97, 98, 99]\n"
     ]
    }
   ],
   "source": [
    "nums = [i for i in range(100)]\n",
    "print (nums)"
   ]
  },
  {
   "cell_type": "code",
   "execution_count": 35,
   "metadata": {
    "collapsed": false,
    "jupyter": {
     "outputs_hidden": false
    }
   },
   "outputs": [
    {
     "name": "stdout",
     "output_type": "stream",
     "text": [
      "[2, 4, 6, 8, 10, 12, 14, 16, 18, 20, 22, 24, 26, 28, 30, 32, 34, 36, 38, 40, 42, 44, 46, 48, 50, 52, 54, 56, 58, 60, 62, 64, 66, 68, 70, 72, 74, 76, 78, 80, 82, 84, 86, 88, 90, 92, 94, 96, 98]\n"
     ]
    }
   ],
   "source": [
    "even = list(filter(lambda x: x%2==0 and x!=0, nums))\n",
    "print (even)"
   ]
  },
  {
   "cell_type": "markdown",
   "metadata": {},
   "source": [
    "## Command line arguments\n",
    "\n",
    "To read the command line arguments use the sys.argv list.\n",
    "The first element of this list is the program name. More sophisiticated processing can be done using the getopt.getopt method"
   ]
  },
  {
   "cell_type": "code",
   "execution_count": 83,
   "metadata": {
    "collapsed": false,
    "jupyter": {
     "outputs_hidden": false
    }
   },
   "outputs": [
    {
     "name": "stdout",
     "output_type": "stream",
     "text": [
      "Number of arguments: 5 arguments.\n",
      "Argument List: ['C:\\\\Anaconda3\\\\lib\\\\site-packages\\\\IPython\\\\kernel\\\\__main__.py', '-f', 'C:\\\\Users\\\\Panayiotis\\\\.ipython\\\\profile_default\\\\security\\\\kernel-a3b88187-1a4c-44b6-9924-aa3dfaec2c63.json', '--profile-dir', 'C:\\\\Users\\\\Panayiotis\\\\.ipython\\\\profile_default']\n"
     ]
    }
   ],
   "source": [
    "import sys\n",
    "\n",
    "print ('Number of arguments:', len(sys.argv), 'arguments.')\n",
    "print ('Argument List:', str(sys.argv))"
   ]
  },
  {
   "cell_type": "markdown",
   "metadata": {},
   "source": [
    "## Libraries"
   ]
  },
  {
   "cell_type": "markdown",
   "metadata": {},
   "source": [
    "Python is a high-level open-source language.  But the _Python world_ is inhabited by many packages or libraries that provide useful things like array operations, plotting functions, and much more. We can (and we should) import libraries of functions to expand the capabilities of Python in our programs.  \n",
    "\n",
    "There are many python libraries for data mining, and we will use many of these libraries in this course.\n"
   ]
  },
  {
   "cell_type": "markdown",
   "metadata": {},
   "source": [
    "###Example: The random library"
   ]
  },
  {
   "cell_type": "code",
   "execution_count": 85,
   "metadata": {
    "collapsed": false,
    "jupyter": {
     "outputs_hidden": false
    }
   },
   "outputs": [
    {
     "name": "stdout",
     "output_type": "stream",
     "text": [
      "1\n",
      "mining\n"
     ]
    }
   ],
   "source": [
    "import random\n",
    "print (random.choice(range(10))) # generates a random number in the range [0,9]\n",
    "myList = [2, 109, False, 10, \"data\", 482, \"mining\"]\n",
    "print(random.choice(myList))"
   ]
  },
  {
   "cell_type": "code",
   "execution_count": 86,
   "metadata": {
    "collapsed": false,
    "jupyter": {
     "outputs_hidden": false
    },
    "scrolled": true
   },
   "outputs": [
    {
     "name": "stdout",
     "output_type": "stream",
     "text": [
      "[0, 1, 2, 3, 4, 5, 6, 7, 8, 9]\n",
      "[4, 7, 5, 6, 0, 3, 9, 8, 2, 1]\n"
     ]
    }
   ],
   "source": [
    "from random import shuffle # imports a specific function of random that can be used without the random. prefix\n",
    "x = [i for i in range(10)]\n",
    "print (x)\n",
    "shuffle(x)\n",
    "print (x)"
   ]
  },
  {
   "cell_type": "code",
   "execution_count": 87,
   "metadata": {
    "collapsed": false,
    "jupyter": {
     "outputs_hidden": false
    }
   },
   "outputs": [
    {
     "name": "stdout",
     "output_type": "stream",
     "text": [
      "[9, 20, 4]\n",
      "0.8665630576491753\n",
      "-0.6164878646949343\n",
      "-0.9080984966255757\n"
     ]
    }
   ],
   "source": [
    "# some more methods of random\n",
    "print(random.sample([1,3,4,7,8,9,20],3)) #samples 3 elements uniformly at random\n",
    "print(random.random()) # a random number in [0,1)\n",
    "print(random.uniform(-1,1)) #a random number in [-1,1]\n",
    "print(random.gauss(0,1)) #sample from a gaussian distribution with mean 0 and std 1"
   ]
  }
 ],
 "metadata": {
  "kernelspec": {
   "display_name": "Python 3",
   "language": "python",
   "name": "python3"
  },
  "language_info": {
   "codemirror_mode": {
    "name": "ipython",
    "version": 3
   },
   "file_extension": ".py",
   "mimetype": "text/x-python",
   "name": "python",
   "nbconvert_exporter": "python",
   "pygments_lexer": "ipython3",
   "version": "3.7.4"
  }
 },
 "nbformat": 4,
 "nbformat_minor": 4
}
