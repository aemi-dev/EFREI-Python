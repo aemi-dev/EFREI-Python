{
  "cells": [
    {
      "cell_type": "markdown",
      "metadata": {
        "id": "Hu-DQLCysvHt"
      },
      "source": [
        "# \"Chapitre 5 : Les fonctions\"\n",
        "> \"Python : Chapitre 5 - Lesson 1\"\n",
        "\n",
        "- toc: false \n",
        "- badges: true\n",
        "- hide_binder_badge: true\n",
        "- hide_github_badge: true\n",
        "- comments: false\n",
        "- layout: post\n",
        "- author: AXI Academy\n",
        "- permalink: /python-intro-gen/chapter/5/lesson/1/"
      ]
    },
    {
      "cell_type": "markdown",
      "metadata": {},
      "source": [
        "## 1. Introduction aux fonctions (`def`)\n",
        "\n",
        "\n",
        "Une fonction est une séquence d'instructions qui effectue une tâche. Nous utilisons des fonctions pour éliminer la duplication de code : au lieu d'écrire toutes les instructions à chaque endroit de notre code où nous voulons effectuer la même tâche, nous les définissons en un seul endroit et nous y référons par le nom de la fonction. Si nous voulons changer la façon dont cette tâche est effectuée, nous n'aurons plus besoin que de changer le code à un seul endroit.\n",
        "\n",
        "Voici une définition d'une fonction simple qui ne prend aucun paramètre et ne renvoie aucune valeur :"
      ]
    },
    {
      "cell_type": "code",
      "execution_count": null,
      "metadata": {},
      "outputs": [],
      "source": [
        "def print_a_message():\n",
        "    print(\"Hello, world!\")"
      ]
    },
    {
      "cell_type": "markdown",
      "metadata": {},
      "source": [
        "Nous utilisons l'instruction `def` pour indiquer le début d'une définition de fonction. La partie suivante de la définition est le nom de la fonction, dans ce cas : `print_a_message`, suivi de parenthèses (les définitions de tous les paramètres pris par la fonction seront placées entre elles) et de deux points. Par la suite, tout ce qui est indenté d'un niveau est le corps de la fonction.\n",
        "\n",
        "Les fonctions font toutes sortes de choses, vous devez donc toujours choisir un nom de fonction qui explique aussi simplement que possible ce que fait la fonction. Ce sera généralement un verbe ou une phrase contenant un verbe. Si vous modifiez tellement une fonction que le nom ne reflète plus exactement ce qu'elle fait, vous devriez envisager de mettre à jour le nom, bien que cela puisse parfois être gênant.\n",
        "\n",
        "Cette fonction particulière fait toujours exactement la même chose : elle affiche le message \"Hello, world!\".\n",
        "\n",
        "Définir une fonction ne la fait pas s'exécuter, lorsque le flux de contrôle atteint la définition de la fonction et l'exécute, Python apprend simplement la fonction et ce qu'elle fera lorsque nous l'exécuterons. Pour exécuter une fonction, nous devons l'appeler. Pour appeler la fonction, nous utilisons son nom suivi de parenthèses (avec tous les paramètres que la fonction prend entre eux):"
      ]
    },
    {
      "cell_type": "code",
      "execution_count": null,
      "metadata": {},
      "outputs": [],
      "source": [
        "print_a_message()"
      ]
    },
    {
      "cell_type": "markdown",
      "metadata": {},
      "source": [
        "Nous avons déjà utilisé de nombreuses fonctions intégrées de Python, telles que `print` et `len` ​​:\n"
      ]
    },
    {
      "cell_type": "code",
      "execution_count": null,
      "metadata": {},
      "outputs": [],
      "source": [
        "print(\"Hello\")\n",
        "len([1, 2, 3])"
      ]
    },
    {
      "cell_type": "markdown",
      "metadata": {},
      "source": [
        "De nombreux objets en Python sont appelables (`callable`), ce qui signifie que vous pouvez les appeler comme des fonctions : un objet `callable` a une méthode spéciale définie qui est exécutée lorsque l'objet est appelé. Par exemple, des types tels que `str`, `int` ou `list` peuvent être utilisés comme fonctions, pour créer de nouveaux objets de ce type (parfois en convertissant un objet existant) :\n"
      ]
    },
    {
      "cell_type": "code",
      "execution_count": null,
      "metadata": {},
      "outputs": [],
      "source": [
        "num_str = str(3)\n",
        "num = int(\"3\")\n",
        "\n",
        "people = list() # make a new (empty) list\n",
        "people = list((1, 2, 3)) # convert a tuple to a new list"
      ]
    },
    {
      "cell_type": "markdown",
      "metadata": {},
      "source": [
        "Les fonctions sont des objets en Python, nous pouvons les traiter comme n'importe quel autre objet : nous pouvons affecter une fonction comme valeur d'une variable. Pour faire référence à une fonction sans l'appeler, nous utilisons simplement le nom de la fonction sans parenthèses :"
      ]
    },
    {
      "cell_type": "code",
      "execution_count": null,
      "metadata": {},
      "outputs": [],
      "source": [
        "my_function = print_a_message\n",
        "\n",
        "# later we can call the function using the variable name\n",
        "my_function()"
      ]
    },
    {
      "cell_type": "markdown",
      "metadata": {},
      "source": [
        "La définition d'une fonction ne provoque pas son exécution, nous pouvons utiliser un objet à l'intérieur d'une fonction même s'il n'a pas encore été définie. Tant qu'il est défini au moment où nous exécutons la fonction. Par exemple, si nous définissons plusieurs fonctions qui s'appellent toutes, l'ordre dans lequel nous les définissons n'a pas d'importance tant qu'elles sont toutes définies avant de commencer à les utiliser :\n",
        "\n"
      ]
    },
    {
      "cell_type": "code",
      "execution_count": null,
      "metadata": {},
      "outputs": [],
      "source": [
        "def my_function():\n",
        "    my_other_function()\n",
        "\n",
        "def my_other_function():\n",
        "    print(\"Hello!\")\n",
        "\n",
        "# this is fine, because my_other_function is now defined\n",
        "my_function()"
      ]
    },
    {
      "cell_type": "markdown",
      "metadata": {},
      "source": [
        "Si nous devions déplacer cet appel de fonction, nous obtiendrions une erreur :"
      ]
    },
    {
      "cell_type": "code",
      "execution_count": null,
      "metadata": {},
      "outputs": [],
      "source": [
        "def my_function():\n",
        "    my_other_function()\n",
        "\n",
        "# this is not fine, because my_other_function is not defined yet!\n",
        "my_function()\n",
        "\n",
        "def my_other_function():\n",
        "    print(\"Hello!\")"
      ]
    },
    {
      "cell_type": "markdown",
      "metadata": {},
      "source": [
        "## 2. Les paramètres d'entrée\n",
        "\n",
        "Il est très rare que la tâche que nous voulons effectuer avec une fonction soit toujours exactement la même. Il y a généralement des différences mineures par rapport à ce que nous devons faire dans différentes circonstances. Nous ne voulons pas écrire une fonction légèrement différente pour chacun de ces cas légèrement différents, cela irait à l'encontre du principe : éviter les répétitions de code. Au lieu de cela, nous voulons transmettre des informations à la fonction et les utiliser à l'intérieur de la fonction pour adapter le comportement de la fonction à nos besoins exacts. Nous exprimons cette information sous la forme d'une série de paramètres d'entrée.\n",
        "\n",
        "Par exemple, nous pouvons rendre la fonction que nous avons définie ci-dessus plus utile si nous rendons le message personnalisable :"
      ]
    },
    {
      "cell_type": "code",
      "execution_count": null,
      "metadata": {},
      "outputs": [],
      "source": [
        "def print_a_message(message):\n",
        "    print(message)"
      ]
    },
    {
      "cell_type": "markdown",
      "metadata": {},
      "source": [
        "Nous pouvons aussi passer deux nombres et les additionner. Lorsque nous appelons cette fonction, nous devons passer deux paramètres, ou nous obtiendrons une erreur :"
      ]
    },
    {
      "cell_type": "code",
      "execution_count": null,
      "metadata": {},
      "outputs": [],
      "source": [
        "\n",
        "def print_sum(a, b):\n",
        "    print(a + b)\n",
        "\n",
        "print_sum() # this won't work\n",
        "\n",
        "print_sum(2, 3) # this is correct"
      ]
    },
    {
      "cell_type": "markdown",
      "metadata": {},
      "source": [
        "Dans l'exemple ci-dessus, nous passons 2 et 3 comme paramètres à la fonction lorsque nous l'appelons. Cela signifie que lors de l'exécution de la fonction, la variable `a` recevra la valeur 2 et la variable `b` la valeur 3. Vous pourrez alors vous référer à ces valeurs en utilisant les noms de variables `a` et `b` à l'intérieur de la fonction.\n",
        "\n",
        "Dans les langages à typage statique, nous devons déclarer les types de paramètres lorsque nous définissons la fonction, et nous ne pouvons utiliser des variables de ces types que lorsque nous appelons la fonction. Si nous voulons effectuer une tâche similaire avec des variables de types différents, nous devons définir une fonction distincte qui accepte ces types.\n",
        "\n",
        "En Python, les paramètres n'ont pas de types déclarés. Nous pouvons transmettre n'importe quel type de variable à la fonction `print_message` ci-dessus, pas seulement une `string`. Nous pouvons utiliser la fonction `print_sum` pour ajouter deux éléments qui peuvent être ajoutés : deux entiers, deux flottants, un entier et un flottant, ou même deux chaînes. Nous pouvons également passer un entier et une chaîne, mais bien que ceux-ci soient autorisés en tant que paramètres, ils ne peuvent pas être additionnés, nous obtiendrons donc une erreur lorsque nous essaierons de les ajouter à l'intérieur de la fonction.\n",
        "\n",
        "L'avantage de ceci est que nous n'avons pas à écrire beaucoup de fonctions `print_sum` différentes, une pour chaque paire de types différente, alors qu'elles seraient toutes identiques autrement. L'inconvénient est que puisque Python ne vérifie pas les types de paramètres par rapport à la définition de la fonction lorsqu'une fonction est appelée, nous pouvons ne pas remarquer immédiatement si le mauvais type de paramètre est transmis - si, par exemple, une autre personne interagit avec le code que nous avons écrit utilise des types de paramètres que nous n'avions pas anticipés, ou si nous obtenons accidentellement les paramètres dans le désordre.\n",
        "\n",
        "C'est pourquoi il est important pour nous de tester notre code à fond (ce que nous verrons dans un chapitre ultérieur). Si nous avons l'intention d'écrire du code robuste, surtout s'il doit également être utilisé par d'autres personnes, c'est aussi souvent une bonne idée de vérifier les paramètres de la fonction au début de la fonction et de donner un retour à l'utilisateur (en levant des exceptions) si le sont incorrects."
      ]
    },
    {
      "cell_type": "markdown",
      "metadata": {},
      "source": [
        "## Exercice 2\n",
        "\n",
        " - 1) Créez une fonction appelée `hypotenuse`, qui prend deux nombres comme paramètres et imprime la racine carrée de la somme de leurs carrés.\n",
        " - 2) Appelez cette fonction avec deux flottants.\n",
        " - 3) Appelez cette fonction avec deux entiers.\n",
        " - 4) Appelez cette fonction avec un entier et un flottant."
      ]
    },
    {
      "cell_type": "markdown",
      "metadata": {},
      "source": [
        "## 3. Les valeurs de retour (`return`)\n",
        "\n",
        "Les exemples de fonctions que nous avons vus ci-dessus ne renvoient aucune valeur, ils affichent simplement un message. Nous voulons souvent utiliser une fonction pour calculer une sorte de valeur, puis nous la renvoyer, afin que nous puissions la stocker dans une variable et l'utiliser plus tard. La sortie renvoyée par une fonction est appelée valeur de retour. Nous pouvons réécrire la fonction `print_sum` pour renvoyer le résultat de son addition au lieu de l'afficher :"
      ]
    },
    {
      "cell_type": "code",
      "execution_count": null,
      "metadata": {},
      "outputs": [],
      "source": [
        "def add(a, b):\n",
        "    return a + b"
      ]
    },
    {
      "cell_type": "markdown",
      "metadata": {},
      "source": [
        "Nous utilisons le mot-clé `return` pour définir une valeur de retour. Pour accéder à cette valeur lorsque nous appelons la fonction, nous devons affecter le résultat de la fonction à une variable :"
      ]
    },
    {
      "cell_type": "code",
      "execution_count": null,
      "metadata": {},
      "outputs": [],
      "source": [
        "c = add(23, 13)"
      ]
    },
    {
      "cell_type": "markdown",
      "metadata": {},
      "source": [
        "Ici, la valeur de retour de la fonction sera affectée à `c` lorsque la fonction est exécutée.\n",
        "\n",
        "Une fonction ne peut avoir qu'une seule valeur de retour, mais cette valeur peut être une liste ou un tuple, donc en pratique, vous pouvez retourner autant de valeurs différentes d'une fonction que vous le souhaitez. Il n'est généralement logique de renvoyer plusieurs valeurs que si elles sont liées les unes aux autres d'une manière ou d'une autre. Si vous placez plusieurs valeurs après l'instruction `return`, séparées par des virgules, elles seront automatiquement converties en un `tuple`. Inversement, vous pouvez affecter un `tuple` à plusieurs variables séparées par des virgules en même temps, vous pouvez donc décompresser un tuple renvoyé par une fonction en plusieurs variables"
      ]
    },
    {
      "cell_type": "code",
      "execution_count": null,
      "metadata": {},
      "outputs": [],
      "source": [
        "def divide(dividend, divisor):\n",
        "    quotient = dividend // divisor\n",
        "    remainder = dividend % divisor\n",
        "    return quotient, remainder\n",
        "\n",
        "# you can do this\n",
        "q, r = divide(35, 4)\n",
        "\n",
        "# but you can also do this\n",
        "result = divide(67, 9)\n",
        "q1 = result[0]\n",
        "q2 = result[1]\n",
        "\n",
        "# by the way, you can also do this\n",
        "a, b = (1, 2)\n",
        "# or this\n",
        "c, d = [5, 6]"
      ]
    },
    {
      "cell_type": "markdown",
      "metadata": {},
      "source": [
        "Que se passe-t-il si vous essayez d'affecter l'un de nos premiers exemples, qui n'ont pas de valeur de retour, à une variable ?"
      ]
    },
    {
      "cell_type": "code",
      "execution_count": null,
      "metadata": {},
      "outputs": [],
      "source": [
        "mystery_output = print_a_message(\"Boo!\")\n",
        "print(mystery_output)"
      ]
    },
    {
      "cell_type": "markdown",
      "metadata": {},
      "source": [
        "Toutes les fonctions renvoient en fait quelque chose, même si nous ne définissons pas de valeur de retour : la valeur de retour par défaut est `None`, ce qui correspond à la valeur de notre sortie mystère.\n",
        "\n",
        "Lorsqu'une instruction `return` est atteinte, le flux de contrôle quitte immédiatement la fonction : toute autre instruction dans le corps de la fonction sera ignorée. Nous pouvons parfois utiliser cela à notre avantage pour réduire le nombre d'instructions conditionnelles que nous devons utiliser dans une fonction :"
      ]
    },
    {
      "cell_type": "code",
      "execution_count": null,
      "metadata": {},
      "outputs": [],
      "source": [
        "def divide(dividend, divisor):\n",
        "    if not divisor:\n",
        "        return None, None # instead of dividing by zero\n",
        "\n",
        "    quotient = dividend // divisor\n",
        "    remainder = dividend % divisor\n",
        "    return quotient, remainder"
      ]
    },
    {
      "cell_type": "markdown",
      "metadata": {},
      "source": [
        "Si la clause `if` est exécutée, le premier retour entraînera la sortie de la fonction. Donc tout ce qui vient après la clause `if` n'a pas besoin d'être à l'intérieur d'un `else`. Les instructions restantes peuvent simplement être dans le corps principal de la fonction, car elles ne peuvent être atteintes que si la clause if n'est pas exécutée.\n",
        "\n",
        "Cette technique peut être utile chaque fois que nous voulons vérifier les paramètres au début d'une fonction - cela signifie que nous n'avons pas à indenter la partie principale de la fonction à l'intérieur d'un bloc `else`. Parfois, il est plus approprié de lever une exception au lieu de renvoyer une valeur comme `None` s'il y a un problème avec l'un des paramètres :"
      ]
    },
    {
      "cell_type": "code",
      "execution_count": null,
      "metadata": {},
      "outputs": [],
      "source": [
        "def divide(dividend, divisor):\n",
        "    if not divisor:\n",
        "        raise ValueError(\"The divisor cannot be zero!\")\n",
        "\n",
        "    quotient = dividend // divisor\n",
        "    remainder = dividend % divisor\n",
        "    return quotient, remainder"
      ]
    },
    {
      "cell_type": "markdown",
      "metadata": {},
      "source": [
        "Le fait d'avoir plusieurs points de sortie dispersés dans votre fonction peut rendre votre code difficile à lire, la plupart des gens s'attendent à un seul retour juste à la fin d'une fonction. Vous devez utiliser cette technique avec parcimonie."
      ]
    },
    {
      "cell_type": "markdown",
      "metadata": {},
      "source": [
        "## Exercice 3\n",
        "\n",
        " - 1) Réécrivez la fonction `hypotenuse` de l'exercice 2 afin qu'elle renvoie une valeur au lieu de l'àfficher. Ajoutez la gestion des `exceptions` afin que la fonction renvoie `None` si elle est appelée avec des paramètres du mauvais type.\n",
        " - 2) Appelez la fonction avec deux nombres et afficher le résultat.\n",
        " - 3) Appelez la fonction avec deux `string` et afficher le résultat.\n",
        " - 4) Appelez la fonction avec un nombre et une `string` et afficher le résultat."
      ]
    },
    {
      "cell_type": "markdown",
      "metadata": {},
      "source": [
        "## 4. La pile (stack)\n",
        "\n",
        "Python stocke des informations sur les fonctions qui ont été appelées dans une pile d'appels. Chaque fois qu'une fonction est appelée, un nouveau cadre de pile est ajouté à la pile, tous les paramètres de la fonction y sont ajoutés, et au fur et à mesure que le corps de la fonction est exécuté, des variables locales y seront créées. Lorsque l'exécution de la fonction est terminée, son cadre de pile est ignoré et le flux de contrôle revient à l'endroit où vous étiez avant d'appeler la fonction, au niveau précédent de la pile.\n",
        "\n",
        "Si vous vous souvenez de la section sur la portée des variables du début du cours, cela explique un peu plus sur la façon dont les noms de variables sont résolus. Lorsque vous utilisez un identifiant, Python le recherchera d'abord au niveau actuel de la pile, et s'il ne le trouve pas, il vérifiera le niveau précédent, et ainsi de suite, jusqu'à ce que la variable soit trouvée ou non. Si la variable n'est pas trouvée et vous obtenez une erreur. C'est pourquoi une variable locale aura toujours la priorité sur une variable globale de même nom.\n",
        "\n",
        "Python recherche également dans la pile chaque fois qu'il gère une exception : il vérifie d'abord si l'exception peut être gérée dans la fonction actuelle, et s'il ne le peut pas, il termine la fonction et essaie la suivante, jusqu'à ce que l'exception soit gérée à un certain niveau ou le programme lui-même doit se terminer. La stacktrace que vous voyez lorsqu'une exception est affiché montre le chemin emprunté par Python dans la pile."
      ]
    },
    {
      "cell_type": "markdown",
      "metadata": {},
      "source": [
        "## 5. La recursion\n",
        "\n",
        "Nous pouvons faire un appel de fonction elle-même. C'est ce qu'on appelle la récursivité. Un exemple courant est une fonction qui calcule des nombres dans la séquence de Fibonacci (0, 1, 1, 2, 3, 5, 8, 13) : le zéro-ième nombre est 0, le premier nombre est 1, et chaque nombre suivant est la somme des deux nombres précédents :"
      ]
    },
    {
      "cell_type": "code",
      "execution_count": null,
      "metadata": {},
      "outputs": [],
      "source": [
        "def fibonacci(n):\n",
        "    if n == 0:\n",
        "        return 0\n",
        "\n",
        "    if n == 1:\n",
        "        return 1\n",
        "\n",
        "    return fibonacci(n - 1) + fibonacci(n - 2)"
      ]
    },
    {
      "cell_type": "markdown",
      "metadata": {},
      "source": [
        "Chaque fois que nous écrivons une fonction récursive, nous devons inclure une sorte de condition qui lui permettra d'arrêter la récursivité : un cas final dans lequel la fonction ne s'appelle pas elle-même. Dans cet exemple, cela se produit au début de la séquence : les deux premiers nombres ne sont pas calculés à partir des nombres précédents : ce sont des constantes.\n",
        "\n",
        "Que se passerait-il si nous omettions cette condition de notre fonction ? Lorsque nous arrivions à `n = 2`, nous continuions à appeler la fonction, en essayant de calculer `fibonacci(0), fibonacci(-1)` et ainsi de suite. En théorie, la fonction finirait par se répéter indéfiniment et ne se terminerait jamais, mais en pratique, le programme plantera avec une `RuntimeError` et un message indiquant que nous avons dépassé la profondeur de récursivité maximale. C'est parce que la pile de Python a une taille finie, si nous continuons à placer des instances de la fonction sur la pile, nous finirons par la remplir et provoquer un débordement de la pile. Python se protège des débordements de pile en fixant une limite au nombre de fois qu'une fonction est autorisée à se répéter.\n",
        "\n",
        "Les fonctions récursives peuvent aussi être écrit avec des boucles :"
      ]
    },
    {
      "cell_type": "code",
      "execution_count": null,
      "metadata": {},
      "outputs": [],
      "source": [
        "def fibonacci(n):\n",
        "    current, next = 0, 1\n",
        "\n",
        "    for i in range(n):\n",
        "        current, next = next, current + next\n",
        "\n",
        "    return current"
      ]
    },
    {
      "cell_type": "markdown",
      "metadata": {},
      "source": [
        "## Exercice 4\n",
        "\n",
        " Écrivez une fonction récursive qui calcule la factorielle d'un nombre donné (exemple : `4! = 1 × 2 × 3 × 4 = 24`). Utilisez la gestion des exceptions pour lever une exception appropriée si le paramètre d'entrée n'est pas un entier positif, mais autorisez l'utilisateur à entrer des nombres flottants tant qu'il s'agit de nombres entiers."
      ]
    },
    {
      "cell_type": "markdown",
      "metadata": {},
      "source": [
        "## 6. Paramètres par défaut\n",
        "\n",
        "La combinaison du nom de la fonction et du nombre de paramètres qu'elle prend s'appelle la signature de la fonction. Dans les langages à typage statique, il peut y avoir plusieurs fonctions avec le même nom dans la même portée tant qu'elles ont des nombres ou des types de paramètres différents (dans ces langages, les types de paramètres et les types de retour font également partie de la signature).\n",
        "\n",
        "En Python, il ne peut y avoir qu'une seule fonction avec un nom particulier défini dans la portée, si vous définissez une autre fonction avec le même nom, vous écraserez la première fonction. Vous devez appeler cette fonction avec le bon nombre de paramètres, sinon vous obtiendrez une erreur.\n",
        "\n",
        "Parfois, il y a une bonne raison de vouloir avoir deux versions de la même fonction avec des jeux de paramètres différents. Vous pouvez obtenir quelque chose de similaire en rendant certains paramètres facultatifs. Pour rendre un paramètre facultatif, nous devons lui fournir une valeur par défaut. Les paramètres facultatifs doivent venir après tous les paramètres requis dans la définition de la fonction :"
      ]
    },
    {
      "cell_type": "code",
      "execution_count": null,
      "metadata": {},
      "outputs": [],
      "source": [
        "def make_greeting(title, name, surname, formal=True):\n",
        "    if formal:\n",
        "        return f\"Hello, {title} {surname} !\"\n",
        "\n",
        "    return f\"Hello, {name} !\"\n",
        "\n",
        "print(make_greeting(\"Mr\", \"John\", \"Smith\"))\n",
        "print(make_greeting(\"Mr\", \"John\", \"Smith\", False))\n"
      ]
    },
    {
      "cell_type": "markdown",
      "metadata": {},
      "source": [
        "Lorsque nous appelons la fonction, nous pouvons laisser le paramètre facultatif de côté. Si nous le faisons, la valeur par défaut sera utilisée. Si nous incluons le paramètre, notre valeur remplacera la valeur par défaut.\n",
        "\n",
        "Nous pouvons définir plusieurs paramètres optionnels :"
      ]
    },
    {
      "cell_type": "code",
      "execution_count": null,
      "metadata": {},
      "outputs": [],
      "source": [
        "def make_greeting(title, name, surname, formal=True, time=None):\n",
        "    if formal:\n",
        "        fullname =  f\"{title} {surname}\"\n",
        "    else:\n",
        "        fullname = name\n",
        "\n",
        "    if time is None:\n",
        "        greeting = \"Hello\"\n",
        "    else:\n",
        "        greeting = f\"Good {time}\"\n",
        "\n",
        "    return f\"{greeting}, {fullname}!\"\n",
        "\n",
        "print(make_greeting(\"Mr\", \"John\", \"Smith\"))\n",
        "print(make_greeting(\"Mr\", \"John\", \"Smith\", False))\n",
        "print(make_greeting(\"Mr\", \"John\", \"Smith\", False, \"evening\"))"
      ]
    },
    {
      "cell_type": "markdown",
      "metadata": {},
      "source": [
        "Et si on voulait passer le deuxième paramètre optionnel, mais pas le premier ? Jusqu'à présent, nous avons transmis des paramètres de position à toutes ces fonctions, un tuple de valeurs qui sont mises en correspondance avec des paramètres dans la signature de la fonction en fonction de leurs positions. Nous pouvons également, transmettre ces valeurs en tant que paramètres de mot-clé, nous pouvons spécifier explicitement les noms des paramètres avec les valeurs :"
      ]
    },
    {
      "cell_type": "code",
      "execution_count": null,
      "metadata": {},
      "outputs": [],
      "source": [
        "print(make_greeting(title=\"Mr\", name=\"John\", surname=\"Smith\"))\n",
        "print(make_greeting(title=\"Mr\", name=\"John\", surname=\"Smith\", formal=False, time=\"evening\"))"
      ]
    },
    {
      "cell_type": "markdown",
      "metadata": {},
      "source": [
        "Nous pouvons mélanger des paramètres de position et de mot-clé, mais les paramètres de mot-clé doivent venir après tous les paramètres de position :"
      ]
    },
    {
      "cell_type": "code",
      "execution_count": null,
      "metadata": {},
      "outputs": [],
      "source": [
        "# this is OK\n",
        "print(make_greeting(\"Mr\", \"John\", surname=\"Smith\"))\n",
        "# this will give you an error\n",
        "print(make_greeting(title=\"Mr\", \"John\", \"Smith\"))\n",
        "\n",
        "# we can specify keyword parameters in any order \n",
        "print(make_greeting(surname=\"Smith\", name=\"John\", title=\"Mr\"))\n",
        "\n",
        "# Pass in the second optional parameter and not the first\n",
        "print(make_greeting(\"Mr\", \"John\", \"Smith\", time=\"evening\"))"
      ]
    },
    {
      "cell_type": "markdown",
      "metadata": {},
      "source": [
        "## 7. Types mutables et paramètres par défaut\n",
        "\n",
        "Nous devons être prudents lorsque nous utilisons des types mutables comme valeurs de paramètre par défaut dans les définitions de fonctions si nous avons l'intention de les modifier sur place :"
      ]
    },
    {
      "cell_type": "code",
      "execution_count": null,
      "metadata": {},
      "outputs": [],
      "source": [
        "def add_pet_to_list(pet, pets=[]):\n",
        "    pets.append(pet)\n",
        "    return pets\n",
        "\n",
        "list_with_cat = add_pet_to_list(\"cat\")\n",
        "list_with_dog = add_pet_to_list(\"dog\")\n",
        "\n",
        "print(list_with_cat)\n",
        "print(list_with_dog) # oops"
      ]
    },
    {
      "cell_type": "markdown",
      "metadata": {},
      "source": [
        "N'oubliez pas que bien que nous puissions exécuter un corps de fonction plusieurs fois, une définition de fonction n'est exécutée qu'une seule fois - cela signifie que la liste vide qui est créée dans cette définition de fonction sera la même liste pour toutes les instances de la fonction. Ce que nous voulons vraiment faire dans ce cas est de créer une liste vide à l'intérieur du corps de la fonction :"
      ]
    },
    {
      "cell_type": "code",
      "execution_count": null,
      "metadata": {},
      "outputs": [],
      "source": [
        "def add_pet_to_list(pet, pets=None):\n",
        "    pets = pets or []\n",
        "    pets.append(pet)\n",
        "    return pets"
      ]
    },
    {
      "cell_type": "markdown",
      "metadata": {},
      "source": [
        "## Exercice 5\n",
        "\n",
        " - 1) Écrivez une fonction appelée `calculator`. Il doit prendre les paramètres suivants : deux nombres, une opération arithmétique (qui peut être une addition, une soustraction, une multiplication ou une division et est une addition par défaut), et un format de sortie (qui peut être un entier ou une virgule flottante, et est une virgule flottante par défaut ). La division doit être une division à virgule flottante.\n",
        " \n",
        "        La fonction doit effectuer l'opération demandée sur les deux nombres d'entrée et renvoyer un résultat dans le format demandé (si le format est un entier, le résultat doit être arrondi et pas seulement tronqué). Levez des exceptions si nécessaire si l'un des paramètres transmis à la fonction n'est pas valide.\n",
        "\n",
        " - 2) Appelez la fonction avec les ensembles de paramètres suivants et vérifiez que la réponse est celle que vous attendez :\n",
        "     - `2`, `3.0`\n",
        "     - `2`, `3.0`, le format de sortie est un entier\n",
        "     - `2`, `3.0`, l'opération est la division\n",
        "     - `2`, `3.0`, l'opération est la division, le format de sortie est un entier"
      ]
    },
    {
      "cell_type": "markdown",
      "metadata": {},
      "source": [
        "## 8. `*args` et `**kwargs`\n",
        "\n",
        "Parfois, nous pouvons vouloir passer une liste de longueur variable de paramètres de position ou de mots-clés dans une fonction. Nous pouvons mettre `*` avant un nom de paramètre pour indiquer qu'il s'agit d'un tuple de longueur variable de paramètres positionnels, et nous pouvons utiliser `**` pour indiquer qu'un paramètre est un dictionnaire de longueur variable de paramètres de mots-clés. Par convention, le nom de paramètre que nous utilisons pour le tuple est `args` et le nom que nous utilisons pour le dictionnaire est `kwargs` :"
      ]
    },
    {
      "cell_type": "code",
      "execution_count": null,
      "metadata": {},
      "outputs": [],
      "source": [
        "def print_args(*args):\n",
        "    for arg in args:\n",
        "        print(arg)\n",
        "\n",
        "def print_kwargs(**kwargs):\n",
        "    for k, v in kwargs.items():\n",
        "        print(\"%s: %s\" % (k, v))"
      ]
    },
    {
      "cell_type": "markdown",
      "metadata": {},
      "source": [
        "À l'intérieur de la fonction, nous pouvons accéder à `args` en tant que tuple normal, mais le `*` signifie que `args` n'est pas transmis à la fonction en tant que paramètre unique qui est un tuple : à la place, il est transmis comme une série de paramètres individuels. De même, `**` signifie que `kwargs` est transmis comme une série de paramètres de mots clés individuels, plutôt qu'un seul paramètre qui est un dictionnaire :"
      ]
    },
    {
      "cell_type": "code",
      "execution_count": null,
      "metadata": {},
      "outputs": [],
      "source": [
        "print_args(\"one\", \"two\", \"three\")\n",
        "print_args(\"one\", \"two\", \"three\", \"four\")\n",
        "\n",
        "print_kwargs(name=\"Jane\", surname=\"Doe\")\n",
        "print_kwargs(age=10)"
      ]
    },
    {
      "cell_type": "markdown",
      "metadata": {},
      "source": [
        "Nous pouvons utiliser `*` ou `**` lorsque nous appelons une fonction pour décompresser une séquence ou un dictionnaire en une série de paramètres individuels :"
      ]
    },
    {
      "cell_type": "code",
      "execution_count": null,
      "metadata": {},
      "outputs": [],
      "source": [
        "my_list = [\"one\", \"two\", \"three\"]\n",
        "print_args(*my_list)\n",
        "\n",
        "my_dict = {\"name\": \"Jane\", \"surname\": \"Doe\"}\n",
        "print_kwargs(**my_dict)"
      ]
    },
    {
      "cell_type": "markdown",
      "metadata": {},
      "source": [
        "Cela facilite la création de listes de paramètres par programmation. Notez que nous pouvons l'utiliser pour n'importe quelle fonction, pas seulement celle qui utilise `*args` ou `**kwargs` :"
      ]
    },
    {
      "cell_type": "code",
      "execution_count": null,
      "metadata": {},
      "outputs": [],
      "source": [
        "my_dict = {\n",
        "    \"title\": \"Mr\",\n",
        "    \"name\": \"John\",\n",
        "    \"surname\": \"Smith\",\n",
        "    \"formal\": False,\n",
        "    \"time\": \"evening\",\n",
        "}\n",
        "\n",
        "print(make_greeting(**my_dict))"
      ]
    },
    {
      "cell_type": "markdown",
      "metadata": {},
      "source": [
        "Nous pouvons mélanger des paramètres ordinaires, `*args` et `**kwargs` dans la même définition de fonction. `*args` et `**kwargs` doivent venir après tous les autres paramètres, et `**kwargs` doit venir après *args. Vous ne pouvez pas avoir plus d'un paramètre de liste de longueur variable ou plus d'un paramètre de dict variable (rappelez-vous que vous pouvez les appeler comme vous le souhaitez) :"
      ]
    },
    {
      "cell_type": "code",
      "execution_count": null,
      "metadata": {},
      "outputs": [],
      "source": [
        "def print_everything(name, time=\"morning\", *args, **kwargs):\n",
        "    print(f\"Good {time}, {name}.\")\n",
        "\n",
        "    for arg in args:\n",
        "        print(arg)\n",
        "\n",
        "    for k, v in kwargs.items():\n",
        "        print(f\"{k}: {v}\")"
      ]
    },
    {
      "cell_type": "markdown",
      "metadata": {},
      "source": [
        "Si nous utilisons une expression `*` lorsque vous appelez une fonction, elle doit venir après tous les paramètres de position, et si nous utilisons une expression `**`, elle doit venir juste à la fin :"
      ]
    },
    {
      "cell_type": "code",
      "execution_count": null,
      "metadata": {},
      "outputs": [],
      "source": [
        "def print_everything(name, time=\"morning\", *args, **kwargs):\n",
        "    for arg in args:\n",
        "        print(arg)\n",
        "\n",
        "    for k, v in kwargs.items():\n",
        "        print(f\"{k}: {v}\")\n",
        "\n",
        "# we can write all the parameters individually\n",
        "print_everything(\"cat\", \"dog\", day=\"Tuesday\")\n",
        "\n",
        "t = (\"cat\", \"dog\")\n",
        "d = {\"day\": \"Tuesday\"}\n",
        "\n",
        "# we can unpack a tuple and a dictionary\n",
        "print_everything(*t, **d)\n",
        "# or just one of them\n",
        "print_everything(*t, day=\"Tuesday\")\n",
        "print_everything(\"cat\", \"dog\", **d)\n",
        "\n",
        "# we can mix * and ** with explicit parameters\n",
        "print_everything(\"Jane\", *t, **d)\n",
        "print_everything(\"Jane\", *t, time=\"evening\", **d)\n",
        "print_everything(time=\"evening\", *t, **d)\n",
        "\n",
        "# none of these are allowed:\n",
        "print_everything(*t, \"Jane\", **d)\n",
        "print_everything(*t, **d, time=\"evening\")"
      ]
    },
    {
      "cell_type": "markdown",
      "metadata": {},
      "source": [
        "Si une fonction ne prend que `*args` et `**kwargs` comme paramètres, elle peut être appelée avec n'importe quel ensemble de paramètres. Un ou les deux `args` et `kwargs` peuvent être vides, de sorte que la fonction accepte toute combinaison de paramètres de position et de mot-clé, y compris aucun paramètre. Cela peut être utile si nous écrivons une fonction très générique, comme `print_everything` dans l'exemple ci-dessus."
      ]
    },
    {
      "cell_type": "markdown",
      "metadata": {},
      "source": [
        "## Exercice 6\n",
        "\n",
        "Réécrivez la fonction calculatrice de l'exercice 4 afin qu'elle prenne un nombre quelconque de paramètres numériques ainsi que les mêmes paramètres de mot-clé facultatifs. La fonction doit appliquer l'opération aux deux premiers nombres, puis l'appliquer à nouveau au résultat et au nombre suivant, et ainsi de suite. Par exemple, si les nombres sont 6, 4, 9 et 1 et que l'opération est une soustraction, la fonction doit renvoyer `6 - 4 - 9 - 1`. Si un seul nombre est entré, il doit être renvoyé tel quel. Si aucun nombre n'est entré, levez une exception."
      ]
    },
    {
      "cell_type": "markdown",
      "metadata": {},
      "source": [
        "## 9. Les décorateurs\n",
        "\n",
        "Parfois, nous pouvons avoir besoin de modifier plusieurs fonctions de la même manière. Par exemple, nous pouvons vouloir effectuer une action particulière avant et après l'exécution de chacune des fonctions, ou transmettre un paramètre supplémentaire, ou convertir la sortie dans un autre format.\n",
        "\n",
        "Nous pouvons également avoir de bonnes raisons de ne pas écrire la modification dans toutes les fonctions, peut-être que cela rendrait les définitions de fonction très verbeuses et lourdes, et peut-être que nous aimerions avoir la possibilité d'appliquer la modification rapidement et facilement à n'importe quelle fonction (et la supprimer simplement aussi facilement).\n",
        "\n",
        "Pour résoudre ce problème, nous pouvons écrire une fonction qui modifie les fonctions. Nous appelons une fonction comme celle-ci un décorateur. Notre fonction prendra un objet de fonction comme paramètre et renverra un nouvel objet de fonction - nous pouvons alors affecter la nouvelle valeur de fonction au nom de l'ancienne fonction pour remplacer l'ancienne fonction par la nouvelle fonction. Par exemple, voici un décorateur qui enregistre le nom de la fonction et ses arguments dans un fichier journal chaque fois que la fonction est utilisée :"
      ]
    },
    {
      "cell_type": "code",
      "execution_count": null,
      "metadata": {},
      "outputs": [],
      "source": [
        "# we define a decorator\n",
        "def log(original_function):\n",
        "    def new_function(*args, **kwargs):\n",
        "        with open(\"log.txt\", \"w\") as logfile:\n",
        "            logfile.write(f\"Function '{original_function.__name__}' called with positional arguments {args} and keyword arguments {kwargs}.\\n\")\n",
        "\n",
        "        return original_function(*args, **kwargs)\n",
        "\n",
        "    return new_function\n",
        "\n",
        "# here is a function to decorate\n",
        "def my_function(message):\n",
        "    print(message)\n",
        "\n",
        "# and here is how we decorate it\n",
        "my_function = log(my_function)\n",
        "\n",
        "# Better decorating directly on its definition\n",
        "@log\n",
        "def my_function(message):\n",
        "    print(message)"
      ]
    },
    {
      "cell_type": "markdown",
      "metadata": {},
      "source": [
        "Nous pouvons passer des paramètres supplémentaires à notre décorateur. Par exemple, nous pouvons souhaiter spécifier un fichier journal personnalisé à utiliser dans notre décorateur de journalisation :"
      ]
    },
    {
      "cell_type": "code",
      "execution_count": null,
      "metadata": {},
      "outputs": [],
      "source": [
        "def log(original_function, logfilename=\"log.txt\"):\n",
        "    def new_function(*args, **kwargs):\n",
        "        with open(logfilename, \"w\") as logfile:\n",
        "            logfile.write(\"Function '%s' called with positional arguments %s and keyword arguments %s.\\n\" % (original_function.__name__, args, kwargs))\n",
        "\n",
        "        return original_function(*args, **kwargs)\n",
        "\n",
        "    return new_function\n",
        "\n",
        "@log(\"someotherfilename.txt\")\n",
        "def my_function(message):\n",
        "    print(message)"
      ]
    },
    {
      "cell_type": "markdown",
      "metadata": {},
      "source": [
        "# 10. Les fonctions Lambda\n",
        "\n",
        "Nous avons déjà vu que lorsque nous voulons utiliser un nombre ou une chaîne dans notre programme, nous pouvons soit l'écrire sous forme de littéral à l'endroit où nous voulons l'utiliser, soit utiliser une variable que nous avons déjà définie dans notre code. Par exemple, `print(\"Hello!\")` affiche la chaîne littérale `\"Hello!\"`, que nous n'avons stockée nulle part dans une variable, mais `print(message)` affiche la chaîne stockée dans la variable message.\n",
        "\n",
        "Nous avons aussi vu que l'on peut stocker une fonction dans une variable, comme n'importe quel autre objet, en s'y référant par son nom (mais sans l'appeler). Existe-t-il un littéral de fonction ? Peut-on définir une fonction à la volée lorsqu'on veut la passer en paramètre ou l'affecter à une variable, comme on l'a fait avec la chaîne `\"Bonjour !\"` ?\n",
        "\n",
        "La réponse est oui, mais uniquement pour des fonctions très simples. Nous pouvons utiliser le mot-clé `lambda` pour définir des fonctions anonymes sur une ligne dans notre code :"
      ]
    },
    {
      "cell_type": "code",
      "execution_count": null,
      "metadata": {},
      "outputs": [],
      "source": [
        "a = lambda: 3\n",
        "\n",
        "# is the same as\n",
        "def a():\n",
        "    return 3"
      ]
    },
    {
      "cell_type": "markdown",
      "metadata": {},
      "source": [
        "Les `lambdas` peuvent prendre des paramètres, ils sont écrits entre le mot-clé `lambda` et les deux points, sans crochets. Une fonction `lambda` ne peut contenir qu'une seule expression, et le résultat de l'évaluation de cette expression est implicitement renvoyé par la fonction (nous n'utilisons pas le mot-clé `return`) :"
      ]
    },
    {
      "cell_type": "code",
      "execution_count": null,
      "metadata": {},
      "outputs": [],
      "source": [
        "b = lambda x, y: x + y\n",
        "\n",
        "# is the same as\n",
        "def b(x, y):\n",
        "    return x + y"
      ]
    },
    {
      "cell_type": "markdown",
      "metadata": {},
      "source": [
        "## Exercice 7\n",
        "\n",
        " - 1) Définissez les fonctions suivantes comme lambdas et affectez-les à des variables :\n",
        "        - Prenez un paramètre, retourner son carré\n",
        "        - Prenez deux paramètres, renvoie la racine carrée des sommes de leurs carrés\n",
        "        - Prenez n'importe quel nombre de paramètres, retourner leur moyenne\n",
        "        - Prenez un paramètre de chaîne, renvoie une chaîne qui contient les lettres uniques dans la chaîne d'entrée (dans n'importe quel ordre)\n",
        "\n",
        " - 2) Réécrivez toutes ces fonctions en tant que fonctions nommées."
      ]
    },
    {
      "cell_type": "markdown",
      "metadata": {},
      "source": [
        "## 11. Générateur (`yield`)\n",
        "\n",
        "Nous avons déjà rencontré des générateurs, des séquences dans lesquelles de nouveaux éléments sont générés au fur et à mesure qu'ils sont nécessaires, au lieu d'être tous générés à l'avance. Nous pouvons créer nos propres générateurs en écrivant des fonctions qui utilisent l'instruction `yield`.\n",
        "\n",
        "Considérez cette fonction simple qui renvoie une plage de nombres sous forme de liste :"
      ]
    },
    {
      "cell_type": "code",
      "execution_count": null,
      "metadata": {},
      "outputs": [],
      "source": [
        "def my_list(n):\n",
        "    i = 0\n",
        "    l = []\n",
        "\n",
        "    while i < n:\n",
        "        l.append(i)\n",
        "        i += 1\n",
        "\n",
        "    return l"
      ]
    },
    {
      "cell_type": "markdown",
      "metadata": {},
      "source": [
        "Cette fonction construit la liste complète des nombres et la renvoie. On peut transformer cette fonction en fonction générateur tout en conservant une syntaxe très similaire, comme celle-ci :"
      ]
    },
    {
      "cell_type": "code",
      "execution_count": null,
      "metadata": {},
      "outputs": [],
      "source": [
        "def my_gen(n):\n",
        "    i = 0\n",
        "\n",
        "    while i < n:\n",
        "        yield i\n",
        "        i += 1"
      ]
    },
    {
      "cell_type": "markdown",
      "metadata": {},
      "source": [
        "La première chose importante à savoir sur l'instruction `yield` est que si nous l'utilisons dans une fonction, cette fonction renverra un générateur. Nous pouvons tester cela en utilisant la fonction `type` sur la valeur de retour de `my_gen`. Nous pouvons également essayer de l'utiliser dans une boucle for, comme nous utiliserions n'importe quel autre générateur, pour voir quelle séquence le générateur représente :"
      ]
    },
    {
      "cell_type": "code",
      "execution_count": null,
      "metadata": {},
      "outputs": [],
      "source": [
        "g = my_gen(3)\n",
        "\n",
        "print(type(g))\n",
        "\n",
        "for x in g:\n",
        "    print(x)"
      ]
    },
    {
      "cell_type": "markdown",
      "metadata": {},
      "source": [
        "## Exercice 8\n",
        "\n",
        "Écrivez une fonction génératrice qui prend un entier `n` comme paramètre. La fonction doit renvoyer un générateur qui compte à rebours de `n` à `0`. Testez votre fonction en utilisant une boucle `for`."
      ]
    }
  ],
  "metadata": {
    "colab": {
      "name": "2021-07-07-React-C1-lesson1.ipynb",
      "provenance": []
    },
    "interpreter": {
      "hash": "5f93c710f340a2e31cff3bb6ebdbfdc2ef47a25bab77ef50e9e25900c31fe89f"
    },
    "kernelspec": {
      "display_name": "Python 3.7.9 64-bit ('python-course': virtualenv)",
      "name": "python3"
    },
    "language_info": {
      "codemirror_mode": {
        "name": "ipython",
        "version": 3
      },
      "file_extension": ".py",
      "mimetype": "text/x-python",
      "name": "python",
      "nbconvert_exporter": "python",
      "pygments_lexer": "ipython3",
      "version": "3.7.9"
    },
    "varInspector": {
      "cols": {
        "lenName": 16,
        "lenType": 16,
        "lenVar": 40
      },
      "kernels_config": {
        "python": {
          "delete_cmd_postfix": "",
          "delete_cmd_prefix": "del ",
          "library": "var_list.py",
          "varRefreshCmd": "print(var_dic_list())"
        },
        "r": {
          "delete_cmd_postfix": ") ",
          "delete_cmd_prefix": "rm(",
          "library": "var_list.r",
          "varRefreshCmd": "cat(var_dic_list()) "
        }
      },
      "types_to_exclude": [
        "module",
        "function",
        "builtin_function_or_method",
        "instance",
        "_Feature"
      ],
      "window_display": false
    }
  },
  "nbformat": 4,
  "nbformat_minor": 2
}
