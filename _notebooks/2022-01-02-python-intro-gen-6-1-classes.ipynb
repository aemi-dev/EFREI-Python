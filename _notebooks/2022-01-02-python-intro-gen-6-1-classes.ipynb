{
  "cells": [
    {
      "cell_type": "markdown",
      "metadata": {
        "id": "Hu-DQLCysvHt"
      },
      "source": [
        "- toc: false \n",
        "- badges: true\n",
        "- hide_binder_badge: true\n",
        "- hide_github_badge: true\n",
        "- comments: false\n",
        "- layout: post"
      ]
    },
    {
      "cell_type": "markdown",
      "metadata": {},
      "source": [
        "Nous avons déjà vu comment nous pouvons utiliser un dictionnaire pour regrouper des données associées et comment nous pouvons utiliser des fonctions pour créer des raccourcis pour des groupes d'instructions couramment utilisés. Une fonction exécute une action en utilisant un ensemble de paramètres d'entrée. Toutes les fonctions ne sont pas applicables à tous les types de données. Les classes sont un moyen de regrouper des données et des fonctions connexes qui agissent sur ces données.\n",
        "\n",
        "Une classe est un type de données, tout comme une `string`, un entier ou une liste. Lorsque nous créons un objet de ce type de données, nous l'appelons une instance d'une classe.\n",
        "\n",
        "Comme nous l'avons déjà mentionné, dans certains autres langages, certaines entités sont des objets et d'autres non. En Python, tout est objet, tout est une instance d'une certaine classe. Les classes et les types sont eux-mêmes des objets, et ils sont de type type. Vous pouvez connaître le type de n'importe quel objet à l'aide de la fonction `type` :"
      ]
    },
    {
      "cell_type": "code",
      "execution_count": null,
      "metadata": {},
      "outputs": [],
      "source": [
        "type(42)"
      ]
    },
    {
      "cell_type": "markdown",
      "metadata": {},
      "source": [
        "Les valeurs de données que nous stockons à l'intérieur d'un objet sont appelées attributs et les fonctions associées à l'objet sont appelées méthodes. Nous avons déjà utilisé les méthodes de certains objets intégrés, comme les `string` et les listes.\n",
        "\n",
        "Lorsque nous concevons nos propres objets, nous devons décider comment nous allons regrouper les choses et ce que nos objets vont représenter.\n",
        "\n",
        "Parfois, nous écrivons des objets qui correspondent très intuitivement aux choses du monde réel. Par exemple, si nous écrivons du code pour simuler des réactions chimiques, nous pourrions avoir des objets `Atom` que nous pouvons combiner pour créer un objet `Molécule`. Cependant, il n'est pas toujours nécessaire, souhaitable ou même possible de rendre tous les objets de code parfaitement analogues à leurs homologues du monde réel.\n",
        "\n",
        "Parfois, nous pouvons créer des objets qui n'ont aucun équivalent dans le monde réel, simplement parce qu'il est utile de regrouper certaines fonctions."
      ]
    },
    {
      "cell_type": "markdown",
      "metadata": {},
      "source": [
        "## 1. Création d'une classe (`class`)\n",
        "\n",
        "Voici un exemple de classe personnalisée simple qui stocke des informations sur une personne :"
      ]
    },
    {
      "cell_type": "code",
      "execution_count": null,
      "metadata": {},
      "outputs": [],
      "source": [
        "import datetime # we will use this for date objects\n",
        "\n",
        "class Person:\n",
        "\n",
        "    def __init__(self, name, surname, birthdate, address, telephone, email):\n",
        "        self.name = name\n",
        "        self.surname = surname\n",
        "        self.birthdate = birthdate\n",
        "\n",
        "        self.address = address\n",
        "        self.telephone = telephone\n",
        "        self.email = email\n",
        "\n",
        "    def age(self):\n",
        "        today = datetime.date.today()\n",
        "        age = today.year - self.birthdate.year\n",
        "\n",
        "        if today < datetime.date(today.year, self.birthdate.month, self.birthdate.day):\n",
        "            age -= 1\n",
        "\n",
        "        return age\n",
        "\n",
        "person = Person(\n",
        "    \"Jane\",\n",
        "    \"Doe\",\n",
        "    datetime.date(1992, 3, 12), # year, month, day\n",
        "    \"No. 12 Short Street, Greenville\",\n",
        "    \"555 456 0987\",\n",
        "    \"jane.doe@example.com\"\n",
        ")\n",
        "\n",
        "print(person.name)\n",
        "print(person.email)\n",
        "print(person.age())"
      ]
    },
    {
      "cell_type": "markdown",
      "metadata": {},
      "source": [
        "Nous commençons la définition de la classe avec le mot-clé `class`, suivi du nom de la classe et de deux points. Nous énumérerions toutes les classes parentes entre parenthèses avant les deux points, mais cette classe n'en a pas, nous pouvons donc les laisser de côté.\n",
        "\n",
        "À l'intérieur du corps de la classe, nous définissons deux fonctions : ce sont les méthodes de notre objet. La première s'appelle `__init__`, qui est une méthode spéciale. Lorsque nous appelons l'objet de classe, une nouvelle instance de la classe est créée et la méthode `__init__` sur ce nouvel objet est immédiatement exécutée avec tous les paramètres que nous avons passés à l'objet de classe. Le but de cette méthode est donc de mettre en place un nouvel objet à partir des données que nous vous avons fournies.\n",
        "\n",
        "La deuxième méthode est une méthode personnalisée qui calcule l'âge de notre personne en utilisant la date de naissance et la date du jour.\n",
        "\n",
        "## 2. Le paramètre `self`\n",
        "\n",
        "Vous avez peut-être remarqué que ces deux définitions de méthode ont `self` comme premier paramètre, et nous utilisons cette variable à l'intérieur des corps des méthodes mais nous ne semblons pas passer ce paramètre. C'est parce que chaque fois que nous appelons une méthode sur un objet, l'objet lui-même est automatiquement transmis comme premier paramètre. Cela nous donne un moyen d'accéder aux propriétés de l'objet depuis l'intérieur des méthodes de l'objet.\n",
        "\n",
        "Vous devriez maintenant pouvoir voir que notre fonction `__init__` crée des attributs sur l'objet et les définit sur les valeurs que nous avons transmises en tant que paramètres. Nous utilisons les mêmes noms pour les attributs et les paramètres, mais ce n'est pas obligatoire.\n",
        "\n",
        "La fonction `age` ne prend aucun paramètre à l'exception de `self`, elle utilise uniquement les informations stockées dans les attributs de l'objet et la date actuelle (qu'elle récupère à l'aide du module `datetime`).\n",
        "\n",
        "Notez que l'attribut de date de naissance est lui-même un objet. La classe `date` est définie dans le module `datetime`, et nous créons une nouvelle instance de cette classe à utiliser comme paramètre de date de naissance lorsque nous créons une instance de la classe `Person`. Nous n'avons pas à l'affecter à une variable intermédiaire avant de l'utiliser comme paramètre de `Person`. Nous pouvons simplement le créer lorsque nous appelons `Person`, tout comme nous créons des `string` pour les autres paramètres.\n",
        "\n",
        "N'oubliez pas que la définition d'une fonction ne la fait pas s'exécuter. Définir une classe ne fait pas non plus fonctionner quoi que ce soit, cela indique simplement à Python la classe. La classe ne sera pas définie tant que Python n'aura pas exécuté l'intégralité de la définition, vous pouvez donc être sûr de pouvoir référencer n'importe quelle méthode à partir de n'importe quelle autre méthode sur la même classe, ou même référencer la classe à l'intérieur d'une méthode de la classe. Au moment où vous appelez cette méthode, la classe entière sera définitivement définie.\n",
        "\n",
        "## Exercice 1\n",
        "\n",
        "Expliquez à quoi se réfèrent les variables suivantes et leur scope :\n",
        " - 1) `Person`\n",
        " - 2) `person`\n",
        " - 3) `surname`\n",
        " - 4) `self`\n",
        " - 5) `age` (le nom de la fonction)\n",
        " - 6) `age` (la variable utilisée dans la fonction)\n",
        " - 7) `self.email`\n",
        " - 8) `person.email`\n",
        "\n",
        "## 3. Les attributs d'une instance\n",
        "\n",
        "Il est important de noter que les attributs définis sur l'objet dans la fonction `__init__` ne forment pas une liste exhaustive de tous les attributs que notre objet est autorisé à avoir.\n",
        "\n",
        "Dans certains langages, vous devez fournir une liste des attributs de l'objet dans la définition de classe, des espaces réservés sont créés pour ces attributs autorisés lors de la création de l'objet et vous ne pouvez pas ajouter de nouveaux attributs à l'objet ultérieurement. En Python, vous pouvez ajouter de nouveaux attributs, et même de nouvelles méthodes, à un objet à la volée. En fait, il n'y a rien de spécial à propos de la fonction `__init__` lorsqu'il s'agit de définir des attributs. Nous pourrions stocker une valeur d'âge en cache sur l'objet à l'intérieur de la fonction d'âge :"
      ]
    },
    {
      "cell_type": "code",
      "execution_count": null,
      "metadata": {},
      "outputs": [],
      "source": [
        "def age(self):\n",
        "    if hasattr(self, \"_age\"):\n",
        "        return self._age\n",
        "\n",
        "    today = datetime.date.today()\n",
        "\n",
        "    age = today.year - self.birthdate.year\n",
        "\n",
        "    if today < datetime.date(today.year, self.birthdate.month, self.birthdate.day):\n",
        "        age -= 1\n",
        "\n",
        "    self._age = age\n",
        "    return age\n"
      ]
    },
    {
      "cell_type": "markdown",
      "metadata": {},
      "source": [
        "Nous pourrions même ajouter un attribut complètement indépendant de l'extérieur de l'objet :"
      ]
    },
    {
      "cell_type": "code",
      "execution_count": null,
      "metadata": {},
      "outputs": [],
      "source": [
        "person.pets = ['cat', 'cat', 'dog']"
      ]
    },
    {
      "cell_type": "markdown",
      "metadata": {},
      "source": [
        "Il est très courant que les méthodes d'un objet mettent à jour les valeurs des attributs de l'objet, mais il est considéré comme une mauvaise pratique de créer de nouveaux attributs dans une méthode sans les initialiser dans la méthode `__init__`. Définir des propriétés arbitraires depuis l'extérieur de l'objet est encore plus mal vu, car cela brise le paradigme orienté objet (dont nous parlerons dans le chapitre suivant).\n",
        "\n",
        "La méthode `__init__` sera certainement exécutée avant toute autre chose lorsque nous créons l'objet, c'est donc un bon endroit pour faire toute notre initialisation des données de l'objet. Si nous créons un nouvel attribut en dehors de la méthode `__init__`, nous courons le risque d'essayer de l'utiliser avant qu'il ne soit initialisé.\n",
        "\n",
        "Dans l'exemple age ci-dessus, nous devons vérifier si un attribut `_age` existe sur l'objet avant d'essayer de l'utiliser, car si nous n'avons pas exécuté la méthode age auparavant, elle n'aura pas encore été créée. Ce serait beaucoup plus propre si nous appelions cette méthode au moins une fois depuis `__init__`, pour s'assurer que `_age` est créé dès que nous créons l'objet.\n",
        "\n",
        "L'initialisation de tous nos attributs dans `__init__`, même si nous les définissons simplement sur des valeurs vides, rend notre code moins sujet aux erreurs. Cela facilite également la lecture et la compréhension – nous pouvons voir en un coup d'œil quels sont les attributs de notre objet.\n",
        "\n",
        "Une méthode `__init__` n'a pas à prendre de paramètres (sauf self) et elle peut être complètement absente."
      ]
    },
    {
      "cell_type": "markdown",
      "metadata": {},
      "source": [
        "## 4. Les fonctions `getattr`, `setattr` et `hasattr`\n",
        "\n",
        "Que se passe-t-il si nous voulons obtenir ou définir la valeur d'un attribut d'un objet sans coder en dur son nom ? Nous pouvons parfois vouloir boucler plusieurs noms d'attributs et effectuer la même opération sur chacun d'eux. Pour faire cela nous utiliserons les fonctions : `getattr`, `setattr` et `hasattr`\n",
        "\n",
        "### La fonction `hastattr`\n",
        "\n",
        "Cet fonction permet de savoir si un objet possède un attribut ou non :"
      ]
    },
    {
      "cell_type": "code",
      "execution_count": null,
      "metadata": {},
      "outputs": [],
      "source": [
        "# Check if my object has attribut :a\n",
        "print(hasattr(person, 'a'))\n",
        "\n",
        "person.a = 'hello'\n",
        "print(hasattr(person, 'a'))"
      ]
    },
    {
      "cell_type": "markdown",
      "metadata": {},
      "source": [
        "### La fonction `getattr`\n",
        "\n",
        "Cet fonction permet de récupérer la valeur d'un attribut de l'objet :"
      ]
    },
    {
      "cell_type": "code",
      "execution_count": null,
      "metadata": {},
      "outputs": [],
      "source": [
        "person.a = 12\n",
        "person.b = \"hello\"\n",
        "person.c = .002\n",
        "\n",
        "# Get person.a, person.b, etc.\n",
        "for key in [\"a\", \"b\", \"c\", \"d\"]:\n",
        "    print(getattr(person, key, None))\n",
        "\n",
        "# Is equivalent to :\n",
        "print(person.a)\n",
        "print(person.b)\n",
        "print(person.c)\n",
        "print(person.d) # Oups this fails"
      ]
    },
    {
      "cell_type": "markdown",
      "metadata": {},
      "source": [
        "### La fonction `setattr`\n",
        "\n",
        "Cet fonction permet de définir la valeur d'un attribut d'un objet. Par exemple, nous copions des données d'un dictionnaire vers un objet :"
      ]
    },
    {
      "cell_type": "code",
      "execution_count": null,
      "metadata": {},
      "outputs": [],
      "source": [
        "mydict = {'d': None, 'e': 321, 'f': 'World'}\n",
        "\n",
        "for key, value in mydict.items():\n",
        "    setattr(person, key, mydict[key])\n",
        "\n",
        "# Is equivalent to :\n",
        "person.d = None\n",
        "person.e = 321\n",
        "person.f = 'World'"
      ]
    },
    {
      "cell_type": "markdown",
      "metadata": {},
      "source": [
        "## Exercice 2\n",
        "\n",
        "Réécrivez la classe `Person` afin que l'âge d'une personne soit calculé pour la première fois lorsqu'une nouvelle instance de personne est créée, et recalculé (lorsqu'il est demandé) si le jour a changé depuis la dernière fois qu'il a été calculé."
      ]
    },
    {
      "cell_type": "markdown",
      "metadata": {},
      "source": [
        "## 5. Les attributs de classe\n",
        "\n",
        "Tous les attributs définis sur une instance `Person` sont des attributs d'instance, ils sont ajoutés à l'instance lorsque la méthode `__init__` est exécutée. Cependant, nous pouvons également définir des attributs qui sont définis sur la classe. Ces attributs seront partagés par toutes les instances de cette classe. À bien des égards, ils se comportent comme des attributs d'instance, mais vous devez être conscient de certaines mises en garde.\n",
        "\n",
        "Nous définissons les attributs de classe dans son corps, au même niveau d'indentation que les définitions de méthode (un niveau au-dessus de l'intérieur des méthodes) :"
      ]
    },
    {
      "cell_type": "code",
      "execution_count": null,
      "metadata": {},
      "outputs": [],
      "source": [
        "class Person:\n",
        "\n",
        "    TITLES = ('Dr', 'Mr', 'Mrs', 'Ms')\n",
        "\n",
        "    def __init__(self, title, name, surname):\n",
        "        if title not in self.TITLES:\n",
        "            raise ValueError(\"%s is not a valid title.\" % title)\n",
        "\n",
        "        self.title = title\n",
        "        self.name = name\n",
        "        self.surname = surname"
      ]
    },
    {
      "cell_type": "markdown",
      "metadata": {},
      "source": [
        "Comme vous pouvez le voir, nous accédons à l'attribut de classe `TITLES` comme nous accéderions à un attribut d'instance, il est rendu disponible en tant que propriété sur l'objet d'instance, auquel nous accédons à l'intérieur de la méthode via la variable self.\n",
        "\n",
        "Tous les objets Person que nous créons partageront le même attribut de classe `TITLES`.\n",
        "\n",
        "Les attributs de classe sont souvent utilisés pour définir des constantes qui sont étroitement associées à une classe particulière. Bien que nous puissions utiliser des attributs de classe à partir d'instances de classe, nous pouvons également les utiliser à partir d'objets de classe, sans créer d'instance :"
      ]
    },
    {
      "cell_type": "code",
      "execution_count": null,
      "metadata": {},
      "outputs": [],
      "source": [
        "# we can access a class attribute from an instance\n",
        "person.TITLES\n",
        "\n",
        "# but we can also access it from the class\n",
        "Person.TITLES"
      ]
    },
    {
      "cell_type": "markdown",
      "metadata": {},
      "source": [
        "L'objet de classe n'a accès à aucun attribut d'instance, ceux-ci ne sont créés que lorsqu'une instance est créée :"
      ]
    },
    {
      "cell_type": "code",
      "execution_count": null,
      "metadata": {},
      "outputs": [],
      "source": [
        "# This will give us an error\n",
        "Person.name\n",
        "Person.surname"
      ]
    },
    {
      "cell_type": "markdown",
      "metadata": {},
      "source": [
        "Les attributs de classe peuvent également parfois être utilisés pour fournir des valeurs d'attribut par défaut."
      ]
    },
    {
      "cell_type": "code",
      "execution_count": null,
      "metadata": {},
      "outputs": [],
      "source": [
        "class Person:\n",
        "    deceased = False\n",
        "\n",
        "    def mark_as_deceased(self):\n",
        "        self.deceased = True"
      ]
    },
    {
      "cell_type": "markdown",
      "metadata": {},
      "source": [
        "Lorsque nous définissons un attribut sur une instance qui a le même nom qu'un attribut de classe, nous remplaçons l'attribut de classe par un attribut d'instance, qui aura la priorité sur lui. Si nous créons deux objets `Person` et appelons la méthode `mark_as_deceased` sur l'un d'eux, nous n'affecterons pas l'autre. Nous devons cependant être prudents lorsqu'un attribut de classe est de type mutable : car si nous le modifions sur place, nous affecterons tous les objets de cette classe en même temps. N'oubliez pas que toutes les instances partagent les mêmes attributs de classe :"
      ]
    },
    {
      "cell_type": "code",
      "execution_count": null,
      "metadata": {},
      "outputs": [],
      "source": [
        "class Person:\n",
        "    pets = []\n",
        "\n",
        "    def add_pet(self, pet):\n",
        "        self.pets.append(pet)\n",
        "\n",
        "jane = Person()\n",
        "bob = Person()\n",
        "\n",
        "jane.add_pet(\"cat\")\n",
        "print(jane.pets)\n",
        "print(bob.pets) # oops!"
      ]
    },
    {
      "cell_type": "markdown",
      "metadata": {},
      "source": [
        "Ce que nous devrions faire dans des cas comme celui-ci, c'est initialiser l'attribut mutable en tant qu'attribut d'instance, à l'intérieur de `__init__`. Ensuite, chaque instance aura sa propre copie distincte :"
      ]
    },
    {
      "cell_type": "code",
      "execution_count": null,
      "metadata": {},
      "outputs": [],
      "source": [
        "class Person:\n",
        "\n",
        "    def __init__(self):\n",
        "        self.pets = []\n",
        "\n",
        "    def add_pet(self, pet):\n",
        "        self.pets.append(pet)\n",
        "\n",
        "jane = Person()\n",
        "bob = Person()\n",
        "\n",
        "jane.add_pet(\"cat\")\n",
        "print(jane.pets)\n",
        "print(bob.pets)"
      ]
    },
    {
      "cell_type": "markdown",
      "metadata": {},
      "source": [
        "Notez que les définitions de méthode sont dans le même scope que les définitions d'attribut de classe, nous pouvons donc utiliser les noms d'attribut de classe comme variables dans les définitions de méthode (sans `self`, qui n'est défini qu'à l'intérieur des méthodes) :"
      ]
    },
    {
      "cell_type": "code",
      "execution_count": null,
      "metadata": {},
      "outputs": [],
      "source": [
        "class Person:\n",
        "    TITLES = ('Dr', 'Mr', 'Mrs', 'Ms')\n",
        "\n",
        "    def __init__(self, title, name, surname, allowed_titles=TITLES):\n",
        "        if title not in allowed_titles:\n",
        "            raise ValueError(f\"{title} is not a valid title.\")\n",
        "\n",
        "        self.title = title\n",
        "        self.name = name\n",
        "        self.surname = surname"
      ]
    },
    {
      "cell_type": "markdown",
      "metadata": {},
      "source": [
        "## Exercice 3\n",
        "\n",
        "Expliquez les différences entre les attributs `name`, `surname` et `profession`, et quelles valeurs ils peuvent avoir dans différentes instances de cette classe :"
      ]
    },
    {
      "cell_type": "code",
      "execution_count": null,
      "metadata": {},
      "outputs": [],
      "source": [
        "class Smith:\n",
        "    surname = \"Smith\"\n",
        "    profession = \"smith\"\n",
        "\n",
        "    def __init__(self, name, profession=None):\n",
        "        self.name = name\n",
        "        if profession is not None:\n",
        "            self.profession = profession"
      ]
    },
    {
      "cell_type": "markdown",
      "metadata": {},
      "source": [
        "## 6. Les decorateurs de classe\n",
        "\n",
        "### `@classmethod`\n",
        "\n",
        "Tout comme nous pouvons définir des attributs de classe, qui sont partagés entre toutes les instances d'une classe, nous pouvons définir des méthodes de classe. Pour ce faire, nous utilisons le décorateur `@classmethod` pour décorer une méthode ordinaire.\n",
        "\n",
        "Une méthode de classe a toujours son objet appelant comme premier paramètre, mais par convention nous renommerons ce paramètre de `self` en `cls`. Si nous appelons la méthode de classe depuis une instance, ce paramètre contiendra l'objet instance, mais si nous l'appelons depuis la classe, il contiendra l'objet classe. En appelant le paramètre `cls`, nous nous rappelons qu'il n'est pas garanti d'avoir des attributs d'instance.\n",
        "\n",
        "A quoi servent les méthodes de classe ? Parfois, il existe des tâches associées à une classe que nous pouvons effectuer à l'aide de constantes et d'autres attributs de classe, sans avoir besoin de créer d'instances de classe. Si nous devions utiliser des méthodes d'instance pour ces tâches, nous aurions besoin de créer une instance sans raison, ce qui serait un gaspillage. Parfois, nous écrivons des classes uniquement pour regrouper des constantes liées avec des fonctions qui agissent sur elles, nous pouvons ne jamais instancier ces classes du tout.\n",
        "\n",
        "Parfois, il est utile d'écrire une méthode de classe qui crée une instance de la classe après avoir traité l'entrée afin qu'elle soit dans le bon format pour être transmise au constructeur de classe. Cela permet au constructeur d'être simple et de ne pas avoir à implémenter de code d'analyse ou de nettoyage compliqué :"
      ]
    },
    {
      "cell_type": "code",
      "execution_count": null,
      "metadata": {},
      "outputs": [],
      "source": [
        "class Person:\n",
        "\n",
        "    def __init__(self, name, surname, birthdate, address, telephone, email):\n",
        "        self.name = name\n",
        "        # (...)\n",
        "\n",
        "    @classmethod\n",
        "    def from_text_file(cls, filename):\n",
        "        # extract all the parameters from the text file\n",
        "        return cls(*params) # this is the same as calling Person(*params)"
      ]
    },
    {
      "cell_type": "markdown",
      "metadata": {},
      "source": [
        "### `@staticmethod`\n",
        "\n",
        "L'objet appelant n'est pas transmis à une méthode statique comme premier paramètre. Cela signifie qu'il n'a pas du tout accès au reste de la classe ou de l'instance. Nous pouvons les appeler à partir d'une instance ou d'un objet de classe, mais ils sont le plus souvent appelés à partir d'objets de classe, comme les méthodes de classe.\n",
        "\n",
        "Si nous utilisons une classe pour regrouper des méthodes liées qui n'ont pas besoin d'accéder les unes aux autres ou à d'autres données sur la classe, nous pouvons utiliser cette technique. L'avantage d'utiliser des méthodes statiques est que nous éliminons les paramètres `cls` ou `self` inutiles de nos définitions de méthodes. L'inconvénient est que si nous voulons occasionnellement faire référence à une autre méthode de classe ou à un autre attribut dans une méthode statique, nous devons écrire le nom de la classe en entier, ce qui peut être beaucoup plus détaillé que d'utiliser la variable `cls` qui nous est disponible dans un méthode de classe.\n",
        "\n",
        "Voici un exemple comparant les trois types de méthodes :"
      ]
    },
    {
      "cell_type": "code",
      "execution_count": null,
      "metadata": {},
      "outputs": [],
      "source": [
        "class Person:\n",
        "    TITLES = ('Dr', 'Mr', 'Mrs', 'Ms')\n",
        "\n",
        "    def __init__(self, name, surname):\n",
        "        self.name = name\n",
        "        self.surname = surname\n",
        "\n",
        "    def fullname(self): # instance method\n",
        "        # instance object accessible through self\n",
        "        return f\"{self.name} {self.surname}\"\n",
        "\n",
        "    @classmethod\n",
        "    def allowed_titles_starting_with(cls, startswith): # class method\n",
        "        # class or instance object accessible through cls\n",
        "        return [t for t in cls.TITLES if t.startswith(startswith)]\n",
        "\n",
        "    @staticmethod\n",
        "    def allowed_titles_ending_with(endswith): # static method\n",
        "        # no parameter for class or instance object\n",
        "        # we have to use Person directly\n",
        "        return [t for t in Person.TITLES if t.endswith(endswith)]\n",
        "\n",
        "\n",
        "jane = Person(\"Jane\", \"Smith\")\n",
        "\n",
        "print(jane.fullname())\n",
        "\n",
        "print(jane.allowed_titles_starting_with(\"M\"))\n",
        "print(Person.allowed_titles_starting_with(\"M\"))\n",
        "\n",
        "print(jane.allowed_titles_ending_with(\"s\"))\n",
        "print(Person.allowed_titles_ending_with(\"s\"))"
      ]
    },
    {
      "cell_type": "markdown",
      "metadata": {},
      "source": [
        "### `@property`\n",
        "\n",
        "Parfois, nous utilisons une méthode pour générer dynamiquement une propriété d'un objet, en la calculant à partir des autres propriétés de l'objet. Parfois, vous pouvez simplement utiliser une méthode pour accéder à un seul attribut et le retourner. Vous pouvez également utiliser une méthode différente pour mettre à jour la valeur de l'attribut au lieu d'y accéder directement. De telles méthodes sont appelées getters et setters, car elles « obtiennent » et « définissent » respectivement les valeurs des attributs.\n",
        "\n",
        "Dans certains langages, vous êtes encouragé à utiliser des getters et des setters pour tous les attributs, et à ne jamais accéder directement à leurs valeurs et il existe des fonctionnalités de langage qui peuvent rendre les attributs inaccessibles, sauf via les setters et les getters. En Python, accéder directement à des attributs simples est parfaitement acceptable, et écrire des getters et setters pour chacun d'eux est considéré comme inutilement verbeux. Les setters peuvent être gênants car ils ne permettent pas l'utilisation d'opérateurs d'affectation composés :"
      ]
    },
    {
      "cell_type": "code",
      "execution_count": null,
      "metadata": {},
      "outputs": [],
      "source": [
        "class Person:\n",
        "    def __init__(self, height):\n",
        "        self.height = height\n",
        "\n",
        "    def get_height(self):\n",
        "        return self.height\n",
        "\n",
        "    def set_height(self, height):\n",
        "        self.height = height\n",
        "\n",
        "jane = Person(153) # Jane is 153cm tall\n",
        "\n",
        "jane.height += 1 # Jane grows by a centimetre\n",
        "jane.set_height(jane.height + 1) # Jane grows again"
      ]
    },
    {
      "cell_type": "markdown",
      "metadata": {},
      "source": [
        "Comme nous pouvons le voir, incrémenter l'attribut `height` via un setter est beaucoup plus détaillé. Bien sûr, nous pourrions écrire un deuxième setter qui incrémente l'attribut par le paramètre donné, mais nous devrions faire quelque chose de similaire pour chaque attribut et chaque type de modification que nous voulons effectuer. Nous aurions un problème similaire avec les modifications sur place, comme l'ajout de valeurs aux listes.\n",
        "\n",
        "Quelque chose qui est souvent considéré comme un avantage des setters et des getters est que nous pouvons changer la façon dont un attribut est généré à l'intérieur de l'objet sans affecter le code qui utilise l'objet. Par exemple, supposons que nous ayons initialement créé une classe `Person` qui a un attribut de nom complet, mais que nous voulions plus tard changer la classe pour avoir des attributs de nom et de famille séparés que nous combinons pour créer un nom complet. Si nous accédons toujours à l'attribut `fullname` via un setter, nous pouvons simplement réécrire le setter, aucun code qui appelle le setter ne devra être modifié.\n",
        "\n",
        "Mais que se passe-t-il si notre code accède directement à l'attribut `fullname` ? Nous pouvons écrire une méthode de nom complet qui renvoie la bonne valeur, mais une méthode doit être appelée. Heureusement, le décorateur @property nous permet de faire en sorte qu'une méthode se comporte comme un attribut :"
      ]
    },
    {
      "cell_type": "code",
      "execution_count": null,
      "metadata": {},
      "outputs": [],
      "source": [
        "class Person:\n",
        "    def __init__(self, name, surname):\n",
        "        self.name = name\n",
        "        self.surname = surname\n",
        "\n",
        "    @property\n",
        "    def fullname(self):\n",
        "        return \"%s %s\" % (self.name, self.surname)\n",
        "\n",
        "jane = Person(\"Jane\", \"Smith\")\n",
        "print(jane.fullname) # no brackets!"
      ]
    },
    {
      "cell_type": "markdown",
      "metadata": {},
      "source": [
        "Il existe également des décorateurs que nous pouvons utiliser pour définir un setter et un deleter pour notre attribut (un deleter supprimera l'attribut de notre objet). Les méthodes getter, setter et deleter doivent toutes avoir le même nom :"
      ]
    },
    {
      "cell_type": "code",
      "execution_count": null,
      "metadata": {},
      "outputs": [],
      "source": [
        "class Person:\n",
        "    def __init__(self, name, surname):\n",
        "        self.name = name\n",
        "        self.surname = surname\n",
        "\n",
        "    @property\n",
        "    def fullname(self):\n",
        "        return \"%s %s\" % (self.name, self.surname)\n",
        "\n",
        "    @fullname.setter\n",
        "    def fullname(self, value):\n",
        "        # this is much more complicated in real life\n",
        "        name, surname = value.split(\" \", 1)\n",
        "        self.name = name\n",
        "        self.surname = surname\n",
        "\n",
        "    @fullname.deleter\n",
        "    def fullname(self):\n",
        "        del self.name\n",
        "        del self.surname\n",
        "\n",
        "jane = Person(\"Jane\", \"Smith\")\n",
        "print(jane.fullname)\n",
        "\n",
        "jane.fullname = \"Jane Doe\"\n",
        "print(jane.fullname)\n",
        "print(jane.name)\n",
        "print(jane.surname)"
      ]
    },
    {
      "cell_type": "markdown",
      "metadata": {},
      "source": [
        "## Exercice 4\n",
        "\n",
        "Créez une classe appelée `Numbers`, qui a un seul attribut de classe appelé `MULTIPLIER`, et un constructeur qui prend les paramètres `x` et `y` (ceux-ci doivent tous être des nombres).\n",
        " - 1) Écrivez une méthode appelée `add` qui renvoie la somme des attributs `x` et `y`.\n",
        " - 2) Écrivez une méthode de classe appelée `multiply`, qui prend un seul paramètre numérique `a` et renvoie le produit de `a` et de `MULTIPLIER`.\n",
        " - 3) Écrivez une méthode statique appelée `subtract`, qui prend deux paramètres numériques : `b` et `c`, et renvoie `b - c`.\n",
        " - 4) Écrivez une méthode appelée `value` qui renvoie un tuple contenant les valeurs de `x` et `y`. Transformez cette méthode en propriété et écrivez un setter et un deleter pour manipuler les valeurs de `x` et `y`."
      ]
    },
    {
      "cell_type": "markdown",
      "metadata": {},
      "source": [
        "## 7. Inspecter un objet\n",
        "\n",
        "Nous pouvons vérifier quelles propriétés sont définies sur un objet en utilisant la fonction `dir` :"
      ]
    },
    {
      "cell_type": "code",
      "execution_count": null,
      "metadata": {},
      "outputs": [],
      "source": [
        "class Person:\n",
        "    def __init__(self, name, surname):\n",
        "        self.name = name\n",
        "        self.surname = surname\n",
        "\n",
        "    def fullname(self):\n",
        "        return \"%s %s\" % (self.name, self.surname)\n",
        "\n",
        "jane = Person(\"Jane\", \"Smith\")\n",
        "\n",
        "print(dir(jane))\n"
      ]
    },
    {
      "cell_type": "markdown",
      "metadata": {},
      "source": [
        "Maintenant, nous pouvons voir nos attributs et notre méthode. Mais qu'est-ce que c'est que tous ces autres trucs ? Nous discuterons de l'héritage dans le chapitre suivant, mais pour l'instant tout ce que vous devez savoir est que toute classe que vous définissez a un objet comme classe parent même si vous ne le dites pas explicitement, votre classe aura donc beaucoup d'attributs par défaut et les méthodes de tout objet Python.\n",
        "\n",
        "C'est pourquoi vous pouvez simplement omettre la méthode `__init__` de votre classe si vous n'avez aucune initialisation à faire, la valeur par défaut que vous avez héritée de object (qui ne fait rien) sera utilisée à la place. Si vous écrivez votre propre méthode `__init__`, elle remplacera (`override`) la méthode par défaut.\n",
        "\n",
        "De nombreuses méthodes et attributs par défaut que l'on trouve dans les objets Python de base ont des noms qui commencent et se terminent par des traits de soulignement doubles, comme `__init__` ou `__str__`. Ces noms indiquent que ces propriétés ont une signification particulière, vous ne devez pas créer vos propres méthodes ou attributs avec les mêmes noms, à moins que vous ne vouliez les surcharger. Ces propriétés sont généralement des méthodes, et elles sont parfois appelées méthodes magiques.\n",
        "\n",
        "Nous pouvons utiliser `dir` sur n'importe quel objet. Vous pouvez essayer de l'utiliser sur toutes sortes d'objets que nous avons déjà vus auparavant, comme des nombres, des listes, des chaînes et des fonctions, pour voir quelles propriétés intégrées ces objets ont en commun.\n",
        "\n",
        "Voici quelques exemples de propriétés d'objets spéciaux :\n",
        "\n",
        " - `__init__` : la méthode d'initialisation d'un objet, qui est appelée lors de la création de l'objet.\n",
        " - `__str__` : la méthode de représentation sous forme de chaîne d'un objet, qui est appelée lorsque vous utilisez la fonction `str` pour convertir cet objet en une chaîne.\n",
        " - `__class__` : un attribut qui stocke la classe (ou le type) d'un objet, c'est ce qui est renvoyé lorsque vous utilisez la fonction `type` sur l'objet.\n",
        " - `__eq__` : une méthode qui détermine si cet objet est égal à un autre. Il existe également d'autres méthodes pour déterminer si ce n'est pas égal, inférieur à, etc. Ces méthodes sont utilisées dans les comparaisons d'objets, par exemple lorsque nous utilisons l'opérateur d'égalité == pour vérifier si deux objets sont égaux.\n",
        " - `__add__` est une méthode qui permet d'ajouter cet objet à un autre objet. Il existe des méthodes équivalentes pour tous les autres opérateurs arithmétiques. Tous les objets ne prennent pas en charge toutes les opérations arithmétiques, les nombres ont toutes ces méthodes définies, mais d'autres objets peuvent n'avoir qu'un sous-ensemble.\n",
        " - `__iter__` : une méthode qui renvoie un itérateur sur l'objet, nous le trouverons sur des chaînes, des listes et d'autres itérables. Il est exécuté lorsque nous utilisons la fonction iter sur l'objet.\n",
        " - `__len__` : une méthode qui calcule la longueur d'un objet, on la retrouvera sur des séquences. Il est exécuté lorsque nous utilisons la fonction `len` d'un objet.\n",
        " - `__dict__` : un dictionnaire qui contient tous les attributs d'instance d'un objet, avec leurs noms comme clés. Cela peut être utile si nous voulons itérer sur tous les attributs d'un objet. `__dict__` n'inclut aucune méthode, attribut de classe ou attribut par défaut spécial comme `__class__`."
      ]
    },
    {
      "cell_type": "markdown",
      "metadata": {},
      "source": [
        "## Exercice 5\n",
        "\n",
        "Créez une instance de la classe `Person` de l'exemple 2. Utilisez la fonction `dir` sur l'instance. Ensuite, utilisez la fonction `dir` sur la classe.\n",
        " - 1) Que se passe-t-il si vous appelez la méthode `__str__` sur l'instance ? Vérifiez que vous obtenez le même résultat si vous appelez la fonction `str` avec l'instance comme paramètre.\n",
        " - 2) Quel est le type de l'instance ?\n",
        " - 3) Quel est le type de classe ?\n",
        " - 4) Écrivez une fonction qui affiche les noms et les valeurs de tous les attributs personnalisés de tout objet transmis en tant que paramètre."
      ]
    },
    {
      "cell_type": "markdown",
      "metadata": {},
      "source": [
        "### Remplacer les méthodes magiques"
      ]
    },
    {
      "cell_type": "code",
      "execution_count": null,
      "metadata": {},
      "outputs": [],
      "source": [
        "class Person:\n",
        "    def __init__(self, name, surname):\n",
        "        self.name = name\n",
        "        self.surname = surname\n",
        "\n",
        "    def __str__(self):\n",
        "        return f\"{self.name} {self.surname}\"\n",
        "\n",
        "    def __eq__(self, other): # does self == other?\n",
        "        return self.name == other.name and self.surname == other.surname\n",
        "\n",
        "    def __gt__(self, other): # is self > other?\n",
        "        if self.surname == other.surname:\n",
        "            return self.name > other.name\n",
        "        return self.surname > other.surname\n",
        "\n",
        "    # now we can define all the other methods in terms of the first two\n",
        "\n",
        "    def __ne__(self, other): # does self != other?\n",
        "        return not self == other # this calls self.__eq__(other)\n",
        "\n",
        "    def __le__(self, other): # is self <= other?\n",
        "        return not self > other # this calls self.__gt__(other)\n",
        "\n",
        "    def __lt__(self, other): # is self < other?\n",
        "        return not (self > other or self == other)\n",
        "\n",
        "    def __ge__(self, other): # is self >= other?\n",
        "        return not self < other\n"
      ]
    }
  ],
  "metadata": {
    "colab": {
      "name": "2021-07-07-React-C1-lesson1.ipynb",
      "provenance": []
    },
    "interpreter": {
      "hash": "5f93c710f340a2e31cff3bb6ebdbfdc2ef47a25bab77ef50e9e25900c31fe89f"
    },
    "kernelspec": {
      "display_name": "Python 3.7.9 64-bit ('python-course': virtualenv)",
      "name": "python3"
    },
    "language_info": {
      "codemirror_mode": {
        "name": "ipython",
        "version": 3
      },
      "file_extension": ".py",
      "mimetype": "text/x-python",
      "name": "python",
      "nbconvert_exporter": "python",
      "pygments_lexer": "ipython3",
      "version": "3.7.9"
    },
    "varInspector": {
      "cols": {
        "lenName": 16,
        "lenType": 16,
        "lenVar": 40
      },
      "kernels_config": {
        "python": {
          "delete_cmd_postfix": "",
          "delete_cmd_prefix": "del ",
          "library": "var_list.py",
          "varRefreshCmd": "print(var_dic_list())"
        },
        "r": {
          "delete_cmd_postfix": ") ",
          "delete_cmd_prefix": "rm(",
          "library": "var_list.r",
          "varRefreshCmd": "cat(var_dic_list()) "
        }
      },
      "types_to_exclude": [
        "module",
        "function",
        "builtin_function_or_method",
        "instance",
        "_Feature"
      ],
      "window_display": false
    }
  },
  "nbformat": 4,
  "nbformat_minor": 2
}
