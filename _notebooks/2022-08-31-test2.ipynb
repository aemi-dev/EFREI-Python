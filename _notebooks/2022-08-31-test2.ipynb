{
 "cells": [
  {
   "cell_type": "markdown",
   "metadata": {},
   "source": [
    "# \"Test2\"\n",
    "> \"Python : Chapitre 6- Lesson 1\"\n",
    "\n",
    "- toc: false \n",
    "- badges: true\n",
    "- hide_github_badge: true\n",
    "- comments: false\n",
    "- layout: post\n",
    "- author: datascientist.fr"
   ]
  }
 ],
 "metadata": {
  "language_info": {
   "name": "python"
  },
  "orig_nbformat": 4
 },
 "nbformat": 4,
 "nbformat_minor": 2
}
