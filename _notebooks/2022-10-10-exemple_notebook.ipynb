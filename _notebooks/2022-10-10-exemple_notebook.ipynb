{
 "cells": [
  {
   "cell_type": "markdown",
   "metadata": {},
   "source": [
    "# \"Titre du notebook\"\n",
    "\n",
    "- toc: false \n",
    "- comments: false\n",
    "- layout: post"
   ]
  },
  {
   "cell_type": "markdown",
   "metadata": {},
   "source": [
    "Le nom du fichier du notebook doit obligatoirement commencer par une date et avoir le format suivant \"AAAA-MM-JJ-nom_du_notebook.ipynb\"\n",
    "Exemple de nom de fichier : 2022-10-01-Introduction_Apprentissage_supervise.ipynb\n",
    "\n",
    "Vous devez également changer la première ligne de la preière cellule pour mettre le titre de votre notebook\n",
    "\n",
    "Les lignes 3, 4 et 5 ne doivent en aucun cas être changées."
   ]
  },
  {
   "cell_type": "code",
   "execution_count": 1,
   "metadata": {},
   "outputs": [
    {
     "name": "stdout",
     "output_type": "stream",
     "text": [
      "hello world\n"
     ]
    }
   ],
   "source": [
    "print('hello world')"
   ]
  }
 ],
 "metadata": {
  "kernelspec": {
   "display_name": "Python 3.10.3 64-bit ('3.10.3')",
   "language": "python",
   "name": "python3"
  },
  "language_info": {
   "name": "python",
   "version": "3.10.3"
  },
  "orig_nbformat": 4,
  "vscode": {
   "interpreter": {
    "hash": "acb474fda501992281b2748adf7ce42473b77828517d9227dc87753ece07e4d6"
   }
  }
 },
 "nbformat": 4,
 "nbformat_minor": 2
}
