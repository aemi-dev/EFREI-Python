{
 "cells": [
  {
   "cell_type": "markdown",
   "metadata": {},
   "source": [
    "# \"Pandas\"\n",
    "\n",
    "- toc: false \n",
    "- comments: false\n",
    "- layout: post"
   ]
  },
  {
   "cell_type": "markdown",
   "metadata": {},
   "source": [
    "# Pandas\n",
    "\n",
    "In this tutorial we will see some information about the **Python Data Analysis** library."
   ]
  },
  {
   "cell_type": "markdown",
   "metadata": {},
   "source": [
    "First, here are some libraries that we may want to use at various points in our examples.\n",
    "\n",
    "<a href = http://numpy.org>Numpy</a> is one of the most important libraries, as it enables us to manipulate data in the form of multidimensional arrays.\n",
    "It also gives us some operations such as random number generation\n",
    "\n",
    "The <a href = http://matplotlib.org>matplotlib</a> library enables plotting using an interface similar to MATLAB."
   ]
  },
  {
   "cell_type": "code",
   "execution_count": 38,
   "metadata": {
    "collapsed": false,
    "jupyter": {
     "outputs_hidden": false
    }
   },
   "outputs": [],
   "source": [
    "#this command is useful for making the plots appear inside the notebook\n",
    "%matplotlib inline \n",
    "\n",
    "import pandas as pd\n",
    "import pandas_datareader.data as web\n",
    "from pandas import Series, DataFrame\n",
    "\n",
    "import numpy as np\n",
    "\n",
    "import matplotlib.pyplot as plt\n",
    "import matplotlib as mpl\n",
    "\n",
    "import seaborn as sns\n",
    "\n",
    "from datetime import datetime"
   ]
  },
  {
   "cell_type": "markdown",
   "metadata": {},
   "source": [
    "##Data Structures\n",
    "\n",
    "Pandas have different data structures that we can use for manipulating different types of data. Here we will see **Series** (1-dimensional data structures) and **Data Frames** (2-dimensional data structures).\n",
    "\n",
    "### Series\n",
    "\n",
    "Series is a one-dimensional labeled array capable of holding any data type (integers, strings, floating point numbers, Python objects, etc.). The axis labels are collectively referred to as the index. The basic method to create a Series is to call:\n",
    "\n",
    "*s = pd.Series(data, index=index)*\n",
    "\n",
    "Here, data can be many different things:\n",
    "- a Python dict\n",
    "- an <a href = http://docs.scipy.org/doc/numpy/reference/generated/numpy.ndarray.html> ndarray </a>\n",
    "- a scalar value (like 5)\n",
    "\n",
    "The passed index is a list of axis labels. "
   ]
  },
  {
   "cell_type": "code",
   "execution_count": 4,
   "metadata": {
    "collapsed": false,
    "jupyter": {
     "outputs_hidden": false
    }
   },
   "outputs": [
    {
     "data": {
      "text/plain": [
       "a   -0.246915\n",
       "b    0.942119\n",
       "c    0.022019\n",
       "d    0.283412\n",
       "e   -0.495210\n",
       "dtype: float64"
      ]
     },
     "execution_count": 4,
     "metadata": {},
     "output_type": "execute_result"
    }
   ],
   "source": [
    "#Series from list with index (row names)\n",
    "s = pd.Series(np.random.randn(5), index=['a', 'b', 'c', 'd', 'e'])\n",
    "#s = pd.Series([1,2,3,4,5],index=['a', 'b', 'c', 'a', 'e'] )\n",
    "s"
   ]
  },
  {
   "cell_type": "code",
   "execution_count": 5,
   "metadata": {
    "collapsed": false,
    "jupyter": {
     "outputs_hidden": false
    }
   },
   "outputs": [
    {
     "data": {
      "text/plain": [
       "0    3.159664\n",
       "1   -0.792537\n",
       "2    0.346478\n",
       "3    0.647315\n",
       "4    0.244372\n",
       "dtype: float64"
      ]
     },
     "execution_count": 5,
     "metadata": {},
     "output_type": "execute_result"
    }
   ],
   "source": [
    "#Series from list without index. Default index = [1,2,...]\n",
    "pd.Series(np.random.randn(5)) "
   ]
  },
  {
   "cell_type": "code",
   "execution_count": 6,
   "metadata": {
    "collapsed": false,
    "jupyter": {
     "outputs_hidden": false
    }
   },
   "outputs": [
    {
     "data": {
      "text/plain": [
       "a    0.0\n",
       "b    1.0\n",
       "c    2.0\n",
       "dtype: float64"
      ]
     },
     "execution_count": 6,
     "metadata": {},
     "output_type": "execute_result"
    }
   ],
   "source": [
    "#Series from dictionary: The keys are used as index, and the values as series values \n",
    "d = {'a' : 0., 'b' : 1., 'c' : 2.}\n",
    "pd.Series(d)"
   ]
  },
  {
   "cell_type": "code",
   "execution_count": 7,
   "metadata": {
    "collapsed": false,
    "jupyter": {
     "outputs_hidden": false
    }
   },
   "outputs": [
    {
     "data": {
      "text/plain": [
       "b    1.0\n",
       "c    2.0\n",
       "d    NaN\n",
       "a    0.0\n",
       "dtype: float64"
      ]
     },
     "execution_count": 7,
     "metadata": {},
     "output_type": "execute_result"
    }
   ],
   "source": [
    "#Series with missing data\n",
    "pd.Series(d, index=['b', 'c', 'd', 'a'])\n",
    "#note that by setting the index we can re-arrange the series values"
   ]
  },
  {
   "cell_type": "markdown",
   "metadata": {},
   "source": [
    "**Note**: NaN (not a number) is the standard missing data marker used in pandas"
   ]
  },
  {
   "cell_type": "code",
   "execution_count": 8,
   "metadata": {
    "collapsed": false,
    "jupyter": {
     "outputs_hidden": false
    }
   },
   "outputs": [
    {
     "data": {
      "text/plain": [
       "a    5.0\n",
       "b    5.0\n",
       "c    5.0\n",
       "d    5.0\n",
       "e    5.0\n",
       "dtype: float64"
      ]
     },
     "execution_count": 8,
     "metadata": {},
     "output_type": "execute_result"
    }
   ],
   "source": [
    "#Series with a scalar\n",
    "pd.Series(5., index=['a', 'b', 'c', 'd', 'e'])"
   ]
  },
  {
   "cell_type": "markdown",
   "metadata": {},
   "source": [
    "We can select parts of the series, and perform operations on series"
   ]
  },
  {
   "cell_type": "code",
   "execution_count": 9,
   "metadata": {
    "collapsed": false,
    "jupyter": {
     "outputs_hidden": false
    }
   },
   "outputs": [
    {
     "name": "stdout",
     "output_type": "stream",
     "text": [
      "a    1.108348\n",
      "b   -0.266645\n",
      "c   -1.318730\n",
      "d    0.818145\n",
      "e    0.873283\n",
      "dtype: float64\n"
     ]
    }
   ],
   "source": [
    "s = pd.Series(np.random.randn(5), index=['a', 'b', 'c', 'd', 'e'])\n",
    "print(s)"
   ]
  },
  {
   "cell_type": "code",
   "execution_count": 10,
   "metadata": {
    "collapsed": false,
    "jupyter": {
     "outputs_hidden": false
    }
   },
   "outputs": [
    {
     "name": "stdout",
     "output_type": "stream",
     "text": [
      "1.10834848742\n",
      "1.10834848742\n",
      "a    1.108348\n",
      "b   -0.266645\n",
      "dtype: float64\n",
      "d    0.818145\n",
      "e    0.873283\n",
      "dtype: float64\n",
      "0.8181453924284302\n",
      "a     True\n",
      "b    False\n",
      "c    False\n",
      "d    False\n",
      "e     True\n",
      "dtype: bool\n",
      "a    1.108348\n",
      "e    0.873283\n",
      "dtype: float64\n"
     ]
    }
   ],
   "source": [
    "#Selection from series\n",
    "print(s[0])\n",
    "print (s['a'])\n",
    "print (s[:2])\n",
    "print(s[3:5])\n",
    "print(s.median())\n",
    "print(s>s.median())\n",
    "print(s[s>s.median()])\n",
    "\n",
    "#Operations on Series\n",
    "#print (s+s)\n",
    "#print (2*s)\n",
    "#print (s**2)"
   ]
  },
  {
   "cell_type": "code",
   "execution_count": 11,
   "metadata": {
    "collapsed": false,
    "jupyter": {
     "outputs_hidden": false
    }
   },
   "outputs": [
    {
     "name": "stdout",
     "output_type": "stream",
     "text": [
      "a    1.108348\n",
      "d    0.818145\n",
      "e    0.873283\n",
      "dtype: float64\n"
     ]
    }
   ],
   "source": [
    "#Using s[predicate] we can select different entries in the data series\n",
    "print(s[s>0])"
   ]
  },
  {
   "cell_type": "markdown",
   "metadata": {},
   "source": [
    "###Data Frames\n",
    "DataFrame is a 2-dimensional labeled data structure with columns of potentially different types. You can think of it like a spreadsheet or SQL table, or a dict of Series objects. It is generally the most commonly used pandas object. Like Series, DataFrame accepts many different kinds of input:\n",
    "\n",
    "- Dictionary of 1D ndarrays, lists, dicts, or Series\n",
    "- 2-D numpy.ndarray\n",
    "- Structured or record ndarray\n",
    "- A Series\n",
    "- Another DataFrame\n",
    "\n",
    "Along with the data, you can optionally pass **index** (row labels) and **columns** (column labels) arguments. If you pass an index and / or columns, you are guaranteeing the index and / or columns of the resulting DataFrame. Thus, a dict of Series plus a specific index will discard all data not matching up to the passed index."
   ]
  },
  {
   "cell_type": "code",
   "execution_count": 12,
   "metadata": {
    "collapsed": false,
    "jupyter": {
     "outputs_hidden": false
    }
   },
   "outputs": [
    {
     "data": {
      "text/html": [
       "<div>\n",
       "<table border=\"1\" class=\"dataframe\">\n",
       "  <thead>\n",
       "    <tr style=\"text-align: right;\">\n",
       "      <th></th>\n",
       "      <th>one</th>\n",
       "      <th>two</th>\n",
       "    </tr>\n",
       "  </thead>\n",
       "  <tbody>\n",
       "    <tr>\n",
       "      <th>a</th>\n",
       "      <td>1.0</td>\n",
       "      <td>1.0</td>\n",
       "    </tr>\n",
       "    <tr>\n",
       "      <th>b</th>\n",
       "      <td>2.0</td>\n",
       "      <td>2.0</td>\n",
       "    </tr>\n",
       "    <tr>\n",
       "      <th>c</th>\n",
       "      <td>3.0</td>\n",
       "      <td>3.0</td>\n",
       "    </tr>\n",
       "    <tr>\n",
       "      <th>d</th>\n",
       "      <td>NaN</td>\n",
       "      <td>4.0</td>\n",
       "    </tr>\n",
       "  </tbody>\n",
       "</table>\n",
       "</div>"
      ],
      "text/plain": [
       "   one  two\n",
       "a  1.0  1.0\n",
       "b  2.0  2.0\n",
       "c  3.0  3.0\n",
       "d  NaN  4.0"
      ]
     },
     "execution_count": 12,
     "metadata": {},
     "output_type": "execute_result"
    }
   ],
   "source": [
    "d = {'one' : pd.Series([1., 2., 3.], index=['a', 'b', 'c']),\n",
    "     'two' : pd.Series([1., 2., 3., 4.], index=['a', 'b', 'c', 'd'])}\n",
    "df = pd.DataFrame(d)\n",
    "df"
   ]
  },
  {
   "cell_type": "code",
   "execution_count": null,
   "metadata": {
    "collapsed": false,
    "jupyter": {
     "outputs_hidden": false
    }
   },
   "outputs": [],
   "source": [
    "print(df)"
   ]
  },
  {
   "cell_type": "code",
   "execution_count": 13,
   "metadata": {
    "collapsed": false,
    "jupyter": {
     "outputs_hidden": false
    }
   },
   "outputs": [
    {
     "data": {
      "text/html": [
       "<div>\n",
       "<table border=\"1\" class=\"dataframe\">\n",
       "  <thead>\n",
       "    <tr style=\"text-align: right;\">\n",
       "      <th></th>\n",
       "      <th>one</th>\n",
       "      <th>two</th>\n",
       "    </tr>\n",
       "  </thead>\n",
       "  <tbody>\n",
       "    <tr>\n",
       "      <th>a</th>\n",
       "      <td>1.0</td>\n",
       "      <td>4.0</td>\n",
       "    </tr>\n",
       "    <tr>\n",
       "      <th>b</th>\n",
       "      <td>2.0</td>\n",
       "      <td>3.0</td>\n",
       "    </tr>\n",
       "    <tr>\n",
       "      <th>c</th>\n",
       "      <td>3.0</td>\n",
       "      <td>2.0</td>\n",
       "    </tr>\n",
       "    <tr>\n",
       "      <th>d</th>\n",
       "      <td>4.0</td>\n",
       "      <td>1.0</td>\n",
       "    </tr>\n",
       "  </tbody>\n",
       "</table>\n",
       "</div>"
      ],
      "text/plain": [
       "   one  two\n",
       "a  1.0  4.0\n",
       "b  2.0  3.0\n",
       "c  3.0  2.0\n",
       "d  4.0  1.0"
      ]
     },
     "execution_count": 13,
     "metadata": {},
     "output_type": "execute_result"
    }
   ],
   "source": [
    "d = {'one' : [1., 2., 3., 4.],\n",
    "     'two' : [4., 3., 2., 1.]} \n",
    "#     'two' : [4., 3., 2., 1.,7.]} \n",
    "\n",
    "pd.DataFrame(d)\n",
    "pd.DataFrame(d, index = ['a','b','c','d'])"
   ]
  },
  {
   "cell_type": "code",
   "execution_count": 14,
   "metadata": {
    "collapsed": false,
    "jupyter": {
     "outputs_hidden": false
    }
   },
   "outputs": [
    {
     "data": {
      "text/html": [
       "<div>\n",
       "<table border=\"1\" class=\"dataframe\">\n",
       "  <thead>\n",
       "    <tr style=\"text-align: right;\">\n",
       "      <th></th>\n",
       "      <th>one</th>\n",
       "      <th>two</th>\n",
       "      <th>three</th>\n",
       "    </tr>\n",
       "  </thead>\n",
       "  <tbody>\n",
       "    <tr>\n",
       "      <th>A</th>\n",
       "      <td>1</td>\n",
       "      <td>2</td>\n",
       "      <td>3</td>\n",
       "    </tr>\n",
       "    <tr>\n",
       "      <th>B</th>\n",
       "      <td>4</td>\n",
       "      <td>5</td>\n",
       "      <td>6</td>\n",
       "    </tr>\n",
       "  </tbody>\n",
       "</table>\n",
       "</div>"
      ],
      "text/plain": [
       "   one  two  three\n",
       "A    1    2      3\n",
       "B    4    5      6"
      ]
     },
     "execution_count": 14,
     "metadata": {},
     "output_type": "execute_result"
    }
   ],
   "source": [
    "pd.DataFrame.from_items([('A', [1, 2, 3]), ('B', [4, 5, 6])],\n",
    "                       orient='index', columns=['one', 'two', 'three']\n",
    "                        )\n",
    "#The orient = 'index' makes the keys to be rows, otherwise they would be columns"
   ]
  },
  {
   "cell_type": "code",
   "execution_count": 15,
   "metadata": {
    "collapsed": false,
    "jupyter": {
     "outputs_hidden": false
    }
   },
   "outputs": [
    {
     "data": {
      "text/html": [
       "<div>\n",
       "<table border=\"1\" class=\"dataframe\">\n",
       "  <thead>\n",
       "    <tr style=\"text-align: right;\">\n",
       "      <th></th>\n",
       "      <th>A</th>\n",
       "      <th>B</th>\n",
       "      <th>C</th>\n",
       "      <th>D</th>\n",
       "      <th>E</th>\n",
       "    </tr>\n",
       "  </thead>\n",
       "  <tbody>\n",
       "    <tr>\n",
       "      <th>first</th>\n",
       "      <td>1.0</td>\n",
       "      <td>2015-11-01</td>\n",
       "      <td>0.499404</td>\n",
       "      <td>test</td>\n",
       "      <td>foo</td>\n",
       "    </tr>\n",
       "    <tr>\n",
       "      <th>second</th>\n",
       "      <td>1.0</td>\n",
       "      <td>2015-11-02</td>\n",
       "      <td>-0.993633</td>\n",
       "      <td>train</td>\n",
       "      <td>bar</td>\n",
       "    </tr>\n",
       "    <tr>\n",
       "      <th>third</th>\n",
       "      <td>1.0</td>\n",
       "      <td>2015-11-03</td>\n",
       "      <td>-1.145973</td>\n",
       "      <td>test</td>\n",
       "      <td>foo</td>\n",
       "    </tr>\n",
       "    <tr>\n",
       "      <th>fourth</th>\n",
       "      <td>1.0</td>\n",
       "      <td>2015-11-04</td>\n",
       "      <td>-0.436992</td>\n",
       "      <td>train</td>\n",
       "      <td>bar</td>\n",
       "    </tr>\n",
       "  </tbody>\n",
       "</table>\n",
       "</div>"
      ],
      "text/plain": [
       "          A          B         C      D    E\n",
       "first   1.0 2015-11-01  0.499404   test  foo\n",
       "second  1.0 2015-11-02 -0.993633  train  bar\n",
       "third   1.0 2015-11-03 -1.145973   test  foo\n",
       "fourth  1.0 2015-11-04 -0.436992  train  bar"
      ]
     },
     "execution_count": 15,
     "metadata": {},
     "output_type": "execute_result"
    }
   ],
   "source": [
    "df2 = pd.DataFrame({ 'A' : 1.,\n",
    "                   #'B' : pd.Timestamp('20130102'),\n",
    "                   'B': pd.date_range('20151101', periods=4),\n",
    "                   'C' : np.random.randn(4),\n",
    "                   'D' : pd.Categorical([\"test\",\"train\",\"test\",\"train\"]),\n",
    "                   'E' : [\"foo\",\"bar\",\"foo\",\"bar\"] }\n",
    "                   ,index = ['first','second','third','fourth']\n",
    "                  )\n",
    "df2\n",
    "#df2.info()"
   ]
  },
  {
   "cell_type": "code",
   "execution_count": 16,
   "metadata": {
    "collapsed": false,
    "jupyter": {
     "outputs_hidden": false
    }
   },
   "outputs": [
    {
     "data": {
      "text/html": [
       "<div>\n",
       "<table border=\"1\" class=\"dataframe\">\n",
       "  <thead>\n",
       "    <tr style=\"text-align: right;\">\n",
       "      <th></th>\n",
       "      <th>0</th>\n",
       "      <th>1</th>\n",
       "    </tr>\n",
       "  </thead>\n",
       "  <tbody>\n",
       "    <tr>\n",
       "      <th>0</th>\n",
       "      <td>a</td>\n",
       "      <td>1</td>\n",
       "    </tr>\n",
       "    <tr>\n",
       "      <th>1</th>\n",
       "      <td>a</td>\n",
       "      <td>1</td>\n",
       "    </tr>\n",
       "    <tr>\n",
       "      <th>2</th>\n",
       "      <td>b</td>\n",
       "      <td>2</td>\n",
       "    </tr>\n",
       "    <tr>\n",
       "      <th>3</th>\n",
       "      <td>c</td>\n",
       "      <td>3</td>\n",
       "    </tr>\n",
       "    <tr>\n",
       "      <th>4</th>\n",
       "      <td>c</td>\n",
       "      <td>2</td>\n",
       "    </tr>\n",
       "    <tr>\n",
       "      <th>5</th>\n",
       "      <td>a</td>\n",
       "      <td>1</td>\n",
       "    </tr>\n",
       "  </tbody>\n",
       "</table>\n",
       "</div>"
      ],
      "text/plain": [
       "   0  1\n",
       "0  a  1\n",
       "1  a  1\n",
       "2  b  2\n",
       "3  c  3\n",
       "4  c  2\n",
       "5  a  1"
      ]
     },
     "execution_count": 16,
     "metadata": {},
     "output_type": "execute_result"
    }
   ],
   "source": [
    "tdf = pd.DataFrame([['a',1],['a',1],['b',2],['c',3],['c',2],['a',1]])\n",
    "tdf"
   ]
  },
  {
   "cell_type": "markdown",
   "metadata": {},
   "source": [
    "Loading data frame from CSV file"
   ]
  },
  {
   "cell_type": "code",
   "execution_count": null,
   "metadata": {
    "collapsed": false,
    "jupyter": {
     "outputs_hidden": false
    }
   },
   "outputs": [
    {
     "data": {
      "text/html": [
       "<div>\n",
       "<table border=\"1\" class=\"dataframe\">\n",
       "  <thead>\n",
       "    <tr style=\"text-align: right;\">\n",
       "      <th></th>\n",
       "      <th>A</th>\n",
       "      <th>B</th>\n",
       "      <th>C</th>\n",
       "      <th>D</th>\n",
       "    </tr>\n",
       "  </thead>\n",
       "  <tbody>\n",
       "    <tr>\n",
       "      <th>0</th>\n",
       "      <td>43.824904</td>\n",
       "      <td>0.000521</td>\n",
       "      <td>6.417850e-14</td>\n",
       "      <td>0.022664</td>\n",
       "    </tr>\n",
       "    <tr>\n",
       "      <th>1</th>\n",
       "      <td>20.476820</td>\n",
       "      <td>0.002384</td>\n",
       "      <td>6.852720e-07</td>\n",
       "      <td>0.047537</td>\n",
       "    </tr>\n",
       "    <tr>\n",
       "      <th>2</th>\n",
       "      <td>50.858518</td>\n",
       "      <td>0.000387</td>\n",
       "      <td>4.898470e-16</td>\n",
       "      <td>0.019378</td>\n",
       "    </tr>\n",
       "    <tr>\n",
       "      <th>3</th>\n",
       "      <td>33.428671</td>\n",
       "      <td>0.000895</td>\n",
       "      <td>8.649030e-11</td>\n",
       "      <td>0.029216</td>\n",
       "    </tr>\n",
       "    <tr>\n",
       "      <th>4</th>\n",
       "      <td>34.905758</td>\n",
       "      <td>0.000820</td>\n",
       "      <td>3.106850e-11</td>\n",
       "      <td>0.027941</td>\n",
       "    </tr>\n",
       "    <tr>\n",
       "      <th>5</th>\n",
       "      <td>56.353824</td>\n",
       "      <td>0.000315</td>\n",
       "      <td>1.085950e-17</td>\n",
       "      <td>0.017495</td>\n",
       "    </tr>\n",
       "    <tr>\n",
       "      <th>6</th>\n",
       "      <td>18.421861</td>\n",
       "      <td>0.002943</td>\n",
       "      <td>2.847520e-06</td>\n",
       "      <td>0.053069</td>\n",
       "    </tr>\n",
       "    <tr>\n",
       "      <th>7</th>\n",
       "      <td>94.764520</td>\n",
       "      <td>0.000111</td>\n",
       "      <td>2.971920e-29</td>\n",
       "      <td>0.010524</td>\n",
       "    </tr>\n",
       "    <tr>\n",
       "      <th>8</th>\n",
       "      <td>50.440349</td>\n",
       "      <td>0.000393</td>\n",
       "      <td>6.545490e-16</td>\n",
       "      <td>0.019569</td>\n",
       "    </tr>\n",
       "    <tr>\n",
       "      <th>9</th>\n",
       "      <td>81.208300</td>\n",
       "      <td>0.000152</td>\n",
       "      <td>3.579860e-25</td>\n",
       "      <td>0.012295</td>\n",
       "    </tr>\n",
       "    <tr>\n",
       "      <th>10</th>\n",
       "      <td>42.534645</td>\n",
       "      <td>0.000553</td>\n",
       "      <td>1.569630e-13</td>\n",
       "      <td>0.023509</td>\n",
       "    </tr>\n",
       "    <tr>\n",
       "      <th>11</th>\n",
       "      <td>86.330824</td>\n",
       "      <td>0.000134</td>\n",
       "      <td>1.027620e-26</td>\n",
       "      <td>0.011453</td>\n",
       "    </tr>\n",
       "    <tr>\n",
       "      <th>12</th>\n",
       "      <td>35.473905</td>\n",
       "      <td>0.000794</td>\n",
       "      <td>2.095510e-11</td>\n",
       "      <td>0.028075</td>\n",
       "    </tr>\n",
       "    <tr>\n",
       "      <th>13</th>\n",
       "      <td>47.718968</td>\n",
       "      <td>0.000439</td>\n",
       "      <td>4.316770e-15</td>\n",
       "      <td>0.020626</td>\n",
       "    </tr>\n",
       "    <tr>\n",
       "      <th>14</th>\n",
       "      <td>92.125546</td>\n",
       "      <td>0.000118</td>\n",
       "      <td>1.851170e-28</td>\n",
       "      <td>0.010790</td>\n",
       "    </tr>\n",
       "    <tr>\n",
       "      <th>15</th>\n",
       "      <td>52.466679</td>\n",
       "      <td>0.000363</td>\n",
       "      <td>1.606780e-16</td>\n",
       "      <td>0.018792</td>\n",
       "    </tr>\n",
       "    <tr>\n",
       "      <th>16</th>\n",
       "      <td>28.635217</td>\n",
       "      <td>0.001218</td>\n",
       "      <td>2.398510e-09</td>\n",
       "      <td>0.034112</td>\n",
       "    </tr>\n",
       "    <tr>\n",
       "      <th>17</th>\n",
       "      <td>67.312365</td>\n",
       "      <td>0.000221</td>\n",
       "      <td>5.457060e-21</td>\n",
       "      <td>0.014761</td>\n",
       "    </tr>\n",
       "    <tr>\n",
       "      <th>18</th>\n",
       "      <td>59.570829</td>\n",
       "      <td>0.000282</td>\n",
       "      <td>1.167870e-18</td>\n",
       "      <td>0.016725</td>\n",
       "    </tr>\n",
       "    <tr>\n",
       "      <th>19</th>\n",
       "      <td>7.229879</td>\n",
       "      <td>0.018892</td>\n",
       "      <td>6.659548e-03</td>\n",
       "      <td>0.125950</td>\n",
       "    </tr>\n",
       "  </tbody>\n",
       "</table>\n",
       "</div>"
      ],
      "text/plain": [
       "            A         B             C         D\n",
       "0   43.824904  0.000521  6.417850e-14  0.022664\n",
       "1   20.476820  0.002384  6.852720e-07  0.047537\n",
       "2   50.858518  0.000387  4.898470e-16  0.019378\n",
       "3   33.428671  0.000895  8.649030e-11  0.029216\n",
       "4   34.905758  0.000820  3.106850e-11  0.027941\n",
       "5   56.353824  0.000315  1.085950e-17  0.017495\n",
       "6   18.421861  0.002943  2.847520e-06  0.053069\n",
       "7   94.764520  0.000111  2.971920e-29  0.010524\n",
       "8   50.440349  0.000393  6.545490e-16  0.019569\n",
       "9   81.208300  0.000152  3.579860e-25  0.012295\n",
       "10  42.534645  0.000553  1.569630e-13  0.023509\n",
       "11  86.330824  0.000134  1.027620e-26  0.011453\n",
       "12  35.473905  0.000794  2.095510e-11  0.028075\n",
       "13  47.718968  0.000439  4.316770e-15  0.020626\n",
       "14  92.125546  0.000118  1.851170e-28  0.010790\n",
       "15  52.466679  0.000363  1.606780e-16  0.018792\n",
       "16  28.635217  0.001218  2.398510e-09  0.034112\n",
       "17  67.312365  0.000221  5.457060e-21  0.014761\n",
       "18  59.570829  0.000282  1.167870e-18  0.016725\n",
       "19   7.229879  0.018892  6.659548e-03  0.125950"
      ]
     },
     "execution_count": 17,
     "metadata": {},
     "output_type": "execute_result"
    }
   ],
   "source": [
    "df = pd.read_csv('https://raw.githubusercontent.com/DataScientist-fr/datasets/main/distributions_short.csv',\n",
    "                 names=list('ABCD'))\n",
    "df"
   ]
  },
  {
   "cell_type": "markdown",
   "metadata": {},
   "source": [
    "**Loading data from the web**\n",
    "\n",
    "More information on what types of data you can fetch\n",
    "http://pandas.pydata.org/pandas-docs/stable/remote_data.html"
   ]
  },
  {
   "cell_type": "code",
   "execution_count": 18,
   "metadata": {
    "collapsed": false,
    "jupyter": {
     "outputs_hidden": false
    }
   },
   "outputs": [
    {
     "name": "stdout",
     "output_type": "stream",
     "text": [
      "<class 'pandas.core.frame.DataFrame'>\n",
      "DatetimeIndex: 1266 entries, 2012-03-02 to 2017-03-14\n",
      "Data columns (total 6 columns):\n",
      "Open         1266 non-null float64\n",
      "High         1266 non-null float64\n",
      "Low          1266 non-null float64\n",
      "Close        1266 non-null float64\n",
      "Volume       1266 non-null int64\n",
      "Adj Close    1266 non-null float64\n",
      "dtypes: float64(5), int64(1)\n",
      "memory usage: 69.2 KB\n"
     ]
    },
    {
     "data": {
      "text/html": [
       "<div>\n",
       "<table border=\"1\" class=\"dataframe\">\n",
       "  <thead>\n",
       "    <tr style=\"text-align: right;\">\n",
       "      <th></th>\n",
       "      <th>Open</th>\n",
       "      <th>High</th>\n",
       "      <th>Low</th>\n",
       "      <th>Close</th>\n",
       "      <th>Volume</th>\n",
       "      <th>Adj Close</th>\n",
       "    </tr>\n",
       "    <tr>\n",
       "      <th>Date</th>\n",
       "      <th></th>\n",
       "      <th></th>\n",
       "      <th></th>\n",
       "      <th></th>\n",
       "      <th></th>\n",
       "      <th></th>\n",
       "    </tr>\n",
       "  </thead>\n",
       "  <tbody>\n",
       "    <tr>\n",
       "      <th>2012-03-02</th>\n",
       "      <td>22.010000</td>\n",
       "      <td>26.000000</td>\n",
       "      <td>22.000000</td>\n",
       "      <td>24.58</td>\n",
       "      <td>4809400</td>\n",
       "      <td>24.58</td>\n",
       "    </tr>\n",
       "    <tr>\n",
       "      <th>2012-03-05</th>\n",
       "      <td>24.850000</td>\n",
       "      <td>24.860001</td>\n",
       "      <td>20.900000</td>\n",
       "      <td>20.99</td>\n",
       "      <td>2988200</td>\n",
       "      <td>20.99</td>\n",
       "    </tr>\n",
       "    <tr>\n",
       "      <th>2012-03-06</th>\n",
       "      <td>19.830000</td>\n",
       "      <td>20.500000</td>\n",
       "      <td>19.360001</td>\n",
       "      <td>20.50</td>\n",
       "      <td>1154300</td>\n",
       "      <td>20.50</td>\n",
       "    </tr>\n",
       "    <tr>\n",
       "      <th>2012-03-07</th>\n",
       "      <td>20.450001</td>\n",
       "      <td>20.629999</td>\n",
       "      <td>19.950001</td>\n",
       "      <td>20.25</td>\n",
       "      <td>444800</td>\n",
       "      <td>20.25</td>\n",
       "    </tr>\n",
       "    <tr>\n",
       "      <th>2012-03-08</th>\n",
       "      <td>20.299999</td>\n",
       "      <td>20.389999</td>\n",
       "      <td>19.959999</td>\n",
       "      <td>20.00</td>\n",
       "      <td>436900</td>\n",
       "      <td>20.00</td>\n",
       "    </tr>\n",
       "  </tbody>\n",
       "</table>\n",
       "</div>"
      ],
      "text/plain": [
       "                 Open       High        Low  Close   Volume  Adj Close\n",
       "Date                                                                  \n",
       "2012-03-02  22.010000  26.000000  22.000000  24.58  4809400      24.58\n",
       "2012-03-05  24.850000  24.860001  20.900000  20.99  2988200      20.99\n",
       "2012-03-06  19.830000  20.500000  19.360001  20.50  1154300      20.50\n",
       "2012-03-07  20.450001  20.629999  19.950001  20.25   444800      20.25\n",
       "2012-03-08  20.299999  20.389999  19.959999  20.00   436900      20.00"
      ]
     },
     "execution_count": 18,
     "metadata": {},
     "output_type": "execute_result"
    }
   ],
   "source": [
    "stocks = 'YELP'\n",
    "\n",
    "ydf = web.get_data_yahoo(stocks)\n",
    "#                                 start=datetime.datetime(2011, 10, 1), \n",
    "#                                 end=datetime.datetime(2014, 12, 31))\n",
    "\n",
    "\n",
    "ydf.info()\n",
    "ydf.head()"
   ]
  },
  {
   "cell_type": "markdown",
   "metadata": {},
   "source": [
    "Changing column names"
   ]
  },
  {
   "cell_type": "code",
   "execution_count": 19,
   "metadata": {
    "collapsed": false,
    "jupyter": {
     "outputs_hidden": false
    }
   },
   "outputs": [
    {
     "name": "stdout",
     "output_type": "stream",
     "text": [
      "<class 'pandas.core.frame.DataFrame'>\n",
      "DatetimeIndex: 1266 entries, 2012-03-02 to 2017-03-14\n",
      "Data columns (total 6 columns):\n",
      "open         1266 non-null float64\n",
      "high         1266 non-null float64\n",
      "low          1266 non-null float64\n",
      "close        1266 non-null float64\n",
      "volume       1266 non-null int64\n",
      "adj_close    1266 non-null float64\n",
      "dtypes: float64(5), int64(1)\n",
      "memory usage: 69.2 KB\n"
     ]
    }
   ],
   "source": [
    "new_column_names = [x.lower().replace(' ','_') for x in ydf.columns]\n",
    "ydf.columns = new_column_names\n",
    "ydf.info()"
   ]
  },
  {
   "cell_type": "markdown",
   "metadata": {},
   "source": [
    "**Saving data**\n",
    "\n",
    "Save a df into a csv:"
   ]
  },
  {
   "cell_type": "code",
   "execution_count": null,
   "metadata": {
    "collapsed": false,
    "jupyter": {
     "outputs_hidden": false
    }
   },
   "outputs": [],
   "source": [
    "df.to_csv('foo.csv')"
   ]
  },
  {
   "cell_type": "markdown",
   "metadata": {},
   "source": [
    "##Operations with pandas\n",
    "\n",
    "**Indexing**\n",
    "\n",
    "The basics of indexing are as follows:\n",
    "\n",
    "<table>\n",
    "<tr>\n",
    "<td> Operation</td>\t<td>Syntax</td>\t<td>Result</td>\n",
    "</tr>\n",
    "\n",
    "<tr>\n",
    "<td> Select column</td>\t<td>df[col] (df.col)</td>\t<td>Series</td>\n",
    "</tr>\n",
    "<tr>\n",
    "<td> Select columns</td>\t<td>df[[col list]]</td>\t<td>Data Frame</td>\n",
    "</tr>\n",
    "<tr>\n",
    "<td> Select row by label</td>\t<td>df.loc[label]</td>\t<td>Series</td>\n",
    "</tr>\n",
    "<tr>\n",
    "<td> Select row by integer location</td>\t<td>df.iloc[loc]</td>\t<td>Series</td>\n",
    "</tr>\n",
    "<tr>\n",
    "<td> Slice rows</td>\t<td>df[5:10]</td>\t<td>Data Frame</td>\n",
    "</tr>\n",
    "</table>"
   ]
  },
  {
   "cell_type": "code",
   "execution_count": 20,
   "metadata": {
    "collapsed": false,
    "jupyter": {
     "outputs_hidden": false
    }
   },
   "outputs": [
    {
     "data": {
      "text/html": [
       "<div>\n",
       "<table border=\"1\" class=\"dataframe\">\n",
       "  <thead>\n",
       "    <tr style=\"text-align: right;\">\n",
       "      <th></th>\n",
       "      <th>A</th>\n",
       "      <th>B</th>\n",
       "    </tr>\n",
       "  </thead>\n",
       "  <tbody>\n",
       "    <tr>\n",
       "      <th>second</th>\n",
       "      <td>1.0</td>\n",
       "      <td>2015-11-02</td>\n",
       "    </tr>\n",
       "    <tr>\n",
       "      <th>third</th>\n",
       "      <td>1.0</td>\n",
       "      <td>2015-11-03</td>\n",
       "    </tr>\n",
       "  </tbody>\n",
       "</table>\n",
       "</div>"
      ],
      "text/plain": [
       "          A          B\n",
       "second  1.0 2015-11-02\n",
       "third   1.0 2015-11-03"
      ]
     },
     "execution_count": 20,
     "metadata": {},
     "output_type": "execute_result"
    }
   ],
   "source": [
    "df2['B']\n",
    "df2.A\n",
    "df2.loc['first'] \n",
    "df2.ix('first')\n",
    "df2.iloc[1:3]\n",
    "df2.iloc[1]\n",
    "df2[['A','B']]\n",
    "df2[['A','B']][1:3]\n",
    "df2[1:3][['A','B']]"
   ]
  },
  {
   "cell_type": "markdown",
   "metadata": {},
   "source": [
    "**Accessing the data**"
   ]
  },
  {
   "cell_type": "code",
   "execution_count": null,
   "metadata": {
    "collapsed": false,
    "jupyter": {
     "outputs_hidden": false
    }
   },
   "outputs": [],
   "source": [
    "df.columns #the names of the columns\n",
    "df.values # all values without index and column names in numpy array\n",
    "df2.info() # info about the data per column\n",
    "df.head() # top lines\n",
    "df.tail() # bottom lines"
   ]
  },
  {
   "cell_type": "markdown",
   "metadata": {},
   "source": [
    "Iterating over rows"
   ]
  },
  {
   "cell_type": "code",
   "execution_count": null,
   "metadata": {
    "collapsed": false,
    "jupyter": {
     "outputs_hidden": false
    }
   },
   "outputs": [],
   "source": [
    "num_positive_days = 0\n",
    "for idx, row in ydf.iterrows():\n",
    "    if row.close > row.open:\n",
    "        num_positive_days += 1\n",
    "        \n",
    "print(\"The total number of positive-gain days is {}.\".format(num_positive_days))"
   ]
  },
  {
   "cell_type": "markdown",
   "metadata": {},
   "source": [
    "**Filtering rows**\n",
    "\n",
    "We can select a subset of interesting rows using a boolean predicate. This will also return a data frame"
   ]
  },
  {
   "cell_type": "code",
   "execution_count": null,
   "metadata": {
    "collapsed": false,
    "jupyter": {
     "outputs_hidden": false
    }
   },
   "outputs": [],
   "source": [
    "df2.query('C>0')\n",
    "df2[df2.C>0]\n",
    "df[df>0.2]\n",
    "df[df>0.2].A\n",
    "df.A[df.D > .002]"
   ]
  },
  {
   "cell_type": "code",
   "execution_count": null,
   "metadata": {
    "collapsed": false,
    "jupyter": {
     "outputs_hidden": false
    }
   },
   "outputs": [],
   "source": [
    "tmp_high = ydf.high > 55\n",
    "tmp_high.head()\n",
    "#ydf[tmp_high]"
   ]
  },
  {
   "cell_type": "code",
   "execution_count": null,
   "metadata": {
    "collapsed": false,
    "jupyter": {
     "outputs_hidden": false
    }
   },
   "outputs": [],
   "source": [
    "positive_days = ydf[ydf.close > ydf.open]\n",
    "positive_days.head()\n",
    "very_positive_days = ydf[ydf.close-ydf.open > 4]\n",
    "very_positive_days.head()"
   ]
  },
  {
   "cell_type": "markdown",
   "metadata": {},
   "source": [
    "**Transforming the data**"
   ]
  },
  {
   "cell_type": "code",
   "execution_count": 21,
   "metadata": {
    "collapsed": false,
    "jupyter": {
     "outputs_hidden": false
    }
   },
   "outputs": [
    {
     "data": {
      "text/html": [
       "<div>\n",
       "<table border=\"1\" class=\"dataframe\">\n",
       "  <thead>\n",
       "    <tr style=\"text-align: right;\">\n",
       "      <th></th>\n",
       "      <th>0</th>\n",
       "      <th>1</th>\n",
       "      <th>2</th>\n",
       "      <th>3</th>\n",
       "      <th>4</th>\n",
       "      <th>5</th>\n",
       "      <th>6</th>\n",
       "      <th>7</th>\n",
       "      <th>8</th>\n",
       "      <th>9</th>\n",
       "      <th>10</th>\n",
       "      <th>11</th>\n",
       "      <th>12</th>\n",
       "      <th>13</th>\n",
       "      <th>14</th>\n",
       "      <th>15</th>\n",
       "      <th>16</th>\n",
       "      <th>17</th>\n",
       "      <th>18</th>\n",
       "      <th>19</th>\n",
       "    </tr>\n",
       "  </thead>\n",
       "  <tbody>\n",
       "    <tr>\n",
       "      <th>A</th>\n",
       "      <td>4.382490e+01</td>\n",
       "      <td>2.047682e+01</td>\n",
       "      <td>5.085852e+01</td>\n",
       "      <td>3.342867e+01</td>\n",
       "      <td>3.490576e+01</td>\n",
       "      <td>5.635382e+01</td>\n",
       "      <td>18.421861</td>\n",
       "      <td>9.476452e+01</td>\n",
       "      <td>5.044035e+01</td>\n",
       "      <td>8.120830e+01</td>\n",
       "      <td>4.253465e+01</td>\n",
       "      <td>8.633082e+01</td>\n",
       "      <td>3.547390e+01</td>\n",
       "      <td>4.771897e+01</td>\n",
       "      <td>9.212555e+01</td>\n",
       "      <td>5.246668e+01</td>\n",
       "      <td>2.863522e+01</td>\n",
       "      <td>6.731236e+01</td>\n",
       "      <td>5.957083e+01</td>\n",
       "      <td>7.229879</td>\n",
       "    </tr>\n",
       "    <tr>\n",
       "      <th>B</th>\n",
       "      <td>5.205410e-04</td>\n",
       "      <td>2.384295e-03</td>\n",
       "      <td>3.865770e-04</td>\n",
       "      <td>8.946440e-04</td>\n",
       "      <td>8.202790e-04</td>\n",
       "      <td>3.148610e-04</td>\n",
       "      <td>0.002943</td>\n",
       "      <td>1.113500e-04</td>\n",
       "      <td>3.929380e-04</td>\n",
       "      <td>1.516340e-04</td>\n",
       "      <td>5.525930e-04</td>\n",
       "      <td>1.341620e-04</td>\n",
       "      <td>7.944620e-04</td>\n",
       "      <td>4.390430e-04</td>\n",
       "      <td>1.178160e-04</td>\n",
       "      <td>3.631850e-04</td>\n",
       "      <td>1.218152e-03</td>\n",
       "      <td>2.206770e-04</td>\n",
       "      <td>2.817430e-04</td>\n",
       "      <td>0.018892</td>\n",
       "    </tr>\n",
       "    <tr>\n",
       "      <th>C</th>\n",
       "      <td>6.417850e-14</td>\n",
       "      <td>6.852720e-07</td>\n",
       "      <td>4.898470e-16</td>\n",
       "      <td>8.649030e-11</td>\n",
       "      <td>3.106850e-11</td>\n",
       "      <td>1.085950e-17</td>\n",
       "      <td>0.000003</td>\n",
       "      <td>2.971920e-29</td>\n",
       "      <td>6.545490e-16</td>\n",
       "      <td>3.579860e-25</td>\n",
       "      <td>1.569630e-13</td>\n",
       "      <td>1.027620e-26</td>\n",
       "      <td>2.095510e-11</td>\n",
       "      <td>4.316770e-15</td>\n",
       "      <td>1.851170e-28</td>\n",
       "      <td>1.606780e-16</td>\n",
       "      <td>2.398510e-09</td>\n",
       "      <td>5.457060e-21</td>\n",
       "      <td>1.167870e-18</td>\n",
       "      <td>0.006660</td>\n",
       "    </tr>\n",
       "    <tr>\n",
       "      <th>D</th>\n",
       "      <td>2.266408e-02</td>\n",
       "      <td>4.753674e-02</td>\n",
       "      <td>1.937783e-02</td>\n",
       "      <td>2.921596e-02</td>\n",
       "      <td>2.794150e-02</td>\n",
       "      <td>1.749503e-02</td>\n",
       "      <td>0.053069</td>\n",
       "      <td>1.052388e-02</td>\n",
       "      <td>1.956864e-02</td>\n",
       "      <td>1.229485e-02</td>\n",
       "      <td>2.350948e-02</td>\n",
       "      <td>1.145319e-02</td>\n",
       "      <td>2.807506e-02</td>\n",
       "      <td>2.062644e-02</td>\n",
       "      <td>1.079042e-02</td>\n",
       "      <td>1.879208e-02</td>\n",
       "      <td>3.411195e-02</td>\n",
       "      <td>1.476143e-02</td>\n",
       "      <td>1.672548e-02</td>\n",
       "      <td>0.125950</td>\n",
       "    </tr>\n",
       "  </tbody>\n",
       "</table>\n",
       "</div>"
      ],
      "text/plain": [
       "             0             1             2             3             4   \\\n",
       "A  4.382490e+01  2.047682e+01  5.085852e+01  3.342867e+01  3.490576e+01   \n",
       "B  5.205410e-04  2.384295e-03  3.865770e-04  8.946440e-04  8.202790e-04   \n",
       "C  6.417850e-14  6.852720e-07  4.898470e-16  8.649030e-11  3.106850e-11   \n",
       "D  2.266408e-02  4.753674e-02  1.937783e-02  2.921596e-02  2.794150e-02   \n",
       "\n",
       "             5          6             7             8             9   \\\n",
       "A  5.635382e+01  18.421861  9.476452e+01  5.044035e+01  8.120830e+01   \n",
       "B  3.148610e-04   0.002943  1.113500e-04  3.929380e-04  1.516340e-04   \n",
       "C  1.085950e-17   0.000003  2.971920e-29  6.545490e-16  3.579860e-25   \n",
       "D  1.749503e-02   0.053069  1.052388e-02  1.956864e-02  1.229485e-02   \n",
       "\n",
       "             10            11            12            13            14  \\\n",
       "A  4.253465e+01  8.633082e+01  3.547390e+01  4.771897e+01  9.212555e+01   \n",
       "B  5.525930e-04  1.341620e-04  7.944620e-04  4.390430e-04  1.178160e-04   \n",
       "C  1.569630e-13  1.027620e-26  2.095510e-11  4.316770e-15  1.851170e-28   \n",
       "D  2.350948e-02  1.145319e-02  2.807506e-02  2.062644e-02  1.079042e-02   \n",
       "\n",
       "             15            16            17            18        19  \n",
       "A  5.246668e+01  2.863522e+01  6.731236e+01  5.957083e+01  7.229879  \n",
       "B  3.631850e-04  1.218152e-03  2.206770e-04  2.817430e-04  0.018892  \n",
       "C  1.606780e-16  2.398510e-09  5.457060e-21  1.167870e-18  0.006660  \n",
       "D  1.879208e-02  3.411195e-02  1.476143e-02  1.672548e-02  0.125950  "
      ]
     },
     "execution_count": 21,
     "metadata": {},
     "output_type": "execute_result"
    }
   ],
   "source": [
    "#Transposing data\n",
    "df.T"
   ]
  },
  {
   "cell_type": "code",
   "execution_count": 22,
   "metadata": {
    "collapsed": false,
    "jupyter": {
     "outputs_hidden": false
    }
   },
   "outputs": [
    {
     "data": {
      "text/html": [
       "<div>\n",
       "<table border=\"1\" class=\"dataframe\">\n",
       "  <thead>\n",
       "    <tr style=\"text-align: right;\">\n",
       "      <th>D</th>\n",
       "      <th>test</th>\n",
       "      <th>train</th>\n",
       "    </tr>\n",
       "    <tr>\n",
       "      <th>B</th>\n",
       "      <th></th>\n",
       "      <th></th>\n",
       "    </tr>\n",
       "  </thead>\n",
       "  <tbody>\n",
       "    <tr>\n",
       "      <th>2015-11-01</th>\n",
       "      <td>-0.994808</td>\n",
       "      <td>NaN</td>\n",
       "    </tr>\n",
       "    <tr>\n",
       "      <th>2015-11-02</th>\n",
       "      <td>NaN</td>\n",
       "      <td>0.357315</td>\n",
       "    </tr>\n",
       "    <tr>\n",
       "      <th>2015-11-03</th>\n",
       "      <td>1.636283</td>\n",
       "      <td>NaN</td>\n",
       "    </tr>\n",
       "    <tr>\n",
       "      <th>2015-11-04</th>\n",
       "      <td>NaN</td>\n",
       "      <td>-1.519842</td>\n",
       "    </tr>\n",
       "  </tbody>\n",
       "</table>\n",
       "</div>"
      ],
      "text/plain": [
       "D               test     train\n",
       "B                             \n",
       "2015-11-01 -0.994808       NaN\n",
       "2015-11-02       NaN  0.357315\n",
       "2015-11-03  1.636283       NaN\n",
       "2015-11-04       NaN -1.519842"
      ]
     },
     "execution_count": 22,
     "metadata": {},
     "output_type": "execute_result"
    }
   ],
   "source": [
    "#Pivoting data: \n",
    "df3 = pd.DataFrame({ 'A' : 1.,\n",
    "                   #'B' : pd.Timestamp('20130102'),\n",
    "                   'B': pd.date_range('20151101', periods=4),\n",
    "                   'C' : np.random.randn(4),\n",
    "                   'D' : pd.Categorical([\"test\",\"train\",\"test\",\"train\"]),\n",
    "                   'E' : [\"foo\",\"bar\",\"foo\",\"bar\"] }\n",
    "                   ,index = ['first','second','third','fourth']\n",
    "                  )\n",
    "pd.pivot_table(df3, index=['B'],  columns=['D'], values='C')\n",
    "#the column values in B to become the rows, \n",
    "#the values in D to become columns, \n",
    "#the values in C become the cell values\n",
    "#if there are more than one values, they are are aggregated by taking the mean."
   ]
  },
  {
   "cell_type": "code",
   "execution_count": 23,
   "metadata": {
    "collapsed": false,
    "jupyter": {
     "outputs_hidden": false
    }
   },
   "outputs": [
    {
     "data": {
      "text/html": [
       "<div>\n",
       "<table border=\"1\" class=\"dataframe\">\n",
       "  <thead>\n",
       "    <tr style=\"text-align: right;\">\n",
       "      <th></th>\n",
       "      <th>A</th>\n",
       "      <th>B</th>\n",
       "      <th>C</th>\n",
       "      <th>D</th>\n",
       "    </tr>\n",
       "  </thead>\n",
       "  <tbody>\n",
       "    <tr>\n",
       "      <th>0</th>\n",
       "      <td>87.649808</td>\n",
       "      <td>0.001041</td>\n",
       "      <td>1.283570e-13</td>\n",
       "      <td>0.045328</td>\n",
       "    </tr>\n",
       "    <tr>\n",
       "      <th>1</th>\n",
       "      <td>40.953640</td>\n",
       "      <td>0.004769</td>\n",
       "      <td>1.370544e-06</td>\n",
       "      <td>0.095073</td>\n",
       "    </tr>\n",
       "    <tr>\n",
       "      <th>2</th>\n",
       "      <td>101.717037</td>\n",
       "      <td>0.000773</td>\n",
       "      <td>9.796940e-16</td>\n",
       "      <td>0.038756</td>\n",
       "    </tr>\n",
       "    <tr>\n",
       "      <th>3</th>\n",
       "      <td>66.857343</td>\n",
       "      <td>0.001789</td>\n",
       "      <td>1.729806e-10</td>\n",
       "      <td>0.058432</td>\n",
       "    </tr>\n",
       "    <tr>\n",
       "      <th>4</th>\n",
       "      <td>69.811517</td>\n",
       "      <td>0.001641</td>\n",
       "      <td>6.213700e-11</td>\n",
       "      <td>0.055883</td>\n",
       "    </tr>\n",
       "    <tr>\n",
       "      <th>5</th>\n",
       "      <td>112.707649</td>\n",
       "      <td>0.000630</td>\n",
       "      <td>2.171900e-17</td>\n",
       "      <td>0.034990</td>\n",
       "    </tr>\n",
       "    <tr>\n",
       "      <th>6</th>\n",
       "      <td>36.843721</td>\n",
       "      <td>0.005885</td>\n",
       "      <td>5.695040e-06</td>\n",
       "      <td>0.106137</td>\n",
       "    </tr>\n",
       "    <tr>\n",
       "      <th>7</th>\n",
       "      <td>189.529040</td>\n",
       "      <td>0.000223</td>\n",
       "      <td>5.943840e-29</td>\n",
       "      <td>0.021048</td>\n",
       "    </tr>\n",
       "    <tr>\n",
       "      <th>8</th>\n",
       "      <td>100.880697</td>\n",
       "      <td>0.000786</td>\n",
       "      <td>1.309098e-15</td>\n",
       "      <td>0.039137</td>\n",
       "    </tr>\n",
       "    <tr>\n",
       "      <th>9</th>\n",
       "      <td>162.416600</td>\n",
       "      <td>0.000303</td>\n",
       "      <td>7.159720e-25</td>\n",
       "      <td>0.024590</td>\n",
       "    </tr>\n",
       "    <tr>\n",
       "      <th>10</th>\n",
       "      <td>85.069290</td>\n",
       "      <td>0.001105</td>\n",
       "      <td>3.139260e-13</td>\n",
       "      <td>0.047019</td>\n",
       "    </tr>\n",
       "    <tr>\n",
       "      <th>11</th>\n",
       "      <td>172.661648</td>\n",
       "      <td>0.000268</td>\n",
       "      <td>2.055240e-26</td>\n",
       "      <td>0.022906</td>\n",
       "    </tr>\n",
       "    <tr>\n",
       "      <th>12</th>\n",
       "      <td>70.947810</td>\n",
       "      <td>0.001589</td>\n",
       "      <td>4.191020e-11</td>\n",
       "      <td>0.056150</td>\n",
       "    </tr>\n",
       "    <tr>\n",
       "      <th>13</th>\n",
       "      <td>95.437936</td>\n",
       "      <td>0.000878</td>\n",
       "      <td>8.633540e-15</td>\n",
       "      <td>0.041253</td>\n",
       "    </tr>\n",
       "    <tr>\n",
       "      <th>14</th>\n",
       "      <td>184.251091</td>\n",
       "      <td>0.000236</td>\n",
       "      <td>3.702340e-28</td>\n",
       "      <td>0.021581</td>\n",
       "    </tr>\n",
       "    <tr>\n",
       "      <th>15</th>\n",
       "      <td>104.933359</td>\n",
       "      <td>0.000726</td>\n",
       "      <td>3.213560e-16</td>\n",
       "      <td>0.037584</td>\n",
       "    </tr>\n",
       "    <tr>\n",
       "      <th>16</th>\n",
       "      <td>57.270433</td>\n",
       "      <td>0.002436</td>\n",
       "      <td>4.797020e-09</td>\n",
       "      <td>0.068224</td>\n",
       "    </tr>\n",
       "    <tr>\n",
       "      <th>17</th>\n",
       "      <td>134.624730</td>\n",
       "      <td>0.000441</td>\n",
       "      <td>1.091412e-20</td>\n",
       "      <td>0.029523</td>\n",
       "    </tr>\n",
       "    <tr>\n",
       "      <th>18</th>\n",
       "      <td>119.141657</td>\n",
       "      <td>0.000563</td>\n",
       "      <td>2.335740e-18</td>\n",
       "      <td>0.033451</td>\n",
       "    </tr>\n",
       "    <tr>\n",
       "      <th>19</th>\n",
       "      <td>14.459758</td>\n",
       "      <td>0.037784</td>\n",
       "      <td>1.331910e-02</td>\n",
       "      <td>0.251900</td>\n",
       "    </tr>\n",
       "  </tbody>\n",
       "</table>\n",
       "</div>"
      ],
      "text/plain": [
       "             A         B             C         D\n",
       "0    87.649808  0.001041  1.283570e-13  0.045328\n",
       "1    40.953640  0.004769  1.370544e-06  0.095073\n",
       "2   101.717037  0.000773  9.796940e-16  0.038756\n",
       "3    66.857343  0.001789  1.729806e-10  0.058432\n",
       "4    69.811517  0.001641  6.213700e-11  0.055883\n",
       "5   112.707649  0.000630  2.171900e-17  0.034990\n",
       "6    36.843721  0.005885  5.695040e-06  0.106137\n",
       "7   189.529040  0.000223  5.943840e-29  0.021048\n",
       "8   100.880697  0.000786  1.309098e-15  0.039137\n",
       "9   162.416600  0.000303  7.159720e-25  0.024590\n",
       "10   85.069290  0.001105  3.139260e-13  0.047019\n",
       "11  172.661648  0.000268  2.055240e-26  0.022906\n",
       "12   70.947810  0.001589  4.191020e-11  0.056150\n",
       "13   95.437936  0.000878  8.633540e-15  0.041253\n",
       "14  184.251091  0.000236  3.702340e-28  0.021581\n",
       "15  104.933359  0.000726  3.213560e-16  0.037584\n",
       "16   57.270433  0.002436  4.797020e-09  0.068224\n",
       "17  134.624730  0.000441  1.091412e-20  0.029523\n",
       "18  119.141657  0.000563  2.335740e-18  0.033451\n",
       "19   14.459758  0.037784  1.331910e-02  0.251900"
      ]
     },
     "execution_count": 23,
     "metadata": {},
     "output_type": "execute_result"
    }
   ],
   "source": [
    "#Apply a function\n",
    "df.apply(lambda x: 2*x)\n",
    "#df.a.apply(lambda x: x+1)"
   ]
  },
  {
   "cell_type": "code",
   "execution_count": 24,
   "metadata": {
    "collapsed": false,
    "jupyter": {
     "outputs_hidden": false
    }
   },
   "outputs": [
    {
     "name": "stdout",
     "output_type": "stream",
     "text": [
      "0    5\n",
      "1    3\n",
      "2    5\n",
      "3    3\n",
      "4    3\n",
      "5    6\n",
      "6    2\n",
      "7    4\n",
      "8    2\n",
      "9    4\n",
      "dtype: int32\n"
     ]
    },
    {
     "data": {
      "text/plain": [
       "(array([1, 2, 2, 2, 5, 3, 1, 0, 1, 3], dtype=int64),\n",
       " array([  7.22987917,  15.98334327,  24.73680737,  33.49027147,\n",
       "         42.24373557,  50.99719967,  59.75066377,  68.50412787,\n",
       "         77.25759197,  86.01105607,  94.76452017]))"
      ]
     },
     "execution_count": 24,
     "metadata": {},
     "output_type": "execute_result"
    }
   ],
   "source": [
    "#Histograms\n",
    "s = pd.Series(np.random.randint(0, 7, size=10))\n",
    "print(s)\n",
    "s.value_counts()\n",
    "np.histogram(df.A,10)"
   ]
  },
  {
   "cell_type": "markdown",
   "metadata": {},
   "source": [
    "**Creating new columns**\n",
    "\n",
    "The **assign()** method that allows you to easily create new columns that are potentially derived from existing columns. assign always returns a copy of the data, leaving the original DataFrame untouched\n",
    "\n",
    "We can also simply create a new column like we would do with a dicitionary. In this case the column stays in the data. The column is deleted again like in a dictionary."
   ]
  },
  {
   "cell_type": "code",
   "execution_count": 25,
   "metadata": {
    "collapsed": false,
    "jupyter": {
     "outputs_hidden": false
    }
   },
   "outputs": [
    {
     "name": "stdout",
     "output_type": "stream",
     "text": [
      "          a         b\n",
      "0 -0.129832  1.119837\n",
      "1 -0.148331  2.698137\n",
      "2 -0.875598 -0.169666\n",
      "3 -1.091867 -0.068784\n",
      "4  0.394760 -0.520545\n",
      "          a         b          c\n",
      "0 -0.129832  1.119837  -0.115938\n",
      "1 -0.148331  2.698137  -0.054975\n",
      "2 -0.875598 -0.169666   5.160708\n",
      "3 -1.091867 -0.068784  15.873898\n",
      "4  0.394760 -0.520545  -0.758358\n",
      "          a         b          c\n",
      "0 -0.129832  1.119837  -0.115938\n",
      "1 -0.148331  2.698137  -0.054975\n",
      "2 -0.875598 -0.169666   5.160708\n",
      "3 -1.091867 -0.068784  15.873898\n",
      "4  0.394760 -0.520545  -0.758358\n"
     ]
    },
    {
     "data": {
      "text/html": [
       "<div>\n",
       "<table border=\"1\" class=\"dataframe\">\n",
       "  <thead>\n",
       "    <tr style=\"text-align: right;\">\n",
       "      <th></th>\n",
       "      <th>a</th>\n",
       "      <th>b</th>\n",
       "    </tr>\n",
       "  </thead>\n",
       "  <tbody>\n",
       "    <tr>\n",
       "      <th>0</th>\n",
       "      <td>-0.129832</td>\n",
       "      <td>1.119837</td>\n",
       "    </tr>\n",
       "    <tr>\n",
       "      <th>1</th>\n",
       "      <td>-0.148331</td>\n",
       "      <td>2.698137</td>\n",
       "    </tr>\n",
       "    <tr>\n",
       "      <th>2</th>\n",
       "      <td>-0.875598</td>\n",
       "      <td>-0.169666</td>\n",
       "    </tr>\n",
       "    <tr>\n",
       "      <th>3</th>\n",
       "      <td>-1.091867</td>\n",
       "      <td>-0.068784</td>\n",
       "    </tr>\n",
       "    <tr>\n",
       "      <th>4</th>\n",
       "      <td>0.394760</td>\n",
       "      <td>-0.520545</td>\n",
       "    </tr>\n",
       "  </tbody>\n",
       "</table>\n",
       "</div>"
      ],
      "text/plain": [
       "          a         b\n",
       "0 -0.129832  1.119837\n",
       "1 -0.148331  2.698137\n",
       "2 -0.875598 -0.169666\n",
       "3 -1.091867 -0.068784\n",
       "4  0.394760 -0.520545"
      ]
     },
     "execution_count": 25,
     "metadata": {},
     "output_type": "execute_result"
    }
   ],
   "source": [
    "df = pd.DataFrame({'a':pd.Series(np.random.randn(5)), \n",
    "                   'b':pd.Series(np.random.randn(5))})\n",
    "#df['c'] = df['a']/df['b']\n",
    "#df\n",
    "#del df['c']\n",
    "df3 = df.assign(c = df['a']/df['b'])\n",
    "print(df)\n",
    "print(df3)\n",
    "df['c'] = df['a']/df['b']\n",
    "print(df)\n",
    "#remove the new column\n",
    "df.drop('c', axis = 1) #axis = 0 means rows, axis =1 means columns"
   ]
  },
  {
   "cell_type": "code",
   "execution_count": 26,
   "metadata": {
    "collapsed": false,
    "jupyter": {
     "outputs_hidden": false
    }
   },
   "outputs": [
    {
     "data": {
      "text/html": [
       "<div>\n",
       "<table border=\"1\" class=\"dataframe\">\n",
       "  <thead>\n",
       "    <tr style=\"text-align: right;\">\n",
       "      <th></th>\n",
       "      <th>open</th>\n",
       "      <th>high</th>\n",
       "      <th>low</th>\n",
       "      <th>close</th>\n",
       "      <th>volume</th>\n",
       "      <th>adj_close</th>\n",
       "      <th>profit</th>\n",
       "    </tr>\n",
       "    <tr>\n",
       "      <th>Date</th>\n",
       "      <th></th>\n",
       "      <th></th>\n",
       "      <th></th>\n",
       "      <th></th>\n",
       "      <th></th>\n",
       "      <th></th>\n",
       "      <th></th>\n",
       "    </tr>\n",
       "  </thead>\n",
       "  <tbody>\n",
       "    <tr>\n",
       "      <th>2012-03-02</th>\n",
       "      <td>22.010000</td>\n",
       "      <td>26.000000</td>\n",
       "      <td>22.000000</td>\n",
       "      <td>24.58</td>\n",
       "      <td>4809400</td>\n",
       "      <td>24.58</td>\n",
       "      <td>2.570000</td>\n",
       "    </tr>\n",
       "    <tr>\n",
       "      <th>2012-03-05</th>\n",
       "      <td>24.850000</td>\n",
       "      <td>24.860001</td>\n",
       "      <td>20.900000</td>\n",
       "      <td>20.99</td>\n",
       "      <td>2988200</td>\n",
       "      <td>20.99</td>\n",
       "      <td>-3.860000</td>\n",
       "    </tr>\n",
       "    <tr>\n",
       "      <th>2012-03-06</th>\n",
       "      <td>19.830000</td>\n",
       "      <td>20.500000</td>\n",
       "      <td>19.360001</td>\n",
       "      <td>20.50</td>\n",
       "      <td>1154300</td>\n",
       "      <td>20.50</td>\n",
       "      <td>0.670000</td>\n",
       "    </tr>\n",
       "    <tr>\n",
       "      <th>2012-03-07</th>\n",
       "      <td>20.450001</td>\n",
       "      <td>20.629999</td>\n",
       "      <td>19.950001</td>\n",
       "      <td>20.25</td>\n",
       "      <td>444800</td>\n",
       "      <td>20.25</td>\n",
       "      <td>-0.200001</td>\n",
       "    </tr>\n",
       "    <tr>\n",
       "      <th>2012-03-08</th>\n",
       "      <td>20.299999</td>\n",
       "      <td>20.389999</td>\n",
       "      <td>19.959999</td>\n",
       "      <td>20.00</td>\n",
       "      <td>436900</td>\n",
       "      <td>20.00</td>\n",
       "      <td>-0.299999</td>\n",
       "    </tr>\n",
       "  </tbody>\n",
       "</table>\n",
       "</div>"
      ],
      "text/plain": [
       "                 open       high        low  close   volume  adj_close  \\\n",
       "Date                                                                     \n",
       "2012-03-02  22.010000  26.000000  22.000000  24.58  4809400      24.58   \n",
       "2012-03-05  24.850000  24.860001  20.900000  20.99  2988200      20.99   \n",
       "2012-03-06  19.830000  20.500000  19.360001  20.50  1154300      20.50   \n",
       "2012-03-07  20.450001  20.629999  19.950001  20.25   444800      20.25   \n",
       "2012-03-08  20.299999  20.389999  19.959999  20.00   436900      20.00   \n",
       "\n",
       "              profit  \n",
       "Date                  \n",
       "2012-03-02  2.570000  \n",
       "2012-03-05 -3.860000  \n",
       "2012-03-06  0.670000  \n",
       "2012-03-07 -0.200001  \n",
       "2012-03-08 -0.299999  "
      ]
     },
     "execution_count": 26,
     "metadata": {},
     "output_type": "execute_result"
    }
   ],
   "source": [
    "ydf['profit'] = ydf.close - ydf.open\n",
    "ydf.head()"
   ]
  },
  {
   "cell_type": "code",
   "execution_count": null,
   "metadata": {
    "collapsed": false,
    "jupyter": {
     "outputs_hidden": false
    }
   },
   "outputs": [],
   "source": [
    "for idx, row in ydf.iterrows():\n",
    "    if row.close > row.open:\n",
    "        ydf.ix[idx,'gain']='negative'\n",
    "    elif (row.open - row.close) < 1:\n",
    "        ydf.ix[idx,'gain']='small_gain'\n",
    "    elif (row.open - row.close) < 6:\n",
    "        ydf.ix[idx,'gain']='medium_gain'\n",
    "    else:\n",
    "        ydf.ix[idx,'gain']='large_gain'\n",
    "ydf.head()"
   ]
  },
  {
   "cell_type": "markdown",
   "metadata": {},
   "source": [
    "Define a function that classifies rows, and apply it to each row to create a new row"
   ]
  },
  {
   "cell_type": "code",
   "execution_count": 29,
   "metadata": {
    "collapsed": false,
    "jupyter": {
     "outputs_hidden": false
    }
   },
   "outputs": [
    {
     "name": "stdout",
     "output_type": "stream",
     "text": [
      "                 open       high        low  close   volume  adj_close  \\\n",
      "Date                                                                     \n",
      "2012-03-02  22.010000  26.000000  22.000000  24.58  4809400      24.58   \n",
      "2012-03-05  24.850000  24.860001  20.900000  20.99  2988200      20.99   \n",
      "2012-03-06  19.830000  20.500000  19.360001  20.50  1154300      20.50   \n",
      "2012-03-07  20.450001  20.629999  19.950001  20.25   444800      20.25   \n",
      "2012-03-08  20.299999  20.389999  19.959999  20.00   436900      20.00   \n",
      "\n",
      "              profit  test_column  \n",
      "Date                               \n",
      "2012-03-02  2.570000     negative  \n",
      "2012-03-05 -3.860000  medium_gain  \n",
      "2012-03-06  0.670000     negative  \n",
      "2012-03-07 -0.200001   small_gain  \n",
      "2012-03-08 -0.299999   small_gain  \n"
     ]
    }
   ],
   "source": [
    "def label_row(row):\n",
    "    if row.close > row.open:\n",
    "        return 'negative'\n",
    "    elif (row.open - row.close) < 1:\n",
    "        return 'small_gain'\n",
    "    elif (row.open - row.close) < 6:\n",
    "        return 'medium_gain'\n",
    "    else:\n",
    "        return 'large_gain'\n",
    "\n",
    "ydf['test_column'] = ydf.apply(label_row, axis = 1)\n",
    "print(ydf.head())\n",
    "ydf = ydf.drop('test_column', axis = 1)"
   ]
  },
  {
   "cell_type": "markdown",
   "metadata": {},
   "source": [
    "**Computing Statitics and other operations**"
   ]
  },
  {
   "cell_type": "code",
   "execution_count": 31,
   "metadata": {
    "collapsed": false,
    "jupyter": {
     "outputs_hidden": false
    }
   },
   "outputs": [
    {
     "name": "stdout",
     "output_type": "stream",
     "text": [
      "          a         b          c\n",
      "0 -0.129832  1.119837  -0.115938\n",
      "1 -0.148331  2.698137  -0.054975\n",
      "2 -0.875598 -0.169666   5.160708\n",
      "3 -1.091867 -0.068784  15.873898\n",
      "4  0.394760 -0.520545  -0.758358\n",
      "a    -1.850868\n",
      "b     3.058978\n",
      "c    20.105335\n",
      "dtype: float64\n",
      "a   -0.370174\n",
      "b    0.611796\n",
      "c    4.021067\n",
      "dtype: float64\n",
      "0    0.291355\n",
      "1    0.831610\n",
      "2    1.371815\n",
      "3    4.904416\n",
      "4   -0.294714\n",
      "dtype: float64\n",
      "a    0.605887\n",
      "b    1.319753\n",
      "c    7.042021\n",
      "dtype: float64\n",
      "a     0.367099\n",
      "b     1.741748\n",
      "c    49.590054\n",
      "dtype: float64\n",
      "              a         b          c\n",
      "count  5.000000  5.000000   5.000000\n",
      "mean  -0.370174  0.611796   4.021067\n",
      "std    0.605887  1.319753   7.042021\n",
      "min   -1.091867 -0.520545  -0.758358\n",
      "25%   -0.875598 -0.169666  -0.115938\n",
      "50%   -0.148331 -0.068784  -0.054975\n",
      "75%   -0.129832  1.119837   5.160708\n",
      "max    0.394760  2.698137  15.873898\n"
     ]
    }
   ],
   "source": [
    "print(df)\n",
    "# unless the axis is specified as 1, all operations are on columns\n",
    "print(df.sum()) \n",
    "print(df.mean())\n",
    "print(df.mean(1)) #df.mean(axis = 1) \n",
    "print(df.std())\n",
    "print(df.var())\n",
    "print(df.describe())"
   ]
  },
  {
   "cell_type": "markdown",
   "metadata": {},
   "source": [
    "**Join**"
   ]
  },
  {
   "cell_type": "code",
   "execution_count": 40,
   "metadata": {
    "collapsed": false,
    "jupyter": {
     "outputs_hidden": false
    }
   },
   "outputs": [
    {
     "name": "stdout",
     "output_type": "stream",
     "text": [
      "   key  lval\n",
      "0  foo     1\n",
      "1  foo     2\n",
      "2  boo     3\n",
      "   key  rval\n",
      "0  foo     4\n",
      "1  hoo     5\n",
      "   key  lval  rval\n",
      "0  foo     1     4\n",
      "1  foo     2     4\n",
      "   key  lval  rval\n",
      "0  foo     1   4.0\n",
      "1  foo     2   4.0\n",
      "2  boo     3   NaN\n"
     ]
    }
   ],
   "source": [
    "left = pd.DataFrame({'key': ['foo', 'foo', 'boo'], 'lval': [1, 2,3]})\n",
    "print(left)\n",
    "right = pd.DataFrame({'key': ['foo', 'hoo'], 'rval': [4, 5]})\n",
    "print(right)\n",
    "dfm = pd.merge(left, right, on='key') #keeps only the common key 'foo'\n",
    "print(dfm)\n",
    "dfm = pd.merge(left, right, on='key', how='left') #keeps all the keys from the left and puts NaN for missing values\n",
    "print(dfm)"
   ]
  },
  {
   "cell_type": "markdown",
   "metadata": {},
   "source": [
    "**Group by**"
   ]
  },
  {
   "cell_type": "code",
   "execution_count": 42,
   "metadata": {
    "collapsed": false,
    "jupyter": {
     "outputs_hidden": false
    }
   },
   "outputs": [
    {
     "name": "stdout",
     "output_type": "stream",
     "text": [
      "     A      B         C         D\n",
      "0  foo    one -1.023675  0.655974\n",
      "1  bar    one -0.545597 -1.268289\n",
      "2  foo    two -0.464371 -2.105605\n",
      "3  bar  three -1.072986  0.061263\n",
      "4  foo    two -0.115774 -0.908701\n",
      "5  bar    two  0.694054 -1.853005\n",
      "6  foo    one -0.124638 -1.453145\n",
      "7  foo  three -1.212742  0.414323\n",
      "            C         D\n",
      "A                      \n",
      "bar -0.924529 -3.060031\n",
      "foo -2.941200 -3.397153\n",
      "       B         C         D\n",
      "A                           \n",
      "bar  one -1.072986 -1.853005\n",
      "foo  one -1.212742 -2.105605\n",
      "                  C         D\n",
      "A   B                        \n",
      "bar one   -0.545597 -1.268289\n",
      "    three -1.072986  0.061263\n",
      "    two    0.694054 -1.853005\n",
      "foo one   -1.148313 -0.797171\n",
      "    three -1.212742  0.414323\n",
      "    two   -0.580145 -3.014305\n"
     ]
    }
   ],
   "source": [
    "df3 = pd.DataFrame({'A' : ['foo', 'bar', 'foo', 'bar', 'foo', 'bar', 'foo', 'foo'],\n",
    "                   'B' : ['one', 'one', 'two', 'three', 'two', 'two', 'one', 'three'],\n",
    "                   'C' : np.random.randn(8),\n",
    "                   'D' : np.random.randn(8)})\n",
    "print(df3)\n",
    "print(df3.groupby('A').sum())\n",
    "# column B cannot be summed so it is ommitted.\n",
    "print(df3.groupby('A').min())\n",
    "print(df3.groupby(['A','B']).sum())"
   ]
  },
  {
   "cell_type": "code",
   "execution_count": 43,
   "metadata": {
    "collapsed": false,
    "jupyter": {
     "outputs_hidden": false
    }
   },
   "outputs": [
    {
     "name": "stdout",
     "output_type": "stream",
     "text": [
      "<class 'pandas.core.frame.DataFrame'>\n",
      "                  C         D\n",
      "A   B                        \n",
      "bar one   -0.545597 -1.268289\n",
      "    three -1.072986  0.061263\n",
      "    two    0.694054 -1.853005\n",
      "foo one   -1.148313 -0.797171\n",
      "    three -1.212742  0.414323\n",
      "    two   -0.580145 -3.014305\n",
      "C   -0.545597\n",
      "D   -1.268289\n",
      "Name: (bar, one), dtype: float64\n"
     ]
    }
   ],
   "source": [
    "g = df3.groupby(['A','B']).sum()\n",
    "print(type(g))\n",
    "print(g)\n",
    "print(g.loc[('bar','one')])"
   ]
  },
  {
   "cell_type": "markdown",
   "metadata": {},
   "source": [
    "Group by produces a DataFrameGroupBy object that for each possible value of the group by attribute produces a dataframe"
   ]
  },
  {
   "cell_type": "code",
   "execution_count": 44,
   "metadata": {
    "collapsed": false,
    "jupyter": {
     "outputs_hidden": false
    }
   },
   "outputs": [
    {
     "data": {
      "text/plain": [
       "pandas.core.groupby.DataFrameGroupBy"
      ]
     },
     "execution_count": 44,
     "metadata": {},
     "output_type": "execute_result"
    }
   ],
   "source": [
    "g = df3.groupby(['A','B'])\n",
    "type(g)"
   ]
  },
  {
   "cell_type": "code",
   "execution_count": 45,
   "metadata": {
    "collapsed": false,
    "jupyter": {
     "outputs_hidden": false
    }
   },
   "outputs": [
    {
     "name": "stdout",
     "output_type": "stream",
     "text": [
      "('bar', 'one')\n",
      "     A    B         C         D\n",
      "1  bar  one -0.545597 -1.268289\n",
      "--------------\n",
      "('bar', 'three')\n",
      "     A      B         C         D\n",
      "3  bar  three -1.072986  0.061263\n",
      "--------------\n",
      "('bar', 'two')\n",
      "     A    B         C         D\n",
      "5  bar  two  0.694054 -1.853005\n",
      "--------------\n",
      "('foo', 'one')\n",
      "     A    B         C         D\n",
      "0  foo  one -1.023675  0.655974\n",
      "6  foo  one -0.124638 -1.453145\n",
      "--------------\n",
      "('foo', 'three')\n",
      "     A      B         C         D\n",
      "7  foo  three -1.212742  0.414323\n",
      "--------------\n",
      "('foo', 'two')\n",
      "     A    B         C         D\n",
      "2  foo  two -0.464371 -2.105605\n",
      "4  foo  two -0.115774 -0.908701\n",
      "--------------\n"
     ]
    }
   ],
   "source": [
    "for vals, data in g:\n",
    "    print(vals)\n",
    "    print(data)\n",
    "    print('--------------')\n"
   ]
  },
  {
   "cell_type": "code",
   "execution_count": 48,
   "metadata": {
    "collapsed": false,
    "jupyter": {
     "outputs_hidden": false
    }
   },
   "outputs": [
    {
     "ename": "AttributeError",
     "evalue": "Cannot access callable attribute 'loc' of 'DataFrameGroupBy' objects, try using the 'apply' method",
     "output_type": "error",
     "traceback": [
      "\u001b[1;31m---------------------------------------------------------------------------\u001b[0m",
      "\u001b[1;31mAttributeError\u001b[0m                            Traceback (most recent call last)",
      "\u001b[1;32m<ipython-input-48-c8ed31485d30>\u001b[0m in \u001b[0;36m<module>\u001b[1;34m()\u001b[0m\n\u001b[1;32m----> 1\u001b[1;33m \u001b[0mprint\u001b[0m\u001b[1;33m(\u001b[0m\u001b[0mg\u001b[0m\u001b[1;33m.\u001b[0m\u001b[0mloc\u001b[0m\u001b[1;33m[\u001b[0m\u001b[1;33m(\u001b[0m\u001b[1;34m'bar'\u001b[0m\u001b[1;33m,\u001b[0m\u001b[1;34m'one'\u001b[0m\u001b[1;33m)\u001b[0m\u001b[1;33m]\u001b[0m\u001b[1;33m)\u001b[0m\u001b[1;33m\u001b[0m\u001b[0m\n\u001b[0m",
      "\u001b[1;32mC:\\Anaconda3\\lib\\site-packages\\pandas\\core\\groupby.py\u001b[0m in \u001b[0;36m__getattr__\u001b[1;34m(self, attr)\u001b[0m\n\u001b[0;32m    524\u001b[0m             \u001b[1;32mreturn\u001b[0m \u001b[0mself\u001b[0m\u001b[1;33m[\u001b[0m\u001b[0mattr\u001b[0m\u001b[1;33m]\u001b[0m\u001b[1;33m\u001b[0m\u001b[0m\n\u001b[0;32m    525\u001b[0m         \u001b[1;32mif\u001b[0m \u001b[0mhasattr\u001b[0m\u001b[1;33m(\u001b[0m\u001b[0mself\u001b[0m\u001b[1;33m.\u001b[0m\u001b[0mobj\u001b[0m\u001b[1;33m,\u001b[0m \u001b[0mattr\u001b[0m\u001b[1;33m)\u001b[0m\u001b[1;33m:\u001b[0m\u001b[1;33m\u001b[0m\u001b[0m\n\u001b[1;32m--> 526\u001b[1;33m             \u001b[1;32mreturn\u001b[0m \u001b[0mself\u001b[0m\u001b[1;33m.\u001b[0m\u001b[0m_make_wrapper\u001b[0m\u001b[1;33m(\u001b[0m\u001b[0mattr\u001b[0m\u001b[1;33m)\u001b[0m\u001b[1;33m\u001b[0m\u001b[0m\n\u001b[0m\u001b[0;32m    527\u001b[0m \u001b[1;33m\u001b[0m\u001b[0m\n\u001b[0;32m    528\u001b[0m         raise AttributeError(\"%r object has no attribute %r\" %\n",
      "\u001b[1;32mC:\\Anaconda3\\lib\\site-packages\\pandas\\core\\groupby.py\u001b[0m in \u001b[0;36m_make_wrapper\u001b[1;34m(self, name)\u001b[0m\n\u001b[0;32m    538\u001b[0m                    \"using the 'apply' method\".format(kind, name,\n\u001b[0;32m    539\u001b[0m                                                      type(self).__name__))\n\u001b[1;32m--> 540\u001b[1;33m             \u001b[1;32mraise\u001b[0m \u001b[0mAttributeError\u001b[0m\u001b[1;33m(\u001b[0m\u001b[0mmsg\u001b[0m\u001b[1;33m)\u001b[0m\u001b[1;33m\u001b[0m\u001b[0m\n\u001b[0m\u001b[0;32m    541\u001b[0m \u001b[1;33m\u001b[0m\u001b[0m\n\u001b[0;32m    542\u001b[0m         \u001b[1;31m# need to setup the selection\u001b[0m\u001b[1;33m\u001b[0m\u001b[1;33m\u001b[0m\u001b[0m\n",
      "\u001b[1;31mAttributeError\u001b[0m: Cannot access callable attribute 'loc' of 'DataFrameGroupBy' objects, try using the 'apply' method"
     ]
    }
   ],
   "source": [
    "print(g.loc[('bar','one')])"
   ]
  },
  {
   "cell_type": "code",
   "execution_count": 49,
   "metadata": {
    "collapsed": false,
    "jupyter": {
     "outputs_hidden": false
    }
   },
   "outputs": [
    {
     "data": {
      "text/html": [
       "<div>\n",
       "<table border=\"1\" class=\"dataframe\">\n",
       "  <thead>\n",
       "    <tr style=\"text-align: right;\">\n",
       "      <th></th>\n",
       "      <th>C</th>\n",
       "      <th>D</th>\n",
       "    </tr>\n",
       "  </thead>\n",
       "  <tbody>\n",
       "    <tr>\n",
       "      <th>2</th>\n",
       "      <td>-0.464371</td>\n",
       "      <td>-2.105605</td>\n",
       "    </tr>\n",
       "    <tr>\n",
       "      <th>4</th>\n",
       "      <td>-0.115774</td>\n",
       "      <td>-0.908701</td>\n",
       "    </tr>\n",
       "  </tbody>\n",
       "</table>\n",
       "</div>"
      ],
      "text/plain": [
       "          C         D\n",
       "2 -0.464371 -2.105605\n",
       "4 -0.115774 -0.908701"
      ]
     },
     "execution_count": 49,
     "metadata": {},
     "output_type": "execute_result"
    }
   ],
   "source": [
    "g = df3.groupby(['A','B'])\n",
    "bo = g.get_group(('foo','two')) #selects a specific group: returns a data frame\n",
    "bo[['C','D']]"
   ]
  },
  {
   "cell_type": "code",
   "execution_count": 50,
   "metadata": {
    "collapsed": false,
    "jupyter": {
     "outputs_hidden": false
    }
   },
   "outputs": [
    {
     "data": {
      "text/plain": [
       "[-0.46437132788219437, -0.11577357958442364]"
      ]
     },
     "execution_count": 50,
     "metadata": {},
     "output_type": "execute_result"
    }
   ],
   "source": [
    "g = df3[['A','B','C']].groupby(['A','B'])\n",
    "list(g.get_group(('foo','two')).C)"
   ]
  },
  {
   "cell_type": "markdown",
   "metadata": {},
   "source": [
    "####Sorting####"
   ]
  },
  {
   "cell_type": "code",
   "execution_count": 51,
   "metadata": {
    "collapsed": false,
    "jupyter": {
     "outputs_hidden": false
    }
   },
   "outputs": [
    {
     "data": {
      "text/html": [
       "<div>\n",
       "<table border=\"1\" class=\"dataframe\">\n",
       "  <thead>\n",
       "    <tr style=\"text-align: right;\">\n",
       "      <th></th>\n",
       "      <th>A</th>\n",
       "      <th>B</th>\n",
       "    </tr>\n",
       "  </thead>\n",
       "  <tbody>\n",
       "    <tr>\n",
       "      <th>0</th>\n",
       "      <td>1</td>\n",
       "      <td>2</td>\n",
       "    </tr>\n",
       "    <tr>\n",
       "      <th>1</th>\n",
       "      <td>1</td>\n",
       "      <td>4</td>\n",
       "    </tr>\n",
       "    <tr>\n",
       "      <th>2</th>\n",
       "      <td>1</td>\n",
       "      <td>1</td>\n",
       "    </tr>\n",
       "    <tr>\n",
       "      <th>6</th>\n",
       "      <td>1</td>\n",
       "      <td>3</td>\n",
       "    </tr>\n",
       "    <tr>\n",
       "      <th>3</th>\n",
       "      <td>2</td>\n",
       "      <td>2</td>\n",
       "    </tr>\n",
       "    <tr>\n",
       "      <th>5</th>\n",
       "      <td>2</td>\n",
       "      <td>1</td>\n",
       "    </tr>\n",
       "  </tbody>\n",
       "</table>\n",
       "</div>"
      ],
      "text/plain": [
       "   A  B\n",
       "0  1  2\n",
       "1  1  4\n",
       "2  1  1\n",
       "6  1  3\n",
       "3  2  2\n",
       "5  2  1"
      ]
     },
     "execution_count": 51,
     "metadata": {},
     "output_type": "execute_result"
    }
   ],
   "source": [
    "df4 = pd.DataFrame({'A':np.random.randint(1,3,10),\n",
    "                    'B': np.random.randint(1,5,10),\n",
    "                    'C': np.random.randn(10)})\n",
    "df4.sort_values(by='A')\n",
    "df4.sort_values(by = ['A','B'], ascending = [True,False])\n",
    "df4[['A','B']].drop_duplicates().sort_values(by = 'A') #drop_duplicates: remove duplicate rows from a data frame"
   ]
  },
  {
   "cell_type": "code",
   "execution_count": 52,
   "metadata": {
    "collapsed": false,
    "jupyter": {
     "outputs_hidden": false
    }
   },
   "outputs": [
    {
     "name": "stdout",
     "output_type": "stream",
     "text": [
      "[1, 2, 3, 4]\n"
     ]
    }
   ],
   "source": [
    "l = list(df4.B.unique()) #unique: keep unique rows from a series. Faster than drop duplicates\n",
    "l.sort()\n",
    "print(l)"
   ]
  },
  {
   "cell_type": "markdown",
   "metadata": {},
   "source": [
    "##Plotting\n",
    "\n",
    "Plotting uses the capabilities of matlab within the Iron Python framework. Using the matplotlib.pyplot library we can use all the plotting functions used in matlap. You can use this directly, or as a wrapper function that comes with data frames and series.\n",
    "\n",
    "You can read more about matplotlib <a href = http://matplotlib.org/>here</a>. And for plotting with Pandas <a href = http://pandas.pydata.org/pandas-docs/stable/visualization.html>here</a>."
   ]
  },
  {
   "cell_type": "markdown",
   "metadata": {},
   "source": [
    "**Creating a Histogram**"
   ]
  },
  {
   "cell_type": "code",
   "execution_count": 53,
   "metadata": {
    "collapsed": false,
    "jupyter": {
     "outputs_hidden": false
    }
   },
   "outputs": [
    {
     "data": {
      "text/plain": [
       "<matplotlib.axes._subplots.AxesSubplot at 0x66d1278>"
      ]
     },
     "execution_count": 53,
     "metadata": {},
     "output_type": "execute_result"
    },
    {
     "data": {
      "image/png": "[encoded data removed]",
      "text/plain": [
       "<matplotlib.figure.Figure at 0x63edba8>"
      ]
     },
     "metadata": {},
     "output_type": "display_data"
    },
    {
     "data": {
      "image/png": "[encoded data removed]",
      "text/plain": [
       "<matplotlib.figure.Figure at 0x63f24e0>"
      ]
     },
     "metadata": {},
     "output_type": "display_data"
    },
    {
     "data": {
      "image/png": "[encoded data removed]",
      "text/plain": [
       "<matplotlib.figure.Figure at 0x65d7c18>"
      ]
     },
     "metadata": {},
     "output_type": "display_data"
    }
   ],
   "source": [
    "data = pd.Series(np.random.randn(1000))\n",
    "plt.figure();plt.hist(data) #plt.figure() creates a new figure\n",
    "plt.figure();plt.hist(data, bins=50)\n",
    "# density plot\n",
    "plt.figure();data.plot(kind = 'kde') #kde: kernel density estimate"
   ]
  },
  {
   "cell_type": "code",
   "execution_count": null,
   "metadata": {
    "collapsed": false,
    "jupyter": {
     "outputs_hidden": false
    }
   },
   "outputs": [],
   "source": [
    "plt.savefig('foo.jpg')"
   ]
  },
  {
   "cell_type": "code",
   "execution_count": 54,
   "metadata": {
    "collapsed": false,
    "jupyter": {
     "outputs_hidden": false
    }
   },
   "outputs": [
    {
     "data": {
      "text/plain": [
       "<matplotlib.figure.Figure at 0x667db38>"
      ]
     },
     "metadata": {},
     "output_type": "display_data"
    },
    {
     "data": {
      "image/png": "[encoded data removed]",
      "text/plain": [
       "<matplotlib.figure.Figure at 0x64fe400>"
      ]
     },
     "metadata": {},
     "output_type": "display_data"
    }
   ],
   "source": [
    "dfx= pd.DataFrame(np.random.randn(1000, 4), columns=list('ABCD'))\n",
    "#print(dfx)\n",
    "#Compute the cummulative sum for each column\n",
    "dfx = dfx.cumsum()\n",
    "\n",
    "#plot all columns in the same plot\n",
    "plt.figure(); dfx.plot();"
   ]
  },
  {
   "cell_type": "code",
   "execution_count": 55,
   "metadata": {
    "collapsed": false,
    "jupyter": {
     "outputs_hidden": false
    }
   },
   "outputs": [
    {
     "data": {
      "text/plain": [
       "<matplotlib.axes._subplots.AxesSubplot at 0x6967ac8>"
      ]
     },
     "execution_count": 55,
     "metadata": {},
     "output_type": "execute_result"
    },
    {
     "data": {
      "text/plain": [
       "<matplotlib.figure.Figure at 0x68dbac8>"
      ]
     },
     "metadata": {},
     "output_type": "display_data"
    },
    {
     "data": {
      "image/png": "[encoded data removed]",
      "text/plain": [
       "<matplotlib.figure.Figure at 0x64fe7b8>"
      ]
     },
     "metadata": {},
     "output_type": "display_data"
    },
    {
     "data": {
      "text/plain": [
       "<matplotlib.figure.Figure at 0x64fe390>"
      ]
     },
     "metadata": {},
     "output_type": "display_data"
    },
    {
     "data": {
      "image/png": "[encoded data removed]",
      "text/plain": [
       "<matplotlib.figure.Figure at 0x69bb080>"
      ]
     },
     "metadata": {},
     "output_type": "display_data"
    }
   ],
   "source": [
    "#plot column C against column B in df2\n",
    "plt.figure(); df2.plot(x = 'B', y = 'C');\n",
    "plt.figure(); df2.plot(kind = 'bar', x = 'B', y = 'C'); #bar plot"
   ]
  },
  {
   "cell_type": "code",
   "execution_count": 58,
   "metadata": {
    "collapsed": false,
    "jupyter": {
     "outputs_hidden": false
    }
   },
   "outputs": [
    {
     "data": {
      "text/plain": [
       "<matplotlib.figure.Figure at 0xaea8940>"
      ]
     },
     "metadata": {},
     "output_type": "display_data"
    },
    {
     "data": {
      "image/png": "[encoded data removed]",
      "text/plain": [
       "<matplotlib.figure.Figure at 0xaeb6b00>"
      ]
     },
     "metadata": {},
     "output_type": "display_data"
    },
    {
     "data": {
      "text/plain": [
       "<matplotlib.figure.Figure at 0xaeb6978>"
      ]
     },
     "metadata": {},
     "output_type": "display_data"
    },
    {
     "data": {
      "image/png": "[encoded data removed]",
      "text/plain": [
       "<matplotlib.figure.Figure at 0x68e6c18>"
      ]
     },
     "metadata": {},
     "output_type": "display_data"
    },
    {
     "data": {
      "text/plain": [
       "<matplotlib.figure.Figure at 0x6929c18>"
      ]
     },
     "metadata": {},
     "output_type": "display_data"
    },
    {
     "data": {
      "image/png": "[encoded data removed]",
      "text/plain": [
       "<matplotlib.figure.Figure at 0x6503518>"
      ]
     },
     "metadata": {},
     "output_type": "display_data"
    }
   ],
   "source": [
    "df = pd.read_csv('distributions_short.csv',\n",
    "                 names=list('ABCD'))\n",
    "dfs = df.sort_values(by='A', ascending = True)\n",
    "#plot column B against A \n",
    "plt.figure(); dfs.plot(x = 'A', y = 'B');\n",
    "#plot column B against A in log-log scale\n",
    "plt.figure(); dfs.plot(x = 'A', y = 'B', loglog=True);\n",
    "#plot columns B and C against A in loglog scale\n",
    "plt.figure(); dfs.plot(x = 'A', y = ['B','C'], loglog=True);"
   ]
  },
  {
   "cell_type": "code",
   "execution_count": 59,
   "metadata": {
    "collapsed": false,
    "jupyter": {
     "outputs_hidden": false
    }
   },
   "outputs": [
    {
     "data": {
      "text/plain": [
       "[<matplotlib.lines.Line2D at 0xc384940>,\n",
       " <matplotlib.lines.Line2D at 0xc37e5c0>]"
      ]
     },
     "execution_count": 59,
     "metadata": {},
     "output_type": "execute_result"
    },
    {
     "data": {
      "image/png": "[encoded data removed]",
      "text/plain": [
       "<matplotlib.figure.Figure at 0xc384f28>"
      ]
     },
     "metadata": {},
     "output_type": "display_data"
    }
   ],
   "source": [
    "#Using matlab notation\n",
    "plt.plot(dfs['A'],dfs['B'],'bo-',dfs['A'],dfs['C'],'g*-')\n",
    "plt.loglog(dfs['A'],dfs['B'],'bo-',dfs['A'],dfs['C'],'g*-')"
   ]
  },
  {
   "cell_type": "code",
   "execution_count": 60,
   "metadata": {
    "collapsed": false,
    "jupyter": {
     "outputs_hidden": false
    }
   },
   "outputs": [
    {
     "data": {
      "text/plain": [
       "<matplotlib.axes._subplots.AxesSubplot at 0x68c2780>"
      ]
     },
     "execution_count": 60,
     "metadata": {},
     "output_type": "execute_result"
    },
    {
     "data": {
      "text/plain": [
       "<matplotlib.figure.Figure at 0xc255908>"
      ]
     },
     "metadata": {},
     "output_type": "display_data"
    },
    {
     "data": {
      "image/png": "[encoded data removed]",
      "text/plain": [
       "<matplotlib.figure.Figure at 0xc370c88>"
      ]
     },
     "metadata": {},
     "output_type": "display_data"
    },
    {
     "data": {
      "image/png": "[encoded data removed]",
      "text/plain": [
       "<matplotlib.figure.Figure at 0xc3709e8>"
      ]
     },
     "metadata": {},
     "output_type": "display_data"
    },
    {
     "data": {
      "text/plain": [
       "<matplotlib.figure.Figure at 0x663f208>"
      ]
     },
     "metadata": {},
     "output_type": "display_data"
    },
    {
     "data": {
      "image/png": "[encoded data removed]",
      "text/plain": [
       "<matplotlib.figure.Figure at 0x674ed68>"
      ]
     },
     "metadata": {},
     "output_type": "display_data"
    }
   ],
   "source": [
    "#scatter plot of columns A and B\n",
    "plt.figure(); df.plot(kind ='scatter', x='A', y='B')\n",
    "plt.figure(); plt.scatter(df.A, df.B)\n",
    "#scatter plot of columns A and B in log-log scale\n",
    "plt.figure(); df.plot(kind ='scatter', x='A', y='B', loglog = True)"
   ]
  },
  {
   "cell_type": "code",
   "execution_count": 61,
   "metadata": {
    "collapsed": false,
    "jupyter": {
     "outputs_hidden": false
    }
   },
   "outputs": [
    {
     "data": {
      "image/png": "[encoded data removed]",
      "text/plain": [
       "<matplotlib.figure.Figure at 0x692f2b0>"
      ]
     },
     "metadata": {},
     "output_type": "display_data"
    }
   ],
   "source": [
    "#putting many scatter plots into the same plot\n",
    "t = df.plot(kind='scatter', x='A', y='B', color='DarkBlue', label='B curve', loglog=True);\n",
    "df.plot(kind='scatter', x='A', y='C',color='DarkGreen', label='C curve', ax=t, loglog = True);"
   ]
  },
  {
   "cell_type": "code",
   "execution_count": 62,
   "metadata": {
    "collapsed": false,
    "jupyter": {
     "outputs_hidden": false
    }
   },
   "outputs": [
    {
     "data": {
      "text/plain": [
       "<matplotlib.axes._subplots.AxesSubplot at 0x663fda0>"
      ]
     },
     "execution_count": 62,
     "metadata": {},
     "output_type": "execute_result"
    },
    {
     "data": {
      "text/plain": [
       "<matplotlib.figure.Figure at 0xc477a58>"
      ]
     },
     "metadata": {},
     "output_type": "display_data"
    },
    {
     "data": {
      "image/png": "[encoded data removed]",
      "text/plain": [
       "<matplotlib.figure.Figure at 0x6929550>"
      ]
     },
     "metadata": {},
     "output_type": "display_data"
    },
    {
     "data": {
      "text/plain": [
       "<matplotlib.figure.Figure at 0x6929518>"
      ]
     },
     "metadata": {},
     "output_type": "display_data"
    },
    {
     "data": {
      "image/png": "[encoded data removed]",
      "text/plain": [
       "<matplotlib.figure.Figure at 0xb190358>"
      ]
     },
     "metadata": {},
     "output_type": "display_data"
    },
    {
     "data": {
      "text/plain": [
       "<matplotlib.figure.Figure at 0xb190f28>"
      ]
     },
     "metadata": {},
     "output_type": "display_data"
    },
    {
     "data": {
      "image/png": "[encoded data removed]",
      "text/plain": [
       "<matplotlib.figure.Figure at 0xc379c50>"
      ]
     },
     "metadata": {},
     "output_type": "display_data"
    }
   ],
   "source": [
    "df6 = pd.DataFrame({'x':np.random.randn(100),\n",
    "                   'y':np.random.randn(100),\n",
    "                   'v': np.random.randint(1,500,100)})\n",
    "\n",
    "plt.figure();df6.plot(kind = 'scatter', x='x',y='y')\n",
    "plt.figure();df6.plot(kind='hexbin', x='x', y='y', gridsize=10)\n",
    "plt.figure();df6.plot(kind = 'scatter', x='x',y='y', s=df6['v'],c=df6['v'])"
   ]
  },
  {
   "cell_type": "code",
   "execution_count": 63,
   "metadata": {
    "collapsed": false,
    "jupyter": {
     "outputs_hidden": false
    }
   },
   "outputs": [
    {
     "data": {
      "text/html": [
       "<div>\n",
       "<table border=\"1\" class=\"dataframe\">\n",
       "  <thead>\n",
       "    <tr style=\"text-align: right;\">\n",
       "      <th></th>\n",
       "      <th>IBM</th>\n",
       "      <th>MSFT</th>\n",
       "      <th>ORCL</th>\n",
       "      <th>TSLA</th>\n",
       "      <th>YELP</th>\n",
       "    </tr>\n",
       "    <tr>\n",
       "      <th>Date</th>\n",
       "      <th></th>\n",
       "      <th></th>\n",
       "      <th></th>\n",
       "      <th></th>\n",
       "      <th></th>\n",
       "    </tr>\n",
       "  </thead>\n",
       "  <tbody>\n",
       "    <tr>\n",
       "      <th>2014-01-02</th>\n",
       "      <td>185.529999</td>\n",
       "      <td>37.160000</td>\n",
       "      <td>37.840000</td>\n",
       "      <td>150.100006</td>\n",
       "      <td>67.919998</td>\n",
       "    </tr>\n",
       "    <tr>\n",
       "      <th>2014-01-03</th>\n",
       "      <td>186.639999</td>\n",
       "      <td>36.910000</td>\n",
       "      <td>37.619999</td>\n",
       "      <td>149.559998</td>\n",
       "      <td>67.660004</td>\n",
       "    </tr>\n",
       "    <tr>\n",
       "      <th>2014-01-06</th>\n",
       "      <td>186.000000</td>\n",
       "      <td>36.130001</td>\n",
       "      <td>37.470001</td>\n",
       "      <td>147.000000</td>\n",
       "      <td>71.720001</td>\n",
       "    </tr>\n",
       "    <tr>\n",
       "      <th>2014-01-07</th>\n",
       "      <td>189.710007</td>\n",
       "      <td>36.410000</td>\n",
       "      <td>37.849998</td>\n",
       "      <td>149.360001</td>\n",
       "      <td>72.660004</td>\n",
       "    </tr>\n",
       "    <tr>\n",
       "      <th>2014-01-08</th>\n",
       "      <td>187.970001</td>\n",
       "      <td>35.759998</td>\n",
       "      <td>37.720001</td>\n",
       "      <td>151.279999</td>\n",
       "      <td>78.419998</td>\n",
       "    </tr>\n",
       "  </tbody>\n",
       "</table>\n",
       "</div>"
      ],
      "text/plain": [
       "                   IBM       MSFT       ORCL        TSLA       YELP\n",
       "Date                                                               \n",
       "2014-01-02  185.529999  37.160000  37.840000  150.100006  67.919998\n",
       "2014-01-03  186.639999  36.910000  37.619999  149.559998  67.660004\n",
       "2014-01-06  186.000000  36.130001  37.470001  147.000000  71.720001\n",
       "2014-01-07  189.710007  36.410000  37.849998  149.360001  72.660004\n",
       "2014-01-08  187.970001  35.759998  37.720001  151.279999  78.419998"
      ]
     },
     "execution_count": 63,
     "metadata": {},
     "output_type": "execute_result"
    }
   ],
   "source": [
    "stocks = ['ORCL', 'TSLA', 'IBM','YELP', 'MSFT']\n",
    "attr = 'Close'\n",
    "dfstocks = web.get_data_yahoo(stocks, \n",
    "                               start=datetime(2014, 1, 1), \n",
    "                               end=datetime(2014, 12, 31))[attr]\n",
    "dfstocks.head()"
   ]
  },
  {
   "cell_type": "code",
   "execution_count": 64,
   "metadata": {
    "collapsed": false,
    "jupyter": {
     "outputs_hidden": false
    }
   },
   "outputs": [
    {
     "data": {
      "text/plain": [
       "<matplotlib.legend.Legend at 0xc2c1860>"
      ]
     },
     "execution_count": 64,
     "metadata": {},
     "output_type": "execute_result"
    },
    {
     "data": {
      "image/png": "[encoded data removed]",
      "text/plain": [
       "<matplotlib.figure.Figure at 0xc3cf9e8>"
      ]
     },
     "metadata": {},
     "output_type": "display_data"
    }
   ],
   "source": [
    "dfstocks.ORCL.plot(label = 'oracle')\n",
    "dfstocks.TSLA.plot(label = 'tesla')\n",
    "dfstocks.IBM.plot(label = 'ibm')\n",
    "dfstocks.MSFT.plot(label = 'msft')\n",
    "dfstocks.YELP.plot(label = 'yelp')\n",
    "plt.legend(loc='best')"
   ]
  },
  {
   "cell_type": "code",
   "execution_count": 65,
   "metadata": {
    "collapsed": false,
    "jupyter": {
     "outputs_hidden": false
    }
   },
   "outputs": [
    {
     "data": {
      "text/plain": [
       "<matplotlib.text.Text at 0xc57f6a0>"
      ]
     },
     "execution_count": 65,
     "metadata": {},
     "output_type": "execute_result"
    },
    {
     "data": {
      "image/png": "[encoded data removed]",
      "text/plain": [
       "<matplotlib.figure.Figure at 0xc477240>"
      ]
     },
     "metadata": {},
     "output_type": "display_data"
    }
   ],
   "source": [
    "plt.scatter(dfstocks.TSLA, dfstocks.ORCL)\n",
    "plt.xlabel('TESLA')\n",
    "plt.ylabel('ORCL')"
   ]
  },
  {
   "cell_type": "markdown",
   "metadata": {},
   "source": [
    "**Correlations of columns**\n",
    "\n",
    "The correlation coefficient between variables $X$ and $Y$ is defined as follows: $$\\text{Corr}(X,Y) = \\frac{E\\left[(X-\\mu_X)(Y-\\mu_Y)\\right]}{\\sigma_X\\sigma_Y}$$\n",
    "In python we can compute the correlation coefficient of all pairs of columns with corr( )"
   ]
  },
  {
   "cell_type": "code",
   "execution_count": 66,
   "metadata": {
    "collapsed": false,
    "jupyter": {
     "outputs_hidden": false
    }
   },
   "outputs": [
    {
     "name": "stdout",
     "output_type": "stream",
     "text": [
      "           IBM      MSFT      ORCL      TSLA      YELP\n",
      "IBM   1.000000 -0.454119 -0.177628 -0.017239  0.458465\n",
      "MSFT -0.454119  1.000000  0.492922  0.668519 -0.507538\n",
      "ORCL -0.177628  0.492922  1.000000  0.251139 -0.469868\n",
      "TSLA -0.017239  0.668519  0.251139  1.000000  0.137411\n",
      "YELP  0.458465 -0.507538 -0.469868  0.137411  1.000000\n"
     ]
    }
   ],
   "source": [
    "corr = dfstocks.corr()\n",
    "print(corr)"
   ]
  },
  {
   "cell_type": "code",
   "execution_count": 67,
   "metadata": {
    "collapsed": false,
    "jupyter": {
     "outputs_hidden": false
    }
   },
   "outputs": [
    {
     "data": {
      "text/plain": [
       "<matplotlib.axes._subplots.AxesSubplot at 0xc585518>"
      ]
     },
     "execution_count": 67,
     "metadata": {},
     "output_type": "execute_result"
    },
    {
     "data": {
      "image/png": "[encoded data removed]",
      "text/plain": [
       "<matplotlib.figure.Figure at 0xc457c88>"
      ]
     },
     "metadata": {},
     "output_type": "display_data"
    }
   ],
   "source": [
    "sns.heatmap(corr, annot=True)"
   ]
  },
  {
   "cell_type": "code",
   "execution_count": 68,
   "metadata": {
    "collapsed": false,
    "jupyter": {
     "outputs_hidden": false
    }
   },
   "outputs": [
    {
     "data": {
      "text/plain": [
       "array([[<matplotlib.axes._subplots.AxesSubplot object at 0x000000000C5679E8>,\n",
       "        <matplotlib.axes._subplots.AxesSubplot object at 0x00000000069032B0>,\n",
       "        <matplotlib.axes._subplots.AxesSubplot object at 0x00000000068D4358>,\n",
       "        <matplotlib.axes._subplots.AxesSubplot object at 0x000000000C2E1278>,\n",
       "        <matplotlib.axes._subplots.AxesSubplot object at 0x000000000C553BA8>],\n",
       "       [<matplotlib.axes._subplots.AxesSubplot object at 0x000000000C9F0A20>,\n",
       "        <matplotlib.axes._subplots.AxesSubplot object at 0x000000000CA3E390>,\n",
       "        <matplotlib.axes._subplots.AxesSubplot object at 0x000000000CA7F518>,\n",
       "        <matplotlib.axes._subplots.AxesSubplot object at 0x000000000CACBA90>,\n",
       "        <matplotlib.axes._subplots.AxesSubplot object at 0x000000000CB10B38>],\n",
       "       [<matplotlib.axes._subplots.AxesSubplot object at 0x000000000CB615C0>,\n",
       "        <matplotlib.axes._subplots.AxesSubplot object at 0x000000000CBA1E80>,\n",
       "        <matplotlib.axes._subplots.AxesSubplot object at 0x000000000CBF49E8>,\n",
       "        <matplotlib.axes._subplots.AxesSubplot object at 0x000000000CC36940>,\n",
       "        <matplotlib.axes._subplots.AxesSubplot object at 0x000000000CC86278>],\n",
       "       [<matplotlib.axes._subplots.AxesSubplot object at 0x000000000CCC7400>,\n",
       "        <matplotlib.axes._subplots.AxesSubplot object at 0x000000000CD11F28>,\n",
       "        <matplotlib.axes._subplots.AxesSubplot object at 0x000000000CD2D198>,\n",
       "        <matplotlib.axes._subplots.AxesSubplot object at 0x000000000CDA49E8>,\n",
       "        <matplotlib.axes._subplots.AxesSubplot object at 0x000000000CDF4358>],\n",
       "       [<matplotlib.axes._subplots.AxesSubplot object at 0x000000000CE228D0>,\n",
       "        <matplotlib.axes._subplots.AxesSubplot object at 0x000000000CE72710>,\n",
       "        <matplotlib.axes._subplots.AxesSubplot object at 0x000000000CEB4A20>,\n",
       "        <matplotlib.axes._subplots.AxesSubplot object at 0x000000000CF054A8>,\n",
       "        <matplotlib.axes._subplots.AxesSubplot object at 0x000000000CF46D68>]], dtype=object)"
      ]
     },
     "execution_count": 68,
     "metadata": {},
     "output_type": "execute_result"
    },
    {
     "data": {
      "text/plain": [
       "<matplotlib.figure.Figure at 0x686e080>"
      ]
     },
     "metadata": {},
     "output_type": "display_data"
    },
    {
     "data": {
      "image/png": "[encoded data removed]",
      "text/plain": [
       "<matplotlib.figure.Figure at 0x6887e48>"
      ]
     },
     "metadata": {},
     "output_type": "display_data"
    }
   ],
   "source": [
    "from pandas.tools.plotting import scatter_matrix\n",
    "plt.figure(); scatter_matrix(dfstocks, alpha=0.2, figsize=(10, 10), diagonal='kde')"
   ]
  },
  {
   "cell_type": "markdown",
   "metadata": {},
   "source": [
    "**Usefull additional information**\n",
    "\n",
    "The pandas <a href = https://github.com/pandas-dev/pandas/blob/master/doc/cheatsheet/Pandas_Cheat_Sheet.pdf>cheatsheet</a>\n",
    "\n",
    "<a href = https://github.com/mcrovella/CS505-Computational-Tools-for-Data-Science/blob/master/02B-Pandas.ipynb> Tutorial</a> by Evimaria Terzi and Mark Corvella"
   ]
  }
 ],
 "metadata": {
  "kernelspec": {
   "display_name": "Python 3",
   "language": "python",
   "name": "python3"
  },
  "language_info": {
   "codemirror_mode": {
    "name": "ipython",
    "version": 3
   },
   "file_extension": ".py",
   "mimetype": "text/x-python",
   "name": "python",
   "nbconvert_exporter": "python",
   "pygments_lexer": "ipython3",
   "version": "3.7.4"
  }
 },
 "nbformat": 4,
 "nbformat_minor": 4
}
