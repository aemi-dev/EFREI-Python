{
 "cells": [
  {
   "cell_type": "markdown",
   "metadata": {},
   "source": [
    "# \"Numpy, Scipy and Scikit learn\"\n",
    "\n",
    "- toc: false \n",
    "- comments: false\n",
    "- layout: post"
   ]
  },
  {
   "cell_type": "markdown",
   "metadata": {},
   "source": [
    "In this tutorial we will look into some functions of three very important packages:\n",
    "\n",
    "Scipy and Numpy:  http://www.numpy.org/ and http://docs.scipy.org/doc/numpy/reference/index.html\n",
    "\n",
    "SciKit: http://scikit-learn.org/stable/"
   ]
  },
  {
   "cell_type": "code",
   "execution_count": 100,
   "metadata": {
    "collapsed": false
   },
   "outputs": [],
   "source": [
    "import numpy as np\n",
    "import scipy as sp\n",
    "import scipy.sparse as sp_sparse\n",
    "import scipy.spatial.distance as sp_dist\n",
    "\n",
    "import matplotlib.pyplot as plt\n",
    "\n",
    "import sklearn as sk\n",
    "import sklearn.datasets as sk_data\n",
    "import sklearn.metrics as metrics\n",
    "from sklearn import preprocessing\n",
    "import scipy.sparse.linalg as linalg\n",
    "\n",
    "import time\n",
    "import seaborn as sns\n",
    "%matplotlib inline"
   ]
  },
  {
   "cell_type": "markdown",
   "metadata": {},
   "source": [
    "###Why Numpy?###"
   ]
  },
  {
   "cell_type": "code",
   "execution_count": 102,
   "metadata": {
    "collapsed": false
   },
   "outputs": [
    {
     "name": "stdout",
     "output_type": "stream",
     "text": [
      "Traditional time = 1.9372828006744385\n",
      "Numpy time       = 0.058042049407958984\n"
     ]
    }
   ],
   "source": [
    "def trad_version():\n",
    "    t1 = time.time()\n",
    "    X = range(10000000)\n",
    "    Y = range(10000000)\n",
    "    Z = [x+y for x,y in zip(X,Y)]\n",
    "    #Z=[]\n",
    "    #for i in range(len(X)):\n",
    "    #    Z.append(X[i] + Y[i])\n",
    "    return time.time() - t1\n",
    "\n",
    "def numpy_version():\n",
    "    t1 = time.time()\n",
    "    X = np.arange(10000000)\n",
    "    Y = np.arange(10000000)\n",
    "    Z = X + Y\n",
    "    return time.time() - t1\n",
    "\n",
    "\n",
    "traditional_time = trad_version()\n",
    "numpy_time = numpy_version()\n",
    "print (\"Traditional time = \"+ str(traditional_time))\n",
    "print (\"Numpy time       = \"+ str(numpy_time))"
   ]
  },
  {
   "cell_type": "markdown",
   "metadata": {},
   "source": [
    "###Creating Arrays###\n",
    "\n",
    "Random: http://docs.scipy.org/doc/numpy-1.10.0/reference/routines.random.html"
   ]
  },
  {
   "cell_type": "code",
   "execution_count": 103,
   "metadata": {
    "collapsed": false
   },
   "outputs": [
    {
     "name": "stdout",
     "output_type": "stream",
     "text": [
      "\n",
      " Deterministic 1-dimensional array \n",
      "\n",
      "[ 2  5 18 14  4]\n",
      "\n",
      " Random 1-dimensional array \n",
      "\n",
      "[ 0.156269    0.53211521  0.90470945  0.7694971   0.30974386]\n",
      "\n",
      " Deterministic 2-dimensional array \n",
      "\n",
      "[[ 2  5 18 14  4]\n",
      " [12 15  1  2  8]]\n",
      "\n",
      " Random 5x5 2-dimensional array \n",
      "\n",
      "[[ 0.73067894  0.76713799  0.12077157  0.1316853   0.76990457]\n",
      " [ 0.47510163  0.4990517   0.15764052  0.99141156  0.30139994]\n",
      " [ 0.95041533  0.24234573  0.43211214  0.17059604  0.64661497]\n",
      " [ 0.61454215  0.33223189  0.63942187  0.9248572   0.67985464]\n",
      " [ 0.40366635  0.91703589  0.82593723  0.83853986  0.75172612]]\n",
      "(5, 5)\n",
      "\n",
      " Random 2x3 array with integers\n",
      "[[4 5 7]\n",
      " [5 7 6]]\n",
      "\n",
      " Transpose of the matrix \n",
      "\n",
      "[[4 5]\n",
      " [5 7]\n",
      " [7 6]]\n",
      "(3, 2)\n",
      "\n",
      " 4x4 array with zeros \n",
      "\n",
      "[[ 0.  0.  0.  0.]\n",
      " [ 0.  0.  0.  0.]\n",
      " [ 0.  0.  0.  0.]\n",
      " [ 0.  0.  0.  0.]]\n",
      "\n",
      " 4x4 array with ones \n",
      "\n",
      "[[ 1.  1.  1.  1.]\n",
      " [ 1.  1.  1.  1.]\n",
      " [ 1.  1.  1.  1.]\n",
      " [ 1.  1.  1.  1.]]\n",
      "\n",
      " Identity matrix of size 4\n",
      "\n",
      "[[ 1.  0.  0.  0.]\n",
      " [ 0.  1.  0.  0.]\n",
      " [ 0.  0.  1.  0.]\n",
      " [ 0.  0.  0.  1.]]\n"
     ]
    }
   ],
   "source": [
    "#1-dimensional arrays\n",
    "x = np.array([2,5,18,14,4])\n",
    "print (\"\\n Deterministic 1-dimensional array \\n\")\n",
    "print (x)\n",
    "\n",
    "x = np.random.rand(5)\n",
    "print (\"\\n Random 1-dimensional array \\n\")\n",
    "print (x)\n",
    "\n",
    "#2-dimensional arrays\n",
    "x = np.array([[2,5,18,14,4], [12,15,1,2,8]])\n",
    "print (\"\\n Deterministic 2-dimensional array \\n\")\n",
    "print (x)\n",
    "\n",
    "x = np.random.rand(5,5)\n",
    "print (\"\\n Random 5x5 2-dimensional array \\n\")\n",
    "print (x)\n",
    "print (x.shape)\n",
    "\n",
    "x = np.random.randint(10,size=(2,3))\n",
    "print(\"\\n Random 2x3 array with integers\")\n",
    "print(x)\n",
    "print (\"\\n Transpose of the matrix \\n\")\n",
    "print (x.T)\n",
    "print (x.T.shape)\n",
    "\n",
    "x = np.zeros((4,4))\n",
    "print (\"\\n 4x4 array with zeros \\n\")\n",
    "print(x)\n",
    "\n",
    "x = np.ones((4,4))\n",
    "print (\"\\n 4x4 array with ones \\n\")\n",
    "print (x)\n",
    "\n",
    "x = np.eye(4)\n",
    "print (\"\\n Identity matrix of size 4\\n\")\n",
    "print(x)"
   ]
  },
  {
   "cell_type": "code",
   "execution_count": 104,
   "metadata": {
    "collapsed": false
   },
   "outputs": [
    {
     "name": "stdout",
     "output_type": "stream",
     "text": [
      "[[ 0.59678476  0.17734095  0.32994667  0.96931251]\n",
      " [ 0.29391451  0.62454608  0.72618568  0.70361876]]\n",
      "\n",
      " mean value of all elements\n",
      "0.552706240075\n",
      "\n",
      " vector of mean values for columns\n",
      "[ 0.44534963  0.40094351  0.52806618  0.83646563]\n",
      "\n",
      " vector of mean values for rows\n",
      "[ 0.51834622  0.58706626]\n",
      "\n",
      " standard deviation of all elements\n",
      "0.2477469625\n",
      "\n",
      " vector of std values for rows\n",
      "[ 0.30054209  0.17340804]\n",
      "\n",
      " median value of all elements\n",
      "0.610665421721\n",
      "\n",
      " vector of median values for rows\n",
      "[ 0.46336572  0.66408242]\n",
      "\n",
      " sum of all elements\n",
      "4.4216499206\n",
      "\n",
      " vector of row sums\n",
      "[ 2.07338489  2.34826503]\n",
      "\n",
      " product of all elements\n",
      "0.00317471628663\n",
      "\n",
      " vector of row products\n",
      "[ 0.0338481   0.09379304]\n"
     ]
    }
   ],
   "source": [
    "x = np.random.rand(2,4)\n",
    "print (x)\n",
    "print('\\n mean value of all elements')\n",
    "print (np.mean(x)) \n",
    "print('\\n vector of mean values for columns')\n",
    "print (np.mean(x,0)) #0 signifies the dimension meaning columns\n",
    "print('\\n vector of mean values for rows')\n",
    "print (np.mean(x,1)) #1 signifies the dimension meaning rows\n",
    "print('\\n standard deviation of all elements')\n",
    "print (np.std(x)) \n",
    "print('\\n vector of std values for rows')\n",
    "print (np.std(x,1)) #1 signifies the dimension meaning rows\n",
    "print('\\n median value of all elements')\n",
    "print (np.median(x)) \n",
    "print('\\n vector of median values for rows')\n",
    "print (np.median(x,1)) \n",
    "print('\\n sum of all elements')\n",
    "print (np.sum(x)) \n",
    "print('\\n vector of row sums')\n",
    "print (np.sum(x,1)) \n",
    "print('\\n product of all elements')\n",
    "print (np.prod(x)) \n",
    "print('\\n vector of row products')\n",
    "print (np.prod(x,1)) "
   ]
  },
  {
   "cell_type": "markdown",
   "metadata": {},
   "source": [
    "###Manipulating arrays###"
   ]
  },
  {
   "cell_type": "code",
   "execution_count": 105,
   "metadata": {
    "collapsed": false
   },
   "outputs": [
    {
     "name": "stdout",
     "output_type": "stream",
     "text": [
      "[[ 0.23819474  0.81820697  0.77208723]\n",
      " [ 0.29438807  0.19641594  0.15910057]\n",
      " [ 0.57907871  0.59599586  0.5866894 ]\n",
      " [ 0.29822839  0.91182249  0.69097186]]\n",
      "\n",
      " row zero \n",
      "\n",
      "[ 0.23819474  0.81820697  0.77208723]\n",
      "\n",
      " column 2 \n",
      "\n",
      "[ 0.77208723  0.15910057  0.5866894   0.69097186]\n",
      "\n",
      " submatrix \n",
      "\n",
      "[[ 0.29438807  0.19641594]\n",
      " [ 0.57907871  0.59599586]]\n",
      "\n",
      " entries > 0.5 \n",
      "\n",
      "[ 0.81820697  0.77208723  0.57907871  0.59599586  0.5866894   0.91182249\n",
      "  0.69097186]\n",
      "\n",
      " element\n",
      "\n",
      "0.159100567324\n"
     ]
    }
   ],
   "source": [
    "x = np.random.rand(4,3)\n",
    "print(x)\n",
    "print(\"\\n row zero \\n\")\n",
    "print(x[0])\n",
    "print(\"\\n column 2 \\n\")\n",
    "print(x[:,2])\n",
    "print(\"\\n submatrix \\n\")\n",
    "print(x[1:3,0:2])\n",
    "print(\"\\n entries > 0.5 \\n\")\n",
    "print(x[x>0.5])\n",
    "print(\"\\n element\\n\")\n",
    "print(x[1,2])"
   ]
  },
  {
   "cell_type": "code",
   "execution_count": 106,
   "metadata": {
    "collapsed": false
   },
   "outputs": [
    {
     "name": "stdout",
     "output_type": "stream",
     "text": [
      "[[ 0.78658161  0.27003238  0.55301307]\n",
      " [ 0.17831303  0.2232386   0.01114403]\n",
      " [ 0.33837897  0.17742026  0.7651074 ]\n",
      " [ 0.01364507  0.91914029  0.66589735]]\n",
      "[[ 1.78658161  1.27003238  1.55301307]\n",
      " [ 1.17831303  1.2232386  -4.        ]\n",
      " [ 0.33837897  0.5         0.5       ]\n",
      " [ 0.01364507  0.5         0.5       ]]\n",
      "\n",
      " Set entries > 0.5 to zero\n",
      "[[ 0.          0.          0.        ]\n",
      " [ 0.          0.         -4.        ]\n",
      " [ 0.33837897  0.5         0.5       ]\n",
      " [ 0.01364507  0.5         0.5       ]]\n"
     ]
    }
   ],
   "source": [
    "x = np.random.rand(4,3)\n",
    "print(x)\n",
    "\n",
    "x[1,2] = -5 #change an entry\n",
    "x[0:2,:] += 1 #change a set of rows\n",
    "x[2:4,1:3] = 0.5 #change a block\n",
    "print(x)\n",
    "\n",
    "print('\\n Set entries > 0.5 to zero')\n",
    "x[x>0.5] = 0\n",
    "print(x)"
   ]
  },
  {
   "cell_type": "code",
   "execution_count": 107,
   "metadata": {
    "collapsed": false
   },
   "outputs": [
    {
     "name": "stdout",
     "output_type": "stream",
     "text": [
      "[[ 0.78401509  0.33873984  0.22010537]\n",
      " [ 0.2099116   0.59799443  0.0618283 ]\n",
      " [ 0.73286968  0.19648951  0.40793975]\n",
      " [ 0.23497729  0.36785043  0.88294089]]\n",
      "\n",
      " Matrix 2x+1 \n",
      "\n",
      "[[ 2.56803018  1.67747967  1.44021074]\n",
      " [ 1.4198232   2.19598886  1.12365661]\n",
      " [ 2.46573936  1.39297902  1.8158795 ]\n",
      " [ 1.46995457  1.73570086  2.76588177]]\n",
      "\n",
      " y: [ 2 -1  3]\n",
      " z: [-1  2  2]\n",
      "\n",
      " vector-vector dot product\n",
      "2\n",
      "2\n",
      "\n",
      " vector-vector external product\n",
      "[[-2  4  4]\n",
      " [ 1 -2 -2]\n",
      " [-3  6  6]]\n",
      "\n",
      " Matrix-vector right multiplication\n",
      "\n",
      "[ 0.78401509  0.2099116   0.73286968  0.23497729]\n",
      "\n",
      " Matrix-vector left multiplication\n",
      "\n",
      "[ 1.51688477  0.53522935  0.62804512]\n",
      "\n",
      " Matrix-matrix multiplication\n",
      "\n",
      "[[ 0.78401509  0.33873984  0.22010537]\n",
      " [ 0.2099116   0.59799443  0.0618283 ]\n",
      " [ 0.73286968  0.19648951  0.40793975]\n",
      " [ 0.23497729  0.36785043  0.88294089]]\n",
      "[[ 0.49086121  0.71723426]\n",
      " [ 0.12809416  0.8410076 ]\n",
      " [ 0.87139108  0.14773161]]\n",
      "[[ 0.62003105  0.87972178]\n",
      " [ 0.23351369  0.66260765]\n",
      " [ 0.74038152  0.75115401]\n",
      " [ 0.93184754  0.60833705]]\n"
     ]
    }
   ],
   "source": [
    "x = np.random.rand(4,3)\n",
    "print(x)\n",
    "\n",
    "#multiplication and addition with scalar value\n",
    "print(\"\\n Matrix 2x+1 \\n\") \n",
    "print(2*x+1)\n",
    "\n",
    "y = np.array([2,-1,3])\n",
    "z = np.array([-1,2,2])\n",
    "print('\\n y:',y)\n",
    "print(' z:',z)\n",
    "print('\\n vector-vector dot product')\n",
    "print(y.dot(z))\n",
    "print(np.dot(y,z))\n",
    "\n",
    "print('\\n vector-vector external product')\n",
    "print(np.outer(y,z))\n",
    "\n",
    "\n",
    "y = np.array([1,0,0])\n",
    "print(\"\\n Matrix-vector right multiplication\\n\")\n",
    "print(x.dot(y))\n",
    "y = np.array([1,0,1,0])\n",
    "print(\"\\n Matrix-vector left multiplication\\n\")\n",
    "print(y.dot(x))\n",
    "\n",
    "y = np.random.rand(3,2)\n",
    "z = x.dot(y)\n",
    "print(\"\\n Matrix-matrix multiplication\\n\")\n",
    "print(x)\n",
    "print(y)\n",
    "print (z)\n"
   ]
  },
  {
   "cell_type": "markdown",
   "metadata": {},
   "source": [
    "### Creating Sparse Arrays ###\n",
    "\n",
    "For sparse arrays we need to use a different library:\n",
    "http://docs.scipy.org/doc/scipy/reference/sparse.html"
   ]
  },
  {
   "cell_type": "code",
   "execution_count": 108,
   "metadata": {
    "collapsed": false
   },
   "outputs": [
    {
     "name": "stdout",
     "output_type": "stream",
     "text": [
      "  (0, 0)\t12\n",
      "  (0, 1)\t1\n",
      "  (0, 5)\t34\n",
      "  (1, 2)\t6\n",
      "  (1, 3)\t12\n",
      "  (2, 0)\t23\n",
      "  (3, 4)\t14\n",
      "[[12  1  0  0  0 34]\n",
      " [ 0  0  6 12  0  0]\n",
      " [23  0  0  0  0  0]\n",
      " [ 0  0  0  0 14  0]\n",
      " [ 0  0  0  0  0  0]]\n",
      "[[ 47.]\n",
      " [ 18.]\n",
      " [ 23.]\n",
      " [ 14.]\n",
      " [  0.]]\n",
      "  (0, 2)\t276\n",
      "  (0, 0)\t1301\n",
      "  (1, 1)\t180\n",
      "  (2, 2)\t529\n",
      "  (2, 0)\t276\n",
      "  (3, 3)\t196\n",
      "\n",
      " make d sparce\n",
      "  (0, 2)\t12\n",
      "  (1, 1)\t1\n",
      "  (1, 2)\t1\n",
      "  (2, 1)\t5\n",
      "  (2, 2)\t34\n",
      "  (3, 0)\t1\n",
      "  (3, 1)\t3\n",
      "  (3, 2)\t12\n",
      "  (4, 0)\t1\n",
      "  (4, 1)\t2\n",
      "  (4, 2)\t6\n",
      "  (5, 0)\t2\n",
      "  (5, 2)\t23\n",
      "  (6, 0)\t3\n",
      "  (6, 1)\t4\n",
      "  (6, 2)\t14\n"
     ]
    }
   ],
   "source": [
    "import scipy.sparse as sp_sparse\n",
    "\n",
    "# csr: compressed row format matrices. Allow for fast row computations \n",
    "# csc for compressed column format\n",
    "d = np.array([[0, 0, 12],\n",
    "              [0, 1, 1],\n",
    "              [0, 5, 34],\n",
    "              [1, 3, 12],\n",
    "              [1, 2, 6],\n",
    "              [2, 0, 23],\n",
    "              [3, 4, 14],\n",
    "              ])\n",
    "#Constuction of matrix from triplets: row indices, column indices, values\n",
    "row = d[:,0]\n",
    "col = d[:,1]\n",
    "data = d[:,2]\n",
    "# a matrix M with M[row[i],col[i]] = data[i] will be created\n",
    "M = sp_sparse.csr_matrix((data,(row,col)), shape=(5,6))\n",
    "#sdata = sp_sparse.csr_matrix(d)\n",
    "print(M)\n",
    "print(M.toarray()) #transforms back to full matrix\n",
    "\n",
    "#all operations work like before\n",
    "o = np.ones((6,1))\n",
    "print(M.dot(o))\n",
    "print(M.dot(M.T))\n",
    "# make the d matrix sparse\n",
    "print('\\n make d sparce')\n",
    "A = sp_sparse.csr_matrix(d)\n",
    "print(A)"
   ]
  },
  {
   "cell_type": "code",
   "execution_count": 110,
   "metadata": {
    "collapsed": false
   },
   "outputs": [
    {
     "name": "stdout",
     "output_type": "stream",
     "text": [
      "[ 42.  45.   9.  70.  34.  22.  58.  68.  66.  40.   8.  95.  93.  11.  99.\n",
      "  82.  74.  45.  40.  38.  47.  98.   5.  10.  10.  31.  34.  39.  53.   9.\n",
      "  72.  21.  16.  71.  82.  26.  13.  12.  75.  86.  81.  55.  46.  47.   7.\n",
      "  21.   1.  78.  41.  86.  61.  41.  95.  36.  47.  62.  64.  54.  19.  29.\n",
      "  99.  52.  28.  31.  28.  26.  21.  68.  87.  62.  31.  95.   4.  65.  72.\n",
      "  44.   6.  54.  73.  90.  32.  20.  20.  56.  78.  26.  24.  67.  47.  83.\n",
      "  46.  17.   9.  15.  22.  49.  93.  97.  61.  99.]\n",
      "[ 45.93780715  49.03721522   9.          70.          34.          22.          58.\n",
      "  68.          66.          40.           8.          95.          93.          11.\n",
      "  99.          82.          74.          45.          40.          38.          47.\n",
      "  98.           5.          10.          10.          31.          34.          39.\n",
      "  53.           9.          72.          21.          16.          71.          82.\n",
      "  26.          13.          12.          75.          86.          81.          55.\n",
      "  46.          47.           7.          21.           1.          78.          41.\n",
      "  86.          61.          41.          95.          36.          47.          62.\n",
      "  64.          54.          19.          29.          99.          52.          28.\n",
      "  31.          28.          26.          21.          68.          87.          62.\n",
      "  31.          95.           4.          65.          72.          44.           6.\n",
      "  54.          73.          90.          32.          20.          20.          56.\n",
      "  78.          26.          24.          67.          47.          83.          46.\n",
      "  17.           9.          15.          22.          49.          93.          97.\n",
      "  61.          99.        ]\n"
     ]
    }
   ],
   "source": [
    "# Creating a sparse matrix incrementally\n",
    "# Use lil (list of lists) representation\n",
    "A = sp_sparse.lil_matrix((100, 100))\n",
    "A[0, :10] = np.random.rand(10)\n",
    "A[1, 10:20] = A[0, :10]\n",
    "A.setdiag(np.random.randint(100,size = 100))\n",
    "A[99,99] = 99\n",
    "print(A.diagonal())\n",
    "B = A.dot(np.ones(100))\n",
    "print(B)\n",
    "A = A.tocsr() # makes it a compressed column format. better for dot product."
   ]
  },
  {
   "cell_type": "markdown",
   "metadata": {},
   "source": [
    "### Computing distances ###\n",
    "\n",
    "For the computation of distances there are libraries in Scipy\n",
    "\n",
    "http://docs.scipy.org/doc/scipy-0.15.1/reference/spatial.distance.html#module-scipy.spatial.distance\n",
    "\n",
    "but also in SciKit metrics library:\n",
    "\n",
    "http://scikit-learn.org/stable/modules/generated/sklearn.metrics.pairwise.pairwise_distances.html\n"
   ]
  },
  {
   "cell_type": "code",
   "execution_count": 111,
   "metadata": {
    "collapsed": false
   },
   "outputs": [
    {
     "name": "stdout",
     "output_type": "stream",
     "text": [
      "[1 1 0 0 1]\n",
      "[0 0 1 1 1]\n",
      "0.666666666667\n",
      "2.0\n",
      "0.8\n",
      "0.8\n"
     ]
    }
   ],
   "source": [
    "import scipy.spatial.distance as sp_dist\n",
    "import sklearn.metrics as metrics\n",
    "\n",
    "x = np.random.randint(2, size = 5)\n",
    "y = np.random.randint(2, size = 5)\n",
    "print (x)\n",
    "print (y)\n",
    "print (sp_dist.cosine(x,y))\n",
    "print (sp_dist.euclidean(x,y))\n",
    "print (sp_dist.jaccard(x,y))\n",
    "print (sp_dist.hamming(x,y))"
   ]
  },
  {
   "cell_type": "code",
   "execution_count": 112,
   "metadata": {
    "collapsed": false
   },
   "outputs": [
    {
     "name": "stdout",
     "output_type": "stream",
     "text": [
      "[[0 1 0]\n",
      " [1 0 1]\n",
      " [0 0 0]\n",
      " [1 0 1]\n",
      " [0 1 1]]\n",
      "\n",
      " all row distances\n",
      "[ 1.          1.          1.          0.5         1.          0.\n",
      "  0.66666667  1.          1.          0.66666667]\n"
     ]
    }
   ],
   "source": [
    "A = np.random.randint(2, size = (5,3))\n",
    "\n",
    "# computes the matrix of all pairwise distances of rows\n",
    "# returns a vector with N(N-1)/2 entries (N number of rows)\n",
    "D = sp_dist.pdist(A, 'jaccard') \n",
    "print (A)\n",
    "print('\\n all row distances')\n",
    "print (D)\n",
    "# When computing jaccard similarity of 0/1 matrices, \n",
    "# 1 means that the element corresponding to the column is in the set,\n",
    "# 0 that the element is not in the set"
   ]
  },
  {
   "cell_type": "code",
   "execution_count": 114,
   "metadata": {
    "collapsed": false
   },
   "outputs": [
    {
     "name": "stdout",
     "output_type": "stream",
     "text": [
      "\n",
      " the matrix of row distances\n",
      "[[ 0.          1.          1.          1.          0.5       ]\n",
      " [ 1.          0.          1.          0.          0.66666667]\n",
      " [ 1.          1.          0.          1.          1.        ]\n",
      " [ 1.          0.          1.          0.          0.66666667]\n",
      " [ 0.5         0.66666667  1.          0.66666667  0.        ]]\n",
      "[[0 1 1]\n",
      " [1 0 0]\n",
      " [1 1 0]]\n",
      "\n",
      " the matrix of distances between the rows of A and B\n",
      "[[ 0.5         1.          0.5       ]\n",
      " [ 0.66666667  0.5         0.66666667]\n",
      " [ 1.          1.          1.        ]\n",
      " [ 0.66666667  0.5         0.66666667]\n",
      " [ 0.          1.          0.66666667]]\n"
     ]
    }
   ],
   "source": [
    "#computes the matrix of all pairwise distances of rows\n",
    "# returns a NxN matrix (N number of rows)\n",
    "D2 = metrics.pairwise.pairwise_distances(A,metric = 'jaccard') \n",
    "print('\\n the matrix of row distances')\n",
    "print(D2)\n",
    "\n",
    "B = np.random.randint(2, size = (3,3))\n",
    "print (B)\n",
    "\n",
    "#computes the matrix of all pairwise distances of rows of A with rows of B\n",
    "# returns an NxM matrix (N rows of A, M rows of B)\n",
    "D3 = metrics.pairwise.pairwise_distances(A,B,metric = 'jaccard') \n",
    "print('\\n the matrix of distances between the rows of A and B')\n",
    "print(D3)"
   ]
  },
  {
   "cell_type": "code",
   "execution_count": 115,
   "metadata": {
    "collapsed": false
   },
   "outputs": [
    {
     "name": "stdout",
     "output_type": "stream",
     "text": [
      "[[12  1  0  0  0 34]\n",
      " [ 0  0  6 12  0  0]\n",
      " [23  0  0  0  0  0]\n",
      " [ 0  0  0  0 14  0]]\n",
      "[[  0.          38.48376281  35.74912586  38.69108424]\n",
      " [ 38.48376281   0.          26.62705391  19.39071943]\n",
      " [ 35.74912586  26.62705391   0.          26.92582404]\n",
      " [ 38.69108424  19.39071943  26.92582404   0.        ]]\n"
     ]
    }
   ],
   "source": [
    "#We can apply everything to sparce matrices\n",
    "\n",
    "d = np.array([[0, 0, 12],\n",
    "              [0, 1, 1],\n",
    "              [0, 5, 34],\n",
    "              [1, 3, 12],\n",
    "              [1, 2, 6],\n",
    "              [2, 0, 23],\n",
    "              [3, 4, 14],\n",
    "              ])\n",
    "s = sp_sparse.csr_matrix((d[:,2],(d[:,0],d[:,1])), shape=(4,6))\n",
    "D4 = metrics.pairwise.pairwise_distances(s,metric = 'euclidean')\n",
    "print(s.toarray())\n",
    "print(D4)"
   ]
  },
  {
   "cell_type": "markdown",
   "metadata": {},
   "source": [
    "###Singluar Value Decomposition###\n",
    "\n",
    "For the singular value decomposition we will use the libraries from Numpy and SciKit\n",
    "\n",
    "Numpy: http://docs.scipy.org/doc/numpy/reference/generated/numpy.linalg.svd.html\n",
    "\n",
    "SciKit: http://docs.scipy.org/doc/scipy-0.14.0/reference/generated/scipy.sparse.linalg.svds.html"
   ]
  },
  {
   "cell_type": "code",
   "execution_count": 116,
   "metadata": {
    "collapsed": false
   },
   "outputs": [
    {
     "name": "stdout",
     "output_type": "stream",
     "text": [
      "(100, 100) (50,) (50, 50)\n",
      "[  1.00000000e+00   7.78800783e-01   3.67879441e-01   1.05399225e-01\n",
      "   1.83156389e-02   1.93045414e-03   1.23409804e-04   4.78511739e-06\n",
      "   1.12535175e-07   1.60522805e-09   1.38879438e-11   7.28717098e-14\n",
      "   2.30766568e-16   1.24411623e-16   8.64935357e-17   8.64935357e-17\n",
      "   8.64935357e-17   8.64935357e-17   8.64935357e-17   8.64935357e-17\n",
      "   8.64935357e-17   8.64935357e-17   8.64935357e-17   8.64935357e-17\n",
      "   8.64935357e-17   8.64935357e-17   8.64935357e-17   8.64935357e-17\n",
      "   8.64935357e-17   8.64935357e-17   8.64935357e-17   8.64935357e-17\n",
      "   8.64935357e-17   8.64935357e-17   8.64935357e-17   8.64935357e-17\n",
      "   8.64935357e-17   8.64935357e-17   8.64935357e-17   8.64935357e-17\n",
      "   8.64935357e-17   8.64935357e-17   8.64935357e-17   8.64935357e-17\n",
      "   8.64935357e-17   8.64935357e-17   8.64935357e-17   8.64935357e-17\n",
      "   8.64935357e-17   1.91046879e-17]\n"
     ]
    },
    {
     "data": {
      "text/plain": [
       "<matplotlib.text.Text at 0xe7c5c88>"
      ]
     },
     "execution_count": 116,
     "metadata": {},
     "output_type": "execute_result"
    },
    {
     "data": {
      "image/png": "[encoded data removed]",
      "text/plain": [
       "<matplotlib.figure.Figure at 0xe7c7668>"
      ]
     },
     "metadata": {},
     "output_type": "display_data"
    }
   ],
   "source": [
    "import sklearn.datasets as sk_data\n",
    "\n",
    "data = sk_data.make_low_rank_matrix(n_samples=100, n_features=50, effective_rank=2, tail_strength=0.0, random_state=None)\n",
    "#sns.heatmap(data, xticklabels=False, yticklabels=False, linewidths=0)\n",
    "\n",
    "U, s, V = np.linalg.svd(data)\n",
    "print (U.shape, s.shape, V.shape)\n",
    "print(s)\n",
    "plt.plot(s[0:10])\n",
    "plt.ylabel('eigenvalue value')\n",
    "plt.xlabel('number of eigenvalues')"
   ]
  },
  {
   "cell_type": "code",
   "execution_count": 117,
   "metadata": {
    "collapsed": false
   },
   "outputs": [
    {
     "name": "stdout",
     "output_type": "stream",
     "text": [
      "(100, 50)\n",
      "(100, 6) (6,) (6, 50)\n",
      "[ 0.00193045  0.01831564  0.10539922  0.36787944  0.77880078  1.        ]\n"
     ]
    },
    {
     "data": {
      "text/plain": [
       "<matplotlib.text.Text at 0xe7c7d68>"
      ]
     },
     "execution_count": 117,
     "metadata": {},
     "output_type": "execute_result"
    },
    {
     "data": {
      "image/png": "[encoded data removed]",
      "text/plain": [
       "<matplotlib.figure.Figure at 0xe7ee320>"
      ]
     },
     "metadata": {},
     "output_type": "display_data"
    }
   ],
   "source": [
    "import scipy.sparse.linalg as sp_linalg\n",
    "\n",
    "data2 = sp_sparse.csc_matrix(data)\n",
    "print(data2.shape)\n",
    "U,s,V = sp_linalg.svds(data2) #by default returns k=6 singular values\n",
    "print (U.shape, s.shape, V.shape)\n",
    "print(s)\n",
    "plt.plot(s)\n",
    "plt.ylabel('eigenvalue value')\n",
    "plt.xlabel('number of eigenvalues')"
   ]
  },
  {
   "cell_type": "code",
   "execution_count": 118,
   "metadata": {
    "collapsed": false
   },
   "outputs": [
    {
     "name": "stdout",
     "output_type": "stream",
     "text": [
      "(100, 6) (6,) (6, 50)\n",
      "[ 0.00193045  0.01831564  0.10539922  0.36787944  0.77880078  1.        ]\n",
      "0.000123502590094\n"
     ]
    },
    {
     "data": {
      "image/png": "[encoded data removed]",
      "text/plain": [
       "<matplotlib.figure.Figure at 0xe88d9e8>"
      ]
     },
     "metadata": {},
     "output_type": "display_data"
    }
   ],
   "source": [
    "k = 6\n",
    "U_k,s_k,V_k = sp_linalg.svds(data2, k, which = 'LM')\n",
    "print (U_k.shape, s_k.shape, V_k.shape)\n",
    "print(s_k)\n",
    "plt.plot(s_k)\n",
    "plt.ylabel('eigenvalue value')\n",
    "plt.xlabel('number of eigenvalues')\n",
    "S_k = np.diag(s_k)\n",
    "data_k = U_k.dot(S_k).dot(V_k)\n",
    "print(np.linalg.norm(data_k-data2,ord='fro'))"
   ]
  }
 ],
 "metadata": {
  "kernelspec": {
   "display_name": "Python 3",
   "language": "python",
   "name": "python3"
  },
  "language_info": {
   "codemirror_mode": {
    "name": "ipython",
    "version": 3
   },
   "file_extension": ".py",
   "mimetype": "text/x-python",
   "name": "python",
   "nbconvert_exporter": "python",
   "pygments_lexer": "ipython3",
   "version": "3.4.5"
  }
 },
 "nbformat": 4,
 "nbformat_minor": 0
}
