{
  "cells": [
    {
      "cell_type": "markdown",
      "metadata": {
        "id": "Hu-DQLCysvHt"
      },
      "source": [
        "# \"Introduction 1 : Création, exécution et installation\"\n",
        "> \"Python : Chapitre 1 - Lesson 1\"\n",
        "\n",
        "- toc: false \n",
        "- badges: true\n",
        "- hide_binder_badge: true\n",
        "- hide_github_badge: true\n",
        "- comments: false\n",
        "- layout: post\n",
        "- author: AXI Academy\n",
        "- permalink: /python-intro-gen/chapter/1/lesson/1/"
      ]
    },
    {
      "cell_type": "markdown",
      "metadata": {
        "id": "DPLBXxkSsvH0"
      },
      "source": [
        "## 1. Python 2 vs Python 3\n",
        "\n",
        "Python a récemment subi un changement de version majeur de 2 à 3. Nous utiliserons Python 3. Python 2 est encore largement utilisé, et bien que Python 3 ne soit pas entièrement rétrocompatible, les deux versions sont très similaires – donc si jamais vous rencontrez du code Python 2, vous devriez le trouver assez familier."
      ]
    },
    {
      "cell_type": "markdown",
      "metadata": {},
      "source": [
        "## 2. L'interpréteur Python\n",
        "\n",
        "\n",
        "La saisie de la commande `python` (sans aucun paramètre) lancera l'interpréteur Python. Il s'agit d'une console de texte dans laquelle vous pouvez entrer les commandes Python une par une - elles seront interprétées à la volée.\n",
        "\n",
        "```bash\n",
        "python\n",
        "```\n",
        "\n",
        "Résultat de la commande :\n",
        "```\n",
        "Python 3.2.3 (default, Oct 19 2012, 20:10:41)\n",
        "[GCC 4.6.3] on linux2\n",
        "Type \"help\", \"copyright\", \"credits\" or \"license\" for more information.\n",
        ">>>\n",
        "```"
      ]
    },
    {
      "cell_type": "code",
      "execution_count": null,
      "metadata": {},
      "outputs": [],
      "source": [
        "print('hello')"
      ]
    },
    {
      "cell_type": "markdown",
      "metadata": {},
      "source": [
        "## 3. Créer et exécuter un fichier python\n",
        "\n",
        "\n",
        "Les fichier python doivent avoir l'extension : `.py` pour pouvoir être reconnu et interprété par python.\n",
        "Créez un fichier Hello World python avec la commande bash suivante (ou directement sur VSCode) :\n",
        "```\n",
        "touch hello_world.py\n",
        "```\n",
        "\n",
        "Voici le contenu du fichier :\n",
        "```python\n",
        "print('Hello World')\n",
        "```\n",
        "\n",
        "Executez le fichier :\n",
        "```\n",
        "> python3 hello_world.py\n",
        "Hello World\n",
        "```\n"
      ]
    },
    {
      "cell_type": "markdown",
      "metadata": {},
      "source": [
        "## 4. Installer des paquets\n",
        "\n",
        "Installer `pip`  :"
      ]
    },
    {
      "cell_type": "code",
      "execution_count": null,
      "metadata": {},
      "outputs": [],
      "source": [
        "sudo apt install python3-pip"
      ]
    },
    {
      "cell_type": "markdown",
      "metadata": {},
      "source": [
        "Installer des paquet python avec `pip` :"
      ]
    },
    {
      "cell_type": "code",
      "execution_count": null,
      "metadata": {},
      "outputs": [],
      "source": [
        "pip install <package-name>"
      ]
    }
  ],
  "metadata": {
    "colab": {
      "name": "2021-07-07-React-C1-lesson1.ipynb",
      "provenance": []
    },
    "interpreter": {
      "hash": "e81039fbe68e207294864f5533931319f852a9ff28787d9d926ed50182057ef3"
    },
    "kernelspec": {
      "display_name": "Python 3.7.9 64-bit ('python-course': virtualenv)",
      "name": "python3"
    },
    "language_info": {
      "codemirror_mode": {
        "name": "ipython",
        "version": 3
      },
      "file_extension": ".py",
      "mimetype": "text/x-python",
      "name": "python",
      "nbconvert_exporter": "python",
      "pygments_lexer": "ipython3",
      "version": "3.7.9"
    },
    "varInspector": {
      "cols": {
        "lenName": 16,
        "lenType": 16,
        "lenVar": 40
      },
      "kernels_config": {
        "python": {
          "delete_cmd_postfix": "",
          "delete_cmd_prefix": "del ",
          "library": "var_list.py",
          "varRefreshCmd": "print(var_dic_list())"
        },
        "r": {
          "delete_cmd_postfix": ") ",
          "delete_cmd_prefix": "rm(",
          "library": "var_list.r",
          "varRefreshCmd": "cat(var_dic_list()) "
        }
      },
      "types_to_exclude": [
        "module",
        "function",
        "builtin_function_or_method",
        "instance",
        "_Feature"
      ],
      "window_display": false
    }
  },
  "nbformat": 4,
  "nbformat_minor": 2
}
