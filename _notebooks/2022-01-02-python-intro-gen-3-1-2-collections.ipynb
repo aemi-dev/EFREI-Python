{
  "cells": [
    {
      "cell_type": "markdown",
      "metadata": {
        "id": "Hu-DQLCysvHt"
      },
      "source": [
        "# \"Les collections II : Tuples, set et range\"\n",
        "\n",
        "- toc: false \n",
        "- badges: true\n",
        "- hide_binder_badge: true\n",
        "- hide_github_badge: true\n",
        "- comments: false\n",
        "- layout: post\n",
        "- author: DataScientist.fr\n",
        "- permalink: /python-intro-gen/chapter/5/lesson/4/"
      ]
    },
    {
      "cell_type": "markdown",
      "metadata": {},
      "source": [
        "## 2. Les tuples (`tuple`)\n",
        "\n",
        "Python a un autre type de séquence appelé `tuple`. Les tuples sont similaires aux listes, mais ils sont immuables. Les tuples sont définis avec un ensemble de valeurs séparées par des virgules entre parenthèses (`(` et `)`) :"
      ]
    },
    {
      "cell_type": "code",
      "execution_count": null,
      "metadata": {},
      "outputs": [],
      "source": [
        "WEEKDAYS = ('Monday', 'Tuesday', 'Wednesday', 'Thursday', 'Friday', 'Saturday', 'Sunday')"
      ]
    },
    {
      "cell_type": "markdown",
      "metadata": {},
      "source": [
        "Nous pouvons utiliser des tuples de la même manière que nous utilisons des listes, sauf que nous ne pouvons pas les modifier :"
      ]
    },
    {
      "cell_type": "code",
      "execution_count": null,
      "metadata": {},
      "outputs": [],
      "source": [
        "animals = ('cat', 'dog', 'fish')\n",
        "\n",
        "# an empty tuple\n",
        "my_tuple = ()\n",
        "\n",
        "# we can access a single element\n",
        "print(animals[0])\n",
        "\n",
        "# we can get a slice\n",
        "print(animals[1:]) # note that our slice will be a new tuple, not a list\n",
        "\n",
        "# we can count values or look up an index\n",
        "animals.count('cat')\n",
        "animals.index('cat')\n",
        "\n",
        "# ... but this is not allowed:\n",
        "animals.append('canary')\n",
        "animal[1] = 'gerbil'"
      ]
    },
    {
      "cell_type": "markdown",
      "metadata": {},
      "source": [
        "A quoi servent les tuples ? Nous pouvons les utiliser pour créer une séquence de valeurs que nous ne voulons pas modifier."
      ]
    },
    {
      "cell_type": "markdown",
      "metadata": {},
      "source": [
        "## 3. Les sets (`set`)\n",
        "\n",
        "\n",
        "Il existe encore un autre type de séquence appelé `set`. Un `set` est une collection d'éléments uniques. Si nous ajoutons plusieurs copies du même élément à un `set`, les doublons seront éliminés et il nous restera un de chaque élément. Les sets sont définis avec un ensemble de valeurs séparées par des virgules entre accolades (`{` et `}`) :"
      ]
    },
    {
      "cell_type": "code",
      "execution_count": null,
      "metadata": {},
      "outputs": [],
      "source": [
        "animals = {'cat', 'dog', 'goldfish', 'canary', 'cat'}\n",
        "print(animals) # the set will only contain one cat"
      ]
    },
    {
      "cell_type": "markdown",
      "metadata": {},
      "source": [
        "Nous pouvons faire plusieurs opérations sur les sets :"
      ]
    },
    {
      "cell_type": "code",
      "execution_count": null,
      "metadata": {},
      "outputs": [],
      "source": [
        "even_numbers = {2, 4, 6, 8, 10}\n",
        "big_numbers = {6, 7, 8, 9, 10}\n",
        "\n",
        "# subtraction: big numbers which are not even\n",
        "print(big_numbers - even_numbers)\n",
        "\n",
        "# union: numbers which are big or even\n",
        "print(big_numbers | even_numbers)\n",
        "\n",
        "# intersection: numbers which are big and even\n",
        "print(big_numbers & even_numbers)\n",
        "\n",
        "# numbers which are big or even but not both\n",
        "print(big_numbers ^ even_numbers)"
      ]
    },
    {
      "cell_type": "markdown",
      "metadata": {},
      "source": [
        "Il est important de noter que contrairement aux listes et aux tuples, les sets ne sont pas ordonnés. Lorsque nous affichons un ensemble, l'ordre des éléments sera aléatoire. Nous pouvons toujours l'ordoner si besoin (cependant la fonction `sorted` nous renverra une liste):"
      ]
    },
    {
      "cell_type": "code",
      "execution_count": null,
      "metadata": {},
      "outputs": [],
      "source": [
        "print(animals)\n",
        "print(sorted(animals))"
      ]
    },
    {
      "cell_type": "markdown",
      "metadata": {},
      "source": [
        "Comment fait-on pour déclarer un `set` vide ? Nous devons utiliser la fonction `set`. Les dictionnaires, dont nous parlerons dans la section suivante, utilisaient des accolades avant que les ensembles ne les adoptent, donc un ensemble vide d'accolades est en fait un dictionnaire vide :"
      ]
    },
    {
      "cell_type": "code",
      "execution_count": null,
      "metadata": {},
      "outputs": [],
      "source": [
        "# this is an empty dictionary\n",
        "a = {}\n",
        "\n",
        "# this is how we make an empty set\n",
        "b = set()"
      ]
    },
    {
      "cell_type": "markdown",
      "metadata": {},
      "source": [
        "## 4. Les  `range`\n",
        "\n",
        "Nous pouvons générer une séquence d'entier (appelé `range`) grace à la fonction `built-in` : `range`. Les `range` sont des générateurs, nous verrons ces derniers en détail dans la prochaine partie. Pour l'instant, nous avons juste besoin de savoir que les nombres de la plage sont générés un à un, et pas tous à la fois.\n",
        " \n",
        "Dans les exemples ci-dessous, nous convertissons chaque `range` en `list` afin que tous les nombres soient générés et que nous puissions les afficher"
      ]
    },
    {
      "cell_type": "code",
      "execution_count": null,
      "metadata": {},
      "outputs": [],
      "source": [
        "# print the integers from 0 to 9\n",
        "print(list(range(10)))\n",
        "\n",
        "# print the integers from 1 to 10\n",
        "print(list(range(1, 11)))\n",
        "\n",
        "# print the odd integers from 1 to 10\n",
        "print(list(range(1, 11, 2)))"
      ]
    },
    {
      "cell_type": "markdown",
      "metadata": {},
      "source": [
        "Comme vous pouvez le voir, si nous passons un seul paramètre à la fonction range, il est utilisé comme borne supérieure. Si nous utilisons deux paramètres, le premier est la borne inférieure et le second est la borne supérieure. Si nous en utilisons trois, le troisième paramètre est la taille du pas. La limite inférieure par défaut est zéro et la taille de pas par défaut est un. Notez que la plage inclut la limite inférieure et exclut la limite supérieure."
      ]
    }
  ],
  "metadata": {
    "colab": {
      "name": "2021-07-07-React-C1-lesson1.ipynb",
      "provenance": []
    },
    "kernelspec": {
      "display_name": "Python 3.10.5 ('.pyazure': venv)",
      "language": "python",
      "name": "python3"
    },
    "language_info": {
      "codemirror_mode": {
        "name": "ipython",
        "version": 3
      },
      "file_extension": ".py",
      "mimetype": "text/x-python",
      "name": "python",
      "nbconvert_exporter": "python",
      "pygments_lexer": "ipython3",
      "version": "3.10.5"
    },
    "varInspector": {
      "cols": {
        "lenName": 16,
        "lenType": 16,
        "lenVar": 40
      },
      "kernels_config": {
        "python": {
          "delete_cmd_postfix": "",
          "delete_cmd_prefix": "del ",
          "library": "var_list.py",
          "varRefreshCmd": "print(var_dic_list())"
        },
        "r": {
          "delete_cmd_postfix": ") ",
          "delete_cmd_prefix": "rm(",
          "library": "var_list.r",
          "varRefreshCmd": "cat(var_dic_list()) "
        }
      },
      "types_to_exclude": [
        "module",
        "function",
        "builtin_function_or_method",
        "instance",
        "_Feature"
      ],
      "window_display": false
    },
    "vscode": {
      "interpreter": {
        "hash": "38d69403fd8fa39e18fa676e8980dac43123eb3c6ff7389c217750484b91c916"
      }
    }
  },
  "nbformat": 4,
  "nbformat_minor": 2
}
