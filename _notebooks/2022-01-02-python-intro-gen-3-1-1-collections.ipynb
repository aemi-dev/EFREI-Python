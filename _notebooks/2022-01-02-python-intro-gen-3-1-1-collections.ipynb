{
  "cells": [
    {
      "cell_type": "markdown",
      "metadata": {
        "id": "Hu-DQLCysvHt"
      },
      "source": [
        "# \"Les collections I : Listes\"\n",
        "\n",
        "- toc: false \n",
        "- badges: true\n",
        "- hide_binder_badge: true\n",
        "- hide_github_badge: true\n",
        "- comments: false\n",
        "- layout: post\n",
        "- author: DataScientist.fr\n",
        "- permalink: /python-intro-gen/chapter/5/lesson/5/"
      ]
    },
    {
      "cell_type": "markdown",
      "metadata": {
        "id": "DPLBXxkSsvH0"
      },
      "source": [
        "Nous avons déjà rencontré quelques types Python simples comme les nombres (`int`, `float`), les string (`str`)et les booléens (`bool`). Nous allons maintenant voir comment regrouper plusieurs valeurs dans une collection, comme une liste de nombres ou un dictionnaire que nous pouvons utiliser pour stocker et récupérer des paires clé-valeur. De nombreuses collections utiles sont des types intégrés dans Python, et nous les rencontrerons assez souvent.\n",
        "\n",
        "## 1. Les listes (`list`)\n",
        "\n",
        "\n",
        "Le type de liste en Python est appelé `list`. Nous pouvons l'utiliser pour stocker plusieurs valeurs et y accéder séquentiellement ou par leur position (leur index). Les listes sont définis avec un ensemble de valeurs séparées par des virgules entre crochets (`[` et `]`) :"
      ]
    },
    {
      "cell_type": "code",
      "execution_count": null,
      "metadata": {},
      "outputs": [],
      "source": [
        "# a list of strings\n",
        "animals = ['cat', 'dog', 'fish', 'bison']\n",
        "\n",
        "# a list of integers\n",
        "numbers = [1, 7, 34, 20, 12]\n",
        "\n",
        "# an empty list\n",
        "my_list = []\n",
        "\n",
        "# a list of variables we defined somewhere else\n",
        "things = [\n",
        "    one_variable,\n",
        "    another_variable,\n",
        "    third_variable, # this trailing comma is legal in Python\n",
        "]"
      ]
    },
    {
      "cell_type": "markdown",
      "metadata": {},
      "source": [
        "Comme vous pouvez le voir, nous avons utilisé des noms au pluriel pour nommer la plupart de nos variables de liste. Il s'agit d'une convention courante et il est utile de la suivre dans la plupart des cas.\n",
        "\n",
        "Pour accéder à un élément de la liste, nous utilisons l'identifiant de la liste suivi de l'index entre crochets. Les index sont des entiers qui commencent à zéro :"
      ]
    },
    {
      "cell_type": "code",
      "execution_count": null,
      "metadata": {},
      "outputs": [],
      "source": [
        "print(animals[0]) # cat\n",
        "print(numbers[1]) # 7\n",
        "\n",
        "# This will give us an error, because the list only has four elements\n",
        "print(animals[6])"
      ]
    },
    {
      "cell_type": "markdown",
      "metadata": {},
      "source": [
        "On peut aussi retrouver des éléments en partant de la fin :"
      ]
    },
    {
      "cell_type": "code",
      "execution_count": null,
      "metadata": {},
      "outputs": [],
      "source": [
        "print(animals[-1]) # the last element -- bison\n",
        "print(numbers[-2]) # the second-last element -- 20"
      ]
    },
    {
      "cell_type": "markdown",
      "metadata": {},
      "source": [
        "Nous pouvons aussi extraire un sous-ensemble d'une liste (qui sera elle-même une liste) à l'aide d'un `slice`. Cela utilise presque la même syntaxe que pour accéder à un seul élément, mais au lieu de spécifier un seul index entre les crochets, nous devons spécifier une limite supérieure et inférieure. Notez que notre sous-liste inclura l'élément à la limite inférieure, mais exclura l'élément à la limite supérieure :"
      ]
    },
    {
      "cell_type": "code",
      "execution_count": null,
      "metadata": {},
      "outputs": [],
      "source": [
        "print(animals[1:3]) # ['dog', 'fish']\n",
        "print(animals[1:-1]) # ['dog', 'fish']"
      ]
    },
    {
      "cell_type": "markdown",
      "metadata": {},
      "source": [
        "Si l'une des limites est l'une des extrémités de la liste, nous pouvons la laisser de côté."
      ]
    },
    {
      "cell_type": "code",
      "execution_count": null,
      "metadata": {},
      "outputs": [],
      "source": [
        "print(animals[2:]) # ['fish', 'bison']\n",
        "print(animals[:2]) # ['cat', 'dog']\n",
        "print(animals[:]) # a copy of the whole list"
      ]
    },
    {
      "cell_type": "markdown",
      "metadata": {},
      "source": [
        "Nous pouvons même inclure un troisième paramètre pour spécifier la taille du pas :"
      ]
    },
    {
      "cell_type": "code",
      "execution_count": null,
      "metadata": {},
      "outputs": [],
      "source": [
        "print(animals[::2]) # ['cat', 'fish']"
      ]
    },
    {
      "cell_type": "markdown",
      "metadata": {},
      "source": [
        "Les listes sont mutables, nous pouvons modifier des éléments, en ajouter ou en supprimer. Une liste changera de taille automatiquement lorsque nous ajoutons ou supprimons des éléments :"
      ]
    },
    {
      "cell_type": "code",
      "execution_count": null,
      "metadata": {},
      "outputs": [],
      "source": [
        "# assign a new value to an existing element\n",
        "animals[3] = \"hamster\"\n",
        "\n",
        "# add a new element to the end of the list\n",
        "animals.append(\"squirrel\")\n",
        "\n",
        "# remove an element by its index\n",
        "del animals[2]"
      ]
    },
    {
      "cell_type": "markdown",
      "metadata": {},
      "source": [
        "Comme les `list` sont mutables, nous pouvons modifier une variable d'une `list` sans lui affecter une valeur complètement nouvelle. N'oubliez pas que si nous attribuons la même valeur de `list` à deux variables, toute modification faite à l'une des deux variables sera refleté sur l'autre :"
      ]
    },
    {
      "cell_type": "code",
      "execution_count": null,
      "metadata": {},
      "outputs": [],
      "source": [
        "animals = ['cat', 'dog', 'goldfish', 'canary']\n",
        "pets = animals # now both variables refer to the same list object\n",
        "\n",
        "animals.append('aardvark')\n",
        "print(pets) # pets is still the same list as animals\n",
        "\n",
        "animals = ['rat', 'gerbil', 'hamster'] # now we assign a new list value to animals\n",
        "print(pets) # pets still refers to the old list\n",
        "\n",
        "pets = animals[:] # assign a *copy* of animals to pets\n",
        "animals.append('aardvark')\n",
        "print(pets) # pets remains unchanged, because it refers to a copy, not the original list"
      ]
    },
    {
      "cell_type": "markdown",
      "metadata": {},
      "source": [
        "On peut mélanger les types de valeurs que l'on stocke dans une liste :"
      ]
    },
    {
      "cell_type": "code",
      "execution_count": null,
      "metadata": {},
      "outputs": [],
      "source": [
        "my_list = ['cat', 12, 35.8]"
      ]
    },
    {
      "cell_type": "markdown",
      "metadata": {},
      "source": [
        "Comment vérifier si une liste contient une valeur particulière ? Nous utilisons les opérateurs `in` ou `not in` : "
      ]
    },
    {
      "cell_type": "code",
      "execution_count": null,
      "metadata": {},
      "outputs": [],
      "source": [
        "numbers = [34, 67, 12, 29]\n",
        "my_number = 67\n",
        "\n",
        "if number in numbers:\n",
        "    print(\"%d is in the list!\" % number)\n",
        "\n",
        "my_number = 90\n",
        "if number not in numbers:\n",
        "    print(\"%d is not in the list!\" % number)\n"
      ]
    },
    {
      "cell_type": "markdown",
      "metadata": {},
      "source": [
        "### Les fonctions des listes\n",
        "\n",
        "\n",
        "Il existe des fonctions `built-in` que nous pouvons utiliser sur les listes et autres séquences :"
      ]
    },
    {
      "cell_type": "code",
      "execution_count": null,
      "metadata": {},
      "outputs": [],
      "source": [
        "# the length of a list\n",
        "len(animals)\n",
        "\n",
        "# the sum of a list of numbers\n",
        "sum(numbers)\n",
        "\n",
        "# are any of these values true?\n",
        "any([1,0,1,0,1])\n",
        "\n",
        "# are all of these values true?\n",
        "all([1,0,1,0,1])"
      ]
    },
    {
      "cell_type": "markdown",
      "metadata": {},
      "source": [
        "L'objet `list` possède lui aussi de nombreuses fonctions utiles :"
      ]
    },
    {
      "cell_type": "code",
      "execution_count": null,
      "metadata": {},
      "outputs": [],
      "source": [
        "numbers = [1, 2, 3, 4, 5]\n",
        "\n",
        "# we already saw how to add an element to the end\n",
        "numbers.append(5)\n",
        "\n",
        "# count how many times a value appears in the list\n",
        "numbers.count(5)\n",
        "\n",
        "# append several values at once to the end\n",
        "numbers.extend([56, 2, 12])\n",
        "\n",
        "# find the index of a value\n",
        "numbers.index(3)\n",
        "# if the value appears more than once, we will get the index of the first one\n",
        "numbers.index(2)\n",
        "# if the value is not in the list, we will get a ValueError!\n",
        "numbers.index(42)\n",
        "\n",
        "# insert a value at a particular index\n",
        "numbers.insert(0, 45) # insert 45 at the beginning of the list\n",
        "\n",
        "# remove an element by its index and assign it to a variable\n",
        "my_number = numbers.pop(0)\n",
        "\n",
        "# remove an element by its value\n",
        "numbers.remove(12)\n",
        "# if the value appears more than once, only the first one will be removed\n",
        "numbers.remove(5)"
      ]
    },
    {
      "cell_type": "markdown",
      "metadata": {},
      "source": [
        "Nous pouvons aussi trier les listes de plusieurs façons :"
      ]
    },
    {
      "cell_type": "code",
      "execution_count": null,
      "metadata": {},
      "outputs": [],
      "source": [
        "numbers = [3, 2, 4, 1]\n",
        "\n",
        "# these return a modified copy, which we can print\n",
        "print(sorted(numbers))\n",
        "print(list(reversed(numbers)))\n",
        "\n",
        "# the original list is unmodified\n",
        "print(numbers)\n",
        "\n",
        "# now we can modify it in place\n",
        "numbers.sort()\n",
        "numbers.reverse()\n",
        "\n",
        "print(numbers)"
      ]
    },
    {
      "cell_type": "markdown",
      "metadata": {},
      "source": [
        "### Les opérateurs arithmétiques\n",
        "\n",
        "Nous pouvons combiner des listes et les étendre grace aux opérateurs arithmétiques `+` et `*` :"
      ]
    },
    {
      "cell_type": "code",
      "execution_count": null,
      "metadata": {},
      "outputs": [],
      "source": [
        "# we can concatenate two lists by adding them\n",
        "print([1, 2, 3] + [4, 5, 6])\n",
        "\n",
        "# we can concatenate a list with itself by multiplying it by an integer\n",
        "print([1, 2, 3] * 3)\n",
        "\n",
        "# not all arithmetic operators can be used on lists -- this will give us an error!\n",
        "print([1, 2, 3] - [2, 3])"
      ]
    }
  ],
  "metadata": {
    "colab": {
      "name": "2021-07-07-React-C1-lesson1.ipynb",
      "provenance": []
    },
    "kernelspec": {
      "display_name": "Python 3.10.5 ('.pyazure': venv)",
      "language": "python",
      "name": "python3"
    },
    "language_info": {
      "codemirror_mode": {
        "name": "ipython",
        "version": 3
      },
      "file_extension": ".py",
      "mimetype": "text/x-python",
      "name": "python",
      "nbconvert_exporter": "python",
      "pygments_lexer": "ipython3",
      "version": "3.10.5"
    },
    "varInspector": {
      "cols": {
        "lenName": 16,
        "lenType": 16,
        "lenVar": 40
      },
      "kernels_config": {
        "python": {
          "delete_cmd_postfix": "",
          "delete_cmd_prefix": "del ",
          "library": "var_list.py",
          "varRefreshCmd": "print(var_dic_list())"
        },
        "r": {
          "delete_cmd_postfix": ") ",
          "delete_cmd_prefix": "rm(",
          "library": "var_list.r",
          "varRefreshCmd": "cat(var_dic_list()) "
        }
      },
      "types_to_exclude": [
        "module",
        "function",
        "builtin_function_or_method",
        "instance",
        "_Feature"
      ],
      "window_display": false
    },
    "vscode": {
      "interpreter": {
        "hash": "38d69403fd8fa39e18fa676e8980dac43123eb3c6ff7389c217750484b91c916"
      }
    }
  },
  "nbformat": 4,
  "nbformat_minor": 2
}
