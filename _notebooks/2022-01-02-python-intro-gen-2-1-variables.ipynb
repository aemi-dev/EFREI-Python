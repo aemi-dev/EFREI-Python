{
  "cells": [
    {
      "cell_type": "markdown",
      "metadata": {
        "id": "Hu-DQLCysvHt"
      },
      "source": [
        "# \"Les variables\"\n",
        "\n",
        "- toc: false \n",
        "- badges: true\n",
        "- hide_binder_badge: true\n",
        "- hide_github_badge: true\n",
        "- comments: false\n",
        "- layout: post\n",
        "- author: DataScientist.fr\n",
        "- permalink: /python-intro-gen/chapter/2/lesson/1/"
      ]
    },
    {
      "cell_type": "markdown",
      "metadata": {
        "id": "DPLBXxkSsvH0"
      },
      "source": [
        "## 1. Création\n",
        "\n",
        "Une variable est une étiquette pour un emplacement en mémoire. Il peut être utilisé pour contenir une valeur. Dans les langages à typage statique, les variables ont des types prédéterminés et une variable ne peut être utilisée que pour contenir des valeurs de ce type. En Python, nous pouvons réutiliser la même variable pour stocker des valeurs de tout type.\n"
      ]
    },
    {
      "cell_type": "markdown",
      "metadata": {},
      "source": [
        "### Création d'une variable\n",
        "\n",
        "Création de la variable `count`dont la valeur est `0` :"
      ]
    },
    {
      "cell_type": "code",
      "execution_count": null,
      "metadata": {},
      "outputs": [],
      "source": [
        "count = 0"
      ]
    },
    {
      "cell_type": "markdown",
      "metadata": {},
      "source": [
        "### La portée (scope) des variables\n",
        "\n",
        "Toutes les variables ne sont pas accessibles depuis toutes les parties de notre programme, et toutes les variables n'existent pas pour la même durée. L'endroit où une variable est accessible et sa durée d'existence dépendent de la façon dont elle est définie. Nous appelons la partie d'un programme où une variable est accessible sa portée (scope), et la durée pendant laquelle la variable existe :"
      ]
    },
    {
      "cell_type": "code",
      "execution_count": null,
      "metadata": {},
      "outputs": [],
      "source": [
        "# This is a global variable\n",
        "a = 0\n",
        "\n",
        "if a == 0:\n",
        "    # This is still a global variable\n",
        "    b = 1\n",
        "\n",
        "def my_function(c):\n",
        "    # this is a local variable\n",
        "    d = 3\n",
        "    print(c)\n",
        "    print(d)\n",
        "\n",
        "# Now we call the function, passing the value 7 as the first and only parameter\n",
        "my_function(7)\n",
        "\n",
        "# a and b still exist\n",
        "print(a)\n",
        "print(b)\n",
        "\n",
        "# c and d don't exist anymore -- these statements will give us name errors!\n",
        "print(c)\n",
        "print(d)"
      ]
    },
    {
      "cell_type": "markdown",
      "metadata": {},
      "source": [
        "### L'opérateur `=`\n",
        "\n",
        "Cet opérateur affecte la valeur du côté droit à la variable du côté gauche, créant parfois la variable en premier. Si le côté droit est une expression (telle qu'une expression arithmétique), elle sera évaluée avant que l'affectation ne se produise. Voici quelques exemples:"
      ]
    },
    {
      "cell_type": "code",
      "execution_count": null,
      "metadata": {},
      "outputs": [],
      "source": [
        "total = 3\n",
        "\n",
        "a_number = 5              # a_number becomes 5\n",
        "a_number = total          # a_number becomes the value of total\n",
        "a_number = total + 5      # a_number becomes the value of total + 5\n",
        "a_number = a_number + 1   # a_number becomes the value of a_number + 1\n",
        "\n",
        "\n",
        "# these are all illegal:\n",
        "3 = 4\n",
        "3 = a\n",
        "a + b = 3\n",
        "\n",
        "# both a and b will be set to zero:\n",
        "a = b = 0\n",
        "\n",
        "# this is illegal, because we can't set 0 to b:\n",
        "a = 0 = b"
      ]
    },
    {
      "cell_type": "markdown",
      "metadata": {},
      "source": [
        "### Les opérateurs composés\n",
        "\n",
        "| Operator | Example | Equivalent to |\n",
        "| -------- | ------- | ------------- |\n",
        "| += | a += 5 | a = a + 5 |\n",
        "| -= | a -= 5 | a = a - 5 |\n",
        "| *= | a *= 5 | a = a * 5 |\n",
        "| /= | a /= 5 | a = a / 5 |\n",
        "| %= | a %= 5 | a = a % 5 |\n",
        "\n",
        "\n"
      ]
    },
    {
      "cell_type": "markdown",
      "metadata": {},
      "source": [
        "## Exercice 1 :\n",
        "\n",
        " - 1) Décrivez le scope des variables `a`, `b`, `c` et `d` dans cet exemple :"
      ]
    },
    {
      "cell_type": "code",
      "execution_count": null,
      "metadata": {},
      "outputs": [],
      "source": [
        "def my_function(a):\n",
        "    b = a - 2\n",
        "    return b\n",
        "\n",
        "c = 3\n",
        "\n",
        "if c > 2:\n",
        "    d = my_function(5)\n",
        "    print(d)"
      ]
    },
    {
      "cell_type": "markdown",
      "metadata": {},
      "source": [
        " - 2) Quelle est la durée de vie de ces variables ? Quand seront-elles créés et détruits ?\n",
        " - 3) Pouvez-vous deviner ce qui se passerait si nous attribuions à `c` une valeur de 1 à la place ?"
      ]
    },
    {
      "cell_type": "markdown",
      "metadata": {},
      "source": [
        "## 2. Modification\n",
        "\n",
        "Dans certaines langues, il est possible de définir des variables spéciales auxquelles une valeur ne peut être affectée qu'une seule fois – une fois leurs valeurs définies, elles ne peuvent pas être modifiées. Nous appelons ces types de variables des constantes. Python ne nous permet pas de définir une telle restriction sur les variables, mais il existe une convention largement utilisée pour marquer certaines variables pour indiquer que leurs valeurs ne sont pas censées changer : nous écrivons leurs noms en majuscules, avec des traits de soulignement séparant les mots :"
      ]
    },
    {
      "cell_type": "code",
      "execution_count": null,
      "metadata": {},
      "outputs": [],
      "source": [
        "# These variables are \"constants\" by convention:\n",
        "NUMBER_OF_DAYS_IN_A_WEEK = 7\n",
        "NUMBER_OF_MONTHS_IN_A_YEAR = 12\n",
        "\n",
        "# Nothing is actually stopping us from redefining them...\n",
        "NUMBER_OF_DAYS_IN_A_WEEK = 8\n",
        "\n",
        "# ...but it's probably not a good idea."
      ]
    },
    {
      "cell_type": "markdown",
      "metadata": {},
      "source": [
        "### Les types : mutable et immuable\n",
        "\n",
        "Certaines valeurs en python peuvent être modifiées, d'autres non. Cela ne signifie jamais que nous ne pouvons pas changer la valeur d'une variable - mais si une variable contient une valeur d'un type immuable, nous ne pouvons lui attribuer qu'une nouvelle valeur. Nous ne pouvons en aucun cas modifier la valeur existante.\n",
        "\n",
        "Les entiers, les nombres à virgule flottante et les chaînes sont tous des types immuables - dans tous les exemples précédents, lorsque nous avons modifié les valeurs des variables existantes, nous avons utilisé l'opérateur d'affectation pour leur attribuer de nouvelles valeurs :"
      ]
    },
    {
      "cell_type": "code",
      "execution_count": null,
      "metadata": {},
      "outputs": [],
      "source": [
        "a = 3\n",
        "a = 2\n",
        "\n",
        "b = \"jane\"\n",
        "b = \"bob\"\n",
        "\n",
        "# This operator doesn’t modify the value of total, it assign a new value\n",
        "total += 4"
      ]
    },
    {
      "cell_type": "markdown",
      "metadata": {},
      "source": [
        "Les objets de type mutable peuvent être modifier de différentes manières suivant leur type."
      ]
    },
    {
      "cell_type": "code",
      "execution_count": null,
      "metadata": {},
      "outputs": [],
      "source": [
        "# this is a list of numbers\n",
        "my_list = [1, 2, 3]\n",
        "my_list[0] = 5 # we can change just the first element of the list\n",
        "print(my_list)\n",
        "\n",
        "# A class is a mutable object type \n",
        "class MyClass(object):\n",
        "    pass\n",
        "\n",
        "# Now we make a very simple object using our class as a type\n",
        "my_object = MyClass()\n",
        "\n",
        "# We can change the values of attributes on the object\n",
        "my_object.some_property = 42"
      ]
    },
    {
      "cell_type": "markdown",
      "metadata": {},
      "source": [
        "## 3. Les conversions\n",
        "\n",
        "Au fur et à mesure que nous écrivons des programmes, nous constaterons souvent que nous devons convertir des données d'un type à un autre, par exemple d'une chaîne à un entier ou d'un entier à un nombre à virgule flottante. Il existe deux types de conversions de type en Python : les conversions implicites et explicites.\n",
        "\n",
        "### Les conservions implicites\n",
        "\n",
        "Rappelez-vous de la section sur les opérateurs à virgule flottante que nous pouvons combiner arbitrairement des entiers et des nombres à virgule flottante dans une expression arithmétique - et que le résultat d'une telle expression sera toujours un nombre à virgule flottante. En effet, Python convertira les entiers en nombres à virgule flottante avant d'évaluer l'expression. Il s'agit d'une conversion implicite - nous n'avons rien à convertir nous-mêmes. Il n'y a généralement pas de perte de précision lorsqu'un entier est converti en un nombre à virgule flottante.\n"
      ]
    },
    {
      "cell_type": "code",
      "execution_count": null,
      "metadata": {},
      "outputs": [],
      "source": [
        "a = 8.5 * 2\n",
        "print(a)\n",
        "\n",
        "b = 3 / 2\n",
        "print(b)\n",
        "\n",
        "c = 8.5 + 7 // 3 - 2.5\n",
        "print(c)"
      ]
    },
    {
      "cell_type": "markdown",
      "metadata": {},
      "source": [
        "### Les conservions explicites (cast)\n",
        "\n",
        "\n",
        "La conversion de nombres de `float` en `int` entraînera une perte de précision. Par exemple, essayez de convertir `5.834` en `int` : il n'est pas possible de le faire sans perdre en précision. Pour que cela se produise, nous devons explicitement dire à Python que nous sommes conscients que la précision sera perdue.\n",
        "   \n",
        "Par exemple, nous devons dire au compilateur de convertir un float en un int comme ceci :\n"
      ]
    },
    {
      "cell_type": "code",
      "execution_count": null,
      "metadata": {},
      "outputs": [],
      "source": [
        "i = int(5.834)\n",
        "print(i)"
      ]
    },
    {
      "cell_type": "markdown",
      "metadata": {},
      "source": [
        "La fonction `int` convertit un `float` en un int en supprimant la partie décimale : elle sera toujours arrondie à l'inférieur. Si nous voulons plus de contrôle sur la façon dont le nombre est arrondi, nous devrons utiliser une fonction différente :"
      ]
    },
    {
      "cell_type": "code",
      "execution_count": null,
      "metadata": {},
      "outputs": [],
      "source": [
        "# the floor and ceil functions are in the math module\n",
        "import math\n",
        "\n",
        "# ceil returns the closest integer greater than or equal to the number\n",
        "# (so it always rounds up)\n",
        "i = math.ceil(5.834)\n",
        "print(i)\n",
        "\n",
        "# floor returns the closest integer less than or equal to the number\n",
        "# (so it always rounds down)\n",
        "i = math.floor(5.834)\n",
        "print(i)\n",
        "\n",
        "# round returns the closest integer to the number\n",
        "# (so it rounds up or down)\n",
        "# Note that this is a built-in function -- we don't need to import math to use it.\n",
        "i = round(5.834)\n",
        "print(i)\n",
        "i = round(5.334)\n",
        "print(i)"
      ]
    },
    {
      "cell_type": "markdown",
      "metadata": {},
      "source": [
        "## 4. Le typage\n",
        "\n",
        "Les langages de programmation possède différentes manières de typer des variables. On va notamment distinguer 2 caractéristiques :\n",
        "\n",
        "\n",
        "### Typage statique ou dynamique \n",
        "\n",
        "- **langage à typage statique :** Un langage dans lequel les types sont fixés à la compilation. La plupart des langages à typage statique obtiennent cela en exigeant la déclaration de toutes les variables et de leur type avant leur utilisation. Java et C sont des langages à typage statique. \n",
        "- **langage à typage dynamique :** Un langage dans lequel les types sont découverts à l'exécution, l'inverse du typage statique. VBScript et Python sont des langages à typage dynamique, ils déterminent le type d'une variable la première fois que vous lui assignez une valeur. \n",
        "\n",
        "\n",
        "### Les langages fortement typé ou faiblement typé\n",
        "\n",
        "- **langage fortement typé :** Un langage dans lequel les types sont toujours appliqués. Java et Python sont fortement typés. Un entier ne peut être traité comme une chaîne sans conversion explicite \n",
        "- **langage faiblement typé :** Un langage dans lequel les types peuvent être ignorés, l'inverse de fortement typé. VBScript est faiblement typé. En VBScript, vous pouvez concaténer la chaîne '12' et l'entier 3 pour obtenir la chaîne '123' et traiter le résultat comme l'entier 123, le tout sans faire de conversion explicite. \n",
        "\n",
        "   \n",
        "Python est donc à la fois à typage dynamique (il n'utilise pas de déclaration de type explicite) et fortement typé (une fois qu'une variable a un type, cela a une importance.\n",
        "   \n",
        "On peut connaitre le type d'une variable python avec la fonction `built-in` : `type` :\n",
        "\n",
        "\n",
        "  "
      ]
    },
    {
      "cell_type": "code",
      "execution_count": null,
      "metadata": {},
      "outputs": [],
      "source": [
        "print(type('Hello World !'))"
      ]
    },
    {
      "cell_type": "code",
      "execution_count": null,
      "metadata": {},
      "outputs": [],
      "source": [
        "print(type(123))"
      ]
    },
    {
      "cell_type": "code",
      "execution_count": null,
      "metadata": {},
      "outputs": [],
      "source": [
        "print(type(0.23))"
      ]
    }
  ],
  "metadata": {
    "colab": {
      "name": "2021-07-07-React-C1-lesson1.ipynb",
      "provenance": []
    },
    "kernelspec": {
      "display_name": "Python 3.10.5 ('.pyazure': venv)",
      "language": "python",
      "name": "python3"
    },
    "language_info": {
      "codemirror_mode": {
        "name": "ipython",
        "version": 3
      },
      "file_extension": ".py",
      "mimetype": "text/x-python",
      "name": "python",
      "nbconvert_exporter": "python",
      "pygments_lexer": "ipython3",
      "version": "3.10.5"
    },
    "varInspector": {
      "cols": {
        "lenName": 16,
        "lenType": 16,
        "lenVar": 40
      },
      "kernels_config": {
        "python": {
          "delete_cmd_postfix": "",
          "delete_cmd_prefix": "del ",
          "library": "var_list.py",
          "varRefreshCmd": "print(var_dic_list())"
        },
        "r": {
          "delete_cmd_postfix": ") ",
          "delete_cmd_prefix": "rm(",
          "library": "var_list.r",
          "varRefreshCmd": "cat(var_dic_list()) "
        }
      },
      "types_to_exclude": [
        "module",
        "function",
        "builtin_function_or_method",
        "instance",
        "_Feature"
      ],
      "window_display": false
    },
    "vscode": {
      "interpreter": {
        "hash": "38d69403fd8fa39e18fa676e8980dac43123eb3c6ff7389c217750484b91c916"
      }
    }
  },
  "nbformat": 4,
  "nbformat_minor": 2
}
