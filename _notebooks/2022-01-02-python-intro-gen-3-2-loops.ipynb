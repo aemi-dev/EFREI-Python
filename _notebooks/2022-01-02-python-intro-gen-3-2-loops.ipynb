{
  "cells": [
    {
      "cell_type": "markdown",
      "metadata": {
        "id": "Hu-DQLCysvHt"
      },
      "source": [
        "# \"Les boucles en python : itérer avec for et while\"\n",
        "\n",
        "- toc: false \n",
        "- comments: false\n",
        "- layout: post\n",
        "- author: DataScientist.fr"
      ]
    },
    {
      "cell_type": "markdown",
      "metadata": {},
      "source": [
        "Dans ce chapitre, vous apprendrez comment faire en sorte que l'ordinateur exécute un groupe d'instructions encore et encore tant qu'un certain critère est vérifié. Le groupe d'instructions exécutées à plusieurs reprises est appelé une boucle. Il existe deux instructions de boucle en Python : `for` et `while`. Nous discuterons de la différence entre ces déclarations plus loin dans le chapitre, mais regardons d'abord un exemple de boucle dans le monde réel.\n",
        "\n",
        "\n",
        "Un employé d'une station service effectue les actions suivantes lorsqu'il sert un client :\n",
        "\n",
        " - 1) Saluer le client\n",
        " - 2) Demander le type d'essence requis et la quantité\n",
        " - 3) Demander si le client a besoin d'autres services\n",
        " - 4) Demander la somme d'argent requise\n",
        " - 5) Donner de l'argent au caissier\n",
        " - 6) Attendre le changement et la réception\n",
        " - 7) Remettre la monnaie et le reçu au client\n",
        " - 8) Dire merci et au revoir\n",
        "\n",
        "L'employé effectue ces étapes pour chaque client, mais il ne les suit pas lorsqu'il n'y a pas de client à servir. Il ne les exécute également que lorsque lors de son temps de travail. Si nous devions écrire un programme informatique pour simuler ce comportement, il ne suffirait pas de fournir les étapes et de demander à l'ordinateur de les répéter encore et encore. Nous aurions également besoin de lui dire quand arrêter de les exécuter.\n",
        "\n",
        "Il existe deux grands types de boucles de programmation : les boucles de comptage (`for`) et les boucles contrôlées par événement (`while`).\n",
        "\n",
        "Dans une boucle de comptage, l'ordinateur sait au début de l'exécution de la boucle combien de fois il doit exécuter la boucle. En Python, ce type de boucle est défini avec l'instruction `for`, qui exécute le corps de la boucle pour chaque élément d'une liste.\n",
        "\n",
        "Dans une boucle contrôlées par événement, l'ordinateur arrête l'exécution de la boucle lorsqu'une condition n'est plus vraie. En Python, vous pouvez utiliser l'instruction `while`. L'ordinateur exécute le corps de la boucle tant que la condition est vraie. L'instruction `while` vérifie la condition avant d'effectuer chaque itération de la boucle.\n",
        "\n",
        "Les boucles de comptage sont en fait un sous-ensemble de la boucle de contrôle d'événement, la boucle est répétée jusqu'à ce que le nombre requis d'itérations soit atteint.\n",
        "\n",
        "Si vous vouliez aller de Paris à Marseille, quel algorithme de boucle utiliseriez-vous ? Si vous avez commencé par mettre votre voiture sur la route de Marseille, vous pourriez :\n",
        "\n",
        "- Rouler exactement 7h30. Après 7h30, arréter la voiture et descendre.\n",
        "- Rouler exactement 780km. Après 780km, arréter la voiture et descendre.\n",
        "- Roulez tant que nous ne sommes pas arrivé à Marseille. Une fois arriver, arréter la voiture et descendre.\n",
        "\n",
        "Les deux premiers algorithmes sont basés sur le comptage, aucun de ces algorithmes ne garantit que vous arriverez à Marseille. Dans le premier cas, vous pourriez rencontrer un trafic dense ou pas du tout, et ne pas atteindre ou dépasser la destination souhaitée. Dans le second cas, vous pourriez trouver un détour et vous retrouver loin de Camps Bay.\n",
        "\n",
        "Le troisième algorithme est contrôlé par les événements. Vous continuez à conduire tant que vous n'êtes pas à Marseille. La condition que vous continuez à vérifier est : est-ce que je suis arrivé à Marseille  ?\n",
        "\n",
        "## 1. La boucle `while`\n",
        "\n",
        "L'instruction python pour une boucle controlé par des évenements est : `while`. Vous devez l'utiliser lorsque vous ne savez pas à l'avance combien de fois vous devrez exécuter le corps de la boucle. Tant que la condition est vraie, le corps `while` continue de se répéter. Exemple :\n"
      ]
    },
    {
      "cell_type": "code",
      "execution_count": null,
      "metadata": {},
      "outputs": [],
      "source": [
        "total = 0\n",
        "i = 1\n",
        "\n",
        "while i <=10:\n",
        "    total += i\n",
        "    i += 1\n",
        "    print(i, total)"
      ]
    },
    {
      "cell_type": "markdown",
      "metadata": {},
      "source": [
        "La variable utilisée dans la condition de boucle est le nombre `i`, que vous utilisez pour compter les entiers de 1 à 10. Vous initialisez d'abord ce nombre à 1. Dans la condition, vous vérifiez si `i` est inférieur ou égal à 10, et si c'est vrai, vous exécutez le corps de la boucle. Ensuite, à la fin du corps de la boucle, vous mettez à jour `i` en l'incrémentant de 1.\n",
        "\n",
        "Il est très important que vous incrémentiez `i` à la fin. Sinon, `i` serait toujours égal à 1, la condition serait toujours vraie et votre programme ne se terminerait jamais. Nous appelons cela une boucle infinie. Chaque fois que vous écrivez une boucle `while`, assurez-vous que la variable que vous utilisez dans votre condition est mise à jour à l'intérieur du corps de la boucle.\n",
        "\n",
        "Voici quelques erreurs courantes pouvant entraîner une boucle infinie :"
      ]
    },
    {
      "cell_type": "code",
      "execution_count": null,
      "metadata": {},
      "outputs": [],
      "source": [
        "x = 0\n",
        "while x < 3:\n",
        "    y += 1 # wrong variable updated\n",
        "\n",
        "product = 1\n",
        "count = 1\n",
        "\n",
        "while count <= 10:\n",
        "    product *= count\n",
        "    # forgot to update count\n",
        "\n",
        "x = 0\n",
        "while x < 5:\n",
        "    print(x)\n",
        "x += 1 # update statement is indented one level too little, so it's outside the loop body\n",
        "\n",
        "x = 0\n",
        "while x != 5:\n",
        "    print(x)\n",
        "    x += 2 # x will never equal 5, because we are counting in even numbers!"
      ]
    },
    {
      "cell_type": "markdown",
      "metadata": {},
      "source": [
        "Dans certains exemples ci-dessus, nous comptons jusqu'à un nombre prédéterminé, il serait donc plus approprié pour nous d'utiliser une boucle `for`, c'est la structure de boucle qui est la plus couramment utilisée pour compter les boucles. Voici un exemple plus réaliste :"
      ]
    },
    {
      "cell_type": "code",
      "execution_count": null,
      "metadata": {},
      "outputs": [],
      "source": [
        "# numbers we don't know the size or the content of the list\n",
        "numbers = [23, 1, -2, 23, 9, 12]\n",
        "\n",
        "total = 0\n",
        "i = 0\n",
        "\n",
        "# while total < 100:\n",
        "while i < len(numbers) and total < 100:\n",
        "    total += numbers[i]\n",
        "    i += 1\n",
        "    print(total)"
      ]
    },
    {
      "cell_type": "markdown",
      "metadata": {},
      "source": [
        "Ici, nous additionnons les nombres d'une liste jusqu'à ce que le total atteigne 100. Nous ne savons pas combien de fois nous devrons exécuter la boucle, car nous ne connaissons pas les valeurs des nombres. Notez que nous pourrions atteindre la fin de la liste des nombres avant que le total n'atteigne 100. Si nous essayons d'accéder à un élément au-delà de la fin de la liste, nous obtiendrons une erreur, nous devons donc ajouter une vérification pour nous assurer que cela ne fonctionne pas. ça n'arrive pas."
      ]
    },
    {
      "cell_type": "markdown",
      "metadata": {},
      "source": [
        "## 2. La boucle  `for`\n",
        "\n",
        "L'instruction python pour une boucle de comptage est : `for`. Vous devriez l'utiliser lorsque vous devez faire quelque chose pour un nombre prédéfini d'étapes.\n",
        "\n",
        "Exemple :"
      ]
    },
    {
      "cell_type": "code",
      "execution_count": null,
      "metadata": {},
      "outputs": [],
      "source": [
        "for i in range(1, 9):\n",
        "    print(i)"
      ]
    },
    {
      "cell_type": "markdown",
      "metadata": {},
      "source": [
        "Comme nous l'avons vu dans le chapitre précédent, `range` est un type de séquence immuable utilisé pour générer des entiers. Dans ce cas, le `range` compte de 1 à 8. La boucle `for` parcourra chacun des nombres tour à tour , effectuant l'action d'affichage. Lorsque la fin du `range` est atteint, la boucle `for` se termine.\n",
        "\n",
        "Vous pouvez également utiliser un `for` pour parcourir d'autres types de séquences. Vous pouvez parcourir une liste de `string` comme celle-ci :"
      ]
    },
    {
      "cell_type": "code",
      "execution_count": null,
      "metadata": {},
      "outputs": [],
      "source": [
        "pets = [\"cat\", \"dog\", \"budgie\"]\n",
        "\n",
        "for pet in pets:\n",
        "    print(pet)"
      ]
    },
    {
      "cell_type": "markdown",
      "metadata": {},
      "source": [
        "A chaque itération de la boucle, l'élément suivant de la liste pets est affecté à la variable pet, à laquelle vous pouvez alors accéder à l'intérieur du corps de la boucle. L'exemple ci-dessus est fonctionnellement identique à celui-ci :"
      ]
    },
    {
      "cell_type": "code",
      "execution_count": null,
      "metadata": {},
      "outputs": [],
      "source": [
        "for i in range(len(pets)): # i will iterate over 0, 1 and 2\n",
        "    pet = pets[i]\n",
        "    print(pet)"
      ]
    },
    {
      "cell_type": "markdown",
      "metadata": {},
      "source": [
        "Vous devriez éviter de faire cela, car c'est plus difficile à lire et inutilement complexe. Si, pour une raison quelconque, vous avez besoin de l'index à l'intérieur de la boucle ainsi que de l'élément de liste lui-même, vous pouvez utiliser la fonction `enumerate` pour numéroter les éléments :"
      ]
    },
    {
      "cell_type": "code",
      "execution_count": null,
      "metadata": {},
      "outputs": [],
      "source": [
        "for i, pet in enumerate(pets):\n",
        "    pets[i] = pet.upper() # rewrite the list in all caps"
      ]
    },
    {
      "cell_type": "markdown",
      "metadata": {},
      "source": [
        "## 3. Boucles imbriquées \n",
        "\n",
        "Nous avons vu dans le chapitre précédent que nous pouvons créer des séquences multidimensionnelles, des lesquelles chaque élément est une autre séquence. Comment itérer sur toutes les valeurs d'une séquence multidimensionnelle ? Nous devons utiliser des boucles à l'intérieur d'autres boucles. Lorsque nous faisons cela, nous disons que nous imbriquons des boucles.\n",
        "\n",
        "Ré-utilisons l'exemple de l'emploi du temps du chapitre précédent, nous avons une séquence multidimensionnelle qui contient sept jours et que chaque jour contient 24 plages horaires. Chaque créneau horaire est une chaîne, qui est vide s'il n'y a rien de prévu pour ce créneau. Comment itérer sur tous les créneaux horaires et afficher tous nos événements programmés ?"
      ]
    },
    {
      "cell_type": "code",
      "execution_count": null,
      "metadata": {},
      "outputs": [],
      "source": [
        "# first let's define weekday names\n",
        "WEEKDAYS = ('Monday', 'Tuesday', 'Wednesday', 'Thursday', 'Friday', 'Saturday', 'Sunday')\n",
        "\n",
        "# Create & fill timetable\n",
        "timetable = [[\"\"] * 24 for day in range(7)]\n",
        "timetable[5][16] = \"Python lesson.\"\n",
        "\n",
        "# now we iterate over each day in the timetable\n",
        "for index_day, day in enumerate(timetable):\n",
        "    # and over each timeslot in each day\n",
        "    for hour, event in enumerate(day):\n",
        "        if event: # if the slot is not an empty string\n",
        "            print(f\"{WEEKDAYS[index_day]} at {hour}:00 -- {event}\")"
      ]
    },
    {
      "cell_type": "markdown",
      "metadata": {},
      "source": [
        "## 4. Itérables, itérateurs et générateurs\n",
        "\n",
        "En Python, tout type qui peut être itéré avec une boucle `for` est un itérable. Les listes, les tuples, les `string` et les dictionnaires sont tous des types itérables couramment utilisés. Itérer sur une liste ou un tuple signifie simplement traiter chaque valeur à son tour.\n",
        "\n",
        "Parfois, nous utilisons une séquence pour stocker une série de valeurs qui ne suivent aucun modèle particulier : chaque valeur est imprévisible et ne peut pas être calculée à la volée. Dans des cas comme celui-ci, nous n'avons pas d'autre choix que de stocker chaque valeur dans une liste ou un tuple. Si la liste est très longue, cela peut utiliser beaucoup de mémoire.\n",
        "\n",
        "Que se passe-t-il si les valeurs de notre séquence suivent un modèle et peuvent être calculées à la volée ? Nous pouvons économiser beaucoup de mémoire en ne calculant les valeurs que lorsque nous en avons besoin, au lieu de toutes les calculer à l'avance : au lieu de stocker une grande liste, nous pouvons stocker uniquement les informations dont nous avons besoin pour le calcul.\n",
        "\n",
        "Python a beaucoup de types itérables intégrés qui génèrent des valeurs à la demande - ils sont souvent appelés générateurs. Nous avons déjà vu quelques exemples, comme range et enumerate. Vous pouvez principalement traiter un générateur comme n'importe quelle autre séquence si vous n'avez besoin d'accéder qu'à ses éléments un à la fois - par exemple, si vous l'utilisez dans une boucle `for` :"
      ]
    },
    {
      "cell_type": "code",
      "execution_count": null,
      "metadata": {},
      "outputs": [],
      "source": [
        "# These two loops will do exactly the same thing:\n",
        "for i in (1, 2, 3, 4, 5):\n",
        "    print(i)\n",
        "\n",
        "for i in range(1, 6):\n",
        "    print(i)"
      ]
    },
    {
      "cell_type": "markdown",
      "metadata": {},
      "source": [
        "Vous remarquerez peut-être une différence si vous essayez d'afficher le contenu du générateur, par défaut, tout ce que vous obtiendrez est la représentation sous forme standard de Python de l'objet, qui vous montre le type de l'objet et son identifiant unique. Pour afficher toutes les valeurs du générateur, nous devons le convertir en un type de séquence comme une liste, ce qui forcera toutes les valeurs à être générées :"
      ]
    },
    {
      "cell_type": "code",
      "execution_count": null,
      "metadata": {},
      "outputs": [],
      "source": [
        "# this will not be very helpful\n",
        "print(range(100))\n",
        "\n",
        "# this will show you all the generated values\n",
        "print(list(range(100)))"
      ]
    },
    {
      "cell_type": "markdown",
      "metadata": {},
      "source": [
        "Vous pouvez utiliser tous ces itérables de manière presque interchangeable car ils utilisent tous la même interface pour itérer sur les valeurs : chaque objet itérable a une méthode qui peut être utilisée pour renvoyer un itérateur sur cet objet. L'itérable et l'itérateur forment ensemble une interface cohérente qui peut être utilisée pour parcourir une séquence de valeurs, que ces valeurs soient toutes stockées en mémoire ou calculées selon les besoins :\n",
        "\n",
        "L'itérable a une méthode pour accéder à un élément par son index. Par exemple, une liste renvoie simplement l'élément qui est stocké dans une position particulière. Une plage, d'autre part, calcule l'entier dans la plage qui correspond à un indice particulier.\n",
        "\n",
        "L'itérateur garde l'index de lecture dans la séquence et dispose d'une méthode qui vous permet d'accéder à l'élément suivant. Il peut y avoir plusieurs itérateurs associés à un seul itérable en même temps. chacun à un endroit différent dans l'itération. Par exemple, vous pouvez parcourir la même liste dans les deux niveaux d'une boucle imbriquée - chaque boucle utilise son propre itérateur et elles n'interfèrent pas les unes avec les autres :"
      ]
    },
    {
      "cell_type": "code",
      "execution_count": null,
      "metadata": {},
      "outputs": [],
      "source": [
        "numbers = [1, 2, 3]\n",
        "\n",
        "\n",
        "for a in numbers:\n",
        "    for b in numbers:\n",
        "        print(f\"{a} + {b} = {a + b}\")"
      ]
    },
    {
      "cell_type": "markdown",
      "metadata": {},
      "source": [
        "Quelques exemples de générateurs intégrés définis dans le module `itertools` de Python :"
      ]
    },
    {
      "cell_type": "code",
      "execution_count": null,
      "metadata": {},
      "outputs": [],
      "source": [
        "# we need to import the module in order to use it\n",
        "import itertools\n",
        "\n",
        "# unlike range, count doesn't have an upper bound, and is not restricted to integers\n",
        "for i in itertools.count(1):\n",
        "    print(i) # 1, 2, 3....\n",
        "\n",
        "for i in itertools.count(1, 0.5):\n",
        "    print(i) # 1.0, 1.5, 2.0....\n",
        "\n",
        "# cycle repeats the values in another iterable over and over\n",
        "for animal in itertools.cycle(['cat', 'dog']):\n",
        "    print(animal) # 'cat', 'dog', 'cat', 'dog'...\n",
        "\n",
        "# repeat repeats a single item\n",
        "for i in itertools.repeat(1): # ...forever\n",
        "    print(i) # 1, 1, 1....\n",
        "\n",
        "for i in itertools.repeat(1, 3): # or a set number of times\n",
        "    print(i) # 1, 1, 1\n",
        "\n",
        "# chain combines multiple iterables sequentially\n",
        "for i in itertools.chain(numbers, animals):\n",
        "    print(i) # print all the numbers and then all the animals"
      ]
    },
    {
      "cell_type": "markdown",
      "metadata": {},
      "source": [
        "Il existe également une fonction intégrée appelée `zip` qui nous permet de combiner plusieurs itérables par paire. Il sort également un générateur :"
      ]
    },
    {
      "cell_type": "code",
      "execution_count": null,
      "metadata": {},
      "outputs": [],
      "source": [
        "for i in zip((1, 2, 3), (4, 5, 6)):\n",
        "    print(i)\n",
        "\n",
        "for i in zip(range(5), range(5, 10), range(10, 15)):\n",
        "    print(i)"
      ]
    },
    {
      "cell_type": "markdown",
      "metadata": {},
      "source": [
        "## 5. Les compréhensions\n",
        "\n",
        "Supposons que nous ayons une liste de nombres et que nous voulions construire une nouvelle liste en doublant toutes les valeurs de la première liste. Ou que nous voulons extraire tous les nombres pairs d'une liste de nombres. Ou que nous voulons trouver et mettre en majuscule tous les noms d'animaux dans une liste de noms d'animaux qui commencent par une voyelle. Nous pouvons faire chacune de ces choses en itérant sur la liste d'origine, en effectuant une sorte de vérification sur chaque élément à tour de rôle et en ajoutant des valeurs à une nouvelle liste au fur et à mesure."
      ]
    },
    {
      "cell_type": "code",
      "execution_count": null,
      "metadata": {},
      "outputs": [],
      "source": [
        "numbers = [1, 5, 2, 12, 14, 7, 18]\n",
        "\n",
        "doubles = []\n",
        "for number in numbers:\n",
        "    doubles.append(2 * number)\n",
        "\n",
        "even_numbers = []\n",
        "for number in numbers:\n",
        "    if number % 2 == 0:\n",
        "        even_numbers.append(number)\n",
        "\n",
        "animals = ['aardvark', 'cat', 'dog', 'opossum']\n",
        "\n",
        "vowel_animals = []\n",
        "for animal in animals:\n",
        "    if animal[0] in 'aeiou':\n",
        "        vowel_animals.append(animal.title())"
      ]
    },
    {
      "cell_type": "markdown",
      "metadata": {},
      "source": [
        "C'est une façon assez lourde de faire quelque chose de très simple. Heureusement, nous pouvons réécrire des boucles simples comme celle-ci pour utiliser une syntaxe plus propre et plus lisible en utilisant des compréhensions.\n",
        "\n",
        "Une compréhension est une sorte de filtre que nous pouvons définir sur un itérable basé sur une certaine condition. Le résultat est un autre itérable. Voici quelques exemples de compréhensions de liste :"
      ]
    },
    {
      "cell_type": "code",
      "execution_count": null,
      "metadata": {},
      "outputs": [],
      "source": [
        "doubles = [2 * number for number in numbers]\n",
        "even_numbers = [number for number in numbers if number % 2 == 0]\n",
        "vowel_animals = [animal.title() for animal in animals if animal[0] in 'aeiou']"
      ]
    },
    {
      "cell_type": "markdown",
      "metadata": {},
      "source": [
        "La compréhension est la partie écrite entre crochets sur chaque ligne. Chacune de ces compréhensions se traduit par la création d'un nouvel objet liste."
      ]
    },
    {
      "cell_type": "markdown",
      "metadata": {},
      "source": [
        "## 6. Les instructions break et continue\n",
        "\n",
        "### L'instruction `break`\n",
        "\n",
        "À l'intérieur du corps de la boucle, vous pouvez utiliser l'instruction `break` pour quitter immédiatement la boucle. Vous voudrez peut-être tester un cas particulier qui entraînera une sortie immédiate de la boucle. Par exemple:"
      ]
    },
    {
      "cell_type": "code",
      "execution_count": null,
      "metadata": {},
      "outputs": [],
      "source": [
        "x = 1\n",
        "\n",
        "while x <= 10:\n",
        "    if x == 5:\n",
        "        break\n",
        "\n",
        "    print(x)\n",
        "    x += 1"
      ]
    },
    {
      "cell_type": "markdown",
      "metadata": {},
      "source": [
        "### L'instruction `continue`\n",
        "\n",
        "L'instruction continue est similaire à l'instruction `break`, en ce sens qu'elle fait sortir le flux de contrôle du corps de la boucle actuelle au point de rencontre, mais la boucle elle-même n'est pas terminée. Par exemple:"
      ]
    },
    {
      "cell_type": "code",
      "execution_count": null,
      "metadata": {},
      "outputs": [],
      "source": [
        "for x in range(1, 10 + 1): # this will count from 1 to 10\n",
        "    if x == 5:\n",
        "        continue\n",
        "\n",
        "    print(x)\n"
      ]
    },
    {
      "cell_type": "markdown",
      "metadata": {},
      "source": [
        "### Utiliser des boucles pour simplifier le code\n",
        "\n",
        "Nous pouvons utiliser notre connaissance des boucles pour simplifier certains types de code redondant. Considérons cet exemple, dans lequel nous demandons à un utilisateur quelques informations personnelles :"
      ]
    },
    {
      "cell_type": "code",
      "execution_count": null,
      "metadata": {},
      "outputs": [],
      "source": [
        "# This is a good but we can do better\n",
        "name = input(\"Please enter your name: \")\n",
        "surname = input(\"Please enter your surname: \")\n",
        "# let's store these as strings for now, and convert them to numbers later\n",
        "age = input(\"Please enter your age: \")\n",
        "height = input(\"Please enter your height: \")\n",
        "weight = input(\"Please enter your weight: \")"
      ]
    },
    {
      "cell_type": "code",
      "execution_count": null,
      "metadata": {},
      "outputs": [],
      "source": [
        "# Better\n",
        "person = {}\n",
        "\n",
        "for prop in [\"name\", \"surname\", \"age\", \"height\", \"weight\"]:\n",
        "    person[prop] = input(\"Please enter your %s: \" % prop)"
      ]
    }
  ],
  "metadata": {
    "colab": {
      "name": "2021-07-07-React-C1-lesson1.ipynb",
      "provenance": []
    },
    "interpreter": {
      "hash": "5f93c710f340a2e31cff3bb6ebdbfdc2ef47a25bab77ef50e9e25900c31fe89f"
    },
    "kernelspec": {
      "display_name": "Python 3.7.9 64-bit ('python-course': virtualenv)",
      "name": "python3"
    },
    "language_info": {
      "codemirror_mode": {
        "name": "ipython",
        "version": 3
      },
      "file_extension": ".py",
      "mimetype": "text/x-python",
      "name": "python",
      "nbconvert_exporter": "python",
      "pygments_lexer": "ipython3",
      "version": "3.7.9"
    },
    "varInspector": {
      "cols": {
        "lenName": 16,
        "lenType": 16,
        "lenVar": 40
      },
      "kernels_config": {
        "python": {
          "delete_cmd_postfix": "",
          "delete_cmd_prefix": "del ",
          "library": "var_list.py",
          "varRefreshCmd": "print(var_dic_list())"
        },
        "r": {
          "delete_cmd_postfix": ") ",
          "delete_cmd_prefix": "rm(",
          "library": "var_list.r",
          "varRefreshCmd": "cat(var_dic_list()) "
        }
      },
      "types_to_exclude": [
        "module",
        "function",
        "builtin_function_or_method",
        "instance",
        "_Feature"
      ],
      "window_display": false
    }
  },
  "nbformat": 4,
  "nbformat_minor": 2
}
