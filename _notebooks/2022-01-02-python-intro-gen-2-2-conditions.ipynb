{
  "cells": [
    {
      "cell_type": "markdown",
      "metadata": {
        "id": "Hu-DQLCysvHt"
      },
      "source": [
        "# \"Les conditions\"\n",
        "\n",
        "- toc: false \n",
        "- badges: true\n",
        "- hide_binder_badge: true\n",
        "- hide_github_badge: true\n",
        "- comments: false\n",
        "- layout: post\n",
        "- author: DataScientist.fr\n",
        "- permalink: /python-intro-gen/chapter/2/lesson/2/"
      ]
    },
    {
      "cell_type": "markdown",
      "metadata": {
        "id": "DPLBXxkSsvH0"
      },
      "source": [
        "Dans ce chapitre, nous allons découvrir les instructions de sélection : `if`, qui permettent à un programme de choisir quand exécuter certaines instructions.\n",
        "\n",
        "Les gens prennent des décisions au quotidien. Que dois-je avoir pour le déjeuner? Que dois-je faire ce week-end ? Chaque fois que vous prenez une décision, vous la basez sur un certain critère. Par exemple, vous pouvez décider quoi manger pour le déjeuner en fonction de votre humeur du moment ou si vous suivez un régime. Après avoir pris cette décision, vous agissez en conséquence. Ainsi, la prise de décision est un processus en deux étapes :\n",
        "- d'abord décider quoi faire sur la base d'un critère\n",
        "- faire une action.\n",
        "\n",
        "## 1. Les conditions\n",
        "\n",
        "\n",
        "### L'instruction : `if`\n",
        "\n",
        "La prise de décision par ordinateur repose sur le même processus en deux étapes. En Python, les décisions sont prises avec l'instruction  `if`\n",
        "\n",
        "```\n",
        "if condition:\n",
        "    if_body\n",
        "```"
      ]
    },
    {
      "cell_type": "code",
      "execution_count": null,
      "metadata": {},
      "outputs": [],
      "source": [
        "age = 17\n",
        "if age < 18:\n",
        "    print(\"Cannot vote\")"
      ]
    },
    {
      "cell_type": "markdown",
      "metadata": {},
      "source": [
        "De nombreuses instructions `if` comparent deux valeurs afin de prendre une décision. Dans le dernier exemple, nous avons comparé la variable `age` à l'entier `18` pour tester si l'âge est inférieur à `18`. Nous avons utilisé l'opérateur `<` pour la comparaison. Cet opérateur est l'un des opérateurs relationnels utilisables en Python. Le tableau ci-dessous montre les opérateurs relationnels de Python.\n",
        "\n",
        "| Operator | Description | Example |\n",
        "| -------- | ------------| ------- |\n",
        "| == | equal to | if (age == 18) |\n",
        "| != | not equal to | if (score != 10) |\n",
        "| > | greater than | if (num_people > 50) |\n",
        "| < | less than | if (price < 25) |\n",
        "| >= | greater than or equal to | if (total >= 50) |\n",
        "| <= | less than or equal to | if (value <= 30) |\n",
        "\n",
        "Attention : l'opérateur `==` ne doit pas être confondu avec le symbole `=` (qui lui, assigne des variables).\n",
        "\n",
        "\n",
        "Le bloque de code (il peut y avoir plus d'une intruction dans une condition `if`) qui va être executer lorsque le critère `if` est validé doit être indenté :"
      ]
    },
    {
      "cell_type": "code",
      "execution_count": null,
      "metadata": {},
      "outputs": [],
      "source": [
        "age = 23\n",
        "count = 0\n",
        "\n",
        "if age < 18:\n",
        "    # This is a block comment\n",
        "    print(\"Cannot vote\")\n",
        "    count += 1"
      ]
    },
    {
      "cell_type": "markdown",
      "metadata": {},
      "source": [
        "Nous pouvons aussi imbriquer des conditions :"
      ]
    },
    {
      "cell_type": "code",
      "execution_count": null,
      "metadata": {},
      "outputs": [],
      "source": [
        "age = 23\n",
        "count = 0\n",
        "\n",
        "if age < 18:\n",
        "    # This is a block comment\n",
        "    print(\"Cannot vote\")\n",
        "    count += 1\n",
        "\n",
        "    if age == 17:\n",
        "        print(\"Next year !\")"
      ]
    },
    {
      "cell_type": "markdown",
      "metadata": {},
      "source": [
        "### La clause : `else`\n",
        "\n",
        "Une partie facultative d'une instruction `if` est la clause `else`. Il nous permet de spécifier une instruction alternative (ou un ensemble d'instructions) à exécuter si la condition n'est pas remplie :"
      ]
    },
    {
      "cell_type": "code",
      "execution_count": null,
      "metadata": {},
      "outputs": [],
      "source": [
        "age = 23\n",
        "count = 0\n",
        "\n",
        "if age < 18:\n",
        "    print(\"Cannot vote\")\n",
        "\n",
        "else:\n",
        "    print(\"Can vote\")"
      ]
    },
    {
      "cell_type": "markdown",
      "metadata": {},
      "source": [
        "## Exercice 1 :\n",
        "\n",
        " - 1) Pour chaque confidition, devinez si elle est valide ou non et expliquez pourquoi.\n",
        "        - a) `if (x > 4)`\n",
        "        - b) `if x == 2`\n",
        "        - c) `if (y =< 4)`\n",
        "        - d) `if (y = 5)`\n",
        "        - e) `if (3 <= a)`\n",
        "        - f) `if (1 - 1)`\n",
        "        - g) `if ((1 - 1) <= 0)`\n",
        "        - h) `if (name == \"James\")`\n",
        "\n",
        "\n",
        " - 2) Qu'est-ce qui va être affiché à l'écran avec le code ci-dessous. Expliquez pourquoi :"
      ]
    },
    {
      "cell_type": "code",
      "execution_count": null,
      "metadata": {},
      "outputs": [],
      "source": [
        "x = 2\n",
        "\n",
        "if x > 3:\n",
        "    print(\"This number\")\n",
        "print(\"is greater\")\n",
        "print(\"than 3.\")"
      ]
    },
    {
      "cell_type": "markdown",
      "metadata": {},
      "source": [
        " - 3) Comment peut-on simplifier les codes suivants ?\n"
      ]
    },
    {
      "cell_type": "code",
      "execution_count": null,
      "metadata": {},
      "outputs": [],
      "source": [
        "a = 1\n",
        "\n",
        "if bool(a) == True:\n",
        "    print(\"a is true\")"
      ]
    },
    {
      "cell_type": "code",
      "execution_count": null,
      "metadata": {},
      "outputs": [],
      "source": [
        "b = 0\n",
        "\n",
        "if x > 50:\n",
        "    b += 1\n",
        "    a = 5\n",
        "else:\n",
        "    b -= 1\n",
        "    a = 5"
      ]
    },
    {
      "cell_type": "markdown",
      "metadata": {},
      "source": [
        "### La clause : `elif`\n",
        "\n",
        "L'instruction `else` nous permet de spécifier des actions pour le cas où la condition est fausse. Cependant, il peut y avoir des cas dans lesquels nous aimerions gérer plus de deux alternatives.\n",
        "\n",
        "Dans le code ci-dessous, nous voulons générer un grade à partir d'une note (`mark`) :"
      ]
    },
    {
      "cell_type": "code",
      "execution_count": null,
      "metadata": {},
      "outputs": [],
      "source": [
        "mark = 36\n",
        "\n",
        "if mark >= 80:\n",
        "    grade = 'A'\n",
        "else:\n",
        "    if mark >= 65:\n",
        "        grade = 'B'\n",
        "    else:\n",
        "        if mark >= 50:\n",
        "            grade = 'C'\n",
        "        else:\n",
        "            grade = 'D'\n",
        "\n",
        "print(grade)"
      ]
    },
    {
      "cell_type": "markdown",
      "metadata": {},
      "source": [
        "Ce code est un peu difficile à lire. Chaque fois que nous ajoutons un if imbriqué, nous devons augmenter l'indentation, de sorte que toutes nos alternatives sont indentées différemment. Nous pouvons écrire ce code plus proprement en utilisant des clauses `elif` :"
      ]
    },
    {
      "cell_type": "code",
      "execution_count": null,
      "metadata": {},
      "outputs": [],
      "source": [
        "mark = 36\n",
        "\n",
        "if mark >= 80:\n",
        "    grade = 'A'\n",
        "elif mark >= 65:\n",
        "    grade = 'B'\n",
        "elif mark >= 50:\n",
        "    grade = 'C'\n",
        "else:\n",
        "    grade = 'D'\n",
        "\n",
        "print(mark)"
      ]
    },
    {
      "cell_type": "markdown",
      "metadata": {},
      "source": [
        "## 2. Le type booléen : `bool`\n",
        "\n",
        "En Python, il existe un type de valeur pour les variables qui peut être vrai (`True`) ou faux (`False`) : le type booléen (`bool`). Python convertira implicitement tout autre type de valeur en booléen si nous l'utilisons comme un booléen, par exemple comme condition dans une instruction `if`. Nous n'aurons presque jamais besoin de convertir des valeurs en `bool` explicitement.\n",
        "\n",
        "## 3. Les opérateurs booléens\n",
        "\n",
        "Les décisions sont souvent basées sur plus d'un facteur. Par exemple, vous pouvez décider d'acheter une chemise uniquement si vous l'aimez **ET** (`and`) qu'elle coûte moins de 100€. Ou vous pouvez décider de commander à manger ce soir si vous n'avez rien dans le frigo **OU** (`or`) si vous n'avez pas envie de cuisiner.\n",
        "\n",
        "Vous pouvez également modifier les conditions en les annulant. Par exemple, vous allez au concert demain s'il ne pleut **PAS** (`not`). \n",
        "\n",
        "\n",
        "Nous pouvons avoir aussi en python un groupement de condition liés entre eux par les opérateurs booléens.\n",
        "\n",
        "- `and` : `a and b` est vrai si `a` et `b` sont vrai. \n",
        "- `or` : `a or b` est vrai si `a` ou `b` est vrai.\n",
        "- `not` : `not b` est l'inverse de `b` : faux si `b` est vrai, vrai si `b` est faux.\n",
        "\n",
        "  \n",
        "Table des valeurs : \n",
        "\n",
        "| a | operator | b | result |\n",
        "| - | -------- | - | ------ |\n",
        "| True | and | True | True |\n",
        "| True | and | False | False |\n",
        "| False | and | True | False |\n",
        "| False | and | False | False |\n",
        "| True | or | True | True |\n",
        "| True | or | False | True |\n",
        "| False | or | True | True |\n",
        "| False | or | False | False |\n",
        "|  | not | False | True |\n",
        "|  | not | True | False |\n",
        "\n",
        "\n",
        "### Bonne pratique :"
      ]
    },
    {
      "cell_type": "code",
      "execution_count": null,
      "metadata": {},
      "outputs": [],
      "source": [
        "x, y, z = 1, 2, 3\n",
        "\n",
        "# Bad notation\n",
        "if x != 0:\n",
        "    if y != 0:\n",
        "        if z != 0:\n",
        "            print(1/(x*y*z))\n",
        "\n",
        "# Same behavior with good notation\n",
        "if x != 0 and y != 0 and z != 0:\n",
        "    print(1/(x*y*z))"
      ]
    },
    {
      "cell_type": "markdown",
      "metadata": {},
      "source": [
        "## 4. L'ordre de lecture des expressions\n",
        "\n",
        "L'ordre d'interprétations des opérateurs python est le suivant :\n",
        "\n",
        "| Operators |\n",
        "| --------- |\n",
        "|() |\n",
        "|** |\n",
        "|*, /, % |\n",
        "|+, - |\n",
        "|<, <=, >, >= ==, != |\n",
        "|is, is not |\n",
        "|not |\n",
        "|and |\n",
        "|or |\n",
        "\n"
      ]
    },
    {
      "cell_type": "markdown",
      "metadata": {},
      "source": [
        "## 5. Inverser des expressions\n",
        "\n",
        "L'opérateur `not` peut rendre les expressions plus difficiles à comprendre, surtout s'il est utilisé plusieurs fois. Essayez d'utiliser l'opérateur `not` uniquement là où il est logique de l'avoir. La plupart des gens trouvent qu'il est plus facile de lire des déclarations positives que négatives. Parfois, nous pouvons utiliser l'opérateur relationnel opposé pour éviter d'utiliser l'opérateur `not`, par exemple :"
      ]
    },
    {
      "cell_type": "code",
      "execution_count": null,
      "metadata": {},
      "outputs": [],
      "source": [
        "if not mark < 50:\n",
        "    print(\"You passed\")\n",
        "\n",
        "# is the same as\n",
        "if mark >= 50:\n",
        "    print(\"You passed\")\n"
      ]
    },
    {
      "cell_type": "markdown",
      "metadata": {},
      "source": [
        "Ce tableau présente chaque opérateur relationnel et son contraire :\n",
        "\n",
        "| Operator | Opposite |\n",
        "| -------- | -------- |\n",
        "| == | != |\n",
        "| > | <= |\n",
        "| < | >= |\n",
        "\n",
        "\n",
        "Nous pouvons aussi inverser les opérateur `and` et `or` de la manière suivante :\n",
        "\n",
        "```\n",
        "not (a and b) = (not a) or (not b)\n",
        "not (a or b) = (not a) and (not b)\n",
        "```"
      ]
    },
    {
      "cell_type": "code",
      "execution_count": null,
      "metadata": {},
      "outputs": [],
      "source": [
        "if not (age > 0 and age <= 120):\n",
        "    print(\"Invalid age\")\n",
        "\n",
        "# is the same as\n",
        "if age <= 0 or age > 120:\n",
        "    print(\"Invalid age\")"
      ]
    },
    {
      "cell_type": "markdown",
      "metadata": {},
      "source": [
        "## Exercice 2 :\n",
        "\n",
        " - 1) Pour quelles valeurs `input` ce programme affichera-t-il `True` ?\n",
        "\n"
      ]
    },
    {
      "cell_type": "code",
      "execution_count": null,
      "metadata": {},
      "outputs": [],
      "source": [
        "if not input > 5:\n",
        "    print(\"True\")"
      ]
    },
    {
      "cell_type": "markdown",
      "metadata": {},
      "source": [
        " - 2) Pour quelles valeurs `absentee_rate` et `global_mark` ce programme affichera-t-il `Vous avez réussi le cours.` ?"
      ]
    },
    {
      "cell_type": "code",
      "execution_count": null,
      "metadata": {},
      "outputs": [],
      "source": [
        "if absentee_rate <= 5 and overall_mark >= 50:\n",
        "    print(\"You have passed the course.\")"
      ]
    },
    {
      "cell_type": "markdown",
      "metadata": {},
      "source": [
        " - 3) Pour quelles valeurs `x` ce programme affichera-t-il `True` ?"
      ]
    },
    {
      "cell_type": "code",
      "execution_count": null,
      "metadata": {},
      "outputs": [],
      "source": [
        "if x > 1 or x <= 8:\n",
        "    print(\"True\")"
      ]
    },
    {
      "cell_type": "markdown",
      "metadata": {},
      "source": [
        " - 4) Éliminez l'instruction `not` de chacune de ces expressions booléennes :"
      ]
    },
    {
      "cell_type": "code",
      "execution_count": null,
      "metadata": {},
      "outputs": [],
      "source": [
        "not total <= 2\n",
        "not count > 40\n",
        "not (value > 20.0 and total != 100.0)\n",
        "not (angle > 180 and width == 5)\n",
        "not (count == 5 and not (value != 10) or count > 50)\n",
        "not (value > 200 or value < 0 and not total == 0)"
      ]
    },
    {
      "cell_type": "markdown",
      "metadata": {},
      "source": [
        "## 6. L'opérateur conditionnel\n",
        "\n",
        "Python a une autre façon d'écrire une sélection dans un programme grâce à l'opérateur conditionnel :\n"
      ]
    },
    {
      "cell_type": "code",
      "execution_count": null,
      "metadata": {},
      "outputs": [],
      "source": [
        "if (score >= 50):\n",
        "    result = \"Pass\"\n",
        "else:\n",
        "    result = \"Fail\"\n",
        "\n",
        "# Is the same as\n",
        "result = \"Pass\" if (score >= 50) else \"Fail\""
      ]
    },
    {
      "cell_type": "markdown",
      "metadata": {},
      "source": [
        "## Exercice 3 :\n",
        "\n",
        " - 1) Ré-écrivez le code suivant en utilisant la clause : `elif`"
      ]
    },
    {
      "cell_type": "code",
      "execution_count": null,
      "metadata": {},
      "outputs": [],
      "source": [
        "if temperature < 0:\n",
        "    print(\"Below freezing\")\n",
        "else:\n",
        "    if temperature < 10:\n",
        "        print(\"Very cold\")\n",
        "    else:\n",
        "        if temperature < 20:\n",
        "            print(\"Chilly\")\n",
        "        else:\n",
        "            if temperature < 30:\n",
        "                print(\"Warm\")\n",
        "            else:\n",
        "                if temperature < 40:\n",
        "                    print(\"Hot\")\n",
        "                else:\n",
        "                    print(\"Too hot\")"
      ]
    },
    {
      "cell_type": "markdown",
      "metadata": {},
      "source": [
        "- 2) Écrire un programme Python pour attribuer des notes aux étudiants à la fin de l'année. Le programme doit effectuer les opérations suivantes :\n",
        "    - a) Demandez un numéro d'étudiant.\n",
        "    - b) Demander la note de stage de l'élève.\n",
        "    - c) Demandez la note du test de l'élève.\n",
        "    - d) Calculez si la moyenne de l'étudiant jusqu'à présent est suffisamment élevée pour qu'il soit autorisé à passer l'examen. Si la moyenne des notes (stage et test) est inférieure à 40, l'étudiant devrait automatiquement obtenir une note F, et le programme devrait afficher la note et quitter sans effectuer les étapes suivantes.\n",
        "    - e) Demandez la note de l'examen de l'étudiant.\n",
        "    - f) Calculer la note finale de l'élève. Les notes de stage et du test comptent pour 25 % de la note finale chacune, et l'examen final devrait compter pour les 50 % restants.\n",
        "    - g) Calculez et affichez la note de l'élève, selon le tableau suivant :\n",
        "\n",
        "| Weighted final score Final | grade |\n",
        "| -------------------------- | ----- |\n",
        "| 80 <= mark <= 100 | A |\n",
        "| 70 <= mark < 80 | B |\n",
        "| 60 <= mark < 70 | C |\n",
        "| 50 <= mark < 60 | D |\n",
        "| mark < 50 | E |\n",
        "\n"
      ]
    }
  ],
  "metadata": {
    "colab": {
      "name": "2021-07-07-React-C1-lesson1.ipynb",
      "provenance": []
    },
    "kernelspec": {
      "display_name": "Python 3.10.5 ('.pyazure': venv)",
      "language": "python",
      "name": "python3"
    },
    "language_info": {
      "codemirror_mode": {
        "name": "ipython",
        "version": 3
      },
      "file_extension": ".py",
      "mimetype": "text/x-python",
      "name": "python",
      "nbconvert_exporter": "python",
      "pygments_lexer": "ipython3",
      "version": "3.10.5"
    },
    "varInspector": {
      "cols": {
        "lenName": 16,
        "lenType": 16,
        "lenVar": 40
      },
      "kernels_config": {
        "python": {
          "delete_cmd_postfix": "",
          "delete_cmd_prefix": "del ",
          "library": "var_list.py",
          "varRefreshCmd": "print(var_dic_list())"
        },
        "r": {
          "delete_cmd_postfix": ") ",
          "delete_cmd_prefix": "rm(",
          "library": "var_list.r",
          "varRefreshCmd": "cat(var_dic_list()) "
        }
      },
      "types_to_exclude": [
        "module",
        "function",
        "builtin_function_or_method",
        "instance",
        "_Feature"
      ],
      "window_display": false
    },
    "vscode": {
      "interpreter": {
        "hash": "38d69403fd8fa39e18fa676e8980dac43123eb3c6ff7389c217750484b91c916"
      }
    }
  },
  "nbformat": 4,
  "nbformat_minor": 2
}
