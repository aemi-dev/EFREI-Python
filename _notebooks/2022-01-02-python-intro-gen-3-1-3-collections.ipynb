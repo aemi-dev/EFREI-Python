{
  "cells": [
    {
      "cell_type": "markdown",
      "metadata": {
        "id": "Hu-DQLCysvHt"
      },
      "source": [
        "# \"Les collections III : Dictionnaires , strings et collections à 2 dimensions\"\n",
        "\n",
        "- toc: false \n",
        "- badges: true\n",
        "- hide_binder_badge: true\n",
        "- hide_github_badge: true\n",
        "- comments: false\n",
        "- layout: post\n",
        "- author: DataScientist.fr\n",
        "- permalink: /python-intro-gen/chapter/5/lesson/3/"
      ]
    },
    {
      "cell_type": "markdown",
      "metadata": {},
      "source": [
        "## 5. Les dictionnaires `dict`\n",
        "\n",
        "Le type de dictionnaire Python est appelé `dict`. Nous pouvons utiliser un dictionnaire pour stocker des paires clé-valeur. Les `dict` sont définis avec un ensemble de paires clé-valeur séparées par des virgules entre des accolades (`{` et `}`). Nous utilisons deux points pour séparer chaque clé de sa valeur. Nous accédons aux valeurs du dictionnaire de la même manière que les éléments de liste ou de tuple, mais nous utilisons des clés au lieu d'indices :"
      ]
    },
    {
      "cell_type": "code",
      "execution_count": null,
      "metadata": {},
      "outputs": [],
      "source": [
        "marbles = {\"red\": 34, \"green\": 30, \"brown\": 31, \"yellow\": 29 }\n",
        "\n",
        "personal_details = {\n",
        "    \"name\": \"Jane Doe\",\n",
        "    \"age\": 38, # trailing comma is legal\n",
        "}\n",
        "\n",
        "print(marbles[\"green\"])\n",
        "print(personal_details[\"name\"])\n",
        "\n",
        "# This will give us an error, because there is no such key in the dictionary\n",
        "print(marbles[\"blue\"])\n",
        "\n",
        "# modify a value\n",
        "marbles[\"red\"] += 3\n",
        "personal_details[\"name\"] = \"Jane Q. Doe\""
      ]
    },
    {
      "cell_type": "markdown",
      "metadata": {},
      "source": [
        "Les clés d'un dictionnaire n'ont pas besoin d'être des `string`, elles peuvent être de n'importe quel type immuable, y compris des nombres et même des tuples. Nous pouvons mélanger différents types de clés et différents types de valeurs dans un dictionnaire. Les clés sont uniques, si nous répétons une clé, nous écraserons l'ancienne valeur avec la nouvelle. Lorsque nous stockons une valeur dans un dictionnaire, la clé n'a pas besoin d'exister - elle sera créée automatiquement :"
      ]
    },
    {
      "cell_type": "code",
      "execution_count": null,
      "metadata": {},
      "outputs": [],
      "source": [
        "battleship_guesses = {\n",
        "    (3, 4): False,\n",
        "    (2, 6): True,\n",
        "    (2, 5): True,\n",
        "}\n",
        "\n",
        "surnames = {} # this is an empty dictionary\n",
        "surnames[\"John\"] = \"Smith\"\n",
        "surnames[\"John\"] = \"Doe\"\n",
        "print(surnames) # we overwrote the older surname\n",
        "\n",
        "marbles = {\"red\": 34, \"green\": 30, \"brown\": 31, \"yellow\": 29 }\n",
        "marbles[\"blue\"] = 30 # this will work\n",
        "marbles[\"purple\"] += 2 # this will fail -- the increment operator needs an existing value to modify!\n"
      ]
    },
    {
      "cell_type": "markdown",
      "metadata": {},
      "source": [
        "Voici quelques fonctions couramment utilisées pour les objets `dict` :"
      ]
    },
    {
      "cell_type": "code",
      "execution_count": null,
      "metadata": {},
      "outputs": [],
      "source": [
        "marbles = {\"red\": 34, \"green\": 30, \"brown\": 31, \"yellow\": 29 }\n",
        "\n",
        "# Get a value by its key, or None if it doesn't exist\n",
        "marbles.get(\"orange\")\n",
        "# We can specify a different default\n",
        "marbles.get(\"orange\", 0)\n",
        "\n",
        "# Add several items to the dictionary at once\n",
        "marbles.update({\"orange\": 34, \"blue\": 23, \"purple\": 36})\n",
        "\n",
        "# All the keys in the dictionary\n",
        "marbles.keys()\n",
        "# All the values in the dictionary\n",
        "marbles.values()\n",
        "# All the items in the dictionary\n",
        "marbles.items()"
      ]
    },
    {
      "cell_type": "markdown",
      "metadata": {},
      "source": [
        "On peut vérifier si une clé est dans le dictionnaire en utilisant `in` et `not in` :"
      ]
    },
    {
      "cell_type": "code",
      "execution_count": null,
      "metadata": {},
      "outputs": [],
      "source": [
        "print(\"purple\" in marbles.keys())\n",
        "print(\"white\" not in marbles)\n",
        "\n",
        "print(31 in marbles.values())"
      ]
    },
    {
      "cell_type": "markdown",
      "metadata": {},
      "source": [
        "## 6. Converstion des collections\n",
        "\n",
        "\n",
        "### Conversions implicites\n",
        "\n",
        "Si nous essayons d'itérer sur une collection dans une boucle `for` (quelque chose dont nous discuterons dans le prochain chapitre), Python essaiera de la convertir en quelque chose que nous pouvons parcourir s'il sait comment le faire. Par exemple, les `dict` que nous avons vues ci-dessus ne sont pas réellement des itérateurs, mais Python sait comment les transformer en itérateurs, nous pouvons donc les utiliser dans une boucle `for` sans avoir à les convertir nous-mêmes.\n",
        "\n",
        "Parfois, l'itérateur que nous obtenons par défaut peut ne pas être ce à quoi nous nous attendions, si nous parcourons un dictionnaire dans une boucle `for`, nous parcourrons les clés. Si ce que nous voulons réellement faire est d'itérer sur les valeurs, ou les paires clé et valeur, nous devrons le spécifier nous-mêmes en utilisant les fonctions `values` et `items`.\n",
        "\n",
        "\n",
        "### Conversions explicites\n",
        "\n",
        "Nous pouvons convertir les différents types de séquences en utilisant les fonctions `built-in` (correspondant au type) pour convertir les séquences dans les types souhaités :"
      ]
    },
    {
      "cell_type": "code",
      "execution_count": null,
      "metadata": {},
      "outputs": [],
      "source": [
        "animals = ['cat', 'dog', 'goldfish', 'canary', 'cat']\n",
        "animals_set = set(animals)\n",
        "animals_unique_list = list(animals_set)\n",
        "animals_unique_tuple = tuple(animals_unique_list)\n",
        "\n",
        "\n",
        "marbles = {\"red\": 34, \"green\": 30, \"brown\": 31, \"yellow\": 29 }\n",
        "colours = list(marbles) # the keys will be used by default\n",
        "counts = tuple(marbles.values()) # but we can use a view to get the values\n",
        "marbles_set = set(marbles.items()) # or the key-value pairs\n",
        "\n",
        "\n",
        "# Python doesn't know how to convert this into a dictionary\n",
        "dict([1, 2, 3, 4])\n",
        "\n",
        "# but this will work\n",
        "dict([(1, 2), (3, 4)])"
      ]
    },
    {
      "cell_type": "markdown",
      "metadata": {},
      "source": [
        "## 7. Les `string` sont des séquences\n",
        "\n",
        "Les  `string` sont également une sorte de type de séquence. Ce sont des séquences de caractères et partagent certaines propriétés avec d'autres séquences. Par exemple, nous pouvons trouver la longueur d'une `string` ou l'index d'un caractère dans la `string`, et nous pouvons accéder à des éléments individuels de la `string` ou des `slice` :"
      ]
    },
    {
      "cell_type": "code",
      "execution_count": null,
      "metadata": {},
      "outputs": [],
      "source": [
        "s = \"abracadabra\"\n",
        "\n",
        "print(len(s))\n",
        "print(s.index(\"a\"))\n",
        "\n",
        "print(s[0])\n",
        "print(s[3:5])\n",
        "\n",
        "print('a' in 'abcd') # True\n",
        "print('ab' in 'abcd') # also True"
      ]
    },
    {
      "cell_type": "markdown",
      "metadata": {},
      "source": [
        "N'oubliez pas que les chaînes sont immuables, la modification des caractères sur place n'est pas autorisée :"
      ]
    },
    {
      "cell_type": "code",
      "execution_count": null,
      "metadata": {},
      "outputs": [],
      "source": [
        "# this will give us an error\n",
        "s[0] = \"b\""
      ]
    },
    {
      "cell_type": "markdown",
      "metadata": {},
      "source": [
        "Les opérateurs `in` et `not in` ont un comportement spécial lorsqu'il est appliqué aux `string` : nous pouvons l'utiliser pour déterminer si une `string` contient un seul caractère en tant qu'élément, mais nous pouvons également l'utiliser pour vérifier si une `string` en contient une autre :"
      ]
    },
    {
      "cell_type": "code",
      "execution_count": null,
      "metadata": {},
      "outputs": [],
      "source": [
        "print('a' in 'abcd') # True\n",
        "print('ab' in 'abcd') # also True\n",
        "\n",
        "# this doesn't work for lists\n",
        "print(['a', 'b'] in ['a', 'b', 'c', 'd']) # False"
      ]
    },
    {
      "cell_type": "markdown",
      "metadata": {},
      "source": [
        "On peut convertir une `string` en `list` :"
      ]
    },
    {
      "cell_type": "code",
      "execution_count": null,
      "metadata": {},
      "outputs": [],
      "source": [
        "abc_list = list(\"abracadabra\")"
      ]
    },
    {
      "cell_type": "markdown",
      "metadata": {},
      "source": [
        "Et si on voulait convertir une liste de caractères en chaîne ? L'utilisation de la fonction `str` sur la liste nous donnera simplement une chaîne affichable de la liste, y compris les virgules, les guillemets et les crochets. Pour fusionner des séquence de caractères (ou de `string`) en une seule `string`, nous devons utiliser la fonction `join`.\n",
        "\n",
        "Cette fonction, attachée à une `string` fonction comme tel :"
      ]
    },
    {
      "cell_type": "code",
      "execution_count": null,
      "metadata": {},
      "outputs": [],
      "source": [
        "l = ['a', 'b', 'r', 'a', 'c', 'a', 'd', 'a', 'b', 'r', 'a']\n",
        "\n",
        "s = \"\".join(l)\n",
        "print(s)\n",
        "\n",
        "\n",
        "animals = ('cat', 'dog', 'fish')\n",
        "\n",
        "# a space-separated list\n",
        "print(\" \".join(animals))\n",
        "\n",
        "# a comma-separated list\n",
        "print(\",\".join(animals))\n",
        "\n",
        "# a comma-separated list with spaces\n",
        "print(\", \".join(animals))"
      ]
    },
    {
      "cell_type": "markdown",
      "metadata": {},
      "source": [
        "L'opposé de la fonction `join` est la fonction `split`. Nous pouvons diviser une `string` en une liste de `string` en utilisant la fonction `split`. S'il est appelé sans aucun paramètre, split divise une chaîne en mots, en utilisant n'importe quel nombre de caractères blancs consécutifs comme délimiteur. Nous pouvons utiliser des paramètres supplémentaires pour spécifier un délimiteur différent ainsi qu'une limite sur le nombre maximum de fractionnements à effectuer :"
      ]
    },
    {
      "cell_type": "code",
      "execution_count": null,
      "metadata": {},
      "outputs": [],
      "source": [
        "print(\"cat    dog fish\\n\".split())\n",
        "print(\"cat|dog|fish\".split(\"|\"))\n",
        "print(\"cat, dog, fish\".split(\", \"))\n",
        "print(\"cat, dog, fish\".split(\", \", 1))"
      ]
    },
    {
      "cell_type": "markdown",
      "metadata": {},
      "source": [
        "## Les séquences à 2 dimensions\n",
        "\n",
        "La plupart des séquences que nous avons vues jusqu'à présent étaient unidimensionnelles : chaque séquence est une ligne d'éléments. Que se passe-t-il si nous voulons utiliser une séquence pour représenter une structure de données bidimensionnelle, qui comporte à la fois des lignes et des colonnes ? La façon la plus simple de le faire est de créer une séquence dans laquelle chaque élément est également une séquence. Par exemple, nous pouvons créer une liste de listes :"
      ]
    },
    {
      "cell_type": "code",
      "execution_count": null,
      "metadata": {},
      "outputs": [],
      "source": [
        "my_table = [\n",
        "    [1, 2, 3],\n",
        "    [4, 5, 6],\n",
        "    [7, 8, 9],\n",
        "    [10, 11, 12],\n",
        "]"
      ]
    },
    {
      "cell_type": "markdown",
      "metadata": {},
      "source": [
        "La liste extérieure a quatre éléments, et chacun de ces éléments est une liste avec trois éléments (qui sont des nombres). Pour accéder à l'un de ces nombres, nous devons utiliser deux indices - un pour la liste externe et un pour la liste interne :"
      ]
    },
    {
      "cell_type": "code",
      "execution_count": null,
      "metadata": {},
      "outputs": [],
      "source": [
        "print(my_table[0][0])\n",
        "\n",
        "# lists are mutable, so we can do this\n",
        "my_table[0][0] = 42"
      ]
    },
    {
      "cell_type": "markdown",
      "metadata": {},
      "source": [
        "orsque nous utilisons une séquence bidimensionnelle pour représenter des données tabulaires, chaque séquence interne aura la même longueur, car un tableau est rectangulaire, mais rien ne nous empêche de construire des séquences bidimensionnelles qui n'ont pas cette propriété :"
      ]
    },
    {
      "cell_type": "code",
      "execution_count": null,
      "metadata": {},
      "outputs": [],
      "source": [
        "my_2d_list = [\n",
        "    [0],\n",
        "    [1, 2, 3, 4],\n",
        "    [5, 6],\n",
        "]"
      ]
    },
    {
      "cell_type": "markdown",
      "metadata": {},
      "source": [
        "On peut aussi faire une séquence tridimensionnelle en faisant une liste de listes de listes :"
      ]
    },
    {
      "cell_type": "code",
      "execution_count": null,
      "metadata": {},
      "outputs": [],
      "source": [
        "my_3d_list = [\n",
        "    [[1, 2], [3, 4]],\n",
        "    [[5, 6], [7, 8]],\n",
        "]\n",
        "\n",
        "print(my_3d_list[0][0][0])"
      ]
    },
    {
      "cell_type": "markdown",
      "metadata": {},
      "source": [
        "### Exemple : emploi du temps\n",
        "\n",
        "Si nous voulions faire une liste en deux dimensions pour représenter un emploi du temps hebdomadaire, nous pourrions soit avoir des jours comme liste extérieure et des créneaux horaires comme liste intérieure ou l'inverse - nous devrons nous rappeler quelle plage nous avons choisie pour être la lignes et dont les colonnes.\n",
        "\n",
        "Supposons que nous voulions initialiser l'horaire avec une chaîne vide dans chaque plage horaire – disons que nous avons 24 plages horaires d'une heure chaque jour. Cela fait sept listes de 24 éléments chacune :"
      ]
    },
    {
      "cell_type": "code",
      "execution_count": null,
      "metadata": {},
      "outputs": [],
      "source": [
        "day = [\"\"] * 24\n",
        "print(day)"
      ]
    },
    {
      "cell_type": "markdown",
      "metadata": {},
      "source": [
        "Mais que se passe-t-il si nous répétons un jour sept fois pour faire une semaine ?"
      ]
    },
    {
      "cell_type": "code",
      "execution_count": null,
      "metadata": {},
      "outputs": [],
      "source": [
        "timetable =  [day] * 7\n",
        "print(timetable)"
      ]
    },
    {
      "cell_type": "markdown",
      "metadata": {},
      "source": [
        "Voyons ce qui se passe lorsque nous essayons de programmer une réunion pour le lundi après-midi :"
      ]
    },
    {
      "cell_type": "code",
      "execution_count": null,
      "metadata": {},
      "outputs": [],
      "source": [
        "timetable[0][15] = \"meeting with Jane\"\n",
        "print(timetable)"
      ]
    },
    {
      "cell_type": "markdown",
      "metadata": {},
      "source": [
        "Chaque jour a la même réunion l'après-midi ! Qu'est ce qui s'est passé ? Lorsque nous avons multiplié notre liste de jours par sept, nous avons rempli notre emploi du temps avec le même objet `list`, répété sept fois. Tous les éléments de notre emploi du temps sont le même jour, donc peu importe celui que nous modifions, nous les modifions tous en même temps.\n",
        "\n",
        "Pourquoi cela n'avait-il pas d'importance lorsque nous avons fait la liste des jours en multipliant la même chaîne vide 24 fois ? Parce que les `string` sont immuables. Nous ne pouvons modifier les valeurs des `string` dans la liste des jours qu'en leur attribuant de nouvelles valeurs, nous ne pouvons pas les modifier directement, donc peu importe qu'elles commencent toutes par le même objet de chaîne.\n",
        "   \n",
        "Ce que nous voulons en fait, ce sont sept copies d'une liste de jours dans notre emploi du temps :"
      ]
    },
    {
      "cell_type": "code",
      "execution_count": null,
      "metadata": {},
      "outputs": [],
      "source": [
        "timetable = [[\"\"] * 24 for day in range(7)]"
      ]
    }
  ],
  "metadata": {
    "colab": {
      "name": "2021-07-07-React-C1-lesson1.ipynb",
      "provenance": []
    },
    "kernelspec": {
      "display_name": "Python 3.10.5 ('.pyazure': venv)",
      "language": "python",
      "name": "python3"
    },
    "language_info": {
      "codemirror_mode": {
        "name": "ipython",
        "version": 3
      },
      "file_extension": ".py",
      "mimetype": "text/x-python",
      "name": "python",
      "nbconvert_exporter": "python",
      "pygments_lexer": "ipython3",
      "version": "3.10.5"
    },
    "varInspector": {
      "cols": {
        "lenName": 16,
        "lenType": 16,
        "lenVar": 40
      },
      "kernels_config": {
        "python": {
          "delete_cmd_postfix": "",
          "delete_cmd_prefix": "del ",
          "library": "var_list.py",
          "varRefreshCmd": "print(var_dic_list())"
        },
        "r": {
          "delete_cmd_postfix": ") ",
          "delete_cmd_prefix": "rm(",
          "library": "var_list.r",
          "varRefreshCmd": "cat(var_dic_list()) "
        }
      },
      "types_to_exclude": [
        "module",
        "function",
        "builtin_function_or_method",
        "instance",
        "_Feature"
      ],
      "window_display": false
    },
    "vscode": {
      "interpreter": {
        "hash": "38d69403fd8fa39e18fa676e8980dac43123eb3c6ff7389c217750484b91c916"
      }
    }
  },
  "nbformat": 4,
  "nbformat_minor": 2
}
