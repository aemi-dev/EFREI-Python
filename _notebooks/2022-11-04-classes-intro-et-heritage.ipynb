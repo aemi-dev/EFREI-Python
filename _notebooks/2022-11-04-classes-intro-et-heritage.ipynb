{
  "cells": [
    {
      "cell_type": "markdown",
      "metadata": {
        "id": "Zw2DPEqE_Bte"
      },
      "source": [
        "# \"Classes : présentation des classes en python\"\n",
        "\n",
        "- toc: false \n",
        "- comments: false\n",
        "- layout: post"
      ]
    },
    {
      "cell_type": "markdown",
      "metadata": {
        "id": "AiEg1ZAyYHA-"
      },
      "source": [
        "# 1. Classes\n",
        "\n",
        "Une classe est un ensemble incluant des variables ou attributs et des fonctions ou méthodes. Les attributs sont des variables accessibles depuis toute méthode de la classe où elles sont définies. En python, les classes sont des types modifiables.\n",
        "\n",
        "**Déclaration d’une classe**\n",
        "\n",
        "\n",
        "\n",
        "    "
      ]
    },
    {
      "cell_type": "code",
      "execution_count": null,
      "metadata": {
        "id": "YxNxyN0eBESZ"
      },
      "outputs": [],
      "source": [
        "class nom_classe:\n",
        "\n",
        "    #corps de la classe"
      ]
    },
    {
      "cell_type": "markdown",
      "metadata": {
        "id": "JGHdkNfh-Nfo"
      },
      "source": [
        "Le corps d’une classe peut être vide, inclure des variables ou attributs, des fonctions ou méthodes. Il est en tout cas indenté de façon à indiquer à l’interpréteur python les lignes qui forment le corps de la classe.\n",
        "\n",
        "Les classes sont l’unique moyen en langage python de définir de nouveaux types propres à celui qui programme. Il n’existe pas de type « matrice » ou de type « graphe » en langage python qui soit prédéfini. Il est néanmoins possible de les définir au moyen des classes. Une matrice est par exemple un objet qui inclut les attributs suivant : le nombre de lignes, le nombre de colonnes, les coefficients de la matrice. Cette matrice inclut aussi des méthodes comme des opérations entre deux matrices telles que l’addition, la soustraction, la multiplication ou des opérations sur elle-même comme l’inversion, la transposition, la diagonalisation.\n",
        "\n",
        "Cette liste n’est pas exhaustive, elle illustre ce que peut être une classe « matrice » - représentation informatique d’un objet « matrice » -, un type complexe incluant des informations de types variés (entier pour les dimensions, réels pour les coefficients), et des méthodes propres à cet objet, capables de manipuler ces informations.\n",
        "\n"
      ]
    },
    {
      "cell_type": "markdown",
      "metadata": {
        "id": "rruv6sRE-U-A"
      },
      "source": [
        "# 2. Instance\n",
        "\n",
        "Une instance d’une classe C désigne une variable de type C. Le terme instance ne s’applique qu’aux variables dont le type est une classe.\n",
        "\n",
        "L’exemple suivant permet de définir une classe vide. Le mot-clé pass permet de préciser que le corps de la classe ne contient rien."
      ]
    },
    {
      "cell_type": "code",
      "execution_count": null,
      "metadata": {
        "id": "nXzsb-5w-eox"
      },
      "outputs": [],
      "source": [
        "class classe_vide:\n",
        "    pass"
      ]
    },
    {
      "cell_type": "markdown",
      "metadata": {
        "id": "nHybpV3F-jBB"
      },
      "source": [
        "Il est tout de même possible de définir une instance de la classe classe_vide simplement par l’instruction suivante :"
      ]
    },
    {
      "cell_type": "code",
      "execution_count": null,
      "metadata": {
        "id": "RyKtz6Cd-j2k"
      },
      "outputs": [],
      "source": [
        "class classe_vide:\n",
        "    pass\n",
        "\n",
        "\n",
        "cl = classe_vide()"
      ]
    },
    {
      "cell_type": "markdown",
      "metadata": {
        "id": "-7_ebKoe-qDz"
      },
      "source": [
        "Dans l’exemple précédent, la variable cl n’est pas de type exemple_classe mais de type instance comme le montre la ligne suivante :"
      ]
    },
    {
      "cell_type": "code",
      "execution_count": null,
      "metadata": {
        "colab": {
          "base_uri": "https://localhost:8080/"
        },
        "id": "31slDTNI-u7q",
        "outputId": "864aaa26-4c75-48f5-cf26-dfc050e8ff1f"
      },
      "outputs": [
        {
          "name": "stdout",
          "output_type": "stream",
          "text": [
            "<class '__main__.classe_vide'>\n"
          ]
        }
      ],
      "source": [
        "class classe_vide:\n",
        "    pass\n",
        "\n",
        "\n",
        "cl = classe_vide()\n",
        "print(type(cl))     "
      ]
    },
    {
      "cell_type": "markdown",
      "metadata": {
        "id": "TrkmaN_O-0m0"
      },
      "source": [
        "Pour savoir si une variable est une instance d’une classe donnée, il faut utiliser la fonction isinstance :"
      ]
    },
    {
      "cell_type": "code",
      "execution_count": null,
      "metadata": {
        "colab": {
          "base_uri": "https://localhost:8080/"
        },
        "id": "GqCPWU8T-z7d",
        "outputId": "ab19f4fc-c25b-49fc-e63d-dfd43e2677e6"
      },
      "outputs": [
        {
          "name": "stdout",
          "output_type": "stream",
          "text": [
            "<class '__main__.classe_vide'>\n",
            "True\n"
          ]
        }
      ],
      "source": [
        "class classe_vide:\n",
        "    pass\n",
        "\n",
        "\n",
        "cl = classe_vide()\n",
        "print(type(cl))                     # affiche <type 'instance'>\n",
        "print(isinstance(cl, classe_vide))  # affiche True"
      ]
    },
    {
      "cell_type": "markdown",
      "metadata": {
        "id": "mxTQroS0-ZIR"
      },
      "source": [
        "# 3. Méthode\n",
        "\n",
        "Les méthodes sont des fonctions qui sont associées de manière explicite à une classe. Elles ont comme particularité un accès privilégié aux données de la classe elle-même.\n",
        "\n",
        "Ces données ou attributs sont définis plus loin. Les méthodes sont en fait des fonctions pour lesquelles la liste des paramètres contient obligatoirement un paramètre explicite qui est l’instance de la classe à laquelle cette méthode est associée. Ce paramètre est le moyen d’accéder aux données de la classe.\n",
        "\n",
        "**Déclaration d’une méthode**\n",
        "\n",
        "\n",
        "\n"
      ]
    },
    {
      "cell_type": "code",
      "execution_count": null,
      "metadata": {
        "id": "-CaFjWzhDrPZ"
      },
      "outputs": [],
      "source": [
        "class nom_classe :\n",
        "    def nom_methode(self, param_1, ..., param_n):\n",
        "        # corps de la méthode..."
      ]
    },
    {
      "cell_type": "markdown",
      "metadata": {
        "id": "DGVuGmMc_N6F"
      },
      "source": [
        "A part le premier paramètre qui doit de préférence s’appeler self, la syntaxe de définition d’une méthode ressemble en tout point à celle d’une fonction. Le corps de la méthode est indenté par rapport à la déclaration de la méthode, elle-même indentée par rapport à la déclaration de la classe. Comme une fonction, une méthode suppose que les arguments qu’elle reçoit existe, y compris self. On écrit la méthode en supposant qu’un object existe qu’on nomme self. L’appel à cette méthode obéit à la syntaxe qui suit :\n",
        "\n",
        "**Appel d’une méthode**\n",
        "\n"
      ]
    },
    {
      "cell_type": "code",
      "execution_count": null,
      "metadata": {
        "id": "TM9POpu9DxjU"
      },
      "outputs": [],
      "source": [
        "cl = nom_classe()    # variable de type nom_classe\n",
        "t  = cl.nom_methode (valeur_1, ..., valeur_n)"
      ]
    },
    {
      "cell_type": "markdown",
      "metadata": {
        "id": "AmIrxI0e_UzF"
      },
      "source": [
        "L’appel d’une méthode nécessite tout d’abord la création d’une variable. Une fois cette variable créée, il suffit d’ajouter le symbole « . » pour exécuter la méthode. Le paramètre self est ici implicitement remplacé par cl lors de l’appel.\n",
        "\n",
        "L’exemple suivant simule le tirage de nombres aléatoires à partir d’une suite définie par récurrence u_{n+1} = (u_n * A) mod B où A et B sont des entiers très grands. Cette suite n’est pas aléatoire mais son comportement imite celui d’une suite aléatoire. Le terme u_n est dans cet exemple contenu dans la variable globale rnd."
      ]
    },
    {
      "cell_type": "code",
      "execution_count": null,
      "metadata": {
        "colab": {
          "base_uri": "https://localhost:8080/"
        },
        "id": "Ydo5BgEIYHA_",
        "outputId": "95c8e3f3-ce74-4b31-d571-c94581f17cec"
      },
      "outputs": [
        {
          "name": "stdout",
          "output_type": "stream",
          "text": [
            "[19, 46, 26, 88, 44, 56, 56, 26, 0, 8]\n",
            "[46, 42, 89, 66, 48, 12, 61, 84, 71, 41]\n"
          ]
        }
      ],
      "source": [
        "rnd = 42\n",
        "\n",
        "\n",
        "class exemple_classe:\n",
        "    def methode1(self, n):\n",
        "        \"\"\"simule la génération d'un nombre aléatoire\n",
        "           compris entre 0 et n-1 inclus\"\"\"\n",
        "        global rnd\n",
        "        rnd = 397204094 * rnd % 2147483647\n",
        "        return int(rnd % n)\n",
        "\n",
        "\n",
        "nb = exemple_classe()\n",
        "l1 = [nb.methode1(100) for i in range(0, 10)]\n",
        "print(l1)   # affiche [19, 46, 26, 88, 44, 56, 56, 26, 0, 8]\n",
        "\n",
        "nb2 = exemple_classe()\n",
        "l2 = [nb2.methode1(100) for i in range(0, 10)]\n",
        "print(l2)   # affiche [46, 42, 89, 66, 48, 12, 61, 84, 71, 41]"
      ]
    },
    {
      "cell_type": "markdown",
      "metadata": {
        "id": "4KjyLurp_dgS"
      },
      "source": [
        "Deux instances nb et nb2 de la classe exemple_classe sont créées, chacune d’elles est utilisée pour générer aléatoirement dix nombres entiers compris entre 0 et 99 inclus. Les deux listes sont différentes puisque l’instance nb2 utilise la variable globale rnd précédemment modifiée par l’appel nb.methode1(100).\n",
        "\n",
        "Les méthodes sont des fonctions insérées à l’intérieur d’une classe. La syntaxe de la déclaration d’une méthode est identique à celle d’une fonction en tenant compte du premier paramètre qui doit impérativement être self. Les paramètres par défaut, l’ordre des paramètres, les nombres variables de paramètres présentés au paragraphe Fonctions sont des extensions tout autant applicables aux méthodes qu’aux fonctions."
      ]
    },
    {
      "cell_type": "markdown",
      "metadata": {
        "id": "Su20cTYuYHBA"
      },
      "source": [
        "# 4. Attribut\n",
        "\n",
        "Les attributs sont des variables qui sont associées de manière explicite à une classe. Les attributs de la classe se comportent comme des variables globales pour toutes les méthodes de cette classe.\n",
        "\n",
        "Une classe permet en quelque sorte de regrouper ensemble des informations liées. Elles n’ont de sens qu’ensemble et les méthodes manipulent ces données liées. C’est le cas pour un segment qui est toujours défini par ces deux extrémités qui ne vont pas l’une sans l’autre.\n",
        "\n",
        "**Déclaration d’un attribut**\n",
        "\n"
      ]
    },
    {
      "cell_type": "code",
      "execution_count": null,
      "metadata": {
        "id": "A3fbSBdjE-KG"
      },
      "outputs": [],
      "source": [
        "class nom_classe :\n",
        "    def nom_methode (self, param_1, ..., param_n) :\n",
        "        self.nom_attribut = valeur"
      ]
    },
    {
      "cell_type": "markdown",
      "metadata": {
        "id": "sDybqn8k_ylA"
      },
      "source": [
        "Le paramètre self n’est pas un mot-clé même si le premier paramètre est le plus souvent appelé self. Il désigne l’instance de la classe sur laquelle va s’appliquer la méthode. La déclaration d’une méthode inclut toujours un paramètre self de sorte que self.nom_attribut désigne un attribut de la classe. nom_attribut seul désignerait une variable locale sans aucun rapport avec un attribut portant le même nom. Les attributs peuvent être déclarés à l’intérieur de n’importe quelle méthode, voire à l’extérieur de la classe elle-même.\n",
        "\n",
        "L’endroit où est déclaré un attribut a peu d’importance pourvu qu’il le soit avant sa première utilisation. Dans l’exemple qui suit, la méthode methode1 utilise l’attribut rnd sans qu’il ait été créé."
      ]
    },
    {
      "cell_type": "code",
      "execution_count": null,
      "metadata": {
        "colab": {
          "base_uri": "https://localhost:8080/",
          "height": 371
        },
        "id": "N5FqkTQd_1m7",
        "outputId": "83b9c056-8d19-4cc3-c9f8-188be1699dcf"
      },
      "outputs": [
        {
          "ename": "AttributeError",
          "evalue": "ignored",
          "output_type": "error",
          "traceback": [
            "\u001b[0;31m---------------------------------------------------------------------------\u001b[0m",
            "\u001b[0;31mAttributeError\u001b[0m                            Traceback (most recent call last)",
            "\u001b[0;32m<ipython-input-8-6e94f1631d8c>\u001b[0m in \u001b[0;36m<module>\u001b[0;34m\u001b[0m\n\u001b[1;32m      8\u001b[0m \u001b[0;34m\u001b[0m\u001b[0m\n\u001b[1;32m      9\u001b[0m \u001b[0mnb\u001b[0m \u001b[0;34m=\u001b[0m \u001b[0mexemple_classe\u001b[0m\u001b[0;34m(\u001b[0m\u001b[0;34m)\u001b[0m\u001b[0;34m\u001b[0m\u001b[0;34m\u001b[0m\u001b[0m\n\u001b[0;32m---> 10\u001b[0;31m \u001b[0mli\u001b[0m \u001b[0;34m=\u001b[0m \u001b[0;34m[\u001b[0m\u001b[0mnb\u001b[0m\u001b[0;34m.\u001b[0m\u001b[0mmethode1\u001b[0m\u001b[0;34m(\u001b[0m\u001b[0;36m100\u001b[0m\u001b[0;34m)\u001b[0m \u001b[0;32mfor\u001b[0m \u001b[0mi\u001b[0m \u001b[0;32min\u001b[0m \u001b[0mrange\u001b[0m\u001b[0;34m(\u001b[0m\u001b[0;36m0\u001b[0m\u001b[0;34m,\u001b[0m \u001b[0;36m10\u001b[0m\u001b[0;34m)\u001b[0m\u001b[0;34m]\u001b[0m\u001b[0;34m\u001b[0m\u001b[0;34m\u001b[0m\u001b[0m\n\u001b[0m\u001b[1;32m     11\u001b[0m \u001b[0mprint\u001b[0m\u001b[0;34m(\u001b[0m\u001b[0mli\u001b[0m\u001b[0;34m)\u001b[0m\u001b[0;34m\u001b[0m\u001b[0;34m\u001b[0m\u001b[0m\n",
            "\u001b[0;32m<ipython-input-8-6e94f1631d8c>\u001b[0m in \u001b[0;36m<listcomp>\u001b[0;34m(.0)\u001b[0m\n\u001b[1;32m      8\u001b[0m \u001b[0;34m\u001b[0m\u001b[0m\n\u001b[1;32m      9\u001b[0m \u001b[0mnb\u001b[0m \u001b[0;34m=\u001b[0m \u001b[0mexemple_classe\u001b[0m\u001b[0;34m(\u001b[0m\u001b[0;34m)\u001b[0m\u001b[0;34m\u001b[0m\u001b[0;34m\u001b[0m\u001b[0m\n\u001b[0;32m---> 10\u001b[0;31m \u001b[0mli\u001b[0m \u001b[0;34m=\u001b[0m \u001b[0;34m[\u001b[0m\u001b[0mnb\u001b[0m\u001b[0;34m.\u001b[0m\u001b[0mmethode1\u001b[0m\u001b[0;34m(\u001b[0m\u001b[0;36m100\u001b[0m\u001b[0;34m)\u001b[0m \u001b[0;32mfor\u001b[0m \u001b[0mi\u001b[0m \u001b[0;32min\u001b[0m \u001b[0mrange\u001b[0m\u001b[0;34m(\u001b[0m\u001b[0;36m0\u001b[0m\u001b[0;34m,\u001b[0m \u001b[0;36m10\u001b[0m\u001b[0;34m)\u001b[0m\u001b[0;34m]\u001b[0m\u001b[0;34m\u001b[0m\u001b[0;34m\u001b[0m\u001b[0m\n\u001b[0m\u001b[1;32m     11\u001b[0m \u001b[0mprint\u001b[0m\u001b[0;34m(\u001b[0m\u001b[0mli\u001b[0m\u001b[0;34m)\u001b[0m\u001b[0;34m\u001b[0m\u001b[0;34m\u001b[0m\u001b[0m\n",
            "\u001b[0;32m<ipython-input-8-6e94f1631d8c>\u001b[0m in \u001b[0;36mmethode1\u001b[0;34m(self, n)\u001b[0m\n\u001b[1;32m      3\u001b[0m         \"\"\"simule la génération d'un nombre aléatoire\n\u001b[1;32m      4\u001b[0m            compris entre 0 et n-1 inclus\"\"\"\n\u001b[0;32m----> 5\u001b[0;31m         \u001b[0mself\u001b[0m\u001b[0;34m.\u001b[0m\u001b[0mrnd\u001b[0m \u001b[0;34m=\u001b[0m \u001b[0;36m397204094\u001b[0m \u001b[0;34m*\u001b[0m \u001b[0mself\u001b[0m\u001b[0;34m.\u001b[0m\u001b[0mrnd\u001b[0m \u001b[0;34m%\u001b[0m \u001b[0;36m2147483647\u001b[0m\u001b[0;34m\u001b[0m\u001b[0;34m\u001b[0m\u001b[0m\n\u001b[0m\u001b[1;32m      6\u001b[0m         \u001b[0;32mreturn\u001b[0m \u001b[0mint\u001b[0m\u001b[0;34m(\u001b[0m\u001b[0mself\u001b[0m\u001b[0;34m.\u001b[0m\u001b[0mrnd\u001b[0m \u001b[0;34m%\u001b[0m \u001b[0mn\u001b[0m\u001b[0;34m)\u001b[0m\u001b[0;34m\u001b[0m\u001b[0;34m\u001b[0m\u001b[0m\n\u001b[1;32m      7\u001b[0m \u001b[0;34m\u001b[0m\u001b[0m\n",
            "\u001b[0;31mAttributeError\u001b[0m: 'exemple_classe' object has no attribute 'rnd'"
          ]
        }
      ],
      "source": [
        "class exemple_classe:\n",
        "    def methode1(self, n):\n",
        "        \"\"\"simule la génération d'un nombre aléatoire\n",
        "           compris entre 0 et n-1 inclus\"\"\"\n",
        "        self.rnd = 397204094 * self.rnd % 2147483647\n",
        "        return int(self.rnd % n)\n",
        "\n",
        "\n",
        "nb = exemple_classe()\n",
        "li = [nb.methode1(100) for i in range(0, 10)]\n",
        "print(li)"
      ]
    },
    {
      "cell_type": "markdown",
      "metadata": {
        "id": "lP3E_Euh_5XH"
      },
      "source": [
        "Cet exemple déclenche donc une erreur (ou exception) signifiant que l’attribut rnd n’a pas été créé.\n",
        "\n",
        "Pour remédier à ce problème, il existe plusieurs endroits où il est possible de créer l’attribut rnd. Il est possible de créer l’attribut à l’intérieur de la méthode methode1. Mais le programme n’a plus le même sens puisqu’à chaque appel de la méthode methode1, l’attribut rnd reçoit la valeur 42. La liste de nombres aléatoires contient dix fois la même valeur."
      ]
    },
    {
      "cell_type": "code",
      "execution_count": null,
      "metadata": {
        "colab": {
          "base_uri": "https://localhost:8080/"
        },
        "id": "x6ey-OrD_85o",
        "outputId": "ca7a16c4-504c-4f9a-de0c-69c7c32a57ec"
      },
      "outputs": [
        {
          "name": "stdout",
          "output_type": "stream",
          "text": [
            "[19, 19, 19, 19, 19, 19, 19, 19, 19, 19]\n"
          ]
        }
      ],
      "source": [
        "class exemple_classe:\n",
        "    def methode1(self, n):\n",
        "        \"\"\"simule la génération d'un nombre aléatoire\n",
        "           compris entre 0 et n-1 inclus\"\"\"\n",
        "        self.rnd = 42  # déclaration à l'intérieur de la méthode,\n",
        "        # doit être précédé du mot-clé self\n",
        "        self.rnd = 397204094 * self.rnd % 2147483647\n",
        "        return int(self.rnd % n)\n",
        "\n",
        "\n",
        "nb = exemple_classe()\n",
        "li = [nb.methode1(100) for i in range(0, 10)]\n",
        "print(li)  # affiche [19, 19, 19, 19, 19, 19, 19, 19, 19, 19]"
      ]
    },
    {
      "cell_type": "markdown",
      "metadata": {
        "id": "8Yb5KlDB__qB"
      },
      "source": [
        "Il est possible de créer l’attribut rnd à l’extérieur de la classe. Cette écriture devrait toutefois être évitée puisque la méthode methode1 ne peut pas être appelée sans que l’attribut rnd ait été ajouté."
      ]
    },
    {
      "cell_type": "code",
      "execution_count": null,
      "metadata": {
        "colab": {
          "base_uri": "https://localhost:8080/"
        },
        "id": "N1jRJezKADYI",
        "outputId": "40c5fa7e-fc3b-4859-8eeb-2fbd7265bd60"
      },
      "outputs": [
        {
          "name": "stdout",
          "output_type": "stream",
          "text": [
            "[19, 46, 26, 88, 44, 56, 56, 26, 0, 8]\n"
          ]
        }
      ],
      "source": [
        "class exemple_classe:\n",
        "    def methode1(self, n):\n",
        "        \"\"\"simule la génération d'un nombre aléatoire\n",
        "           compris entre 0 et n-1 inclus\"\"\"\n",
        "        self.rnd = 397204094 * self.rnd % 2147483647\n",
        "        return int(self.rnd % n)\n",
        "\n",
        "\n",
        "nb = exemple_classe()\n",
        "nb.rnd = 42              # déclaration à l'extérieur de la classe,\n",
        "# indispensable pour utiliser la méthode methode1\n",
        "li = [nb.methode1(100) for i in range(0, 10)]\n",
        "print(li)  # affiche [19, 46, 26, 88, 44, 56, 56, 26, 0, 8]"
      ]
    },
    {
      "cell_type": "markdown",
      "metadata": {
        "id": "RYB1i_I0ACn_"
      },
      "source": [
        "Ceux qui découvrent la programmation se posent toujours la question de l’utilité de ce nouveau concept qui ne permet pas de faire des choses différentes, tout au plus de les faire mieux. La finalité des classes apparaît avec le concept d”Héritage. L’article illustre une façon de passer progressivent des fonctions aux classes de fonctions : C’est obligé les classes ?.\n",
        "\n"
      ]
    },
    {
      "cell_type": "markdown",
      "metadata": {
        "id": "HH2S_FT7AQcE"
      },
      "source": [
        "Constructeur\n",
        "L’endroit le plus approprié pour déclarer un attribut est à l’intérieur d’une méthode appelée le constructeur. S’il est défini, il est implicitement exécuté lors de la création de chaque instance. Le constructeur d’une classe se présente comme une méthode et suit la même syntaxe à ceci près que son nom est imposé : __init__. Hormis le premier paramètre, invariablement self, il n’existe pas de contrainte concernant la liste des paramètres excepté que le constructeur ne doit pas retourner de résultat.\n",
        "\n",
        "# 5. Déclaration d’un constructeur\n",
        "\n"
      ]
    },
    {
      "cell_type": "code",
      "execution_count": null,
      "metadata": {
        "id": "d0UURLvlFwIY"
      },
      "outputs": [],
      "source": [
        "class nom_classe :\n",
        "    def __init__(self, param_1, ..., param_n):\n",
        "        # code du constructeur"
      ]
    },
    {
      "cell_type": "markdown",
      "metadata": {
        "id": "MoISO9CLAWa-"
      },
      "source": [
        "nom_classe est une classe, __init__ est son constructeur, sa syntaxe est la même que celle d’une méthode sauf que le constructeur ne peut employer l’instruction return. La modification des paramètres du constructeur implique également la modification de la syntaxe de création d’une instance de cette classe.\n",
        "\n",
        "**Appel d’un constructeur**\n",
        "\n",
        "\n",
        "\n"
      ]
    },
    {
      "cell_type": "code",
      "execution_count": null,
      "metadata": {
        "id": "MOA5uR3UF_LC"
      },
      "outputs": [],
      "source": [
        "x = nom_classe (valeur_1,...,valeur_n)"
      ]
    },
    {
      "cell_type": "markdown",
      "metadata": {
        "id": "HFDIY-_tF5Fw"
      },
      "source": [
        "\n",
        "nom_classe est une classe, valeur_1 à valeur_n sont les valeurs associées aux paramètres param_1 à param_n du constructeur.\n",
        "\n",
        "L’exemple suivant montre deux classes pour lesquelles un constructeur a été défini. La première n’ajoute aucun paramètre, la création d’une instance ne nécessite pas de paramètre supplémentaire. La seconde classe ajoute deux paramètres a et b. Lors de la création d’une instance de la classe classe2, il faut ajouter deux valeurs."
      ]
    },
    {
      "cell_type": "code",
      "execution_count": null,
      "metadata": {
        "colab": {
          "base_uri": "https://localhost:8080/"
        },
        "id": "avbey1YJAZ-6",
        "outputId": "10e84061-3507-4972-8945-0c0d38a56a45"
      },
      "outputs": [
        {
          "name": "stdout",
          "output_type": "stream",
          "text": [
            "constructeur de la classe classe1\n",
            "1\n",
            "constructeur de la classe classe2\n",
            "7.0\n"
          ]
        }
      ],
      "source": [
        "class classe1:\n",
        "    def __init__(self):\n",
        "        # pas de paramètre supplémentaire\n",
        "        print(\"constructeur de la classe classe1\")\n",
        "        self.n = 1  # ajout de l'attribut n\n",
        "\n",
        "\n",
        "x = classe1()      # affiche constructeur de la classe classe1\n",
        "print(x.n)         # affiche 1\n",
        "\n",
        "\n",
        "class classe2:\n",
        "    def __init__(self, a, b):\n",
        "        # deux paramètres supplémentaires\n",
        "        print(\"constructeur de la classe classe2\")\n",
        "        self.n = (a + b) / 2  # ajout de l'attribut n\n",
        "\n",
        "\n",
        "x = classe2(5, 9)  # affiche constructeur de la classe classe2\n",
        "print(x.n)         # affiche 7"
      ]
    },
    {
      "cell_type": "markdown",
      "metadata": {
        "id": "WpnPmy4pAdOz"
      },
      "source": [
        "Le constructeur autorise autant de paramètres qu’on souhaite lors de la création d’une instance et celle-ci suit la même syntaxe qu’une fonction. La création d’une instance pourrait être considérée comme l’appel à une fonction à ceci près que le type du résultat est une instance de classe.\n",
        "\n",
        "En utilisant un constructeur, l’exemple du paragraphe précédent simulant une suite de variable aléatoire permet d’obtenir une classe autonome qui ne fait pas appel à une variable globale ni à une déclaration d’attribut extérieur à la classe."
      ]
    },
    {
      "cell_type": "code",
      "execution_count": null,
      "metadata": {
        "colab": {
          "base_uri": "https://localhost:8080/"
        },
        "id": "uzom-mvuAhSs",
        "outputId": "f987dbd2-f9ce-4af2-a13d-43b4d59d7084"
      },
      "outputs": [
        {
          "name": "stdout",
          "output_type": "stream",
          "text": [
            "[19, 46, 26, 88, 44, 56, 56, 26, 0, 8]\n",
            "[19, 46, 26, 88, 44, 56, 56, 26, 0, 8]\n"
          ]
        }
      ],
      "source": [
        "class exemple_classe:\n",
        "    def __init__(self):  # constructeur\n",
        "        self.rnd = 42     # on crée l'attribut rnd, identique pour chaque instance\n",
        "        # --> les suites générées auront toutes le même début\n",
        "\n",
        "    def methode1(self, n):\n",
        "        self.rnd = 397204094 * self.rnd % 2147483647\n",
        "        return int(self.rnd % n)\n",
        "\n",
        "\n",
        "nb = exemple_classe()\n",
        "l1 = [nb.methode1(100) for i in range(0, 10)]\n",
        "print(l1)   # affiche [19, 46, 26, 88, 44, 56, 56, 26, 0, 8]\n",
        "\n",
        "nb2 = exemple_classe()\n",
        "l2 = [nb2.methode1(100) for i in range(0, 10)]\n",
        "print(l2)   # affiche [19, 46, 26, 88, 44, 56, 56, 26, 0, 8]"
      ]
    },
    {
      "cell_type": "markdown",
      "metadata": {
        "id": "giF6szuuAgVD"
      },
      "source": [
        "De la même manière qu’il existe un constructeur exécuté à chaque création d’instance, il existe un destructeur exécuté à chaque destruction d’instance. Il suffit pour cela de redéfinir la méthode __del__. A l’inverse d’autres langages comme le C++, cet opérateur est peu utilisé car le python nettoie automatiquement les objets qui ne sont plus utilisés ou plus référencés par une variable."
      ]
    },
    {
      "cell_type": "markdown",
      "metadata": {
        "id": "vTeB_td6JSo1"
      },
      "source": [
        "# 6. Un autre exemple"
      ]
    },
    {
      "cell_type": "code",
      "execution_count": null,
      "metadata": {
        "id": "7zHfwqAfYHBA",
        "outputId": "79bd5482-64da-4171-87ad-9bdb886135a5"
      },
      "outputs": [
        {
          "name": "stdout",
          "output_type": "stream",
          "text": [
            "Jane\n",
            "jane.doe@example.com\n",
            "30\n"
          ]
        }
      ],
      "source": [
        "import datetime\n",
        "\n",
        "class Person:\n",
        "\n",
        "    def __init__(self, name, surname, birthdate, address, telephone, email):\n",
        "        self.name = name\n",
        "        self.surname = surname\n",
        "        self.birthdate = birthdate\n",
        "\n",
        "        self.address = address\n",
        "        self.telephone = telephone\n",
        "        self.email = email\n",
        "\n",
        "    def age(self):\n",
        "        today = datetime.date.today()\n",
        "        age = today.year - self.birthdate.year\n",
        "\n",
        "        if today < datetime.date(today.year, self.birthdate.month, self.birthdate.day):\n",
        "            age -= 1\n",
        "\n",
        "        return age\n",
        "\n",
        "person = Person(\n",
        "    \"Jane\",\n",
        "    \"Doe\",\n",
        "    datetime.date(1992, 3, 12), # year, month, day\n",
        "    \"No. 12 Short Street, Greenville\",\n",
        "    \"555 456 0987\",\n",
        "    \"jane.doe@example.com\"\n",
        ")\n",
        "\n",
        "print(person.name)\n",
        "print(person.email)\n",
        "print(person.age())"
      ]
    },
    {
      "cell_type": "markdown",
      "metadata": {
        "id": "Lf4iQZ6DYHBC"
      },
      "source": [
        "Nous commençons la définition de la classe avec le mot-clé `class`, suivi du nom de la classe et de deux points.\n",
        "\n",
        "À l'intérieur du corps de la classe, nous définissons deux fonctions : ce sont les méthodes de notre objet. La première s'appelle `__init__`, qui est une méthode spéciale. Lorsque nous appelons l'objet de classe, une nouvelle instance de la classe est créée et la méthode `__init__` sur ce nouvel objet est immédiatement exécutée avec tous les paramètres que nous avons passés à l'objet de classe. Le but de cette méthode est donc de mettre en place un nouvel objet à partir des données que nous vous avons fournies.\n",
        "\n",
        "La deuxième méthode est une méthode personnalisée qui calcule l'âge de notre personne en utilisant la date de naissance et la date du jour.\n",
        "\n",
        "**Le paramètre `self`**\n",
        "\n",
        "Vous avez peut-être remarqué que ces deux définitions de méthode ont `self` comme premier paramètre, et nous utilisons cette variable à l'intérieur des corps des méthodes mais nous ne semblons pas passer ce paramètre. C'est parce que chaque fois que nous appelons une méthode sur un objet, l'objet lui-même est automatiquement transmis comme premier paramètre. Cela nous donne un moyen d'accéder aux propriétés de l'objet depuis l'intérieur des méthodes de l'objet.\n",
        "\n",
        "Vous devriez maintenant pouvoir voir que notre fonction `__init__` crée des attributs sur l'objet et les définit sur les valeurs que nous avons transmises en tant que paramètres. Nous utilisons les mêmes noms pour les attributs et les paramètres, mais ce n'est pas obligatoire.\n",
        "\n",
        "La fonction `age` ne prend aucun paramètre à l'exception de `self`, elle utilise uniquement les informations stockées dans les attributs de l'objet et la date actuelle (qu'elle récupère à l'aide du module `datetime`).\n",
        "\n",
        "Notez que l'attribut de date de naissance est lui-même un objet. La classe `date` est définie dans le module `datetime`, et nous créons une nouvelle instance de cette classe à utiliser comme paramètre de date de naissance lorsque nous créons une instance de la classe `Person`. Nous n'avons pas à l'affecter à une variable intermédiaire avant de l'utiliser comme paramètre de `Person`. Nous pouvons simplement le créer lorsque nous appelons `Person`, tout comme nous créons des `string` pour les autres paramètres.\n",
        "\n",
        "N'oubliez pas que la définition d'une fonction ne la fait pas s'exécuter. Définir une classe ne fait pas non plus fonctionner quoi que ce soit, cela indique simplement à Python la classe. La classe ne sera pas définie tant que Python n'aura pas exécuté l'intégralité de la définition, vous pouvez donc être sûr de pouvoir référencer n'importe quelle méthode à partir de n'importe quelle autre méthode sur la même classe, ou même référencer la classe à l'intérieur d'une méthode de la classe. Au moment où vous appelez cette méthode, la classe entière sera définie.\n",
        "\n",
        "## Pratique 1\n",
        "\n",
        "Expliquez à quoi se réfèrent les variables suivantes :\n",
        " - 1) `Person`\n",
        " - 2) `person`\n",
        " - 3) `surname`\n",
        " - 4) `self`\n",
        " - 5) `age(self)`\n",
        " - 6) `age`\n",
        " - 7) `self.email`\n",
        " - 8) `person.email`\n",
        "\n",
        "**Les attributs d'une instance** \n",
        "\n",
        "Il est important de noter que les attributs définis sur l'objet dans la fonction `__init__` ne forment pas une liste exhaustive de tous les attributs que notre objet est autorisé à avoir.\n",
        "\n",
        "Dans certains langages, vous devez fournir une liste des attributs de l'objet dans la définition de classe, des espaces réservés sont créés pour ces attributs autorisés lors de la création de l'objet et vous ne pouvez pas ajouter de nouveaux attributs à l'objet ultérieurement. \n",
        "\n",
        "En Python, vous pouvez ajouter de nouveaux attributs, et même de nouvelles méthodes, à un objet à la volée après la définition dans des méthodes ou ailleurs dans le code."
      ]
    },
    {
      "cell_type": "code",
      "execution_count": null,
      "metadata": {
        "id": "Yu6ZdOeAYHBD"
      },
      "outputs": [],
      "source": [
        "def age(self):\n",
        "    today = datetime.date.today()\n",
        "\n",
        "    age = today.year - self.birthdate.year\n",
        "\n",
        "    if today < datetime.date(today.year, self.birthdate.month, self.birthdate.day):\n",
        "        age -= 1\n",
        "\n",
        "    self._age = age\n",
        "    return age\n"
      ]
    },
    {
      "cell_type": "markdown",
      "metadata": {
        "id": "7SvEU8rCYHBD"
      },
      "source": [
        "Ajout d'un attribut complètement indépendant à l'extérieur de l'objet :"
      ]
    },
    {
      "cell_type": "code",
      "execution_count": null,
      "metadata": {
        "id": "XZZqdVuEYHBD"
      },
      "outputs": [],
      "source": [
        "person.pets = ['cat', 'cat', 'dog']"
      ]
    },
    {
      "cell_type": "markdown",
      "metadata": {
        "id": "1HNzCQE4YHBD"
      },
      "source": [
        "Il est très courant que les méthodes d'un objet mettent à jour les valeurs des attributs de l'objet, mais il est considéré comme une mauvaise pratique de créer de nouveaux attributs dans une méthode sans les initialiser dans la méthode `__init__`. Définir des propriétés arbitraires depuis l'extérieur de l'objet est encore plus mal vu, car cela brise le paradigme orienté objet (dont nous parlerons dans le chapitre suivant).\n",
        "\n",
        "La méthode `__init__` sera certainement exécutée avant toute autre chose lorsque nous créons l'objet, c'est donc un bon endroit pour faire toute notre initialisation des données de l'objet. Si nous créons un nouvel attribut en dehors de la méthode `__init__`, nous courons le risque d'essayer de l'utiliser avant qu'il ne soit initialisé.\n",
        "\n",
        "Dans l'exemple age ci-dessus, nous aurions du vérifier si un attribut `_age` existe sur l'objet avant d'essayer de l'utiliser, car si nous n'avons pas exécuté la méthode age auparavant, elle n'aura pas encore été créée. Ce serait beaucoup plus propre si nous appelions cette méthode au moins une fois depuis `__init__`, pour s'assurer que `_age` est créé dès que nous créons l'objet.\n",
        "\n",
        "L'initialisation de tous nos attributs dans `__init__`, même si nous les définissons simplement sur des valeurs vides, rend notre code moins sujet aux erreurs. Cela facilite également la lecture et la compréhension – nous pouvons voir en un coup d'œil quels sont les attributs de notre objet.\n",
        "\n",
        "Une méthode `__init__` n'a pas à prendre de paramètres (sauf self) et elle peut être complètement absente."
      ]
    },
    {
      "cell_type": "markdown",
      "metadata": {
        "id": "_8HNHV6_YHBE"
      },
      "source": [
        "## 7. Les fonctions `getattr`, `setattr` et `hasattr`\n",
        "\n",
        "Que se passe-t-il si nous voulons obtenir ou définir la valeur d'un attribut d'un objet sans coder en dur son nom ? Nous pouvons parfois vouloir boucler plusieurs noms d'attributs et effectuer la même opération sur chacun d'eux. Pour faire cela nous utiliserons les fonctions : `getattr`, `setattr` et `hasattr`\n",
        "\n",
        "### La fonction `hastattr`\n",
        "\n",
        "Cet fonction permet de savoir si un objet possède un attribut ou non :"
      ]
    },
    {
      "cell_type": "code",
      "execution_count": null,
      "metadata": {
        "id": "9g6_3iY1YHBE"
      },
      "outputs": [],
      "source": [
        "# Check if my object has attribut :a\n",
        "print(hasattr(person, 'a'))\n",
        "\n",
        "person.a = 'hello'\n",
        "print(hasattr(person, 'a'))"
      ]
    },
    {
      "cell_type": "markdown",
      "metadata": {
        "id": "Mkcbn0BhYHBE"
      },
      "source": [
        "### La fonction `getattr`\n",
        "\n",
        "Cet fonction permet de récupérer la valeur d'un attribut de l'objet :"
      ]
    },
    {
      "cell_type": "code",
      "execution_count": null,
      "metadata": {
        "id": "EcPxfy7FYHBE"
      },
      "outputs": [],
      "source": [
        "person.a = 12\n",
        "person.b = \"hello\"\n",
        "person.c = .002\n",
        "\n",
        "# Get person.a, person.b, etc.\n",
        "for key in [\"a\", \"b\", \"c\", \"d\"]:\n",
        "    print(getattr(person, key, None))\n",
        "\n",
        "# Is equivalent to :\n",
        "print(person.a)\n",
        "print(person.b)\n",
        "print(person.c)\n",
        "print(person.d) # Oups this fails"
      ]
    },
    {
      "cell_type": "markdown",
      "metadata": {
        "id": "nNWKGArXYHBF"
      },
      "source": [
        "### La fonction `setattr`\n",
        "\n",
        "Cet fonction permet de définir la valeur d'un attribut d'un objet. Par exemple, nous copions des données d'un dictionnaire vers un objet :"
      ]
    },
    {
      "cell_type": "code",
      "execution_count": null,
      "metadata": {
        "id": "vpejL_3PYHBF"
      },
      "outputs": [],
      "source": [
        "mydict = {'d': None, 'e': 321, 'f': 'World'}\n",
        "\n",
        "for key, value in mydict.items():\n",
        "    setattr(person, key, mydict[key])\n",
        "\n",
        "# Is equivalent to :\n",
        "person.d = None\n",
        "person.e = 321\n",
        "person.f = 'World'"
      ]
    },
    {
      "cell_type": "markdown",
      "metadata": {
        "id": "e__TnF9SYHBF"
      },
      "source": [
        "\n",
        "\n",
        "Tous les attributs définis sur une instance `Person` sont des attributs d'instance, ils sont ajoutés à l'instance lorsque la méthode `__init__` est exécutée. Cependant, nous pouvons également définir des attributs qui sont définis sur la classe. Ces attributs seront partagés par toutes les instances de cette classe. À bien des égards, ils se comportent comme des attributs d'instance, mais vous devez être conscient de certaines mises en garde.\n",
        "\n",
        "Nous définissons les attributs de classe dans son corps, au même niveau d'indentation que les définitions de méthode (un niveau au-dessus de l'intérieur des méthodes) :"
      ]
    },
    {
      "cell_type": "code",
      "execution_count": null,
      "metadata": {
        "id": "dJTvyww_YHBF"
      },
      "outputs": [],
      "source": [
        "class Person:\n",
        "\n",
        "    TITLES = ('Dr', 'Mr', 'Mrs', 'Ms')\n",
        "\n",
        "    def __init__(self, title, name, surname):\n",
        "        if title not in self.TITLES:\n",
        "            raise ValueError(\"%s is not a valid title.\" % title)\n",
        "\n",
        "        self.title = title\n",
        "        self.name = name\n",
        "        self.surname = surname"
      ]
    },
    {
      "cell_type": "markdown",
      "metadata": {
        "id": "7Zjt_9nvYHBF"
      },
      "source": [
        "Comme vous pouvez le voir, nous accédons à l'attribut de classe `TITLES` comme nous accéderions à un attribut d'instance, il est rendu disponible en tant que propriété sur l'objet d'instance, auquel nous accédons à l'intérieur de la méthode via la variable self.\n",
        "\n",
        "Tous les objets Person que nous créons partageront le même attribut de classe `TITLES`.\n",
        "\n",
        "Les attributs de classe sont souvent utilisés pour définir des constantes qui sont étroitement associées à une classe particulière. Bien que nous puissions utiliser des attributs de classe à partir d'instances de classe, nous pouvons également les utiliser à partir d'objets de classe, sans créer d'instance :"
      ]
    },
    {
      "cell_type": "code",
      "execution_count": null,
      "metadata": {
        "id": "l2bgbKKRYHBF"
      },
      "outputs": [],
      "source": [
        "# we can access a class attribute from an instance\n",
        "person.TITLES\n",
        "\n",
        "# but we can also access it from the class\n",
        "Person.TITLES"
      ]
    },
    {
      "cell_type": "markdown",
      "metadata": {
        "id": "K7gruEZ3YHBF"
      },
      "source": [
        "L'objet de classe n'a accès à aucun attribut d'instance, ceux-ci ne sont créés que lorsqu'une instance est créée :"
      ]
    },
    {
      "cell_type": "code",
      "execution_count": null,
      "metadata": {
        "id": "SZTCBfCDYHBG"
      },
      "outputs": [],
      "source": [
        "# This will give us an error\n",
        "Person.name\n",
        "Person.surname"
      ]
    },
    {
      "cell_type": "markdown",
      "metadata": {
        "id": "4j0dhIriYHBG"
      },
      "source": [
        "Les attributs de classe peuvent également parfois être utilisés pour fournir des valeurs d'attribut par défaut."
      ]
    },
    {
      "cell_type": "code",
      "execution_count": null,
      "metadata": {
        "id": "1nfgafowYHBG"
      },
      "outputs": [],
      "source": [
        "class Person:\n",
        "    deceased = False\n",
        "\n",
        "    def mark_as_deceased(self):\n",
        "        self.deceased = True"
      ]
    },
    {
      "cell_type": "markdown",
      "metadata": {
        "id": "sTo3-1XaYHBG"
      },
      "source": [
        "Lorsque nous définissons un attribut sur une instance qui a le même nom qu'un attribut de classe, nous remplaçons l'attribut de classe par un attribut d'instance, qui aura la priorité sur lui. Si nous créons deux objets `Person` et appelons la méthode `mark_as_deceased` sur l'un d'eux, nous n'affecterons pas l'autre. Nous devons cependant être prudents lorsqu'un attribut de classe est de type mutable : car si nous le modifions sur place, nous affecterons tous les objets de cette classe en même temps. N'oubliez pas que toutes les instances partagent les mêmes attributs de classe :"
      ]
    },
    {
      "cell_type": "code",
      "execution_count": null,
      "metadata": {
        "id": "CCiYs_uSYHBG"
      },
      "outputs": [],
      "source": [
        "class Person:\n",
        "    pets = []\n",
        "\n",
        "    def add_pet(self, pet):\n",
        "        self.pets.append(pet)\n",
        "\n",
        "jane = Person()\n",
        "bob = Person()\n",
        "\n",
        "jane.add_pet(\"cat\")\n",
        "print(jane.pets)\n",
        "print(bob.pets) # oops!"
      ]
    },
    {
      "cell_type": "markdown",
      "metadata": {
        "id": "l9xYOE1KYHBG"
      },
      "source": [
        "Ce que nous devrions faire dans des cas comme celui-ci, c'est initialiser l'attribut mutable en tant qu'attribut d'instance, à l'intérieur de `__init__`. Ensuite, chaque instance aura sa propre copie distincte :"
      ]
    },
    {
      "cell_type": "code",
      "execution_count": null,
      "metadata": {
        "id": "WUFxXiZEYHBG"
      },
      "outputs": [],
      "source": [
        "class Person:\n",
        "\n",
        "    def __init__(self):\n",
        "        self.pets = []\n",
        "\n",
        "    def add_pet(self, pet):\n",
        "        self.pets.append(pet)\n",
        "\n",
        "jane = Person()\n",
        "bob = Person()\n",
        "\n",
        "jane.add_pet(\"cat\")\n",
        "print(jane.pets)\n",
        "print(bob.pets)"
      ]
    },
    {
      "cell_type": "markdown",
      "metadata": {
        "id": "l_NMPZSDYHBH"
      },
      "source": [
        "Notez que les définitions de méthode sont dans le même scope que les définitions d'attribut de classe, nous pouvons donc utiliser les noms d'attribut de classe comme variables dans les définitions de méthode (sans `self`, qui n'est défini qu'à l'intérieur des méthodes) :"
      ]
    },
    {
      "cell_type": "code",
      "execution_count": null,
      "metadata": {
        "id": "8F9gTYFhYHBH"
      },
      "outputs": [],
      "source": [
        "class Person:\n",
        "    TITLES = ('Dr', 'Mr', 'Mrs', 'Ms')\n",
        "\n",
        "    def __init__(self, title, name, surname, allowed_titles=TITLES):\n",
        "        if title not in allowed_titles:\n",
        "            raise ValueError(f\"{title} is not a valid title.\")\n",
        "\n",
        "        self.title = title\n",
        "        self.name = name\n",
        "        self.surname = surname"
      ]
    },
    {
      "cell_type": "markdown",
      "metadata": {
        "id": "UNajo8yIYHBH"
      },
      "source": [
        "## Pratique 2\n",
        "\n",
        "Expliquez les différences entre les attributs `name`, `surname` et `profession`, et quelles valeurs ils peuvent avoir dans différentes instances de cette classe :"
      ]
    },
    {
      "cell_type": "code",
      "execution_count": null,
      "metadata": {
        "id": "yR-QcxUzYHBH"
      },
      "outputs": [],
      "source": [
        "class Smith:\n",
        "    surname = \"Smith\"\n",
        "    profession = \"smith\"\n",
        "\n",
        "    def __init__(self, name, profession=None):\n",
        "        self.name = name\n",
        "        if profession is not None:\n",
        "            self.profession = profession"
      ]
    },
    {
      "cell_type": "markdown",
      "metadata": {
        "id": "psE_9FuvYHBH"
      },
      "source": [
        "**Inspecter un objet**\n",
        "\n",
        "Nous pouvons vérifier quelles propriétés sont définies sur un objet en utilisant la fonction `dir` :"
      ]
    },
    {
      "cell_type": "code",
      "execution_count": null,
      "metadata": {
        "id": "Vdt2f-QYYHBH"
      },
      "outputs": [],
      "source": [
        "class Person:\n",
        "    def __init__(self, name, surname):\n",
        "        self.name = name\n",
        "        self.surname = surname\n",
        "\n",
        "    def fullname(self):\n",
        "        return \"%s %s\" % (self.name, self.surname)\n",
        "\n",
        "jane = Person(\"Jane\", \"Smith\")\n",
        "\n",
        "print(dir(jane))\n"
      ]
    },
    {
      "cell_type": "markdown",
      "metadata": {
        "id": "Ks01QdpeYHBH"
      },
      "source": [
        "Maintenant, nous pouvons voir nos attributs et notre méthode. Mais qu'est-ce que c'est que tous ces autres trucs ? Nous discuterons de l'héritage dans le chapitre suivant, mais pour l'instant tout ce que vous devez savoir est que toute classe que vous définissez a `objet` comme classe parente même si vous ne le dites pas explicitement, votre classe aura donc beaucoup d'attributs par défaut et les méthodes de tout objet Python.\n",
        "\n",
        "C'est pourquoi vous pouvez simplement omettre la méthode `__init__` de votre classe si vous n'avez aucune initialisation à faire, la valeur par défaut que vous avez héritée de object (qui ne fait rien) sera utilisée à la place. Si vous écrivez votre propre méthode `__init__`, elle remplacera (`override`) la méthode par défaut.\n",
        "\n",
        "De nombreuses méthodes et attributs par défaut que l'on trouve dans les objets Python de base ont des noms qui commencent et se terminent par des traits de soulignement doubles, comme `__init__` ou `__str__`. Ces noms indiquent que ces propriétés ont une signification particulière, vous ne devez pas créer vos propres méthodes ou attributs avec les mêmes noms, à moins que vous ne vouliez les surcharger. Ces propriétés sont généralement des méthodes, et elles sont parfois appelées `méthodes magiques`.\n",
        "\n",
        "Nous pouvons utiliser `dir` sur n'importe quel objet. Vous pouvez essayer de l'utiliser sur toutes sortes d'objets que nous avons déjà vus auparavant, comme des nombres, des listes, des chaînes et des fonctions, pour voir quelles propriétés intégrées ces objets ont en commun.\n",
        "\n",
        "Voici quelques exemples de propriétés d'objets spéciaux :\n",
        "\n",
        " - `__init__` : la méthode d'initialisation d'un objet, qui est appelée lors de la création de l'objet.\n",
        " - `__str__` : la méthode de représentation sous forme de chaîne d'un objet, qui est appelée lorsque vous utilisez la fonction `str` pour convertir cet objet en une chaîne.\n",
        " - `__class__` : un attribut qui stocke la classe (ou le type) d'un objet, c'est ce qui est renvoyé lorsque vous utilisez la fonction `type` sur l'objet.\n",
        " - `__eq__` : une méthode qui détermine si cet objet est égal à un autre. Il existe également d'autres méthodes pour déterminer si ce n'est pas égal, inférieur à, etc. Ces méthodes sont utilisées dans les comparaisons d'objets, par exemple lorsque nous utilisons l'opérateur d'égalité == pour vérifier si deux objets sont égaux.\n",
        " - `__add__` est une méthode qui permet d'ajouter cet objet à un autre objet. Il existe des méthodes équivalentes pour tous les autres opérateurs arithmétiques. Tous les objets ne prennent pas en charge toutes les opérations arithmétiques, les nombres ont toutes ces méthodes définies, mais d'autres objets peuvent n'avoir qu'un sous-ensemble.\n",
        " - `__iter__` : une méthode qui renvoie un itérateur sur l'objet, nous le trouverons sur des chaînes, des listes et d'autres itérables. Il est exécuté lorsque nous utilisons la fonction iter sur l'objet.\n",
        " - `__len__` : une méthode qui calcule la longueur d'un objet, on la retrouvera sur des séquences. Il est exécuté lorsque nous utilisons la fonction `len` d'un objet.\n",
        " - `__dict__` : un dictionnaire qui contient tous les attributs d'instance d'un objet, avec leurs noms comme clés. Cela peut être utile si nous voulons itérer sur tous les attributs d'un objet."
      ]
    },
    {
      "cell_type": "code",
      "execution_count": null,
      "metadata": {
        "colab": {
          "base_uri": "https://localhost:8080/"
        },
        "id": "FElCddOsHPcK",
        "outputId": "c66b10e9-a0c8-46b7-b250-fed06d32558e"
      },
      "outputs": [
        {
          "name": "stdout",
          "output_type": "stream",
          "text": [
            "{'rnd': 42}\n"
          ]
        }
      ],
      "source": [
        "class exemple_classe:\n",
        "    def __init__(self):\n",
        "        self.rnd = 42\n",
        "\n",
        "    def methode1(self, n):\n",
        "        self.rnd = 397204094 * self.rnd % 2147483647\n",
        "        return int(self.rnd % n)\n",
        "\n",
        "\n",
        "nb = exemple_classe()\n",
        "print(nb.__dict__)      # affiche {'rnd': 42}"
      ]
    },
    {
      "cell_type": "markdown",
      "metadata": {
        "id": "klkfzU11Hd1w"
      },
      "source": [
        "Ce dictionnaire offre aussi la possibilité de tester si un attribut existe ou non. Dans un des exemples du paragraphe précédent, l’attribut rnd était créé dans la méthode methode1, sa valeur était alors initialisée à chaque appel et la fonction retournait sans cesse la même valeur. En testant l’existence de l’attribut rnd, il est possible de le créer dans la méthode methode1 au premier appel sans que les appels suivants ne réinitialisent sa valeur à 42."
      ]
    },
    {
      "cell_type": "code",
      "execution_count": null,
      "metadata": {
        "id": "NDkwrXfVHglp"
      },
      "outputs": [],
      "source": [
        "class exemple_classe:\n",
        "    def methode1(self, n):\n",
        "        if \"rnd\" not in self.__dict__:  # l'attribut existe-t-il ?\n",
        "            self.rnd = 42                # création de l'attribut\n",
        "            self.__dict__[\"rnd\"] = 42   # autre écriture possible\n",
        "        self.rnd = 397204094 * self.rnd % 2147483647\n",
        "        return int(self.rnd % n)\n",
        "\n",
        "\n",
        "nb = exemple_classe()\n",
        "li = [nb.methode1(100) for i in range(0, 10)]\n",
        "print(li)  # affiche [19, 46, 26, 88, 44, 56, 56, 26, 0, 8]"
      ]
    },
    {
      "cell_type": "markdown",
      "metadata": {
        "id": "DipDCdNXJkUZ"
      },
      "source": [
        "# 8. Héritage\n",
        "L’héritage est un des grands avantages de la programmation objet. Il permet de créer une classe à partir d’une autre en ajoutant des attributs, en modifiant ou en ajoutant des méthodes. En quelque sorte, on peut modifier des méthodes d’une classe tout en conservant la possibilité d’utiliser les anciennes versions.\n",
        "\n"
      ]
    },
    {
      "cell_type": "markdown",
      "metadata": {
        "id": "-Rqb0DdpJttF"
      },
      "source": [
        "Exemple autour de pièces de monnaie\n",
        "On désire réaliser une expérience à l’aide d’une pièce de monnaie. On effectue cent tirages successifs et on compte le nombre de fois où la face pile tombe. Le programme suivant implémente cette expérience sans utiliser la programmation objet."
      ]
    },
    {
      "cell_type": "code",
      "execution_count": null,
      "metadata": {
        "colab": {
          "base_uri": "https://localhost:8080/"
        },
        "id": "Tbd2ZjcHJwZs",
        "outputId": "38d5b51d-4512-4010-a254-e27f42365204"
      },
      "outputs": [
        {
          "name": "stdout",
          "output_type": "stream",
          "text": [
            "54\n"
          ]
        }
      ],
      "source": [
        "import random  # extension interne incluant des fonctions\n",
        "# simulant des nombres aléatoires,\n",
        "# random.randint (a,b) --> retourne un nombre entier entre a et b\n",
        "# cette ligne doit être ajoutée à tous les exemples suivant\n",
        "# même si elle n'y figure plus\n",
        "\n",
        "\n",
        "def cent_tirages():\n",
        "    s = 0\n",
        "    for i in range(0, 100):\n",
        "        s += random.randint(0, 1)\n",
        "    return s\n",
        "\n",
        "\n",
        "print(cent_tirages())"
      ]
    },
    {
      "cell_type": "markdown",
      "metadata": {
        "id": "SsoDtS52JzTr"
      },
      "source": [
        "On désire maintenant réaliser cette même expérience pour une pièce truquée pour laquelle la face pile sort avec une probabilité de 0,7. Une solution consiste à réécrire la fonction cent_tirages pour la pièce truquée."
      ]
    },
    {
      "cell_type": "code",
      "execution_count": null,
      "metadata": {
        "colab": {
          "base_uri": "https://localhost:8080/"
        },
        "id": "O3nar1-EJ2wG",
        "outputId": "867f6cad-2da5-4161-a3fc-3b7f3946d3d8"
      },
      "outputs": [
        {
          "name": "stdout",
          "output_type": "stream",
          "text": [
            "69\n"
          ]
        }
      ],
      "source": [
        "import random\n",
        "\n",
        "\n",
        "def cent_tirages():\n",
        "    s = 0\n",
        "    for i in range(0, 100):\n",
        "        t = random.randint(0, 10)\n",
        "        if t >= 3:\n",
        "            s += 1\n",
        "    return s\n",
        "\n",
        "\n",
        "print(cent_tirages())"
      ]
    },
    {
      "cell_type": "markdown",
      "metadata": {
        "id": "7-lsuvPcJ57u"
      },
      "source": [
        "Toutefois cette solution n’est pas satisfaisante car il faudrait réécrire cette fonction pour chaque pièce différente pour laquelle on voudrait réaliser cette expérience. Une autre solution consiste donc à passer en paramètre de la fonction cent_tirages une fonction qui reproduit le comportement d’une pièce, qu’elle soit normale ou truquée."
      ]
    },
    {
      "cell_type": "code",
      "execution_count": null,
      "metadata": {
        "colab": {
          "base_uri": "https://localhost:8080/"
        },
        "id": "LGEHT7ACJ8nk",
        "outputId": "62a448dc-3c43-4067-9d4e-545c02a0d5d2"
      },
      "outputs": [
        {
          "name": "stdout",
          "output_type": "stream",
          "text": [
            "53\n",
            "68\n"
          ]
        }
      ],
      "source": [
        "import random\n",
        "\n",
        "\n",
        "def piece_normale():\n",
        "    return random.randint(0, 1)\n",
        "\n",
        "\n",
        "def piece_truquee():\n",
        "    t = random.randint(0, 10)\n",
        "    if t >= 3:\n",
        "        return 1\n",
        "    else:\n",
        "        return 0\n",
        "\n",
        "\n",
        "def cent_tirages(piece):\n",
        "    s = 0\n",
        "    for i in range(0, 100):\n",
        "        s += piece()\n",
        "    return s\n",
        "\n",
        "\n",
        "print(cent_tirages(piece_normale))\n",
        "print(cent_tirages(piece_truquee))"
      ]
    },
    {
      "cell_type": "markdown",
      "metadata": {
        "id": "wf3xyUlsKABn"
      },
      "source": [
        "Mais cette solution possède toujours un inconvénient car les fonctions associées à chaque pièce n’acceptent aucun paramètre. Il n’est pas possible de définir une pièce qui est normale si la face pile vient de sortir et qui devient truquée si la face face vient de sortir. On choisit alors de représenter une pièce normale par une classe."
      ]
    },
    {
      "cell_type": "code",
      "execution_count": null,
      "metadata": {
        "colab": {
          "base_uri": "https://localhost:8080/"
        },
        "id": "2y_e9_eIJ_f_",
        "outputId": "6f619e9e-d475-41c2-baef-6bcac78f15da"
      },
      "outputs": [
        {
          "name": "stdout",
          "output_type": "stream",
          "text": [
            "61\n"
          ]
        }
      ],
      "source": [
        "import random\n",
        "\n",
        "\n",
        "class piece_normale:\n",
        "    def tirage(self):\n",
        "        return random.randint(0, 1)\n",
        "\n",
        "    def cent_tirages(self):\n",
        "        s = 0\n",
        "        for i in range(0, 100):\n",
        "            s += self.tirage()\n",
        "        return s\n",
        "\n",
        "\n",
        "p = piece_normale()\n",
        "print(p.cent_tirages())"
      ]
    },
    {
      "cell_type": "markdown",
      "metadata": {
        "id": "6LcUQrpdKF1h"
      },
      "source": [
        "On peut aisément recopier et adapter ce code pour la pièce truquée."
      ]
    },
    {
      "cell_type": "code",
      "execution_count": null,
      "metadata": {
        "colab": {
          "base_uri": "https://localhost:8080/"
        },
        "id": "c1YaTC28KFTN",
        "outputId": "443af0ce-b599-4c90-978a-a020bbc95853"
      },
      "outputs": [
        {
          "name": "stdout",
          "output_type": "stream",
          "text": [
            "52\n",
            "71\n"
          ]
        }
      ],
      "source": [
        "import random\n",
        "\n",
        "\n",
        "class piece_normale:\n",
        "    def tirage(self):\n",
        "        return random.randint(0, 1)\n",
        "\n",
        "    def cent_tirages(self):\n",
        "        s = 0\n",
        "        for i in range(0, 100):\n",
        "            s += self.tirage()\n",
        "        return s\n",
        "\n",
        "\n",
        "class piece_truquee:\n",
        "    def tirage(self):\n",
        "        t = random.randint(0, 10)\n",
        "        if t >= 3:\n",
        "            return 1\n",
        "        else:\n",
        "            return 0\n",
        "\n",
        "    def cent_tirages(self):\n",
        "        s = 0\n",
        "        for i in range(0, 100):\n",
        "            s += self.tirage()\n",
        "        return s\n",
        "\n",
        "\n",
        "p = piece_normale()\n",
        "print(p.cent_tirages())\n",
        "p2 = piece_truquee()\n",
        "print(p2.cent_tirages())"
      ]
    },
    {
      "cell_type": "markdown",
      "metadata": {
        "id": "D5gB6DaWKRd0"
      },
      "source": [
        "Toutefois, pour les deux classes piece_normale et piece_truquee, la méthode cent_tirage est exactement la même. Il serait préférable de ne pas répéter ce code puisque si nous devions modifier la première - un nombre de tirages différent par exemple -, il faudrait également modifier la seconde. La solution passe par l’héritage. On va définir la classe piece_truquee à partir de la classe piece_normale en remplaçant seulement la méthode tirage puisqu’elle est la seule à changer.\n",
        "\n",
        "On indique à la classe piece_truquee qu’elle hérite - ou dérive - de la classe piece_normale en mettant piece_normale entre parenthèses sur la ligne de la déclaration de la classe piece_truquee. Comme la méthode cent_tirages ne change pas, elle n’a pas besoin d’apparaître dans la définition de la nouvelle classe même si cette méthode est aussi applicable à une instance de la classe piece_truquee.\n",
        "\n"
      ]
    },
    {
      "cell_type": "code",
      "execution_count": null,
      "metadata": {
        "colab": {
          "base_uri": "https://localhost:8080/"
        },
        "id": "o4xpA2S3KV50",
        "outputId": "58110242-d5f4-41f0-da4e-f9066db76814"
      },
      "outputs": [
        {
          "name": "stdout",
          "output_type": "stream",
          "text": [
            "56\n",
            "73\n"
          ]
        }
      ],
      "source": [
        "import random\n",
        "\n",
        "\n",
        "class piece_normale:\n",
        "    def tirage(self):\n",
        "        return random.randint(0, 1)\n",
        "\n",
        "    def cent_tirages(self):\n",
        "        s = 0\n",
        "        for i in range(0, 100):\n",
        "            s += self.tirage()\n",
        "        return s\n",
        "\n",
        "\n",
        "class piece_truquee (piece_normale):\n",
        "    def tirage(self):\n",
        "        t = random.randint(0, 10)\n",
        "        if t >= 3:\n",
        "            return 1\n",
        "        else:\n",
        "            return 0\n",
        "\n",
        "\n",
        "p = piece_normale()\n",
        "print(p.cent_tirages())\n",
        "p2 = piece_truquee()\n",
        "print(p2.cent_tirages())"
      ]
    },
    {
      "cell_type": "markdown",
      "metadata": {
        "id": "U1DGxnVkKfid"
      },
      "source": [
        "Enfin, on peut définir une pièce très truquée qui devient truquée si face vient de sortir et qui redevient normale si pile vient de sortir. Cette pièce très truquée sera implémentée par la classe piece_tres_truquee. Elle doit contenir un attribut avant qui conserve la valeur du précédent tirage. Elle doit redéfinir la méthode tirage pour être une pièce normale ou truquée selon la valeur de l’attribut avant. Pour éviter de réécrire des méthodes déjà écrites, la méthode tirage de la classe piece_tres_truquee doit appeler la méthode tirage de la classe piece_truquee ou celle de la classe piece_normale selon la valeur de l’attribut avant."
      ]
    },
    {
      "cell_type": "code",
      "execution_count": null,
      "metadata": {
        "colab": {
          "base_uri": "https://localhost:8080/"
        },
        "id": "wNl_M-Z9Km-P",
        "outputId": "44d9ebe8-5ba2-4005-dfa8-cd91cc2074aa"
      },
      "outputs": [
        {
          "name": "stdout",
          "output_type": "stream",
          "text": [
            "normale  51\n",
            "truquee  78\n",
            "tres truquee  60\n"
          ]
        }
      ],
      "source": [
        "import random\n",
        "\n",
        "\n",
        "class piece_normale:\n",
        "    def tirage(self):\n",
        "        return random.randint(0, 1)\n",
        "\n",
        "    def cent_tirages(self):\n",
        "        s = 0\n",
        "        for i in range(0, 100):\n",
        "            s += self.tirage()\n",
        "        return s\n",
        "\n",
        "\n",
        "class piece_truquee (piece_normale):\n",
        "    def tirage(self):\n",
        "        t = random.randint(0, 10)\n",
        "        if t >= 3:\n",
        "            return 1\n",
        "        else:\n",
        "            return 0\n",
        "\n",
        "\n",
        "class piece_tres_truquee (piece_truquee):\n",
        "    def __init__(self):\n",
        "        # création de l'attribut avant\n",
        "        self.avant = 0\n",
        "\n",
        "    def tirage(self):\n",
        "        if self.avant == 0:\n",
        "            # appel de la méthode tirage de la classe piece_truquee\n",
        "            self.avant = piece_truquee.tirage(self)\n",
        "        else:\n",
        "            # appel de la méthode tirage de la classe piece_normale\n",
        "            self.avant = piece_normale.tirage(self)\n",
        "        return self.avant\n",
        "\n",
        "\n",
        "p = piece_normale()\n",
        "print(\"normale \", p.cent_tirages())\n",
        "p2 = piece_truquee()\n",
        "print(\"truquee \", p2.cent_tirages())\n",
        "p3 = piece_tres_truquee()\n",
        "print(\"tres truquee \", p3.cent_tirages())"
      ]
    }
  ],
  "metadata": {
    "colab": {
      "collapsed_sections": [],
      "provenance": []
    },
    "interpreter": {
      "hash": "5f93c710f340a2e31cff3bb6ebdbfdc2ef47a25bab77ef50e9e25900c31fe89f"
    },
    "kernelspec": {
      "display_name": "Python 3 (ipykernel)",
      "language": "python",
      "name": "python3"
    },
    "language_info": {
      "codemirror_mode": {
        "name": "ipython",
        "version": 3
      },
      "file_extension": ".py",
      "mimetype": "text/x-python",
      "name": "python",
      "nbconvert_exporter": "python",
      "pygments_lexer": "ipython3",
      "version": "3.9.7"
    },
    "varInspector": {
      "cols": {
        "lenName": 16,
        "lenType": 16,
        "lenVar": 40
      },
      "kernels_config": {
        "python": {
          "delete_cmd_postfix": "",
          "delete_cmd_prefix": "del ",
          "library": "var_list.py",
          "varRefreshCmd": "print(var_dic_list())"
        },
        "r": {
          "delete_cmd_postfix": ") ",
          "delete_cmd_prefix": "rm(",
          "library": "var_list.r",
          "varRefreshCmd": "cat(var_dic_list()) "
        }
      },
      "types_to_exclude": [
        "module",
        "function",
        "builtin_function_or_method",
        "instance",
        "_Feature"
      ],
      "window_display": false
    }
  },
  "nbformat": 4,
  "nbformat_minor": 0
}
