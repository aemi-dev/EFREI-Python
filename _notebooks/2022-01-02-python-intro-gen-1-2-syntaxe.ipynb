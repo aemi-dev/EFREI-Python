{
  "cells": [
    {
      "cell_type": "markdown",
      "metadata": {
        "id": "Hu-DQLCysvHt"
      },
      "source": [
        "# \"Syntaxe\"\n",
        "\n",
        "- toc: false \n",
        "- badges: true\n",
        "- hide_binder_badge: true\n",
        "- hide_github_badge: true\n",
        "- comments: false\n",
        "- layout: post\n",
        "- author: DataScientist.fr\n",
        "- permalink: /python-intro-gen/chapter/1/lesson/2/\n"
      ]
    },
    {
      "cell_type": "markdown",
      "metadata": {},
      "source": [
        "## 1. Les mot clés\n",
        "\n",
        "L'interprétation d'un programme Python passe par l'utilisation de mots clé.\n",
        "Les mots clés ont été conservés à des fins spécifiques et ne peuvent être utilisés à d'autres fins dans le programme.\n",
        "En voici certains :\n",
        "\n",
        "```\n",
        "False      class      finally    is         return\n",
        "None       continue   for        lambda     try\n",
        "True       def        from       nonlocal   while\n",
        "and        del        global     not        with\n",
        "as         elif       if         or         yield\n",
        "assert     else       import     pass\n",
        "break      except     in         raise\n",
        "```"
      ]
    },
    {
      "cell_type": "markdown",
      "metadata": {},
      "source": [
        "## 2. Les variables\n",
        "Lorsque nous écrivons un programme Python, nous allons créer des variables qui stockent des valeurs telles que des nombres ou des chaînes de caractères, ainsi que des fonctions et des classes. Ces variables doivent avoir un nom unique qui respecte les règles suivantes :\n",
        "  - Il ne peut contenir que des lettres (majuscules ou minuscules), des chiffres ou le caractère de soulignement (_) (pas d'espaces !).\n",
        "  - Il ne peut pas commencer par un chiffre.\n",
        "  - Ce n'est pas un mot-clé.\n",
        "\n",
        "\n",
        "Il est fortement recommandé de suivre les bonnes pratiques de nommage des variables pour garder une bonne compréhension du code :\n",
        "\n",
        "| Syntax error | Bad practice | Good practice |\n",
        "| ------------ | ------------ | ------------- |\n",
        "| Person Record | PRcrd | PersonRecord |\n",
        "| DEFAULT-HEIGHT | Default_Ht | DEFAULT_HEIGHT |\n",
        "| class | Class | AlgebraCourse |\n",
        "| 2totalweight | num2 | total_weight |"
      ]
    },
    {
      "cell_type": "markdown",
      "metadata": {},
      "source": [
        "## Exercice 1 :\n",
        "\n",
        " - Expliquez pourquoi les noms de variables dans la colonne `Syntax error` ne sont pas valident."
      ]
    },
    {
      "cell_type": "markdown",
      "metadata": {},
      "source": [
        "## 3. L'indentation\n",
        "\n",
        "De nombreux langages organisent le code en blocs à l'aide d'accolades (`{` et `}`) ou d'instructions `BEGIN` et `END`, ces langages nous encouragent à indenter les blocs pour faciliter la lecture du code, mais l'indentation n'est pas obligatoire. Python utilise l'indentation uniquement pour délimiter les blocs, nous devons donc indenter notre code :"
      ]
    },
    {
      "cell_type": "code",
      "execution_count": null,
      "metadata": {},
      "outputs": [],
      "source": [
        "# Indentation is required when you create some python entities that define a code block that will be executer when the entity is triggered\n",
        "# Examples :\n",
        "\n",
        "# Functions\n",
        "def my_fuction():\n",
        "    print(\"Hello World in 'function'\")\n",
        "# function execution is outside function block\n",
        "my_fuction()\n",
        "\n",
        "# If statements\n",
        "if \"Hello\" != \"World\":\n",
        "    print(\"Hello World in 'if'\")\n",
        "    \n",
        "# Loops\n",
        "for i in [0, 1, 2]:\n",
        "    print(f\"Hello World in 'loop {i}'\")"
      ]
    },
    {
      "cell_type": "markdown",
      "metadata": {},
      "source": []
    },
    {
      "cell_type": "markdown",
      "metadata": {},
      "source": [
        "## Exercice 2 :\n",
        "\n",
        "Ré-écrivez le code suivant avec la bonne indentation :"
      ]
    },
    {
      "cell_type": "code",
      "execution_count": null,
      "metadata": {},
      "outputs": [],
      "source": [
        "def happy_day(day):\n",
        "if day == \"monday\":\n",
        "return \":(\"\n",
        "if day != \"monday\":\n",
        "return \":D\"\n",
        "\n",
        "print(happy_day(\"sunday\"))\n",
        "print(happy_day(\"monday\"))"
      ]
    },
    {
      "cell_type": "markdown",
      "metadata": {},
      "source": [
        "## 4. La sensibilité à la casse\n",
        "\n",
        "Python est senbible à la casse, ce qui signifie que l'expression `def main()` n'est pas la même que `DEF MAIN()` "
      ]
    },
    {
      "cell_type": "code",
      "execution_count": null,
      "metadata": {},
      "outputs": [],
      "source": [
        "var_a = \"lowercase\"\n",
        "var_A = \"UPPERCASE\"\n",
        "\n",
        "print(var_a)\n",
        "print(var_A)"
      ]
    },
    {
      "cell_type": "markdown",
      "metadata": {},
      "source": [
        "## 5. Les commentaires"
      ]
    },
    {
      "cell_type": "code",
      "execution_count": null,
      "metadata": {},
      "outputs": [],
      "source": [
        "# This is a comment\n",
        "# print('hello')\n",
        "# the code above is not executed\n",
        "# But the code below will be\n",
        "print('World')"
      ]
    },
    {
      "cell_type": "markdown",
      "metadata": {},
      "source": [
        "## 6.  Ecrire des informations (print)\n",
        "\n",
        "Le moyen le plus simple de générer des informations consiste à afficher une chaîne de caractères (string) à l'aide de la fonction `print. La chaîne de caractères est contenu dans des guillemets. Nous pouvons utiliser des guillemets simples (') ou des guillemets doubles (\"). Le guillemet de début et le guillemet de fin doivent correspondre."
      ]
    },
    {
      "cell_type": "code",
      "execution_count": null,
      "metadata": {},
      "outputs": [],
      "source": [
        "print('Hello')\n",
        "print(\"Hello world !\")"
      ]
    },
    {
      "cell_type": "markdown",
      "metadata": {},
      "source": [
        "## 7. Saisir des informations (input)\n",
        "\n",
        "La saisie d'information de l'utilisateur se fait avec la fonction `input` :"
      ]
    },
    {
      "cell_type": "code",
      "execution_count": null,
      "metadata": {},
      "outputs": [],
      "source": [
        "first_number = input('Enter the first number: ')"
      ]
    },
    {
      "cell_type": "markdown",
      "metadata": {},
      "source": [
        "## 8. Les types\n",
        "\n",
        "Il existe de nombreux types d'informations qu'un ordinateur peut traiter, comme les chiffres et les caractères. En Python (et d'autres langages de programmation), les types d'informations que le langage est capable de gérer sont appelés types. De nombreux types courants sont intégrés à Python, par exemple des entiers, des nombres à virgule flottante et des chaînes de caractères. Les utilisateurs peuvent également définir leurs propres types à l'aide de classes.\n",
        "\n",
        "Dans de nombreux langages, une distinction est faite entre les types intégrés (qui sont souvent appelés « types primitifs » pour cette raison) et les classes, mais en Python, ils sont indiscernables. Tout en Python est un objet (c'est-à-dire une instance d'une classe) - qui inclut même des listes et des fonctions."
      ]
    },
    {
      "cell_type": "markdown",
      "metadata": {},
      "source": [
        "## 9. Les entiers (int)\n",
        "\n",
        "Un entier (de type `int`) est un nombre entier tel que 1, 5, 1350 ou -34. Les nombres avec des points décimaux sont des nombres à virgule flottante (float). 2.3, 12.34, 1.0 ne sont pas des entiers mais des `float`."
      ]
    },
    {
      "cell_type": "code",
      "execution_count": null,
      "metadata": {},
      "outputs": [],
      "source": [
        "print(3)\n",
        "\n",
        "# We can also do operations on integers\n",
        "print(1 + 2)"
      ]
    },
    {
      "cell_type": "markdown",
      "metadata": {},
      "source": [
        "### Les opérations \n",
        "\n",
        "Nous pouvons effectuer des opérations suivantes sur les entiers :\n",
        "\n",
        "| Operation | Symbol | Example | Result |\n",
        "| --------- | ------ | ------- | ------ |\n",
        "| Addition | + | 28 + 10 | 38 |\n",
        "| Subtraction | - | 28 - 10 | 18 |\n",
        "| Multiplication | * | 28 * 10 | 280 |\n",
        "| Division | // | 28 // 10 | 2 |\n",
        "| Modulus (remainder) | % | 28 % 10 | 8 |\n",
        "| Exponent (power) | ** | 28**10 | 296196766695424 |"
      ]
    },
    {
      "cell_type": "markdown",
      "metadata": {},
      "source": [
        "### Priorité de l'opérateur\n",
        "\n",
        "Une autre chose importante à garder à l'esprit est la priorité des opérateurs.   \n",
        "Par exemple, 1 + 2 // 3 signifie-t-il (1 + 2) // 3 ou 1 + (2 // 3) ?\n",
        "Python dispose d'un moyen spécifique et prévisible pour déterminer l'ordre dans lequel il effectue les opérations. Pour les opérations sur des nombres entiers, le système traitera les opérateurs dans l'ordre suivant : `()`, `**`, ` *`, `//`, `%`, et enfin `+` et `-`.\n",
        "\n",
        "| Expression | How Python evaluates | Result |\n",
        "| ---------- | -------------------- | ------ |\n",
        "| 20 + 10 // 2 | 20 + (10 // 2) | 25 |\n",
        "| 20 + 10 - 2 | (20 + 10) - 2 | 28 |\n",
        "| 20 - 10 + 2 | (20 - 10) + 2 | 12 |\n",
        "| 20 - 10 * 2 | 20 - (10 * 2) | 0 |\n",
        "| 20 // 10 * 2 | (20 // 10) * 2 | 4 |\n",
        "| 20 * 10 // 2 | (20 * 10) // 2 | 100 |\n",
        "| 20 * 10 ** 2 | 20 * (10 ** 2) | 2000 |"
      ]
    },
    {
      "cell_type": "code",
      "execution_count": null,
      "metadata": {},
      "outputs": [],
      "source": [
        "# all arithmetic operators other than ** are left-associative, so\n",
        "2 * 3 / 4\n",
        "# is evaluated left to right:\n",
        "(2 * 3) / 4\n",
        "\n",
        "# ** is right-associative, so\n",
        "2 ** 3 ** 4\n",
        "# is evaluated right to left:\n",
        "2 ** (3 ** 4)"
      ]
    },
    {
      "cell_type": "markdown",
      "metadata": {},
      "source": [
        "## Exercice 3 :\n",
        "\n",
        " - 1) Lesquels des nombres suivants sont des entiers Python valides ? `110`, `1.0`, `17.5`, `-39`, `-2.3`\n",
        " - 2) Que se passe-t-il lorsque vous executez `1 // 0` dans la console Python ? Pourquoi cela arrive-t-il ?\n",
        " - 3) Quels sont les résultats des opérations suivantes et expliquez pourquoi : "
      ]
    },
    {
      "cell_type": "code",
      "execution_count": null,
      "metadata": {},
      "outputs": [],
      "source": [
        "a = 15 + 20 * 3\n",
        "b = 13 // 2 + 3\n",
        "c = 31 + 10 // 3\n",
        "d = 20 % 7 // 3\n",
        "e = 2 ** 3 ** 2"
      ]
    },
    {
      "cell_type": "markdown",
      "metadata": {},
      "source": [
        "## 10. Les nombres à virgules flottante (float)\n",
        "\n",
        "Les nombres à virgule flottante (de type `float`) sont des nombres avec une virgule décimale ou un exposant (ou les deux). Les exemples sont `5.0`, `10.24`, `0.0`, `12.` et `0.3`.\n",
        "Nous pouvons utiliser la notation scientifique pour désigner des nombres à virgule flottante très grands ou très petits, par exemple 3,8 x 10^15 s'écrira `3.8e15` ou `3.8e+15`.\n",
        "\n",
        "La fonction `print` affichera une notation optimisée des objets de type `float` :"
      ]
    },
    {
      "cell_type": "code",
      "execution_count": null,
      "metadata": {},
      "outputs": [],
      "source": [
        "print(3213.)\n",
        "print(.3213)\n",
        "print(0.3000)\n",
        "print(1e10)\n",
        "print(1e100)\n",
        "print(0.0000000001)"
      ]
    },
    {
      "cell_type": "markdown",
      "metadata": {},
      "source": [
        "### La division\n",
        "\n",
        "Les opérateurs arithmétiques pour les `float` sont les mêmes que pour les entiers. A l'exception de la division - l'opérateur de division à virgule flottante est `/`. Les opérations en `float` produisent toujours une solution en virgule flottante. L'ordre de priorité de ces opérateurs est le même que celui des opérateurs entiers."
      ]
    },
    {
      "cell_type": "markdown",
      "metadata": {},
      "source": [
        "## Exercice 4 :\n",
        "\n",
        " - 1) Parmi les éléments suivants, lesquels sont des nombres à virgule flottante Python ? `1`, `1.0`, `1.12e4`, `-3.141759`, `735`, `0.57721566`, `7.5e-3`\n",
        " - 2) Quelle est la différence entre une division entière et une division à virgule flottante ? Quel est l'opérateur utilisé pour la division entière ? Quel est l'opérateur utilisé pour la division en virgule flottante ?\n",
        " - 3) Quels sont les résultats des opérations suivantes ? Expliquer pourquoi: "
      ]
    },
    {
      "cell_type": "code",
      "execution_count": null,
      "metadata": {},
      "outputs": [],
      "source": [
        "a = 1.5 + 2\n",
        "b = 1.5 // 2.0 \n",
        "c = 1.5 / 2.0 \n",
        "d = 1.5 ** 2 \n",
        "e = 1 / 2\n",
        "f = -3 // 2"
      ]
    },
    {
      "cell_type": "markdown",
      "metadata": {},
      "source": [
        " - 5) Que se passe-t-il lorsque vous évaluez `1/0` dans la console Python ?\n",
        " - 6) Que se passe-t-il lorsque vous évaluez `1e1000` ? Et `-1e1000` ? Et `type(1e1000)` ?\n"
      ]
    },
    {
      "cell_type": "markdown",
      "metadata": {},
      "source": [
        "## 11. Les chaînes de caractères (str)\n",
        "\n",
        "Les objet de type `str` (appelé `string`) sont des chaînes de caractères.  À bien des égards, les chaînes se comportent de manière similaire aux listes (type `list`), dont nous parlerons dans un chapitre ultérieur, mais elles ont également certaines fonctionnalités spécifiques au texte."
      ]
    },
    {
      "cell_type": "code",
      "execution_count": null,
      "metadata": {},
      "outputs": [],
      "source": [
        "my_string_1 = \"Hello World !\"\n",
        "print(my_string_1)\n",
        "\n",
        "# This is the same string\n",
        "my_string_2 = 'Hello World !'"
      ]
    },
    {
      "cell_type": "markdown",
      "metadata": {},
      "source": [
        "### Formatage\n",
        "\n",
        "Nous aurons souvent besoin d'afficher un message qui n'est pas une `string` fixe, peut-être que nous voulons inclure des nombres ou d'autres valeurs qui sont stockées dans des variables. La méthode recommandée pour inclure ces variables dans notre message est d'utiliser les `fstring`. Il s'agit d'une chaine de caractère (précédé de la lettre `f`) qui va inteprété des variables ou du code à l'intérieur de balises : les crochets `{}`). Exemple :"
      ]
    },
    {
      "cell_type": "code",
      "execution_count": null,
      "metadata": {},
      "outputs": [],
      "source": [
        "name = 'John'\n",
        "age = '72'\n",
        "print(f'Hello! My name is {name}')\n",
        "print(f\"Hello! My name is {name}, and I am {age} years old.\")"
      ]
    },
    {
      "cell_type": "markdown",
      "metadata": {},
      "source": [
        "### Les séquences d'échappement (\\n)\n",
        "\n",
        "Une séquence d'échappement (de caractères) peut être utilisée pour désigner un caractère spécial qui ne peut pas être tapé facilement sur un clavier ou qui a été réservé à d'autres fins. Par exemple, nous pouvons vouloir insérer une nouvelle ligne dans notre chaîne :"
      ]
    },
    {
      "cell_type": "code",
      "execution_count": null,
      "metadata": {},
      "outputs": [],
      "source": [
        "print('This is one line.\\nThis is another line.')"
      ]
    },
    {
      "cell_type": "markdown",
      "metadata": {},
      "source": [
        "Si notre chaîne est entourée de guillemets simples, nous devrons échapper aux apostrophes et nous devons faire de même pour les guillemets doubles dans une chaîne entourée de guillemets doubles. Une séquence d'échappement commence par une barre oblique inverse (`\\`) :"
      ]
    },
    {
      "cell_type": "code",
      "execution_count": null,
      "metadata": {},
      "outputs": [],
      "source": [
        "print('He said : \"Hi! I\\'m John\".')\n",
        "print(\"He said : \\\"Hi! I'm John\\\".\")"
      ]
    },
    {
      "cell_type": "markdown",
      "metadata": {},
      "source": [
        "Les séquences d'échappement de base :\n",
        "\n",
        "| Sequence | Meaning |\n",
        "| -------- | ------- |\n",
        "| \\\\ | literal backslash |\n",
        "| \\' | single quote |\n",
        "| \\\" | double quote |\n",
        "| \\n | newline |\n",
        "| \\t | tab |"
      ]
    },
    {
      "cell_type": "markdown",
      "metadata": {},
      "source": [
        "### Les opérations\n",
        "\n",
        "Nous pouvons modifier, fusionner et diviser des `string` de bien des manière.\n",
        "\n",
        "Tout d'abord, nous pouvons concaténer des `string` avec l'opérateur `+`"
      ]
    },
    {
      "cell_type": "code",
      "execution_count": null,
      "metadata": {},
      "outputs": [],
      "source": [
        "prefix = 'Hello'\n",
        "suffix = 'World'\n",
        "print(prefix + suffix)\n",
        "print(prefix + ' ' + suffix + \" !\")"
      ]
    },
    {
      "cell_type": "markdown",
      "metadata": {},
      "source": [
        "Nous pouvons mesurer la taille d'une `string` avec la fonction `built-in` : `len`.\n",
        "Il existe aussi de nombreuses fonctions attachées aux `string`, en voici quelques exemple :"
      ]
    },
    {
      "cell_type": "code",
      "execution_count": null,
      "metadata": {},
      "outputs": [],
      "source": [
        "name = \"Jane Smith\"\n",
        "\n",
        "# Find the length of a string with the built-in len function\n",
        "print(len(name))\n",
        "\n",
        "# Print the string converted to lowercase\n",
        "print(name.lower())\n",
        "# Print the string converted to uppercase\n",
        "print(name.upper())\n",
        "# Split string into a list\n",
        "print(name.split(' '))\n",
        "\n",
        "\n",
        "# Print the original string\n",
        "print(name)"
      ]
    },
    {
      "cell_type": "markdown",
      "metadata": {},
      "source": [
        "## Exercice 5 :\n",
        "\n",
        " - 1) Étant donné les variables `x` et `y`, utilisez le formatage de chaîne pour afficher les valeurs de `x` et `y` et leur somme. Par exemple, si `x = 5` et `y = 3`, votre relevé doit afficher `5 + 3 = 8`.\n",
        " - 2) Réécrivez les chaînes suivantes en utilisant des guillemets simples au lieu de guillemets doubles. Utilisez les séquences d'échappement selon vos besoins : \n",
        "\n"
      ]
    },
    {
      "cell_type": "code",
      "execution_count": null,
      "metadata": {},
      "outputs": [],
      "source": [
        "\"Hi! I'm Eli.\"\n",
        "\"The title of the book was \\\"Good Omens\\\".\"\n",
        "\"Hi! I\\'m Sebastien.\""
      ]
    },
    {
      "cell_type": "markdown",
      "metadata": {},
      "source": [
        " - 3) Utilisez des séquences d'échappement pour écrire une chaîne qui représente les lettres `a`, `b` et `c` séparées par des tabulations.\n",
        "\n",
        " - 4) Utilisez des séquences d'échappement pour écrire une chaîne contenant le texte ci-dessous (avec les sauts de ligne) à l'intérieur de guillemets simples ou doubles :\n",
        "\n",
        "```\n",
        "Title : Hello World !\n",
        "Year : 2021\n",
        "```\n",
        "\n",
        " - 5) Étant donné un nom de variable contenant une chaîne, écrivez une instruction `print` qui affiche le nom et le nombre de caractères qu'il contient. Par exemple, si `name = \"John\"`, votre relevé doit afficher : `John's name has 4 letters.`.\n",
        "\n",
        " - 6) Que génère la séquence d'instructions suivante :\n"
      ]
    },
    {
      "cell_type": "code",
      "execution_count": null,
      "metadata": {},
      "outputs": [],
      "source": [
        "name = \"John Smith\"\n",
        "print(name.lower())\n",
        "print(name)"
      ]
    },
    {
      "cell_type": "markdown",
      "metadata": {},
      "source": [
        "\n",
        "Pourquoi la sortie de la deuxième ligne n'est-elle pas en minuscule ?"
      ]
    }
  ],
  "metadata": {
    "colab": {
      "name": "2021-07-07-React-C1-lesson1.ipynb",
      "provenance": []
    },
    "kernelspec": {
      "display_name": "Python 3.10.5 ('.pyazure': venv)",
      "language": "python",
      "name": "python3"
    },
    "language_info": {
      "codemirror_mode": {
        "name": "ipython",
        "version": 3
      },
      "file_extension": ".py",
      "mimetype": "text/x-python",
      "name": "python",
      "nbconvert_exporter": "python",
      "pygments_lexer": "ipython3",
      "version": "3.10.5"
    },
    "varInspector": {
      "cols": {
        "lenName": 16,
        "lenType": 16,
        "lenVar": 40
      },
      "kernels_config": {
        "python": {
          "delete_cmd_postfix": "",
          "delete_cmd_prefix": "del ",
          "library": "var_list.py",
          "varRefreshCmd": "print(var_dic_list())"
        },
        "r": {
          "delete_cmd_postfix": ") ",
          "delete_cmd_prefix": "rm(",
          "library": "var_list.r",
          "varRefreshCmd": "cat(var_dic_list()) "
        }
      },
      "types_to_exclude": [
        "module",
        "function",
        "builtin_function_or_method",
        "instance",
        "_Feature"
      ],
      "window_display": false
    },
    "vscode": {
      "interpreter": {
        "hash": "38d69403fd8fa39e18fa676e8980dac43123eb3c6ff7389c217750484b91c916"
      }
    }
  },
  "nbformat": 4,
  "nbformat_minor": 2
}
